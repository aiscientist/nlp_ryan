{
 "cells": [
  {
   "cell_type": "markdown",
   "metadata": {
    "deletable": true,
    "editable": true
   },
   "source": [
    "# TensorFlow: Variable"
   ]
  },
  {
   "cell_type": "markdown",
   "metadata": {
    "deletable": true,
    "editable": true
   },
   "source": [
    "TensorFlow 모델 생성 시 가장 많이 신경써야 하는 것이 Variable입니다.\n",
    "자세히 Variable에 대해 알아보도록 합시다."
   ]
  },
  {
   "cell_type": "code",
   "execution_count": 1,
   "metadata": {
    "collapsed": false,
    "deletable": true,
    "editable": true
   },
   "outputs": [],
   "source": [
    "import tensorflow as tf"
   ]
  },
  {
   "cell_type": "markdown",
   "metadata": {
    "deletable": true,
    "editable": true
   },
   "source": [
    "## 1. tf.Variable vs. tf.get_variable"
   ]
  },
  {
   "cell_type": "markdown",
   "metadata": {
    "deletable": true,
    "editable": true
   },
   "source": [
    "[StackOverFlow: Difference between Variable and get_variable in TensorFlow](http://stackoverflow.com/questions/37098546/difference-between-variable-and-get-variable-in-tensorflow)\n",
    "> tf.Variable is a class.\n",
    "\n",
    "> There are several ways to create tf.Variable including \n",
    "> - tf.Variable.__init__\n",
    "> - tf.get_variable.\n",
    "\n",
    "[TensorFlow API_guide: Variable](https://www.tensorflow.org/api_guides/python/state_ops)\n",
    "- Class definitions and related functions for **tf.Variable** are introduced."
   ]
  },
  {
   "cell_type": "markdown",
   "metadata": {
    "deletable": true,
    "editable": true
   },
   "source": [
    "### 1.1. tf.Variable\n",
    "> - tf.Variable.__init__: Creates a new variable with *initial_value*.\n",
    "> - [TensorFlow API document: tf.Variable](https://www.tensorflow.org/api_docs/python/tf/Variable)"
   ]
  },
  {
   "cell_type": "code",
   "execution_count": 2,
   "metadata": {
    "collapsed": false,
    "deletable": true,
    "editable": true
   },
   "outputs": [],
   "source": [
    "w = tf.Variable(initial_value=tf.truncated_normal(shape=[4, 4], mean=0.0, stddev=0.1))"
   ]
  },
  {
   "cell_type": "code",
   "execution_count": 3,
   "metadata": {
    "collapsed": false,
    "deletable": true,
    "editable": true
   },
   "outputs": [
    {
     "name": "stdout",
     "output_type": "stream",
     "text": [
      "Tensor(\"Variable/read:0\", shape=(4, 4), dtype=float32)\n"
     ]
    }
   ],
   "source": [
    "print(w)"
   ]
  },
  {
   "cell_type": "code",
   "execution_count": 4,
   "metadata": {
    "collapsed": false,
    "deletable": true,
    "editable": true
   },
   "outputs": [],
   "source": [
    "w = tf.Variable(initial_value=tf.truncated_normal(shape=[4, 4], mean=0.0, stddev=0.1))"
   ]
  },
  {
   "cell_type": "code",
   "execution_count": 5,
   "metadata": {
    "collapsed": false,
    "deletable": true,
    "editable": true
   },
   "outputs": [
    {
     "name": "stdout",
     "output_type": "stream",
     "text": [
      "Tensor(\"Variable_1/read:0\", shape=(4, 4), dtype=float32)\n"
     ]
    }
   ],
   "source": [
    "print(w)"
   ]
  },
  {
   "cell_type": "markdown",
   "metadata": {
    "deletable": true,
    "editable": true
   },
   "source": [
    "w를 선언할 때마다, Variable의 이름이 변화하는 것을 확인할 수 있다.\n",
    "- Variable/read:0\n",
    "- Variable_1/read:0"
   ]
  },
  {
   "cell_type": "code",
   "execution_count": 6,
   "metadata": {
    "collapsed": false,
    "deletable": true,
    "editable": true
   },
   "outputs": [],
   "source": [
    "# Variable에 이름 추가 (name='testVariable')\n",
    "w_1 = tf.Variable(initial_value=tf.truncated_normal(shape=[4, 4,], mean=0.0, stddev=0.1), name='testVariable')"
   ]
  },
  {
   "cell_type": "code",
   "execution_count": 7,
   "metadata": {
    "collapsed": false,
    "deletable": true,
    "editable": true
   },
   "outputs": [
    {
     "name": "stdout",
     "output_type": "stream",
     "text": [
      "Tensor(\"testVariable/read:0\", shape=(4, 4), dtype=float32)\n"
     ]
    }
   ],
   "source": [
    "print(w_1)"
   ]
  },
  {
   "cell_type": "code",
   "execution_count": 8,
   "metadata": {
    "collapsed": false,
    "deletable": true,
    "editable": true
   },
   "outputs": [],
   "source": [
    "w_1 = tf.Variable(initial_value=tf.truncated_normal(shape=[4, 4,], mean=0.0, stddev=0.1), name='testVariable')"
   ]
  },
  {
   "cell_type": "code",
   "execution_count": 9,
   "metadata": {
    "collapsed": false,
    "deletable": true,
    "editable": true
   },
   "outputs": [
    {
     "name": "stdout",
     "output_type": "stream",
     "text": [
      "Tensor(\"testVariable_1/read:0\", shape=(4, 4), dtype=float32)\n"
     ]
    }
   ],
   "source": [
    "print(w_1)"
   ]
  },
  {
   "cell_type": "markdown",
   "metadata": {
    "deletable": true,
    "editable": true
   },
   "source": [
    "Every time you declare w, you can see that the name of the *tf.Variable* changes.\n",
    "- testVariable/read:0\n",
    "- testVariable_1/read:0"
   ]
  },
  {
   "cell_type": "markdown",
   "metadata": {
    "deletable": true,
    "editable": true
   },
   "source": [
    "### 1.2. tf.get_variable\n",
    "> - tf.get_variable: Gets an existing variable with these parameters or create a new one.\n",
    "> - [TensorFlow API document: tf.get_variable](https://www.tensorflow.org/api_docs/python/tf/get_variable)"
   ]
  },
  {
   "cell_type": "code",
   "execution_count": 10,
   "metadata": {
    "collapsed": false,
    "deletable": true,
    "editable": true
   },
   "outputs": [],
   "source": [
    "w_2 = tf.get_variable(name='testGetVar', shape=[4, 5], \n",
    "                      initializer=tf.truncated_normal_initializer(mean=0.0, stddev=0.1))"
   ]
  },
  {
   "cell_type": "code",
   "execution_count": 11,
   "metadata": {
    "collapsed": false,
    "deletable": true,
    "editable": true
   },
   "outputs": [
    {
     "name": "stdout",
     "output_type": "stream",
     "text": [
      "Tensor(\"testGetVar/read:0\", shape=(4, 5), dtype=float32)\n"
     ]
    }
   ],
   "source": [
    "print(w_2)"
   ]
  },
  {
   "cell_type": "code",
   "execution_count": 12,
   "metadata": {
    "collapsed": true,
    "deletable": true,
    "editable": true
   },
   "outputs": [],
   "source": [
    "# ## You can see ValueError...\n",
    "# # \"ValueError: Variable testGetVar already exists, disallowed.\"\n",
    "# w_2 = tf.get_variable(name='testGetVar', shape=[4, 4], \n",
    "#                       initializer=tf.truncated_normal_initializer(mean=0.0, stddev=0.1))"
   ]
  },
  {
   "cell_type": "markdown",
   "metadata": {
    "deletable": true,
    "editable": true
   },
   "source": [
    "Why does that error appear?\n",
    "- Because tf.Variable named \"testGetVar\" already exists.\n",
    "- You should define variable scope and do setting reuse_variables(). (See the below!)\n",
    "- See [TensorFlow Programming Guide: Sharing Variables](https://www.tensorflow.org/programmers_guide/variable_scope)"
   ]
  },
  {
   "cell_type": "code",
   "execution_count": 13,
   "metadata": {
    "collapsed": false,
    "deletable": true,
    "editable": true
   },
   "outputs": [],
   "source": [
    "with tf.variable_scope(\"foo\") as scope:\n",
    "    w_3 = tf.get_variable(\"testGetVar2\", shape=[4, 4], initializer=tf.truncated_normal_initializer(mean=0.0, stddev=0.1))\n",
    "    scope.reuse_variables()\n",
    "    w_4 = tf.get_variable(\"testGetVar2\", shape=[4, 4], initializer=tf.truncated_normal_initializer(mean=0.0, stddev=0.1))\n",
    "assert w_4 is w_3"
   ]
  },
  {
   "cell_type": "code",
   "execution_count": 14,
   "metadata": {
    "collapsed": false,
    "deletable": true,
    "editable": true
   },
   "outputs": [
    {
     "name": "stdout",
     "output_type": "stream",
     "text": [
      "Tensor(\"foo/testGetVar2/read:0\", shape=(4, 4), dtype=float32)\n",
      "Tensor(\"foo/testGetVar2/read:0\", shape=(4, 4), dtype=float32)\n"
     ]
    }
   ],
   "source": [
    "print(w_3)\n",
    "print(w_4)"
   ]
  },
  {
   "cell_type": "markdown",
   "metadata": {
    "deletable": true,
    "editable": true
   },
   "source": [
    "Anyway,\n",
    "Many researchers (and I) **STRONGLY RECOMMEND** to use *tf.get_variable* instead of *tf.Variable*!"
   ]
  },
  {
   "cell_type": "markdown",
   "metadata": {
    "deletable": true,
    "editable": true
   },
   "source": [
    "## 2. Variable scope"
   ]
  },
  {
   "cell_type": "code",
   "execution_count": 15,
   "metadata": {
    "collapsed": false,
    "deletable": true,
    "editable": true
   },
   "outputs": [],
   "source": [
    "with tf.variable_scope(\"Global\"):\n",
    "    t_1 = tf.get_variable(\"T1\", [2, 2])\n",
    "    with tf.variable_scope(\"Asia\"):\n",
    "        t_2 = tf.get_variable(\"T2\", [1])\n",
    "        t_3 = tf.get_variable(\"T3\", [1, 2])\n",
    "        with tf.variable_scope(\"Korea\"):\n",
    "            t_4 = tf.get_variable(\"T4\", [1, 2, 2])\n",
    "            t_5 = tf.get_variable(\"T5\", [2, 2, 2, 2])"
   ]
  },
  {
   "cell_type": "code",
   "execution_count": 16,
   "metadata": {
    "collapsed": false,
    "deletable": true,
    "editable": true
   },
   "outputs": [
    {
     "name": "stdout",
     "output_type": "stream",
     "text": [
      "Tensor(\"Global/T1/read:0\", shape=(2, 2), dtype=float32)\n"
     ]
    }
   ],
   "source": [
    "print(t_1)"
   ]
  },
  {
   "cell_type": "code",
   "execution_count": 17,
   "metadata": {
    "collapsed": false,
    "deletable": true,
    "editable": true
   },
   "outputs": [
    {
     "name": "stdout",
     "output_type": "stream",
     "text": [
      "Global/T1:0\n",
      "Global/Asia/T2:0\n",
      "Global/Asia/T3:0\n",
      "Global/Asia/Korea/T4:0\n",
      "Global/Asia/Korea/T5:0\n"
     ]
    }
   ],
   "source": [
    "print(t_1.name)\n",
    "print(t_2.name)\n",
    "print(t_3.name)\n",
    "print(t_4.name)\n",
    "print(t_5.name)"
   ]
  },
  {
   "cell_type": "markdown",
   "metadata": {
    "deletable": true,
    "editable": true
   },
   "source": [
    "- Note: [StackOverFlow: difference-of-name-scope-and-a-variable-scope-in-tensorflow](http://stackoverflow.com/questions/35919020/whats-the-difference-of-name-scope-and-a-variable-scope-in-tensorflow)"
   ]
  },
  {
   "cell_type": "code",
   "execution_count": 18,
   "metadata": {
    "collapsed": false,
    "deletable": true,
    "editable": true
   },
   "outputs": [
    {
     "name": "stdout",
     "output_type": "stream",
     "text": [
      "var1:0\n",
      "my_scope/var2:0\n",
      "my_scope/Add:0\n"
     ]
    }
   ],
   "source": [
    "with tf.name_scope(\"my_scope\"):\n",
    "    v1 = tf.get_variable(\"var1\", [1], dtype=tf.float32)\n",
    "    v2 = tf.Variable(1, name=\"var2\", dtype=tf.float32)\n",
    "    a = tf.add(v1, v2)\n",
    "\n",
    "print(v1.name)  # var1:0\n",
    "print(v2.name)  # my_scope/var2:0\n",
    "print(a.name)   # my_scope/Add:0"
   ]
  },
  {
   "cell_type": "code",
   "execution_count": 19,
   "metadata": {
    "collapsed": false,
    "deletable": true,
    "editable": true
   },
   "outputs": [
    {
     "name": "stdout",
     "output_type": "stream",
     "text": [
      "my_scope/var1:0\n",
      "my_scope_1/var2:0\n",
      "my_scope_1/Add:0\n"
     ]
    }
   ],
   "source": [
    "with tf.variable_scope(\"my_scope\"):\n",
    "    v1 = tf.get_variable(\"var1\", [1], dtype=tf.float32)\n",
    "    v2 = tf.Variable(1, name=\"var2\", dtype=tf.float32)\n",
    "    a = tf.add(v1, v2)\n",
    "\n",
    "print(v1.name)  # my_scope/var1:0\n",
    "print(v2.name)  # my_scope/var2:0\n",
    "print(a.name)   # my_scope/Add:0"
   ]
  },
  {
   "cell_type": "code",
   "execution_count": null,
   "metadata": {
    "collapsed": false,
    "deletable": true,
    "editable": true
   },
   "outputs": [],
   "source": []
  }
 ],
 "metadata": {
  "kernelspec": {
   "display_name": "Python 3",
   "language": "python",
   "name": "python3"
  },
  "language_info": {
   "codemirror_mode": {
    "name": "ipython",
    "version": 3
   },
   "file_extension": ".py",
   "mimetype": "text/x-python",
   "name": "python",
   "nbconvert_exporter": "python",
   "pygments_lexer": "ipython3",
   "version": "3.5.3"
  }
 },
 "nbformat": 4,
 "nbformat_minor": 2
}
