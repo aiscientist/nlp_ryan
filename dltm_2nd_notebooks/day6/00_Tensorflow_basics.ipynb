{
 "cells": [
  {
   "cell_type": "markdown",
   "metadata": {
    "deletable": true,
    "editable": true
   },
   "source": [
    "# Tensorflow 기본"
   ]
  },
  {
   "cell_type": "code",
   "execution_count": 1,
   "metadata": {
    "collapsed": true,
    "deletable": true,
    "editable": true
   },
   "outputs": [],
   "source": [
    "import tensorflow as tf\n",
    "import numpy as np"
   ]
  },
  {
   "cell_type": "markdown",
   "metadata": {
    "deletable": true,
    "editable": true
   },
   "source": [
    "## 세션을 만들고, 세션을 통해서 Computation Graph를 만들고 연산을 수행한다."
   ]
  },
  {
   "cell_type": "code",
   "execution_count": 2,
   "metadata": {
    "collapsed": true,
    "deletable": true,
    "editable": true
   },
   "outputs": [],
   "source": [
    "sess = tf.Session()"
   ]
  },
  {
   "cell_type": "code",
   "execution_count": 3,
   "metadata": {
    "collapsed": false,
    "deletable": true,
    "editable": true
   },
   "outputs": [
    {
     "name": "stdout",
     "output_type": "stream",
     "text": [
      "Hello World\n"
     ]
    }
   ],
   "source": [
    "string = \"Hello World\"\n",
    "print(string)"
   ]
  },
  {
   "cell_type": "code",
   "execution_count": 4,
   "metadata": {
    "collapsed": false,
    "deletable": true,
    "editable": true,
    "scrolled": true
   },
   "outputs": [
    {
     "name": "stdout",
     "output_type": "stream",
     "text": [
      "Tensor(\"Const:0\", shape=(), dtype=string)\n",
      "b'Hello World'\n",
      "Hello World\n",
      "\n",
      "Type of 'hello_world <class 'tensorflow.python.framework.ops.Tensor'>\n",
      "Type of 'hello_out <class 'bytes'>\n",
      "Type of 'hello_out_str <class 'str'>\n"
     ]
    }
   ],
   "source": [
    "hello_world = tf.constant(\"Hello World\")\n",
    "print(hello_world)\n",
    "hello_out = sess.run(hello_world)\n",
    "print(hello_out)\n",
    "type(hello_out)\n",
    "hello_out_str = str(hello_out, \"utf-8\")\n",
    "print(hello_out_str)\n",
    "\n",
    "print()\n",
    "print(\"Type of 'hello_world {}\".format(type(hello_world)))\n",
    "print(\"Type of 'hello_out {}\".format(type(hello_out)))\n",
    "print(\"Type of 'hello_out_str {}\".format(type(hello_out_str)))"
   ]
  },
  {
   "cell_type": "markdown",
   "metadata": {
    "deletable": true,
    "editable": true
   },
   "source": [
    "## Tensorflow의 기본 type: \n",
    "### 1. Constant, 2. Operators, 3. Variables, 4. Placeholder"
   ]
  },
  {
   "cell_type": "markdown",
   "metadata": {
    "deletable": true,
    "editable": true
   },
   "source": [
    "## 1. Constant"
   ]
  },
  {
   "cell_type": "code",
   "execution_count": 5,
   "metadata": {
    "collapsed": false,
    "deletable": true,
    "editable": true,
    "scrolled": true
   },
   "outputs": [
    {
     "name": "stdout",
     "output_type": "stream",
     "text": [
      "a: Tensor(\"Const_1:0\", shape=(), dtype=float32)  \n",
      "   Type: <class 'tensorflow.python.framework.ops.Tensor'>\n",
      "b: Tensor(\"Const_2:0\", shape=(), dtype=float32)  \n",
      "   Type: <class 'tensorflow.python.framework.ops.Tensor'>\n",
      "\n",
      "a_out: 1.5  \n",
      "      Type: <class 'numpy.float32'>\n",
      "b_out: 2.5  \n",
      "      Type: <class 'numpy.float32'>\n"
     ]
    }
   ],
   "source": [
    "a = tf.constant(1.5)\n",
    "b = tf.constant(2.5)\n",
    "print(\"a: {}  \\n   Type: {}\".format(a, type(a)))\n",
    "print(\"b: {}  \\n   Type: {}\".format(b, type(b)))\n",
    "a_out = sess.run(a)\n",
    "b_out = sess.run(b)\n",
    "print()\n",
    "print(\"a_out: {}  \\n      Type: {}\".format(a_out, type(a_out)))\n",
    "print(\"b_out: {}  \\n      Type: {}\".format(b_out, type(b_out)))"
   ]
  },
  {
   "cell_type": "markdown",
   "metadata": {
    "deletable": true,
    "editable": true
   },
   "source": [
    "## 2. Operators"
   ]
  },
  {
   "cell_type": "code",
   "execution_count": 12,
   "metadata": {
    "collapsed": false,
    "deletable": true,
    "editable": true
   },
   "outputs": [
    {
     "name": "stdout",
     "output_type": "stream",
     "text": [
      "add: Tensor(\"Add_6:0\", shape=(), dtype=float32)  \n",
      "     Type: <class 'tensorflow.python.framework.ops.Tensor'>\n",
      "mul: Tensor(\"Mul_6:0\", shape=(), dtype=float32)  \n",
      "     Type: <class 'tensorflow.python.framework.ops.Tensor'>\n",
      "add: 4.0  \n",
      "     Type: <class 'numpy.float32'>\n",
      "mul: 3.75  \n",
      "     Type: <class 'numpy.float32'>\n"
     ]
    }
   ],
   "source": [
    "add = tf.add(a, b)\n",
    "mul = tf.multiply(a, b)\n",
    "\n",
    "print(\"add: {}  \\n     Type: {}\".format(add, type(add)))\n",
    "print(\"mul: {}  \\n     Type: {}\".format(mul, type(mul)))\n",
    "\n",
    "add_out = sess.run(add)\n",
    "mul_out = sess.run(mul)\n",
    "print(\"add: {}  \\n     Type: {}\".format(add_out, type(add_out)))\n",
    "print(\"mul: {}  \\n     Type: {}\".format(mul_out, type(mul_out)))"
   ]
  },
  {
   "cell_type": "markdown",
   "metadata": {
    "deletable": true,
    "editable": true
   },
   "source": [
    "## 3. Variable\n",
    "### Variable은 학습해야되는 parameter\n",
    "### Y = Weight * Input + Bias, Y 값 구하기"
   ]
  },
  {
   "cell_type": "code",
   "execution_count": 13,
   "metadata": {
    "collapsed": false,
    "deletable": true,
    "editable": true
   },
   "outputs": [
    {
     "name": "stdout",
     "output_type": "stream",
     "text": [
      "Weight: Tensor(\"Variable/read:0\", shape=(), dtype=float32) \n",
      "    Type: <class 'tensorflow.python.ops.variables.Variable'>\n",
      "Bias: Tensor(\"Variable_1/read:0\", shape=(), dtype=float32) \n",
      "    Type: <class 'tensorflow.python.ops.variables.Variable'>\n"
     ]
    }
   ],
   "source": [
    "# Weight = tf.constant(3.0)\n",
    "Weight = tf.Variable(tf.constant(3.0))\n",
    "Bias   = tf.Variable(tf.constant(1.0))\n",
    "print (\"Weight: {} \\n    Type: {}\".format(Weight, type(Weight)))\n",
    "print (\"Bias: {} \\n    Type: {}\".format(Bias, type(Bias)))"
   ]
  },
  {
   "cell_type": "markdown",
   "metadata": {
    "deletable": true,
    "editable": true
   },
   "source": [
    "## 4. Placeholder\n",
    "### Placeholder은 buffer로서 Computation Graph의 input으로 넣어줘야하는 값"
   ]
  },
  {
   "cell_type": "code",
   "execution_count": 14,
   "metadata": {
    "collapsed": false,
    "deletable": true,
    "editable": true
   },
   "outputs": [
    {
     "name": "stdout",
     "output_type": "stream",
     "text": [
      "Input: Tensor(\"Placeholder:0\", shape=(?, 1), dtype=float32) \n",
      "    Type: <class 'tensorflow.python.framework.ops.Tensor'>\n"
     ]
    }
   ],
   "source": [
    "Input = tf.placeholder(tf.float32, [None, 1])\n",
    "print (\"Input: {} \\n    Type: {}\".format(Input, type(Input)))"
   ]
  },
  {
   "cell_type": "markdown",
   "metadata": {
    "deletable": true,
    "editable": true
   },
   "source": [
    "## Variable 값을 Initialize"
   ]
  },
  {
   "cell_type": "code",
   "execution_count": 15,
   "metadata": {
    "collapsed": false,
    "deletable": true,
    "editable": true,
    "scrolled": true
   },
   "outputs": [
    {
     "name": "stdout",
     "output_type": "stream",
     "text": [
      "Weight: Tensor(\"Variable/read:0\", shape=(), dtype=float32) \n",
      "  Type: <class 'tensorflow.python.ops.variables.Variable'>\n",
      "Bias:  Tensor(\"Variable_1/read:0\", shape=(), dtype=float32)  Type: <class 'tensorflow.python.ops.variables.Variable'>\n",
      "\n",
      "Weight value: 3.000000\n",
      "Bias value: 1.000000\n"
     ]
    }
   ],
   "source": [
    "init = tf.global_variables_initializer()\n",
    "sess.run(init)\n",
    "print (\"Weight: {} \\n  Type: {}\".format(Weight, type(Weight)))\n",
    "print (\"Bias:  {}  Type: {}\".format(Bias, type(Bias)))\n",
    "print()\n",
    "print (\"Weight value: {:f}\".format(sess.run(Weight)))\n",
    "print (\"Bias value: {:f}\".format(sess.run(Bias)))"
   ]
  },
  {
   "cell_type": "markdown",
   "metadata": {
    "deletable": true,
    "editable": true
   },
   "source": [
    "## Variable이 들어간 식 (Operator)을 계산하기 위해서는 feed_dict를 통해서 넣어준다"
   ]
  },
  {
   "cell_type": "code",
   "execution_count": 16,
   "metadata": {
    "collapsed": false,
    "deletable": true,
    "editable": true
   },
   "outputs": [
    {
     "name": "stdout",
     "output_type": "stream",
     "text": [
      "[[ 0.        ]\n",
      " [ 0.11111111]\n",
      " [ 0.22222222]\n",
      " [ 0.33333333]\n",
      " [ 0.44444444]\n",
      " [ 0.55555556]\n",
      " [ 0.66666667]\n",
      " [ 0.77777778]\n",
      " [ 0.88888889]\n",
      " [ 1.        ]]\n"
     ]
    }
   ],
   "source": [
    "X = np.linspace(0, 1, 10).reshape(-1, 1)\n",
    "# X = np.linspace(0, 1, 10)\n",
    "print(X)"
   ]
  },
  {
   "cell_type": "code",
   "execution_count": null,
   "metadata": {
    "collapsed": false,
    "deletable": true,
    "editable": true,
    "scrolled": true
   },
   "outputs": [],
   "source": [
    "oper = tf.multiply(Input, Weight) + Bias\n",
    "X = np.linspace(0, 1, 10).reshape(-1, 1)\n",
    "val  = sess.run(oper, feed_dict={Input:X})\n",
    "print (\"val: {} \\n  Type: {}\".format(val, type(val)))"
   ]
  },
  {
   "cell_type": "markdown",
   "metadata": {
    "deletable": true,
    "editable": true
   },
   "source": [
    "## 기억해야할 사항 \n",
    "## Variable: 학습해야하는 parameter(Weight, Bias) \n",
    "## Placeholder: input으로 넣어주는 값\n",
    "## Variable이 들어간 식은 Initialize한 이후에 sess.run 을 통해서 evaluate\n",
    "## Placeholder이 들어간 식은 feed_dict를 이용하여 sess.run을 통해 evaluate"
   ]
  },
  {
   "cell_type": "code",
   "execution_count": null,
   "metadata": {
    "collapsed": true,
    "deletable": true,
    "editable": true
   },
   "outputs": [],
   "source": []
  }
 ],
 "metadata": {
  "kernelspec": {
   "display_name": "Python 3",
   "language": "python",
   "name": "python3"
  },
  "language_info": {
   "codemirror_mode": {
    "name": "ipython",
    "version": 3
   },
   "file_extension": ".py",
   "mimetype": "text/x-python",
   "name": "python",
   "nbconvert_exporter": "python",
   "pygments_lexer": "ipython3",
   "version": "3.5.3"
  }
 },
 "nbformat": 4,
 "nbformat_minor": 0
}
