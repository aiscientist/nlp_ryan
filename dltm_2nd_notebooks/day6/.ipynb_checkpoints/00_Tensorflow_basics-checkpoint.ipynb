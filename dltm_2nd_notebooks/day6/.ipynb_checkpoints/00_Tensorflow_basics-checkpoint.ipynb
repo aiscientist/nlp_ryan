{
 "cells": [
  {
   "cell_type": "markdown",
   "metadata": {
    "deletable": true,
    "editable": true
   },
   "source": [
    "# Tensorflow 기본"
   ]
  },
  {
   "cell_type": "code",
   "execution_count": null,
   "metadata": {
    "collapsed": true,
    "deletable": true,
    "editable": true
   },
   "outputs": [],
   "source": [
    "import tensorflow as tf\n",
    "import numpy as np"
   ]
  },
  {
   "cell_type": "markdown",
   "metadata": {
    "deletable": true,
    "editable": true
   },
   "source": [
    "## 세션을 만들고, 세션을 통해서 Computation Graph를 만들고 연산을 수행한다."
   ]
  },
  {
   "cell_type": "code",
   "execution_count": null,
   "metadata": {
    "collapsed": true,
    "deletable": true,
    "editable": true
   },
   "outputs": [],
   "source": [
    "sess = tf.Session()"
   ]
  },
  {
   "cell_type": "code",
   "execution_count": null,
   "metadata": {
    "collapsed": false,
    "deletable": true,
    "editable": true
   },
   "outputs": [],
   "source": [
    "string = \"Hello World\"\n",
    "print(string)"
   ]
  },
  {
   "cell_type": "code",
   "execution_count": null,
   "metadata": {
    "collapsed": false,
    "deletable": true,
    "editable": true
   },
   "outputs": [],
   "source": [
    "hello_world = tf.constant(\"Hello World\")\n",
    "print(hello_world)\n",
    "hello_out = sess.run(hello_world)\n",
    "print(hello_out)\n",
    "type(hello_out)\n",
    "hello_out_str = str(hello_out, \"utf-8\")\n",
    "print(hello_out_str)\n",
    "\n",
    "print()\n",
    "print(\"Type of 'hello_world {}\".format(type(hello_world)))\n",
    "print(\"Type of 'hello_out {}\".format(type(hello_out)))\n",
    "print(\"Type of 'hello_out_str {}\".format(type(hello_out_str)))"
   ]
  },
  {
   "cell_type": "markdown",
   "metadata": {
    "deletable": true,
    "editable": true
   },
   "source": [
    "## Tensorflow의 기본 type: \n",
    "### 1. Constant, 2. Operators, 3. Variables, 4. Placeholder"
   ]
  },
  {
   "cell_type": "markdown",
   "metadata": {
    "deletable": true,
    "editable": true
   },
   "source": [
    "## 1. Constant"
   ]
  },
  {
   "cell_type": "code",
   "execution_count": null,
   "metadata": {
    "collapsed": false,
    "deletable": true,
    "editable": true,
    "scrolled": true
   },
   "outputs": [],
   "source": [
    "a = tf.constant(1.5)\n",
    "b = tf.constant(2.5)\n",
    "print(\"a: {}  \\n   Type: {}\".format(a, type(a)))\n",
    "print(\"b: {}  \\n   Type: {}\".format(b, type(b)))\n",
    "a_out = sess.run(a)\n",
    "b_out = sess.run(b)\n",
    "print()\n",
    "print(\"a_out: {}  \\n      Type: {}\".format(a_out, type(a_out)))\n",
    "print(\"b_out: {}  \\n      Type: {}\".format(b_out, type(b_out)))"
   ]
  },
  {
   "cell_type": "markdown",
   "metadata": {
    "deletable": true,
    "editable": true
   },
   "source": [
    "## 2. Operators"
   ]
  },
  {
   "cell_type": "code",
   "execution_count": null,
   "metadata": {
    "collapsed": false,
    "deletable": true,
    "editable": true
   },
   "outputs": [],
   "source": [
    "add = tf.add(a, b)\n",
    "mul = tf.multiply(a, b)\n",
    "\n",
    "print(\"add: {}  \\n     Type: {}\".format(add, type(add)))\n",
    "print(\"mul: {}  \\n     Type: {}\".format(mul, type(mul)))\n",
    "\n",
    "add_out = sess.run(add)\n",
    "mul_out = sess.run(mul)\n",
    "print(\"add: {}  \\n     Type: {}\".format(add_out, type(add_out)))\n",
    "print(\"mul: {}  \\n     Type: {}\".format(mul_out, type(mul_out)))"
   ]
  },
  {
   "cell_type": "markdown",
   "metadata": {
    "deletable": true,
    "editable": true
   },
   "source": [
    "## 3. Variable\n",
    "### Variable은 학습해야되는 parameter\n",
    "### Y = Weight * Input + Bias, Y 값 구하기"
   ]
  },
  {
   "cell_type": "code",
   "execution_count": null,
   "metadata": {
    "collapsed": false,
    "deletable": true,
    "editable": true
   },
   "outputs": [],
   "source": [
    "# Weight = tf.constant(3.0)\n",
    "Weight = tf.Variable(tf.constant(3.0))\n",
    "Bias   = tf.Variable(tf.constant(1.0))\n",
    "print (\"Weight: {} \\n    Type: {}\".format(Weight, type(Weight)))\n",
    "print (\"Bias: {} \\n    Type: {}\".format(Bias, type(Bias)))"
   ]
  },
  {
   "cell_type": "markdown",
   "metadata": {
    "deletable": true,
    "editable": true
   },
   "source": [
    "## 4. Placeholder\n",
    "### Placeholder은 buffer로서 Computation Graph의 input으로 넣어줘야하는 값"
   ]
  },
  {
   "cell_type": "code",
   "execution_count": null,
   "metadata": {
    "collapsed": false,
    "deletable": true,
    "editable": true
   },
   "outputs": [],
   "source": [
    "Input = tf.placeholder(tf.float32, [None, 1])\n",
    "print (\"Input: {} \\n    Type: {}\".format(Input, type(Input)))"
   ]
  },
  {
   "cell_type": "markdown",
   "metadata": {
    "deletable": true,
    "editable": true
   },
   "source": [
    "## Variable 값을 Initialize"
   ]
  },
  {
   "cell_type": "code",
   "execution_count": null,
   "metadata": {
    "collapsed": false,
    "deletable": true,
    "editable": true,
    "scrolled": true
   },
   "outputs": [],
   "source": [
    "init = tf.global_variables_initializer()\n",
    "sess.run(init)\n",
    "print (\"Weight: {} \\n  Type: {}\".format(Weight, type(Weight)))\n",
    "print (\"Bias:  {}  Type: {}\".format(Bias, type(Bias)))\n",
    "print()\n",
    "print (\"Weight value: {:f}\".format(sess.run(Weight)))\n",
    "print (\"Bias value: {:f}\".format(sess.run(Bias)))"
   ]
  },
  {
   "cell_type": "markdown",
   "metadata": {
    "deletable": true,
    "editable": true
   },
   "source": [
    "## Variable이 들어간 식 (Operator)을 계산하기 위해서는 feed_dict를 통해서 넣어준다"
   ]
  },
  {
   "cell_type": "code",
   "execution_count": null,
   "metadata": {
    "collapsed": false,
    "deletable": true,
    "editable": true
   },
   "outputs": [],
   "source": [
    "X = np.linspace(0, 1, 10).reshape(-1, 1)\n",
    "# X = np.linspace(0, 1, 10)\n",
    "print(X)"
   ]
  },
  {
   "cell_type": "code",
   "execution_count": null,
   "metadata": {
    "collapsed": false,
    "deletable": true,
    "editable": true,
    "scrolled": true
   },
   "outputs": [],
   "source": [
    "oper = tf.multiply(Input, Weight) + Bias\n",
    "X = np.linspace(0, 1, 10).reshape(-1, 1)\n",
    "val  = sess.run(oper, feed_dict={Input:X})\n",
    "print (\"val: {} \\n  Type: {}\".format(val, type(val)))"
   ]
  },
  {
   "cell_type": "markdown",
   "metadata": {
    "deletable": true,
    "editable": true
   },
   "source": [
    "## 기억해야할 사항 \n",
    "## Variable: 학습해야하는 parameter(Weight, Bias) \n",
    "## Placeholder: input으로 넣어주는 값\n",
    "## Variable이 들어간 식은 Initialize한 이후에 sess.run 을 통해서 evaluate\n",
    "## Placeholder이 들어간 식은 feed_dict를 이용하여 sess.run을 통해 evaluate"
   ]
  },
  {
   "cell_type": "code",
   "execution_count": null,
   "metadata": {
    "collapsed": true,
    "deletable": true,
    "editable": true
   },
   "outputs": [],
   "source": []
  }
 ],
 "metadata": {
  "kernelspec": {
   "display_name": "Python 3",
   "language": "python",
   "name": "python3"
  },
  "language_info": {
   "codemirror_mode": {
    "name": "ipython",
    "version": 3
   },
   "file_extension": ".py",
   "mimetype": "text/x-python",
   "name": "python",
   "nbconvert_exporter": "python",
   "pygments_lexer": "ipython3",
   "version": "3.5.3"
  }
 },
 "nbformat": 4,
 "nbformat_minor": 0
}
