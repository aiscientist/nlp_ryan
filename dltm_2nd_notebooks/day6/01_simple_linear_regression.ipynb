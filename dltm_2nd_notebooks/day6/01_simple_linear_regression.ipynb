{
 "cells": [
  {
   "cell_type": "code",
   "execution_count": 1,
   "metadata": {
    "collapsed": false,
    "deletable": true,
    "editable": true
   },
   "outputs": [],
   "source": [
    "import tensorflow as tf\n",
    "import numpy as np\n",
    "import matplotlib.pyplot as plt\n",
    "%matplotlib inline "
   ]
  },
  {
   "cell_type": "markdown",
   "metadata": {
    "deletable": true,
    "editable": true
   },
   "source": [
    "# Multiplication"
   ]
  },
  {
   "cell_type": "code",
   "execution_count": 2,
   "metadata": {
    "collapsed": false,
    "deletable": true,
    "editable": true
   },
   "outputs": [
    {
     "name": "stdout",
     "output_type": "stream",
     "text": [
      "2.0 should equal 2.0\n",
      "9.0 should equal 9.0\n"
     ]
    }
   ],
   "source": [
    "sess = tf.Session()\n",
    "a = tf.placeholder(tf.float32)\n",
    "b = tf.placeholder(tf.float32)\n",
    "y = tf.multiply(a, b)\n",
    "print(\"{:.1f} should equal 2.0\".format(sess.run(y, feed_dict={a: 1, b: 2})))\n",
    "print(\"{:.1f} should equal 9.0\".format(sess.run(y, feed_dict={a: 3, b: 3})))"
   ]
  },
  {
   "cell_type": "markdown",
   "metadata": {
    "deletable": true,
    "editable": true
   },
   "source": [
    "# Simple Linear Regression"
   ]
  },
  {
   "cell_type": "markdown",
   "metadata": {
    "deletable": true,
    "editable": true
   },
   "source": [
    "## Training data Generation"
   ]
  },
  {
   "cell_type": "code",
   "execution_count": 3,
   "metadata": {
    "collapsed": false,
    "deletable": true,
    "editable": true
   },
   "outputs": [],
   "source": [
    "num_sample = 20\n",
    "X_trn = np.linspace(0, 1, num_sample)\n",
    "Weight = 2\n",
    "Bias = -1.0\n",
    "noise_level = 0.1\n",
    "Y_true = X_trn * Weight + Bias\n",
    "Y_trn = Y_true + np.random.randn(*X_trn.shape) * noise_level"
   ]
  },
  {
   "cell_type": "code",
   "execution_count": 4,
   "metadata": {
    "collapsed": false,
    "deletable": true,
    "editable": true
   },
   "outputs": [
    {
     "data": {
      "image/png": "[encoded data removed]",
      "text/plain": [
       "<matplotlib.figure.Figure at 0x7f47a4144ac8>"
      ]
     },
     "metadata": {},
     "output_type": "display_data"
    }
   ],
   "source": [
    "plt.figure(1)\n",
    "# plt.plot(X_trn, Y_true, \"ro\", label = \"True data\")\n",
    "plt.plot(X_trn, Y_trn, \"bo\", label = \"Training data\")\n",
    "plt.show()"
   ]
  },
  {
   "cell_type": "markdown",
   "metadata": {
    "deletable": true,
    "editable": true
   },
   "source": [
    "## 모델 만들기"
   ]
  },
  {
   "cell_type": "code",
   "execution_count": 5,
   "metadata": {
    "collapsed": false,
    "deletable": true,
    "editable": true
   },
   "outputs": [],
   "source": [
    "X = tf.placeholder(tf.float32)\n",
    "Y = tf.placeholder(tf.float32)\n",
    "W = tf.Variable(0.0)\n",
    "b = tf.Variable(0.0)\n",
    "Y_model = tf.multiply(X, W) + b"
   ]
  },
  {
   "cell_type": "markdown",
   "metadata": {
    "deletable": true,
    "editable": true
   },
   "source": [
    "## Loss function 만들기"
   ]
  },
  {
   "cell_type": "code",
   "execution_count": 6,
   "metadata": {
    "collapsed": false,
    "deletable": true,
    "editable": true
   },
   "outputs": [],
   "source": [
    "# Mean Squeared Error (MSE)\n",
    "loss = tf.reduce_mean(tf.square(Y - Y_model))"
   ]
  },
  {
   "cell_type": "markdown",
   "metadata": {
    "deletable": true,
    "editable": true
   },
   "source": [
    "## training Optimizer 만들기"
   ]
  },
  {
   "cell_type": "code",
   "execution_count": 7,
   "metadata": {
    "collapsed": true,
    "deletable": true,
    "editable": true
   },
   "outputs": [],
   "source": [
    "optimizer = tf.train.GradientDescentOptimizer(learning_rate=0.1)\n",
    "train_op = optimizer.minimize(loss)"
   ]
  },
  {
   "cell_type": "code",
   "execution_count": 8,
   "metadata": {
    "collapsed": false,
    "deletable": true,
    "editable": true,
    "scrolled": true
   },
   "outputs": [
    {
     "name": "stdout",
     "output_type": "stream",
     "text": [
      "Weight: 0.0370, Bias: -0.0014\n",
      "loss: 0.3821\n",
      "Weight: 1.5841, Bias: -0.7811\n",
      "loss: 0.0302\n",
      "Weight: 1.9376, Bias: -0.9717\n",
      "loss: 0.0114\n",
      "Weight: 2.0195, Bias: -1.0159\n",
      "loss: 0.0104\n",
      "Weight: 2.0385, Bias: -1.0261\n",
      "loss: 0.0104\n",
      "Weight: 2.0429, Bias: -1.0285\n",
      "loss: 0.0104\n",
      "Weight: 2.0440, Bias: -1.0290\n",
      "loss: 0.0104\n",
      "Weight: 2.0442, Bias: -1.0292\n",
      "loss: 0.0104\n",
      "Weight: 2.0442, Bias: -1.0292\n",
      "loss: 0.0104\n",
      "Weight: 2.0443, Bias: -1.0292\n",
      "loss: 0.0104\n"
     ]
    }
   ],
   "source": [
    "sess.run(tf.global_variables_initializer())\n",
    "for i in range(1000):\n",
    "    sess.run(train_op, feed_dict={X: X_trn, Y: Y_trn})\n",
    "    if i % 100 == 0:\n",
    "        print(\"Weight: {:0.4f}, Bias: {:0.4f}\".format(*sess.run([W, b])))\n",
    "        print(\"loss: {:0.4f}\".format(sess.run(loss, feed_dict={X: X_trn, Y: Y_trn})))"
   ]
  },
  {
   "cell_type": "code",
   "execution_count": 9,
   "metadata": {
    "collapsed": false,
    "deletable": true,
    "editable": true
   },
   "outputs": [],
   "source": [
    "W, b = sess.run([W, b])"
   ]
  },
  {
   "cell_type": "code",
   "execution_count": 10,
   "metadata": {
    "collapsed": true,
    "deletable": true,
    "editable": true
   },
   "outputs": [],
   "source": [
    "sess.close()"
   ]
  },
  {
   "cell_type": "code",
   "execution_count": 11,
   "metadata": {
    "collapsed": false,
    "deletable": true,
    "editable": true
   },
   "outputs": [
    {
     "data": {
      "text/plain": [
       "numpy.float32"
      ]
     },
     "execution_count": 11,
     "metadata": {},
     "output_type": "execute_result"
    }
   ],
   "source": [
    "type(W)"
   ]
  },
  {
   "cell_type": "code",
   "execution_count": 12,
   "metadata": {
    "collapsed": false,
    "deletable": true,
    "editable": true
   },
   "outputs": [],
   "source": [
    "Y_pred = np.dot(X_trn, W) + b"
   ]
  },
  {
   "cell_type": "code",
   "execution_count": 13,
   "metadata": {
    "collapsed": false,
    "deletable": true,
    "editable": true
   },
   "outputs": [
    {
     "data": {
      "image/png": "[encoded data removed]",
      "text/plain": [
       "<matplotlib.figure.Figure at 0x7f4788768518>"
      ]
     },
     "metadata": {},
     "output_type": "display_data"
    }
   ],
   "source": [
    "plt.figure(1)\n",
    "# plt.plot(X_trn, Y_true, \"ro\", label = \"True data\")\n",
    "plt.plot(X_trn, Y_trn, \"bo\", label = \"Training data\")\n",
    "plt.plot(X_trn, Y_pred, \"k-\", label = \"Prediction\")\n",
    "plt.show()"
   ]
  },
  {
   "cell_type": "code",
   "execution_count": null,
   "metadata": {
    "collapsed": true,
    "deletable": true,
    "editable": true
   },
   "outputs": [],
   "source": []
  }
 ],
 "metadata": {
  "anaconda-cloud": {},
  "kernelspec": {
   "display_name": "Python 3",
   "language": "python",
   "name": "python3"
  },
  "language_info": {
   "codemirror_mode": {
    "name": "ipython",
    "version": 3
   },
   "file_extension": ".py",
   "mimetype": "text/x-python",
   "name": "python",
   "nbconvert_exporter": "python",
   "pygments_lexer": "ipython3",
   "version": "3.5.3"
  }
 },
 "nbformat": 4,
 "nbformat_minor": 0
}
