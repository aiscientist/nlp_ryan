{
 "cells": [
  {
   "cell_type": "markdown",
   "metadata": {
    "deletable": true,
    "editable": true
   },
   "source": [
    "# Data: 20 Newsgroups\n",
    "- Description: http://qwone.com/~jason/20Newsgroups/\n"
   ]
  },
  {
   "cell_type": "markdown",
   "metadata": {},
   "source": [
    "## Basic exploration"
   ]
  },
  {
   "cell_type": "code",
   "execution_count": 1,
   "metadata": {
    "collapsed": true,
    "deletable": true,
    "editable": true
   },
   "outputs": [],
   "source": [
    "from pprint import pprint\n",
    "import numpy as np\n",
    "from sklearn.datasets import fetch_20newsgroups"
   ]
  },
  {
   "cell_type": "code",
   "execution_count": 2,
   "metadata": {
    "collapsed": false,
    "deletable": true,
    "editable": true
   },
   "outputs": [],
   "source": [
    "newsgroups = fetch_20newsgroups(subset='all')"
   ]
  },
  {
   "cell_type": "code",
   "execution_count": 3,
   "metadata": {
    "collapsed": false,
    "deletable": true,
    "editable": true,
    "scrolled": true
   },
   "outputs": [
    {
     "name": "stdout",
     "output_type": "stream",
     "text": [
      "['alt.atheism',\n",
      " 'comp.graphics',\n",
      " 'comp.os.ms-windows.misc',\n",
      " 'comp.sys.ibm.pc.hardware',\n",
      " 'comp.sys.mac.hardware',\n",
      " 'comp.windows.x',\n",
      " 'misc.forsale',\n",
      " 'rec.autos',\n",
      " 'rec.motorcycles',\n",
      " 'rec.sport.baseball',\n",
      " 'rec.sport.hockey',\n",
      " 'sci.crypt',\n",
      " 'sci.electronics',\n",
      " 'sci.med',\n",
      " 'sci.space',\n",
      " 'soc.religion.christian',\n",
      " 'talk.politics.guns',\n",
      " 'talk.politics.mideast',\n",
      " 'talk.politics.misc',\n",
      " 'talk.religion.misc']\n"
     ]
    }
   ],
   "source": [
    "pprint(newsgroups.target_names)"
   ]
  },
  {
   "cell_type": "code",
   "execution_count": 4,
   "metadata": {
    "collapsed": false,
    "deletable": true,
    "editable": true
   },
   "outputs": [
    {
     "name": "stdout",
     "output_type": "stream",
     "text": [
      "18846\n"
     ]
    }
   ],
   "source": [
    "print(len(newsgroups.data))"
   ]
  },
  {
   "cell_type": "code",
   "execution_count": 5,
   "metadata": {
    "collapsed": false,
    "deletable": true,
    "editable": true,
    "scrolled": true
   },
   "outputs": [
    {
     "name": "stdout",
     "output_type": "stream",
     "text": [
      "From: tomh@metrics.com (Tom Haapanen)\n",
      "Subject: RFD: comp.os.ms-windows.nt.{misc,setup}\n",
      "Organization: Software Metrics Inc.\n",
      "Lines: 76\n",
      "NNTP-Posting-Host: rodan.uu.net\n",
      "\n",
      "This is the official Request for Discussion (RFD) for the creation of two\n",
      "new newsgroups for Microsoft Windows NT.  This is a second RFD, replacing\n",
      "the one originally posted in January '93 (and never taken to a vote).  The\n",
      "proposed groups are described below:\n",
      "\n",
      "NAME: \t comp.os.ms-windows.nt.setup\n",
      "STATUS:  Unmoderated.\n",
      "PURPOSE: Discussions about setting up and installing Windows NT, and about\n",
      "\t system and peripheral compatability issues for Windows NT.\n",
      "\n",
      "NAME:\t comp.os.ms-windows.nt.misc\n",
      "STATUS:\t Unmoderated.\n",
      "PURPOSE: Miscellaneous non-programming discussions about using Windows NT,\n",
      "\t including issues such as security, networking features, console\n",
      "\t mode and Windows 3.1 (Win16) compatability.\n",
      "\n",
      "RATIONALE:\n",
      "\tMicrosoft NT is the newest member of the Microsoft Windows family\n",
      "\tof operating systems (or operating environments for those who wish\n",
      "\tto argue about the meaning of an \"OS\").  The family ranges from\n",
      "\tModular Windows through Windows 3.1 and Windows for Workgroups to\n",
      "\tWindows NT at the high end.  To date, Microsoft has shipped over\n",
      "\t50,000 beta copies and pre-release SDKs of Windows NT -- the\n",
      "\tactual release is slated for May/June '93.\n",
      "\n",
      "\tWhile Windows NT has an entirely new design internally, it shares\n",
      "\tan application programming interface with the other members of the\n",
      "\tWindows family; its Win32 API includes the Win16 API used in Win-\n",
      "\tdows 3.1, and the Win32s API subset (Win32 less threads, networking\n",
      "\tand security) can be used to create 32-bit applications for\n",
      "\tWindows 3.1.\n",
      "\n",
      "\tThe user interface is also practically identical to that of Windows\n",
      "\t3.1, with the addition of logins and a few other features.  It uses\n",
      "\tProgram Manager, File Manager and other applets, and generally pre-\n",
      "\tsents an identical appearance to the user.  Many of the announced\n",
      "\tWindows NT applications are ports of existing Windows 3.1 apps, and\n",
      "\tNT also runs existing 3.1 applications.\n",
      "\n",
      "\tThus, it appears logical that Windows NT should share the following\n",
      "\tgroups with the other members of the Windows family:\n",
      "\t\tcomp.os.ms-windows.apps\n",
      "\t\tcomp.os.ms-windows.programmer.tools\n",
      "\t\tcomp.os.ms-windows.programmer.misc\n",
      "\t\tcomp.os.ms-windows.programmer.win32\n",
      "\t\n",
      "\tThe following groups are also clearly applicable to Windows NT as\n",
      "\twell as Windows 3.1:\n",
      "\t\tcomp.os.ms-windows.announce\n",
      "\t\tcomp.os.ms-windows.advocacy\n",
      "\t\n",
      "\tIn conclusion, the only clear argument for the separation of the\n",
      "\tWindows 3.1 and Windows NT hierarchies is different internal\n",
      "\tstructures of Windows 3.1 and Windows NT.  And yet operating\n",
      "\tsystems such as OS/2, Macintosh OS, Xenix and Coherent all have\n",
      "\tundergone major rewrites without having been split into separate\n",
      "\tnewsgroup hierarchies.\n",
      "\n",
      "\tFurther, Windows 3.1 is due for a major rewrite itself in 1994 --\n",
      "\twhen the fully 32-bit, protected-mode and with-DOS-built-in next-\n",
      "\tgeneration Windows, \"Chicago\", debuts next year, surely it should\n",
      "\tremain in the same hierarchy.  And what, then, would be the jus-\n",
      "\ttification for separating Windows NT from other Windows versions?\n",
      "\n",
      "\n",
      "DISCUSSION PERIOD:\n",
      "\tThe discussion period will run from 27 April, 1992 to 18 May, 1993.  \n",
      "\n",
      "VOTING:\n",
      "\tThe CFV (Call for Votes) will be issued around 19 May, 1993, based on\n",
      "\tthe feedback received during the discussion period.  No votes will\n",
      "\tbe accepted prior to the CFV.\n",
      "-- \n",
      "[ /tom haapanen -- tomh@metrics.com -- software metrics inc -- waterloo, ont ]\n",
      "[       \"stick your index fingers into both corners of your mouth.  now pull ]\n",
      "[          up.  that's how the corrado makes you feel.\"  -- car, january '93 ]\n",
      "\n"
     ]
    }
   ],
   "source": [
    "print(newsgroups.data[2000])"
   ]
  },
  {
   "cell_type": "code",
   "execution_count": 6,
   "metadata": {
    "collapsed": false,
    "deletable": true,
    "editable": true
   },
   "outputs": [
    {
     "name": "stdout",
     "output_type": "stream",
     "text": [
      "2\n"
     ]
    }
   ],
   "source": [
    "print(newsgroups.target[2000])"
   ]
  },
  {
   "cell_type": "code",
   "execution_count": 7,
   "metadata": {
    "collapsed": false,
    "deletable": true,
    "editable": true
   },
   "outputs": [
    {
     "name": "stdout",
     "output_type": "stream",
     "text": [
      "comp.os.ms-windows.misc\n"
     ]
    }
   ],
   "source": [
    "print(newsgroups.target_names[newsgroups.target[2000]])"
   ]
  },
  {
   "cell_type": "code",
   "execution_count": 8,
   "metadata": {
    "collapsed": true,
    "deletable": true,
    "editable": true
   },
   "outputs": [],
   "source": [
    "def get_content(newsgroups, news_id):\n",
    "    print(\"[CONTENT]\")\n",
    "    print(newsgroups.data[news_id])\n",
    "    print(\"\\n[CLASS]: %s (index = %d)\" % (newsgroups.target_names[newsgroups.target[news_id]], newsgroups.target[news_id]))"
   ]
  },
  {
   "cell_type": "code",
   "execution_count": 9,
   "metadata": {
    "collapsed": false,
    "deletable": true,
    "editable": true
   },
   "outputs": [
    {
     "name": "stdout",
     "output_type": "stream",
     "text": [
      "[CONTENT]\n",
      "From: tomh@metrics.com (Tom Haapanen)\n",
      "Subject: RFD: comp.os.ms-windows.nt.{misc,setup}\n",
      "Organization: Software Metrics Inc.\n",
      "Lines: 76\n",
      "NNTP-Posting-Host: rodan.uu.net\n",
      "\n",
      "This is the official Request for Discussion (RFD) for the creation of two\n",
      "new newsgroups for Microsoft Windows NT.  This is a second RFD, replacing\n",
      "the one originally posted in January '93 (and never taken to a vote).  The\n",
      "proposed groups are described below:\n",
      "\n",
      "NAME: \t comp.os.ms-windows.nt.setup\n",
      "STATUS:  Unmoderated.\n",
      "PURPOSE: Discussions about setting up and installing Windows NT, and about\n",
      "\t system and peripheral compatability issues for Windows NT.\n",
      "\n",
      "NAME:\t comp.os.ms-windows.nt.misc\n",
      "STATUS:\t Unmoderated.\n",
      "PURPOSE: Miscellaneous non-programming discussions about using Windows NT,\n",
      "\t including issues such as security, networking features, console\n",
      "\t mode and Windows 3.1 (Win16) compatability.\n",
      "\n",
      "RATIONALE:\n",
      "\tMicrosoft NT is the newest member of the Microsoft Windows family\n",
      "\tof operating systems (or operating environments for those who wish\n",
      "\tto argue about the meaning of an \"OS\").  The family ranges from\n",
      "\tModular Windows through Windows 3.1 and Windows for Workgroups to\n",
      "\tWindows NT at the high end.  To date, Microsoft has shipped over\n",
      "\t50,000 beta copies and pre-release SDKs of Windows NT -- the\n",
      "\tactual release is slated for May/June '93.\n",
      "\n",
      "\tWhile Windows NT has an entirely new design internally, it shares\n",
      "\tan application programming interface with the other members of the\n",
      "\tWindows family; its Win32 API includes the Win16 API used in Win-\n",
      "\tdows 3.1, and the Win32s API subset (Win32 less threads, networking\n",
      "\tand security) can be used to create 32-bit applications for\n",
      "\tWindows 3.1.\n",
      "\n",
      "\tThe user interface is also practically identical to that of Windows\n",
      "\t3.1, with the addition of logins and a few other features.  It uses\n",
      "\tProgram Manager, File Manager and other applets, and generally pre-\n",
      "\tsents an identical appearance to the user.  Many of the announced\n",
      "\tWindows NT applications are ports of existing Windows 3.1 apps, and\n",
      "\tNT also runs existing 3.1 applications.\n",
      "\n",
      "\tThus, it appears logical that Windows NT should share the following\n",
      "\tgroups with the other members of the Windows family:\n",
      "\t\tcomp.os.ms-windows.apps\n",
      "\t\tcomp.os.ms-windows.programmer.tools\n",
      "\t\tcomp.os.ms-windows.programmer.misc\n",
      "\t\tcomp.os.ms-windows.programmer.win32\n",
      "\t\n",
      "\tThe following groups are also clearly applicable to Windows NT as\n",
      "\twell as Windows 3.1:\n",
      "\t\tcomp.os.ms-windows.announce\n",
      "\t\tcomp.os.ms-windows.advocacy\n",
      "\t\n",
      "\tIn conclusion, the only clear argument for the separation of the\n",
      "\tWindows 3.1 and Windows NT hierarchies is different internal\n",
      "\tstructures of Windows 3.1 and Windows NT.  And yet operating\n",
      "\tsystems such as OS/2, Macintosh OS, Xenix and Coherent all have\n",
      "\tundergone major rewrites without having been split into separate\n",
      "\tnewsgroup hierarchies.\n",
      "\n",
      "\tFurther, Windows 3.1 is due for a major rewrite itself in 1994 --\n",
      "\twhen the fully 32-bit, protected-mode and with-DOS-built-in next-\n",
      "\tgeneration Windows, \"Chicago\", debuts next year, surely it should\n",
      "\tremain in the same hierarchy.  And what, then, would be the jus-\n",
      "\ttification for separating Windows NT from other Windows versions?\n",
      "\n",
      "\n",
      "DISCUSSION PERIOD:\n",
      "\tThe discussion period will run from 27 April, 1992 to 18 May, 1993.  \n",
      "\n",
      "VOTING:\n",
      "\tThe CFV (Call for Votes) will be issued around 19 May, 1993, based on\n",
      "\tthe feedback received during the discussion period.  No votes will\n",
      "\tbe accepted prior to the CFV.\n",
      "-- \n",
      "[ /tom haapanen -- tomh@metrics.com -- software metrics inc -- waterloo, ont ]\n",
      "[       \"stick your index fingers into both corners of your mouth.  now pull ]\n",
      "[          up.  that's how the corrado makes you feel.\"  -- car, january '93 ]\n",
      "\n",
      "\n",
      "[CLASS]: comp.os.ms-windows.misc (index = 2)\n"
     ]
    }
   ],
   "source": [
    "get_content(newsgroups, 2000)"
   ]
  },
  {
   "cell_type": "code",
   "execution_count": 10,
   "metadata": {
    "collapsed": false,
    "deletable": true,
    "editable": true,
    "scrolled": true
   },
   "outputs": [
    {
     "name": "stdout",
     "output_type": "stream",
     "text": [
      "[CONTENT]\n",
      "From: g_waugaman@nac.enet.dec.com (Glenn R. Waugaman)\n",
      "Subject: Re: I've found the secret!\n",
      "Article-I.D.: nntpd.1993Apr15.193907.24177\n",
      "Organization: Digital Equipment Corporation\n",
      "Lines: 23\n",
      "\n",
      "\n",
      "In article <1993Apr15.161730.9903@cs.cornell.edu>, tedward@cs.cornell.edu (Edward [Ted] Fischer) writes...\n",
      "> \n",
      ">Why are the Red Sox in first place?  Eight games into the season, they\n",
      ">already have two wins each from Clemens and Viola.  Clemens starts\n",
      ">again tonight, on three days rest.\n",
      "> \n",
      ">What's up?  Are the Sox going with a four-man rotation?  Is this why\n",
      ">Hesketh was used in relief last night?\n",
      "\n",
      "Clemens is going on his normal four days' rest (last pitched Saturday). \n",
      "Hesketh only pitched one inning yesterday afternoon, his first outing\n",
      "since an aborted 1-1/3 inning start 6 days before, so he should be plenty\n",
      "rested to go in his expected turn this Saturday, as the 5th starter.  Not\n",
      "that this is a good thing, of course.  I'd like to see a well-managed\n",
      "four-man rotation with this team... \n",
      "\n",
      "---\n",
      "Glenn Waugaman\n",
      "Digital Equipment Corporation\n",
      "Littleton, MA\n",
      "g_waugaman@nac.enet.dec.com\n",
      "---\n",
      "\n",
      "\n",
      "[CLASS]: rec.sport.baseball (index = 9)\n"
     ]
    }
   ],
   "source": [
    "get_content(newsgroups, 11111)"
   ]
  },
  {
   "cell_type": "code",
   "execution_count": 11,
   "metadata": {
    "collapsed": false,
    "deletable": true,
    "editable": true,
    "scrolled": true
   },
   "outputs": [
    {
     "name": "stdout",
     "output_type": "stream",
     "text": [
      "[CONTENT]\n",
      "From: Mamatha Devineni Ratnam <mr47+@andrew.cmu.edu>\n",
      "Subject: Pens fans reactions\n",
      "Organization: Post Office, Carnegie Mellon, Pittsburgh, PA\n",
      "Lines: 12\n",
      "NNTP-Posting-Host: po4.andrew.cmu.edu\n",
      "\n",
      "\n",
      "\n",
      "I am sure some bashers of Pens fans are pretty confused about the lack\n",
      "of any kind of posts about the recent Pens massacre of the Devils. Actually,\n",
      "I am  bit puzzled too and a bit relieved. However, I am going to put an end\n",
      "to non-PIttsburghers' relief with a bit of praise for the Pens. Man, they\n",
      "are killing those Devils worse than I thought. Jagr just showed you why\n",
      "he is much better than his regular season stats. He is also a lot\n",
      "fo fun to watch in the playoffs. Bowman should let JAgr have a lot of\n",
      "fun in the next couple of games since the Pens are going to beat the pulp out of Jersey anyway. I was very disappointed not to see the Islanders lose the final\n",
      "regular season game.          PENS RULE!!!\n",
      "\n",
      "\n",
      "\n",
      "[CLASS]: rec.sport.hockey (index = 10)\n"
     ]
    }
   ],
   "source": [
    "get_content(newsgroups, 0)"
   ]
  },
  {
   "cell_type": "code",
   "execution_count": 12,
   "metadata": {
    "collapsed": false,
    "deletable": true,
    "editable": true
   },
   "outputs": [],
   "source": [
    "target_id, counts = np.unique(newsgroups.target, return_counts=True)"
   ]
  },
  {
   "cell_type": "code",
   "execution_count": 13,
   "metadata": {
    "collapsed": false,
    "deletable": true,
    "editable": true,
    "scrolled": true
   },
   "outputs": [
    {
     "data": {
      "text/plain": [
       "{0: 799,\n",
       " 1: 973,\n",
       " 2: 985,\n",
       " 3: 982,\n",
       " 4: 963,\n",
       " 5: 988,\n",
       " 6: 975,\n",
       " 7: 990,\n",
       " 8: 996,\n",
       " 9: 994,\n",
       " 10: 999,\n",
       " 11: 991,\n",
       " 12: 984,\n",
       " 13: 990,\n",
       " 14: 987,\n",
       " 15: 997,\n",
       " 16: 910,\n",
       " 17: 940,\n",
       " 18: 775,\n",
       " 19: 628}"
      ]
     },
     "execution_count": 13,
     "metadata": {},
     "output_type": "execute_result"
    }
   ],
   "source": [
    "dict(zip(target_id, counts))"
   ]
  },
  {
   "cell_type": "code",
   "execution_count": 14,
   "metadata": {
    "collapsed": false,
    "deletable": true,
    "editable": true
   },
   "outputs": [
    {
     "data": {
      "text/plain": [
       "{'alt.atheism': 799,\n",
       " 'comp.graphics': 973,\n",
       " 'comp.os.ms-windows.misc': 985,\n",
       " 'comp.sys.ibm.pc.hardware': 982,\n",
       " 'comp.sys.mac.hardware': 963,\n",
       " 'comp.windows.x': 988,\n",
       " 'misc.forsale': 975,\n",
       " 'rec.autos': 990,\n",
       " 'rec.motorcycles': 996,\n",
       " 'rec.sport.baseball': 994,\n",
       " 'rec.sport.hockey': 999,\n",
       " 'sci.crypt': 991,\n",
       " 'sci.electronics': 984,\n",
       " 'sci.med': 990,\n",
       " 'sci.space': 987,\n",
       " 'soc.religion.christian': 997,\n",
       " 'talk.politics.guns': 910,\n",
       " 'talk.politics.mideast': 940,\n",
       " 'talk.politics.misc': 775,\n",
       " 'talk.religion.misc': 628}"
      ]
     },
     "execution_count": 14,
     "metadata": {},
     "output_type": "execute_result"
    }
   ],
   "source": [
    "dict(zip(newsgroups.target_names, counts))"
   ]
  },
  {
   "cell_type": "markdown",
   "metadata": {},
   "source": [
    "## Training and test data"
   ]
  },
  {
   "cell_type": "code",
   "execution_count": 15,
   "metadata": {
    "collapsed": true,
    "deletable": true,
    "editable": true
   },
   "outputs": [],
   "source": [
    "newsgroups_trn = fetch_20newsgroups(subset='train')\n",
    "newsgroups_tst = fetch_20newsgroups(subset='test')"
   ]
  },
  {
   "cell_type": "code",
   "execution_count": 16,
   "metadata": {
    "collapsed": false,
    "deletable": true,
    "editable": true,
    "scrolled": true
   },
   "outputs": [
    {
     "name": "stdout",
     "output_type": "stream",
     "text": [
      "Number of training points: 11314\n",
      "Number of test points: 7532\n"
     ]
    }
   ],
   "source": [
    "print(\"Number of training points: %d\" % len(newsgroups_trn.data))\n",
    "print(\"Number of test points: %d\" % len(newsgroups_tst.data))"
   ]
  },
  {
   "cell_type": "markdown",
   "metadata": {},
   "source": [
    "## More..."
   ]
  },
  {
   "cell_type": "code",
   "execution_count": 17,
   "metadata": {
    "collapsed": true
   },
   "outputs": [],
   "source": [
    "newsgroups_removed = fetch_20newsgroups(subset='all', remove=('headers', 'footers', 'quotes'))"
   ]
  },
  {
   "cell_type": "code",
   "execution_count": 18,
   "metadata": {
    "collapsed": false,
    "scrolled": true
   },
   "outputs": [
    {
     "name": "stdout",
     "output_type": "stream",
     "text": [
      "[CONTENT]\n",
      "From: g_waugaman@nac.enet.dec.com (Glenn R. Waugaman)\n",
      "Subject: Re: I've found the secret!\n",
      "Article-I.D.: nntpd.1993Apr15.193907.24177\n",
      "Organization: Digital Equipment Corporation\n",
      "Lines: 23\n",
      "\n",
      "\n",
      "In article <1993Apr15.161730.9903@cs.cornell.edu>, tedward@cs.cornell.edu (Edward [Ted] Fischer) writes...\n",
      "> \n",
      ">Why are the Red Sox in first place?  Eight games into the season, they\n",
      ">already have two wins each from Clemens and Viola.  Clemens starts\n",
      ">again tonight, on three days rest.\n",
      "> \n",
      ">What's up?  Are the Sox going with a four-man rotation?  Is this why\n",
      ">Hesketh was used in relief last night?\n",
      "\n",
      "Clemens is going on his normal four days' rest (last pitched Saturday). \n",
      "Hesketh only pitched one inning yesterday afternoon, his first outing\n",
      "since an aborted 1-1/3 inning start 6 days before, so he should be plenty\n",
      "rested to go in his expected turn this Saturday, as the 5th starter.  Not\n",
      "that this is a good thing, of course.  I'd like to see a well-managed\n",
      "four-man rotation with this team... \n",
      "\n",
      "---\n",
      "Glenn Waugaman\n",
      "Digital Equipment Corporation\n",
      "Littleton, MA\n",
      "g_waugaman@nac.enet.dec.com\n",
      "---\n",
      "\n",
      "\n",
      "[CLASS]: rec.sport.baseball (index = 9)\n"
     ]
    }
   ],
   "source": [
    "get_content(newsgroups, 11111)"
   ]
  },
  {
   "cell_type": "code",
   "execution_count": 19,
   "metadata": {
    "collapsed": false,
    "scrolled": true
   },
   "outputs": [
    {
     "name": "stdout",
     "output_type": "stream",
     "text": [
      "[CONTENT]\n",
      "\n",
      "Clemens is going on his normal four days' rest (last pitched Saturday). \n",
      "Hesketh only pitched one inning yesterday afternoon, his first outing\n",
      "since an aborted 1-1/3 inning start 6 days before, so he should be plenty\n",
      "rested to go in his expected turn this Saturday, as the 5th starter.  Not\n",
      "that this is a good thing, of course.  I'd like to see a well-managed\n",
      "four-man rotation with this team... \n",
      "\n",
      "---\n",
      "Glenn Waugaman\n",
      "Digital Equipment Corporation\n",
      "Littleton, MA\n",
      "g_waugaman@nac.enet.dec.com\n",
      "\n",
      "[CLASS]: rec.sport.baseball (index = 9)\n"
     ]
    }
   ],
   "source": [
    "get_content(newsgroups_removed, 11111)"
   ]
  },
  {
   "cell_type": "code",
   "execution_count": 20,
   "metadata": {
    "collapsed": false
   },
   "outputs": [
    {
     "name": "stdout",
     "output_type": "stream",
     "text": [
      "[CONTENT]\n",
      "From: tomh@metrics.com (Tom Haapanen)\n",
      "Subject: RFD: comp.os.ms-windows.nt.{misc,setup}\n",
      "Organization: Software Metrics Inc.\n",
      "Lines: 76\n",
      "NNTP-Posting-Host: rodan.uu.net\n",
      "\n",
      "This is the official Request for Discussion (RFD) for the creation of two\n",
      "new newsgroups for Microsoft Windows NT.  This is a second RFD, replacing\n",
      "the one originally posted in January '93 (and never taken to a vote).  The\n",
      "proposed groups are described below:\n",
      "\n",
      "NAME: \t comp.os.ms-windows.nt.setup\n",
      "STATUS:  Unmoderated.\n",
      "PURPOSE: Discussions about setting up and installing Windows NT, and about\n",
      "\t system and peripheral compatability issues for Windows NT.\n",
      "\n",
      "NAME:\t comp.os.ms-windows.nt.misc\n",
      "STATUS:\t Unmoderated.\n",
      "PURPOSE: Miscellaneous non-programming discussions about using Windows NT,\n",
      "\t including issues such as security, networking features, console\n",
      "\t mode and Windows 3.1 (Win16) compatability.\n",
      "\n",
      "RATIONALE:\n",
      "\tMicrosoft NT is the newest member of the Microsoft Windows family\n",
      "\tof operating systems (or operating environments for those who wish\n",
      "\tto argue about the meaning of an \"OS\").  The family ranges from\n",
      "\tModular Windows through Windows 3.1 and Windows for Workgroups to\n",
      "\tWindows NT at the high end.  To date, Microsoft has shipped over\n",
      "\t50,000 beta copies and pre-release SDKs of Windows NT -- the\n",
      "\tactual release is slated for May/June '93.\n",
      "\n",
      "\tWhile Windows NT has an entirely new design internally, it shares\n",
      "\tan application programming interface with the other members of the\n",
      "\tWindows family; its Win32 API includes the Win16 API used in Win-\n",
      "\tdows 3.1, and the Win32s API subset (Win32 less threads, networking\n",
      "\tand security) can be used to create 32-bit applications for\n",
      "\tWindows 3.1.\n",
      "\n",
      "\tThe user interface is also practically identical to that of Windows\n",
      "\t3.1, with the addition of logins and a few other features.  It uses\n",
      "\tProgram Manager, File Manager and other applets, and generally pre-\n",
      "\tsents an identical appearance to the user.  Many of the announced\n",
      "\tWindows NT applications are ports of existing Windows 3.1 apps, and\n",
      "\tNT also runs existing 3.1 applications.\n",
      "\n",
      "\tThus, it appears logical that Windows NT should share the following\n",
      "\tgroups with the other members of the Windows family:\n",
      "\t\tcomp.os.ms-windows.apps\n",
      "\t\tcomp.os.ms-windows.programmer.tools\n",
      "\t\tcomp.os.ms-windows.programmer.misc\n",
      "\t\tcomp.os.ms-windows.programmer.win32\n",
      "\t\n",
      "\tThe following groups are also clearly applicable to Windows NT as\n",
      "\twell as Windows 3.1:\n",
      "\t\tcomp.os.ms-windows.announce\n",
      "\t\tcomp.os.ms-windows.advocacy\n",
      "\t\n",
      "\tIn conclusion, the only clear argument for the separation of the\n",
      "\tWindows 3.1 and Windows NT hierarchies is different internal\n",
      "\tstructures of Windows 3.1 and Windows NT.  And yet operating\n",
      "\tsystems such as OS/2, Macintosh OS, Xenix and Coherent all have\n",
      "\tundergone major rewrites without having been split into separate\n",
      "\tnewsgroup hierarchies.\n",
      "\n",
      "\tFurther, Windows 3.1 is due for a major rewrite itself in 1994 --\n",
      "\twhen the fully 32-bit, protected-mode and with-DOS-built-in next-\n",
      "\tgeneration Windows, \"Chicago\", debuts next year, surely it should\n",
      "\tremain in the same hierarchy.  And what, then, would be the jus-\n",
      "\ttification for separating Windows NT from other Windows versions?\n",
      "\n",
      "\n",
      "DISCUSSION PERIOD:\n",
      "\tThe discussion period will run from 27 April, 1992 to 18 May, 1993.  \n",
      "\n",
      "VOTING:\n",
      "\tThe CFV (Call for Votes) will be issued around 19 May, 1993, based on\n",
      "\tthe feedback received during the discussion period.  No votes will\n",
      "\tbe accepted prior to the CFV.\n",
      "-- \n",
      "[ /tom haapanen -- tomh@metrics.com -- software metrics inc -- waterloo, ont ]\n",
      "[       \"stick your index fingers into both corners of your mouth.  now pull ]\n",
      "[          up.  that's how the corrado makes you feel.\"  -- car, january '93 ]\n",
      "\n",
      "\n",
      "[CLASS]: comp.os.ms-windows.misc (index = 2)\n"
     ]
    }
   ],
   "source": [
    "get_content(newsgroups, 2000)"
   ]
  },
  {
   "cell_type": "code",
   "execution_count": 21,
   "metadata": {
    "collapsed": false
   },
   "outputs": [
    {
     "name": "stdout",
     "output_type": "stream",
     "text": [
      "[CONTENT]\n",
      "This is the official Request for Discussion (RFD) for the creation of two\n",
      "new newsgroups for Microsoft Windows NT.  This is a second RFD, replacing\n",
      "the one originally posted in January '93 (and never taken to a vote).  The\n",
      "proposed groups are described below:\n",
      "\n",
      "NAME: \t comp.os.ms-windows.nt.setup\n",
      "STATUS:  Unmoderated.\n",
      "PURPOSE: Discussions about setting up and installing Windows NT, and about\n",
      "\t system and peripheral compatability issues for Windows NT.\n",
      "\n",
      "NAME:\t comp.os.ms-windows.nt.misc\n",
      "STATUS:\t Unmoderated.\n",
      "PURPOSE: Miscellaneous non-programming discussions about using Windows NT,\n",
      "\t including issues such as security, networking features, console\n",
      "\t mode and Windows 3.1 (Win16) compatability.\n",
      "\n",
      "RATIONALE:\n",
      "\tMicrosoft NT is the newest member of the Microsoft Windows family\n",
      "\tof operating systems (or operating environments for those who wish\n",
      "\tto argue about the meaning of an \"OS\").  The family ranges from\n",
      "\tModular Windows through Windows 3.1 and Windows for Workgroups to\n",
      "\tWindows NT at the high end.  To date, Microsoft has shipped over\n",
      "\t50,000 beta copies and pre-release SDKs of Windows NT -- the\n",
      "\tactual release is slated for May/June '93.\n",
      "\n",
      "\tWhile Windows NT has an entirely new design internally, it shares\n",
      "\tan application programming interface with the other members of the\n",
      "\tWindows family; its Win32 API includes the Win16 API used in Win-\n",
      "\tdows 3.1, and the Win32s API subset (Win32 less threads, networking\n",
      "\tand security) can be used to create 32-bit applications for\n",
      "\tWindows 3.1.\n",
      "\n",
      "\tThe user interface is also practically identical to that of Windows\n",
      "\t3.1, with the addition of logins and a few other features.  It uses\n",
      "\tProgram Manager, File Manager and other applets, and generally pre-\n",
      "\tsents an identical appearance to the user.  Many of the announced\n",
      "\tWindows NT applications are ports of existing Windows 3.1 apps, and\n",
      "\tNT also runs existing 3.1 applications.\n",
      "\n",
      "\tThus, it appears logical that Windows NT should share the following\n",
      "\tgroups with the other members of the Windows family:\n",
      "\t\tcomp.os.ms-windows.apps\n",
      "\t\tcomp.os.ms-windows.programmer.tools\n",
      "\t\tcomp.os.ms-windows.programmer.misc\n",
      "\t\tcomp.os.ms-windows.programmer.win32\n",
      "\t\n",
      "\tThe following groups are also clearly applicable to Windows NT as\n",
      "\twell as Windows 3.1:\n",
      "\t\tcomp.os.ms-windows.announce\n",
      "\t\tcomp.os.ms-windows.advocacy\n",
      "\t\n",
      "\tIn conclusion, the only clear argument for the separation of the\n",
      "\tWindows 3.1 and Windows NT hierarchies is different internal\n",
      "\tstructures of Windows 3.1 and Windows NT.  And yet operating\n",
      "\tsystems such as OS/2, Macintosh OS, Xenix and Coherent all have\n",
      "\tundergone major rewrites without having been split into separate\n",
      "\tnewsgroup hierarchies.\n",
      "\n",
      "\tFurther, Windows 3.1 is due for a major rewrite itself in 1994 --\n",
      "\twhen the fully 32-bit, protected-mode and with-DOS-built-in next-\n",
      "\tgeneration Windows, \"Chicago\", debuts next year, surely it should\n",
      "\tremain in the same hierarchy.  And what, then, would be the jus-\n",
      "\ttification for separating Windows NT from other Windows versions?\n",
      "\n",
      "\n",
      "DISCUSSION PERIOD:\n",
      "\tThe discussion period will run from 27 April, 1992 to 18 May, 1993.  \n",
      "\n",
      "VOTING:\n",
      "\tThe CFV (Call for Votes) will be issued around 19 May, 1993, based on\n",
      "\tthe feedback received during the discussion period.  No votes will\n",
      "\tbe accepted prior to the CFV.\n",
      "\n",
      "[CLASS]: comp.os.ms-windows.misc (index = 2)\n"
     ]
    }
   ],
   "source": [
    "get_content(newsgroups_removed, 2000)"
   ]
  },
  {
   "cell_type": "code",
   "execution_count": null,
   "metadata": {
    "collapsed": true
   },
   "outputs": [],
   "source": []
  }
 ],
 "metadata": {
  "kernelspec": {
   "display_name": "Python 3",
   "language": "python",
   "name": "python3"
  },
  "language_info": {
   "codemirror_mode": {
    "name": "ipython",
    "version": 3
   },
   "file_extension": ".py",
   "mimetype": "text/x-python",
   "name": "python",
   "nbconvert_exporter": "python",
   "pygments_lexer": "ipython3",
   "version": "3.6.0"
  }
 },
 "nbformat": 4,
 "nbformat_minor": 2
}
