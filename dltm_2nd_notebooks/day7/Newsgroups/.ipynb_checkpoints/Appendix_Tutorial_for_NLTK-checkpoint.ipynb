{
 "cells": [
  {
   "cell_type": "code",
   "execution_count": 1,
   "metadata": {
    "collapsed": true
   },
   "outputs": [],
   "source": [
    "import nltk\n",
    "from pprint import pprint"
   ]
  },
  {
   "cell_type": "markdown",
   "metadata": {},
   "source": [
    "## 1. Basic tokenize\n",
    "- sent_tokenize\n",
    "- word_tokenize\n",
    "- wordpunct_tokenize"
   ]
  },
  {
   "cell_type": "code",
   "execution_count": 2,
   "metadata": {
    "collapsed": false,
    "scrolled": true
   },
   "outputs": [
    {
     "name": "stdout",
     "output_type": "stream",
     "text": [
      "['Hello.', 'My name is Alice.', 'I live in Seoul.']\n"
     ]
    }
   ],
   "source": [
    "from nltk.tokenize import sent_tokenize, word_tokenize, wordpunct_tokenize\n",
    "\n",
    "sentences = \"Hello. My name is Alice. I live in Seoul.\"\n",
    "result = sent_tokenize(sentences)\n",
    "pprint(result)"
   ]
  },
  {
   "cell_type": "code",
   "execution_count": 3,
   "metadata": {
    "collapsed": false
   },
   "outputs": [
    {
     "name": "stdout",
     "output_type": "stream",
     "text": [
      "['Hello My name is Alice I live in Seoul']\n"
     ]
    }
   ],
   "source": [
    "sentences = \"Hello My name is Alice I live in Seoul\"\n",
    "result = sent_tokenize(sentences)\n",
    "pprint(result)"
   ]
  },
  {
   "cell_type": "code",
   "execution_count": 4,
   "metadata": {
    "collapsed": false
   },
   "outputs": [
    {
     "name": "stdout",
     "output_type": "stream",
     "text": [
      "['Hello, My name is Alice.', 'How are you?', 'I live in Seoul.']\n"
     ]
    }
   ],
   "source": [
    "sentences = \"Hello, My name is Alice. How are you? I live in Seoul.\"\n",
    "result = sent_tokenize(sentences)\n",
    "pprint(result)"
   ]
  },
  {
   "cell_type": "code",
   "execution_count": 7,
   "metadata": {
    "collapsed": false
   },
   "outputs": [
    {
     "name": "stdout",
     "output_type": "stream",
     "text": [
      "['Hello',\n",
      " '.',\n",
      " 'My',\n",
      " 'name',\n",
      " 'is',\n",
      " 'Alice',\n",
      " '.',\n",
      " 'I',\n",
      " 'live',\n",
      " 'in',\n",
      " 'Seoul',\n",
      " '.']\n"
     ]
    }
   ],
   "source": [
    "sentences = \"Hello. My name is Alice. I live in Seoul.\"\n",
    "result = word_tokenize(sentences)\n",
    "pprint(result)"
   ]
  },
  {
   "cell_type": "code",
   "execution_count": 8,
   "metadata": {
    "collapsed": false
   },
   "outputs": [
    {
     "name": "stdout",
     "output_type": "stream",
     "text": [
      "==== Result of word_tokenize ====\n",
      "['All',\n",
      " 'she',\n",
      " 'talking',\n",
      " 'bout',\n",
      " 'is',\n",
      " 'come',\n",
      " 'and',\n",
      " 'see',\n",
      " 'me',\n",
      " 'for',\n",
      " 'once',\n",
      " 'Come',\n",
      " 'and',\n",
      " 'see',\n",
      " 'me',\n",
      " 'for',\n",
      " 'once',\n",
      " 'You',\n",
      " 'do',\n",
      " \"n't\",\n",
      " 'ever',\n",
      " 'come',\n",
      " 'to',\n",
      " 'me',\n",
      " ',',\n",
      " 'you',\n",
      " 'do',\n",
      " \"n't\",\n",
      " 'ever',\n",
      " 'come',\n",
      " 'to',\n",
      " 'me',\n",
      " 'All',\n",
      " 'she',\n",
      " 'ever',\n",
      " 'say',\n",
      " 'is',\n",
      " 'come',\n",
      " 'and',\n",
      " 'see',\n",
      " 'me',\n",
      " 'for',\n",
      " 'once',\n",
      " 'Come',\n",
      " 'and',\n",
      " 'see',\n",
      " 'me',\n",
      " 'for',\n",
      " 'once',\n",
      " 'You',\n",
      " 'do',\n",
      " \"n't\",\n",
      " 'ever',\n",
      " 'come',\n",
      " 'to',\n",
      " 'me',\n",
      " ',',\n",
      " 'you',\n",
      " 'do',\n",
      " \"n't\",\n",
      " 'ever',\n",
      " 'come',\n",
      " 'to',\n",
      " 'me']\n",
      "\n",
      "\n",
      "==== Result of wordpunct_tokenize ====\n",
      "['All',\n",
      " 'she',\n",
      " 'talking',\n",
      " 'bout',\n",
      " 'is',\n",
      " 'come',\n",
      " 'and',\n",
      " 'see',\n",
      " 'me',\n",
      " 'for',\n",
      " 'once',\n",
      " 'Come',\n",
      " 'and',\n",
      " 'see',\n",
      " 'me',\n",
      " 'for',\n",
      " 'once',\n",
      " 'You',\n",
      " 'don',\n",
      " \"'\",\n",
      " 't',\n",
      " 'ever',\n",
      " 'come',\n",
      " 'to',\n",
      " 'me',\n",
      " ',',\n",
      " 'you',\n",
      " 'don',\n",
      " \"'\",\n",
      " 't',\n",
      " 'ever',\n",
      " 'come',\n",
      " 'to',\n",
      " 'me',\n",
      " 'All',\n",
      " 'she',\n",
      " 'ever',\n",
      " 'say',\n",
      " 'is',\n",
      " 'come',\n",
      " 'and',\n",
      " 'see',\n",
      " 'me',\n",
      " 'for',\n",
      " 'once',\n",
      " 'Come',\n",
      " 'and',\n",
      " 'see',\n",
      " 'me',\n",
      " 'for',\n",
      " 'once',\n",
      " 'You',\n",
      " 'don',\n",
      " \"'\",\n",
      " 't',\n",
      " 'ever',\n",
      " 'come',\n",
      " 'to',\n",
      " 'me',\n",
      " ',',\n",
      " 'you',\n",
      " 'don',\n",
      " \"'\",\n",
      " 't',\n",
      " 'ever',\n",
      " 'come',\n",
      " 'to',\n",
      " 'me']\n"
     ]
    }
   ],
   "source": [
    "sentences = \"\"\"\n",
    "All she talking bout is come and see me for once\n",
    "Come and see me for once\n",
    "You don't ever come to me, you don't ever come to me\n",
    "All she ever say is come and see me for once\n",
    "Come and see me for once\n",
    "You don't ever come to me, you don't ever come to me\n",
    "\"\"\"\n",
    "\n",
    "word_tokenize_result = word_tokenize(sentences)\n",
    "wordpunct_tokenize_result = wordpunct_tokenize(sentences)\n",
    "\n",
    "print(\"==== Result of word_tokenize ====\")\n",
    "pprint(word_tokenize_result)\n",
    "print(\"\\n\")\n",
    "print(\"==== Result of wordpunct_tokenize ====\")\n",
    "pprint(wordpunct_tokenize_result)"
   ]
  },
  {
   "cell_type": "markdown",
   "metadata": {},
   "source": [
    "## 2. Part-of-speech (POS) tagging\n",
    "- nltk.pos_tag"
   ]
  },
  {
   "cell_type": "code",
   "execution_count": 9,
   "metadata": {
    "collapsed": false
   },
   "outputs": [
    {
     "name": "stdout",
     "output_type": "stream",
     "text": [
      "[('All', 'DT'),\n",
      " ('she', 'PRP'),\n",
      " ('talking', 'VBG'),\n",
      " ('bout', 'NN'),\n",
      " ('is', 'VBZ'),\n",
      " ('come', 'VBN'),\n",
      " ('and', 'CC'),\n",
      " ('see', 'VB'),\n",
      " ('me', 'PRP'),\n",
      " ('for', 'IN'),\n",
      " ('once', 'RB'),\n",
      " ('Come', 'NNP'),\n",
      " ('and', 'CC'),\n",
      " ('see', 'VB'),\n",
      " ('me', 'PRP'),\n",
      " ('for', 'IN'),\n",
      " ('once', 'RB'),\n",
      " ('You', 'PRP'),\n",
      " ('don', 'VBP'),\n",
      " (\"'\", \"''\"),\n",
      " ('t', 'JJ'),\n",
      " ('ever', 'RB'),\n",
      " ('come', 'VBP'),\n",
      " ('to', 'TO'),\n",
      " ('me', 'PRP'),\n",
      " (',', ','),\n",
      " ('you', 'PRP'),\n",
      " ('don', 'VBP'),\n",
      " (\"'\", \"''\"),\n",
      " ('t', 'JJ'),\n",
      " ('ever', 'RB'),\n",
      " ('come', 'VBP'),\n",
      " ('to', 'TO'),\n",
      " ('me', 'PRP'),\n",
      " ('All', 'PDT'),\n",
      " ('she', 'PRP'),\n",
      " ('ever', 'RB'),\n",
      " ('say', 'VBP'),\n",
      " ('is', 'VBZ'),\n",
      " ('come', 'JJ'),\n",
      " ('and', 'CC'),\n",
      " ('see', 'VB'),\n",
      " ('me', 'PRP'),\n",
      " ('for', 'IN'),\n",
      " ('once', 'RB'),\n",
      " ('Come', 'NNP'),\n",
      " ('and', 'CC'),\n",
      " ('see', 'VB'),\n",
      " ('me', 'PRP'),\n",
      " ('for', 'IN'),\n",
      " ('once', 'RB'),\n",
      " ('You', 'PRP'),\n",
      " ('don', 'VBP'),\n",
      " (\"'\", \"''\"),\n",
      " ('t', 'JJ'),\n",
      " ('ever', 'RB'),\n",
      " ('come', 'VBP'),\n",
      " ('to', 'TO'),\n",
      " ('me', 'PRP'),\n",
      " (',', ','),\n",
      " ('you', 'PRP'),\n",
      " ('don', 'VBP'),\n",
      " (\"'\", \"''\"),\n",
      " ('t', 'JJ'),\n",
      " ('ever', 'RB'),\n",
      " ('come', 'VBP'),\n",
      " ('to', 'TO'),\n",
      " ('me', 'PRP')]\n"
     ]
    }
   ],
   "source": [
    "sentences = \"\"\"\n",
    "All she talking bout is come and see me for once\n",
    "Come and see me for once\n",
    "You don't ever come to me, you don't ever come to me\n",
    "All she ever say is come and see me for once\n",
    "Come and see me for once\n",
    "You don't ever come to me, you don't ever come to me\n",
    "\"\"\"\n",
    "\n",
    "pos_result = nltk.pos_tag(nltk.tokenize.wordpunct_tokenize(sentences))\n",
    "pprint(pos_result)"
   ]
  },
  {
   "cell_type": "markdown",
   "metadata": {},
   "source": [
    "## 3. Normalization\n",
    "- Stemming\n",
    "- Lemmatization"
   ]
  },
  {
   "cell_type": "code",
   "execution_count": 12,
   "metadata": {
    "collapsed": false
   },
   "outputs": [
    {
     "name": "stdout",
     "output_type": "stream",
     "text": [
      "the women run in the fog pass bunni work as comput scientist .\n",
      "['the', 'women', 'run', 'in', 'the', 'fog', 'pass', 'bunni', 'work', 'as', 'comput', 'scientist', '.']\n",
      "the wom run in the fog pass bunny work as comput sci .\n",
      "['the', 'wom', 'run', 'in', 'the', 'fog', 'pass', 'bunny', 'work', 'as', 'comput', 'sci', '.']\n",
      "the women run in the fog pass bunni work as comput scientist .\n",
      "['the', 'women', 'run', 'in', 'the', 'fog', 'pass', 'bunni', 'work', 'as', 'comput', 'scientist', '.']\n"
     ]
    }
   ],
   "source": [
    "from nltk.stem.snowball import SnowballStemmer\n",
    "from nltk.stem.lancaster import LancasterStemmer\n",
    "from nltk.stem.porter import PorterStemmer\n",
    "\n",
    "text = list(nltk.word_tokenize(\"The women running in the fog passed bunnies working as computer scientists.\"))\n",
    "\n",
    "snowball = SnowballStemmer('english')\n",
    "lancaster = LancasterStemmer()\n",
    "porter = PorterStemmer()\n",
    "\n",
    "for stemmer in (snowball, lancaster, porter):\n",
    "    stemmed_text = [stemmer.stem(t) for t in text]\n",
    "    print(\" \".join(stemmed_text))\n",
    "    print(stemmed_text)"
   ]
  },
  {
   "cell_type": "code",
   "execution_count": 13,
   "metadata": {
    "collapsed": false
   },
   "outputs": [
    {
     "name": "stdout",
     "output_type": "stream",
     "text": [
      "The woman running in the fog passed bunny working a computer scientist .\n"
     ]
    }
   ],
   "source": [
    "from nltk.stem.wordnet import WordNetLemmatizer\n",
    "\n",
    "# Note: use part of speech tag, we'll see this in machine learning! \n",
    "lemmatizer = WordNetLemmatizer()\n",
    "lemmas = [lemmatizer.lemmatize(t) for t in text]\n",
    "print(\" \".join(lemmas))"
   ]
  },
  {
   "cell_type": "code",
   "execution_count": 34,
   "metadata": {
    "collapsed": false
   },
   "outputs": [
    {
     "name": "stdout",
     "output_type": "stream",
     "text": [
      "['eagle', 'fly', 'midnight']\n"
     ]
    }
   ],
   "source": [
    "import string\n",
    "from nltk.corpus import wordnet as wn\n",
    "\n",
    "## Module constants\n",
    "lemmatizer  = WordNetLemmatizer()\n",
    "stopwords   = set(nltk.corpus.stopwords.words('english'))\n",
    "punctuation = string.punctuation\n",
    "\n",
    "def tagwn(tag):\n",
    "    \"\"\"\n",
    "    Returns the WordNet tag from the Penn Treebank tag.\n",
    "    \"\"\"\n",
    "\n",
    "    return {\n",
    "        'N': wn.NOUN,\n",
    "        'V': wn.VERB,\n",
    "        'R': wn.ADV,\n",
    "        'J': wn.ADJ\n",
    "    }.get(tag[0], wn.NOUN)\n",
    "\n",
    "\n",
    "def normalize(text):\n",
    "    for token, tag in nltk.pos_tag(nltk.wordpunct_tokenize(text)):\n",
    "        #if you're going to do part of speech tagging, do it here\n",
    "        token = token.lower()\n",
    "        if token in stopwords or token in punctuation:\n",
    "            continue\n",
    "        token = lemmatizer.lemmatize(token, tagwn(tag))\n",
    "        yield token\n",
    "\n",
    "print(list(normalize(\"The eagle ! up a flies at midnight.\")))"
   ]
  },
  {
   "cell_type": "code",
   "execution_count": 33,
   "metadata": {
    "collapsed": false
   },
   "outputs": [
    {
     "data": {
      "text/plain": [
       "'!\"#$%&\\'()*+,-./:;<=>?@[\\\\]^_`{|}~'"
      ]
     },
     "execution_count": 33,
     "metadata": {},
     "output_type": "execute_result"
    }
   ],
   "source": [
    "punctuation"
   ]
  },
  {
   "cell_type": "code",
   "execution_count": 15,
   "metadata": {
    "collapsed": false
   },
   "outputs": [
    {
     "name": "stdout",
     "output_type": "stream",
     "text": [
      "{'up', 'an', 'won', 'been', 'each', 'y', 'by', 'those', 't', 'not', 'd', 'having', 'in', 'all', 'can', 'what', 'have', 'm', 'to', 'll', 'these', 'once', 'her', 'whom', 'wouldn', 'some', 'ain', 'only', 'themselves', 'was', 'if', 'through', 'isn', 'he', 'under', 'shan', 'itself', 'they', 'yourself', 'too', 'other', 'yourselves', 'hers', 'be', 'during', 'at', 'on', 'shouldn', 'our', 'doing', 'didn', 'so', 're', 'your', 'had', 'or', 'were', 'where', 'is', 'before', 'being', 'are', 'herself', 'she', 'will', 'should', 'but', 'doesn', 'o', 'a', 'needn', 'about', 'the', 'i', 'theirs', 'you', 'again', 'below', 'above', 'did', 'his', 'its', 'their', 'as', 'same', 'weren', 'off', 'we', 'into', 'just', 'ma', 'for', 'there', 'don', 'this', 'any', 'wasn', 'them', 'am', 'hasn', 'both', 'ours', 'me', 'then', 'yours', 'that', 'further', 'who', 'couldn', 'why', 'has', 've', 'over', 'himself', 'no', 'between', 'very', 'until', 'which', 'nor', 'with', 'against', 'such', 'after', 'haven', 'most', 'ourselves', 'how', 's', 'mightn', 'him', 'hadn', 'does', 'it', 'now', 'down', 'do', 'more', 'here', 'mustn', 'from', 'my', 'own', 'because', 'few', 'when', 'while', 'than', 'and', 'out', 'myself', 'aren', 'of'}\n"
     ]
    }
   ],
   "source": [
    "print(stopwords)"
   ]
  },
  {
   "cell_type": "markdown",
   "metadata": {},
   "source": [
    "## 4. Named-entity recognition (NER)\n",
    "- Maximum entropy based NER\n",
    "- Stanford NER packages"
   ]
  },
  {
   "cell_type": "code",
   "execution_count": 19,
   "metadata": {
    "collapsed": false,
    "scrolled": true
   },
   "outputs": [
    {
     "name": "stdout",
     "output_type": "stream",
     "text": [
      "(S\n",
      "  LG/NNP\n",
      "  electronics/NNS\n",
      "  released/VBD\n",
      "  the/DT\n",
      "  smart/JJ\n",
      "  phone/NN\n",
      "  'G6/POS\n",
      "  '/''\n",
      "  in/IN\n",
      "  (GPE April/NNP)\n",
      "  ,/,\n",
      "  2017/CD\n",
      "  ./.)\n"
     ]
    }
   ],
   "source": [
    "text = \"LG electronics released the smart phone 'G6' in April, 2017.\"\n",
    "print(nltk.ne_chunk(nltk.pos_tag(nltk.word_tokenize(text))))"
   ]
  },
  {
   "cell_type": "markdown",
   "metadata": {},
   "source": [
    "Download Stanford NER packages: https://nlp.stanford.edu/software/CRF-NER.shtml#Download"
   ]
  },
  {
   "cell_type": "code",
   "execution_count": 7,
   "metadata": {
    "collapsed": false
   },
   "outputs": [
    {
     "name": "stdout",
     "output_type": "stream",
     "text": [
      "[ORGANIZATION] Samsung\n",
      "[O] electronics\n",
      "[ORGANIZATION] Microsoft\n",
      "[O] research\n",
      "[ORGANIZATION] GE\n",
      "[ORGANIZATION] LG\n",
      "[ORGANIZATION] Baidu\n",
      "[ORGANIZATION] Amazon\n",
      "[O] machintosh.\n"
     ]
    }
   ],
   "source": [
    "from nltk.tag import StanfordNERTagger\n",
    "\n",
    "stanford_data = 'stanford-ner-2016-10-31/classifiers/english.all.3class.distsim.crf.ser.gz'\n",
    "stanford_jar =  'stanford-ner-2016-10-31/stanford-ner-3.7.0.jar'\n",
    "\n",
    "text = \"Samsung electronics Microsoft research GE LG Baidu Amazon\"\n",
    "st = StanfordNERTagger(stanford_data, stanford_jar, 'utf-8')\n",
    "for i in st.tag(text.split()):\n",
    "    print('[' + i[1] + '] ' + i[0])"
   ]
  },
  {
   "cell_type": "markdown",
   "metadata": {},
   "source": [
    "## 5. Parsing\n",
    "- Parsing using a grammar\n",
    "- StanfordParser"
   ]
  },
  {
   "cell_type": "code",
   "execution_count": 25,
   "metadata": {
    "collapsed": true
   },
   "outputs": [],
   "source": [
    "grammar = nltk.grammar.CFG.fromstring(\"\"\"\n",
    "\n",
    "S -> NP PUNCT | NP\n",
    "NP -> N N | ADJP NP | DET N | DET ADJP\n",
    "ADJP -> ADJ NP | ADJ N\n",
    "\n",
    "DET -> 'an' | 'the' | 'a' | 'that'\n",
    "N -> 'airplane' | 'runway' | 'lawn' | 'chair' | 'person' \n",
    "ADJ -> 'red' | 'slow' | 'tired' | 'long'\n",
    "PUNCT -> '.'\n",
    "\"\"\")"
   ]
  },
  {
   "cell_type": "code",
   "execution_count": 27,
   "metadata": {
    "collapsed": false
   },
   "outputs": [
    {
     "name": "stdout",
     "output_type": "stream",
     "text": [
      "(S (NP (DET the) (ADJP (ADJ long) (N runway))))\n"
     ]
    }
   ],
   "source": [
    "def parse(sent):\n",
    "    sent = sent.lower()\n",
    "    parser = nltk.parse.ChartParser(grammar)\n",
    "    for p in parser.parse(nltk.word_tokenize(sent)):\n",
    "        yield p \n",
    "\n",
    "        \n",
    "for tree in parse(\"the long runway\"): \n",
    "    tree.pprint()\n",
    "#     tree[0].draw()"
   ]
  },
  {
   "cell_type": "markdown",
   "metadata": {},
   "source": [
    "Download Stanford Parser packages: https://nlp.stanford.edu/software/lex-parser.shtml#Download"
   ]
  },
  {
   "cell_type": "code",
   "execution_count": null,
   "metadata": {
    "collapsed": false
   },
   "outputs": [],
   "source": [
    "from nltk.parse.stanford import StanfordParser\n",
    "\n",
    "stanford_model = 'stanford-parser-full-2016-10-31/stanford-parser-3.7.0-models.jar'\n",
    "stanford_jar = 'stanford-parser-full-2016-10-31/stanford-parser.jar'\n",
    "\n",
    "st = StanfordParser(stanford_model, stanford_jar)\n",
    "sent = \"The man hit the building with the baseball bat.\"\n",
    "for tree in st.parse(nltk.wordpunct_tokenize(sent)):\n",
    "    tree.pprint()\n",
    "#     tree.draw()"
   ]
  },
  {
   "cell_type": "code",
   "execution_count": null,
   "metadata": {
    "collapsed": true
   },
   "outputs": [],
   "source": []
  }
 ],
 "metadata": {
  "anaconda-cloud": {},
  "kernelspec": {
   "display_name": "Python [default]",
   "language": "python",
   "name": "python3"
  },
  "language_info": {
   "codemirror_mode": {
    "name": "ipython",
    "version": 3
   },
   "file_extension": ".py",
   "mimetype": "text/x-python",
   "name": "python",
   "nbconvert_exporter": "python",
   "pygments_lexer": "ipython3",
   "version": "3.5.3"
  }
 },
 "nbformat": 4,
 "nbformat_minor": 2
}
