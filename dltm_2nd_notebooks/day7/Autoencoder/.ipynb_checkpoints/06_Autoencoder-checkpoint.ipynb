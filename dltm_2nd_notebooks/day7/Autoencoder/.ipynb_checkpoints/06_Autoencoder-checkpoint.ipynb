{
 "cells": [
  {
   "cell_type": "markdown",
   "metadata": {
    "deletable": true,
    "editable": true
   },
   "source": [
    "# Autoencoder"
   ]
  },
  {
   "cell_type": "code",
   "execution_count": 1,
   "metadata": {
    "collapsed": true,
    "deletable": true,
    "editable": true
   },
   "outputs": [],
   "source": [
    "import tensorflow as tf\n",
    "from tensorflow.examples.tutorials.mnist import input_data\n",
    "import numpy as np\n",
    "import matplotlib.pyplot as plt\n",
    "%matplotlib inline"
   ]
  },
  {
   "cell_type": "markdown",
   "metadata": {
    "deletable": true,
    "editable": true
   },
   "source": [
    "## function for variables"
   ]
  },
  {
   "cell_type": "code",
   "execution_count": 2,
   "metadata": {
    "collapsed": true,
    "deletable": true,
    "editable": true
   },
   "outputs": [],
   "source": [
    "def init_weights(shape):\n",
    "    # golort uniform initialization\n",
    "    W_init_max = np.sqrt(6. / (shape[0] + shape[1]))\n",
    "    return tf.Variable(tf.random_uniform(shape, \n",
    "                                         minval = W_init_max,\n",
    "                                        maxval = -W_init_max))"
   ]
  },
  {
   "cell_type": "markdown",
   "metadata": {
    "deletable": true,
    "editable": true
   },
   "source": [
    "## function for model construction"
   ]
  },
  {
   "cell_type": "code",
   "execution_count": 3,
   "metadata": {
    "collapsed": true,
    "deletable": true,
    "editable": true
   },
   "outputs": [],
   "source": [
    "def model(X, W, b, W_prime, b_prime):\n",
    "    h = tf.nn.sigmoid(tf.matmul(X, W) + b)  \n",
    "    reconstruction = tf.nn.sigmoid(tf.matmul(h, W_prime) + b_prime)\n",
    "    return reconstruction"
   ]
  },
  {
   "cell_type": "markdown",
   "metadata": {
    "deletable": true,
    "editable": true
   },
   "source": [
    "## Preparing data"
   ]
  },
  {
   "cell_type": "code",
   "execution_count": 4,
   "metadata": {
    "collapsed": false,
    "deletable": true,
    "editable": true,
    "scrolled": true
   },
   "outputs": [
    {
     "name": "stdout",
     "output_type": "stream",
     "text": [
      "Extracting MNIST_data/train-images-idx3-ubyte.gz\n",
      "Extracting MNIST_data/train-labels-idx1-ubyte.gz\n",
      "Extracting MNIST_data/t10k-images-idx3-ubyte.gz\n",
      "Extracting MNIST_data/t10k-labels-idx1-ubyte.gz\n"
     ]
    }
   ],
   "source": [
    "mnist = input_data.read_data_sets(\"MNIST_data/\", one_hot=False)\n",
    "X_trn, Y_trn, X_test, Y_test = mnist.train.images, mnist.train.labels, mnist.test.images, mnist.test.labels"
   ]
  },
  {
   "cell_type": "markdown",
   "metadata": {
    "deletable": true,
    "editable": true
   },
   "source": [
    "## make placeholder for inputs and labels"
   ]
  },
  {
   "cell_type": "code",
   "execution_count": 5,
   "metadata": {
    "collapsed": false,
    "deletable": true,
    "editable": true
   },
   "outputs": [],
   "source": [
    "X = tf.placeholder(tf.float32, [None, 784])"
   ]
  },
  {
   "cell_type": "markdown",
   "metadata": {
    "deletable": true,
    "editable": true
   },
   "source": [
    "## weight variable 와 Model 만들기\n",
    "### encoder: W, b\n",
    "### decoder: W', b'"
   ]
  },
  {
   "cell_type": "code",
   "execution_count": 6,
   "metadata": {
    "collapsed": false,
    "deletable": true,
    "editable": true
   },
   "outputs": [],
   "source": [
    "hidden_dim = 784 // 2 # int로 만들기 위해\n",
    "W = init_weights([784, hidden_dim])\n",
    "b = tf.Variable(tf.zeros([hidden_dim]))\n",
    "\n",
    "W_prime = tf.transpose(W)  # tied weights\n",
    "b_prime = tf.Variable(tf.zeros([784]))\n",
    "\n",
    "reconstruction = model(X, W, b, W_prime, b_prime)"
   ]
  },
  {
   "cell_type": "markdown",
   "metadata": {
    "deletable": true,
    "editable": true
   },
   "source": [
    "## loss function"
   ]
  },
  {
   "cell_type": "code",
   "execution_count": 7,
   "metadata": {
    "collapsed": false,
    "deletable": true,
    "editable": true
   },
   "outputs": [],
   "source": [
    "loss = tf.reduce_mean(tf.reduce_sum(tf.pow(X - reconstruction, 2), reduction_indices=[1]))"
   ]
  },
  {
   "cell_type": "markdown",
   "metadata": {
    "deletable": true,
    "editable": true
   },
   "source": [
    "## Training operator\n",
    "#### tf.train.AdagradOptimizer"
   ]
  },
  {
   "cell_type": "code",
   "execution_count": 8,
   "metadata": {
    "collapsed": false,
    "deletable": true,
    "editable": true
   },
   "outputs": [],
   "source": [
    "train_op = tf.train.AdagradOptimizer(learning_rate=0.05).minimize(loss)"
   ]
  },
  {
   "cell_type": "markdown",
   "metadata": {
    "deletable": true,
    "editable": true
   },
   "source": [
    "## Session initialize 및 training"
   ]
  },
  {
   "cell_type": "markdown",
   "metadata": {
    "deletable": true,
    "editable": true
   },
   "source": [
    "## Test data reconstruction 보여주기\n",
    "### 첫번째 row가 original image\n",
    "### 두번째 row가 reconstruction"
   ]
  },
  {
   "cell_type": "code",
   "execution_count": null,
   "metadata": {
    "collapsed": false,
    "deletable": true,
    "editable": true
   },
   "outputs": [],
   "source": [
    "examples_to_show= 10\n",
    "start_img = 0\n",
    "recon_image = sess.run(reconstruction, \n",
    "                       feed_dict = {X:X_test[start_img:start_img + examples_to_show]})\n",
    "f, a = plt.subplots(2, examples_to_show, figsize=(10, 2))\n",
    "for i in range(start_img, examples_to_show):\n",
    "    a[0][i].imshow(np.reshape(X_test[i], (28, 28)),  cmap=plt.get_cmap('gray'))\n",
    "    a[1][i].imshow(np.reshape(recon_image[i], (28, 28)),  cmap=plt.get_cmap('gray'))\n",
    "f.show()"
   ]
  },
  {
   "cell_type": "code",
   "execution_count": null,
   "metadata": {
    "collapsed": true,
    "deletable": true,
    "editable": true
   },
   "outputs": [],
   "source": [
    "sess.close()"
   ]
  },
  {
   "cell_type": "markdown",
   "metadata": {
    "deletable": true,
    "editable": true
   },
   "source": [
    "## Denoising model\n",
    "### dropout 를 이용하여 corruption 만들기"
   ]
  },
  {
   "cell_type": "code",
   "execution_count": null,
   "metadata": {
    "collapsed": true,
    "deletable": true,
    "editable": true
   },
   "outputs": [],
   "source": [
    "def denoising_model(X, corrupt_prob, W, b, W_prime, b_prime):\n",
    "    X_corrupt = tf.nn.dropout(X, 1 - corrupt_prob)\n",
    "    h = tf.nn.sigmoid(tf.matmul(X_corrupt, W) + b)  \n",
    "    reconstruction = tf.nn.sigmoid(tf.matmul(h, W_prime) + b_prime)\n",
    "    return X_corrupt, reconstruction"
   ]
  },
  {
   "cell_type": "markdown",
   "metadata": {
    "deletable": true,
    "editable": true
   },
   "source": [
    "## make placeholder for input and labels"
   ]
  },
  {
   "cell_type": "code",
   "execution_count": null,
   "metadata": {
    "collapsed": true,
    "deletable": true,
    "editable": true
   },
   "outputs": [],
   "source": [
    "X = tf.placeholder(tf.float32, [None, 784])\n",
    "corrupt_prob = tf.placeholder(tf.float32) # corruption을 위해서"
   ]
  },
  {
   "cell_type": "markdown",
   "metadata": {
    "deletable": true,
    "editable": true
   },
   "source": [
    "## weight variable 와 Model 만들기\n",
    "### encoder: W, b\n",
    "### decoder: W', b'\n",
    "### corruption: mask"
   ]
  },
  {
   "cell_type": "code",
   "execution_count": null,
   "metadata": {
    "collapsed": false,
    "deletable": true,
    "editable": true
   },
   "outputs": [],
   "source": [
    "hidden_dim = 784 // 2 # int로 만들기 위해\n",
    "W = init_weights([784, hidden_dim])\n",
    "b = tf.Variable(tf.zeros([hidden_dim]))\n",
    "\n",
    "W_prime = tf.transpose(W)  # tied weights\n",
    "b_prime = tf.Variable(tf.zeros([784]))\n",
    "\n",
    "corrupted_input, denoised_reconstruction = denoising_model(X, corrupt_prob, W, b, W_prime, b_prime)"
   ]
  },
  {
   "cell_type": "markdown",
   "metadata": {
    "deletable": true,
    "editable": true
   },
   "source": [
    "## loss function"
   ]
  },
  {
   "cell_type": "code",
   "execution_count": null,
   "metadata": {
    "collapsed": false,
    "deletable": true,
    "editable": true
   },
   "outputs": [],
   "source": [
    "loss = tf.reduce_mean(tf.reduce_sum(tf.pow(X - denoised_reconstruction, 2), reduction_indices=[1]))"
   ]
  },
  {
   "cell_type": "markdown",
   "metadata": {
    "deletable": true,
    "editable": true
   },
   "source": [
    "## Training operator\n",
    "#### tf.train.AdagradOptimizer"
   ]
  },
  {
   "cell_type": "code",
   "execution_count": null,
   "metadata": {
    "collapsed": true,
    "deletable": true,
    "editable": true
   },
   "outputs": [],
   "source": [
    "train_op = tf.train.AdagradOptimizer(learning_rate=0.05).minimize(loss)"
   ]
  },
  {
   "cell_type": "markdown",
   "metadata": {
    "deletable": true,
    "editable": true
   },
   "source": [
    "## Session initialize 및 training"
   ]
  },
  {
   "cell_type": "code",
   "execution_count": null,
   "metadata": {
    "collapsed": false,
    "deletable": true,
    "editable": true,
    "scrolled": true
   },
   "outputs": [],
   "source": [
    "trn_loss_list = list()\n",
    "test_loss_list = list()\n",
    "batch_size = 128\n",
    "sess = tf.Session()\n",
    "sess.run(tf.initialize_all_variables())\n",
    "\n",
    "for i in range(200):\n",
    "    trn_loss = 0\n",
    "    for start, end in zip(range(0, len(X_trn), batch_size), range(batch_size, len(X_trn)+1, batch_size)):\n",
    "        tmp_loss, _ = sess.run([loss, train_op], feed_dict={X: X_trn[start:end], corrupt_prob:0.2})\n",
    "        trn_loss += tmp_loss\n",
    "    trn_loss_list.append(trn_loss / (len(X_trn) // batch_size))\n",
    "    \n",
    "    test_loss = sess.run(loss, feed_dict={X: X_test, corrupt_prob:0.0})    \n",
    "    test_loss_list.append(test_loss)\n",
    "    print(\"epoch: {} test loss {:0.4f}\".format(i, test_loss))"
   ]
  },
  {
   "cell_type": "markdown",
   "metadata": {
    "deletable": true,
    "editable": true
   },
   "source": [
    "## Loss plot"
   ]
  },
  {
   "cell_type": "code",
   "execution_count": null,
   "metadata": {
    "collapsed": false,
    "deletable": true,
    "editable": true
   },
   "outputs": [],
   "source": [
    "x = np.arange(200)\n",
    "plt.plot(x, trn_loss_list)\n",
    "plt.plot(x, test_loss_list)\n",
    "plt.title(\"reconstruction loss\")\n",
    "plt.legend([\"corrupted train loss\", \"test_loss\"])\n",
    "plt.xlabel(\"epoch\")\n",
    "plt.ylabel(\"squared loss\")"
   ]
  },
  {
   "cell_type": "markdown",
   "metadata": {
    "deletable": true,
    "editable": true
   },
   "source": [
    "## Test data reconstruction 보여주기\n",
    "### 첫번째 row가 original image\n",
    "### 두번째 row가 reconstruction"
   ]
  },
  {
   "cell_type": "code",
   "execution_count": null,
   "metadata": {
    "collapsed": false,
    "deletable": true,
    "editable": true
   },
   "outputs": [],
   "source": [
    "examples_to_show= 10\n",
    "start_img = 0\n",
    "corrupted_image, recon_image = sess.run([corrupted_input, denoised_reconstruction], \n",
    "                       feed_dict = {X:X_test[start_img:start_img+examples_to_show], corrupt_prob:0.5})\n",
    "f, a = plt.subplots(3, examples_to_show, figsize=(10, 3))\n",
    "for i in range(start_img, examples_to_show):\n",
    "    a[0][i].imshow(np.reshape(X_test[i], (28, 28)), cmap=plt.get_cmap('gray'))\n",
    "    a[1][i].imshow(np.reshape(corrupted_image[i], (28, 28)), cmap=plt.get_cmap('gray'))\n",
    "    a[2][i].imshow(np.reshape(recon_image[i], (28, 28)), cmap=plt.get_cmap('gray'))\n",
    "f.show()"
   ]
  },
  {
   "cell_type": "code",
   "execution_count": null,
   "metadata": {
    "collapsed": true,
    "deletable": true,
    "editable": true
   },
   "outputs": [],
   "source": [
    "sess.close()"
   ]
  }
 ],
 "metadata": {
  "anaconda-cloud": {},
  "kernelspec": {
   "display_name": "Python 3",
   "language": "python",
   "name": "python3"
  },
  "language_info": {
   "codemirror_mode": {
    "name": "ipython",
    "version": 3
   },
   "file_extension": ".py",
   "mimetype": "text/x-python",
   "name": "python",
   "nbconvert_exporter": "python",
   "pygments_lexer": "ipython3",
   "version": "3.6.0"
  }
 },
 "nbformat": 4,
 "nbformat_minor": 0
}
