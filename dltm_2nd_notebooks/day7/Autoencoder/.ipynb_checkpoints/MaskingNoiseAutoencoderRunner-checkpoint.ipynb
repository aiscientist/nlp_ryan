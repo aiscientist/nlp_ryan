{
 "cells": [
  {
   "cell_type": "code",
   "execution_count": 1,
   "metadata": {
    "collapsed": false,
    "deletable": true,
    "editable": true
   },
   "outputs": [],
   "source": [
    "import numpy as np\n",
    "import matplotlib.pyplot as plt\n",
    "%matplotlib inline\n",
    "\n",
    "import sklearn.preprocessing as prep\n",
    "import tensorflow as tf\n",
    "from tensorflow.examples.tutorials.mnist import input_data\n",
    "\n",
    "from models.DenoisingAutoencoder import MaskingNoiseAutoencoder"
   ]
  },
  {
   "cell_type": "code",
   "execution_count": 2,
   "metadata": {
    "collapsed": true,
    "deletable": true,
    "editable": true
   },
   "outputs": [],
   "source": [
    "# Parameters\n",
    "transfer_function = tf.nn.sigmoid # tf.nn.relu, tf.nn.softplus, tf.nn.sigmoid, tf.nn.tanh\n",
    "dropout_probability = 0.9\n",
    "training_epochs = 100\n",
    "batch_size = 128\n",
    "display_step = 1"
   ]
  },
  {
   "cell_type": "code",
   "execution_count": 3,
   "metadata": {
    "collapsed": false,
    "deletable": true,
    "editable": true,
    "scrolled": true
   },
   "outputs": [
    {
     "name": "stdout",
     "output_type": "stream",
     "text": [
      "Extracting MNIST_data/train-images-idx3-ubyte.gz\n",
      "Extracting MNIST_data/train-labels-idx1-ubyte.gz\n",
      "Extracting MNIST_data/t10k-images-idx3-ubyte.gz\n",
      "Extracting MNIST_data/t10k-labels-idx1-ubyte.gz\n"
     ]
    }
   ],
   "source": [
    "mnist = input_data.read_data_sets('MNIST_data', one_hot = True)"
   ]
  },
  {
   "cell_type": "code",
   "execution_count": 4,
   "metadata": {
    "collapsed": true,
    "deletable": true,
    "editable": true
   },
   "outputs": [],
   "source": [
    "def standard_scale(X_train, X_test):\n",
    "    preprocessor = prep.StandardScaler().fit(X_train)\n",
    "    X_train = preprocessor.transform(X_train)\n",
    "    X_test = preprocessor.transform(X_test)\n",
    "    return X_train, X_test"
   ]
  },
  {
   "cell_type": "code",
   "execution_count": 5,
   "metadata": {
    "collapsed": true,
    "deletable": true,
    "editable": true
   },
   "outputs": [],
   "source": [
    "def inverse_transform(X_train_original, X_processed):\n",
    "    preprocessor = prep.StandardScaler().fit(X_train_original)\n",
    "    X = preprocessor.inverse_transform(X_processed)\n",
    "    return X"
   ]
  },
  {
   "cell_type": "code",
   "execution_count": 6,
   "metadata": {
    "collapsed": true,
    "deletable": true,
    "editable": true
   },
   "outputs": [],
   "source": [
    "def get_random_block_from_data(data, batch_size):\n",
    "    start_index = np.random.randint(0, len(data) - batch_size)\n",
    "    return data[start_index:(start_index + batch_size)]"
   ]
  },
  {
   "cell_type": "code",
   "execution_count": 7,
   "metadata": {
    "collapsed": true,
    "deletable": true,
    "editable": true
   },
   "outputs": [],
   "source": [
    "# X_train, X_test = standard_scale(mnist.train.images, mnist.test.images)\n",
    "X_train, X_test = mnist.train.images, mnist.test.images\n",
    "n_samples = int(mnist.train.num_examples)"
   ]
  },
  {
   "cell_type": "code",
   "execution_count": 8,
   "metadata": {
    "collapsed": false,
    "deletable": true,
    "editable": true
   },
   "outputs": [],
   "source": [
    "autoencoder = MaskingNoiseAutoencoder(n_input=784,\n",
    "                                      n_hidden=200,\n",
    "                                      transfer_function=transfer_function,\n",
    "                                      optimizer=tf.train.AdamOptimizer(learning_rate = 0.001),\n",
    "                                      dropout_probability=dropout_probability,\n",
    "                                      tied_weights=True)"
   ]
  },
  {
   "cell_type": "code",
   "execution_count": 9,
   "metadata": {
    "collapsed": false,
    "deletable": true,
    "editable": true
   },
   "outputs": [
    {
     "name": "stdout",
     "output_type": "stream",
     "text": [
      "Epoch: 0001 \ttraining_cost= 2294.861215341\n",
      "Epoch: 0002 \ttraining_cost= 1146.561710653\n",
      "Epoch: 0003 \ttraining_cost= 866.662167472\n",
      "Epoch: 0004 \ttraining_cost= 746.171171875\n",
      "Epoch: 0005 \ttraining_cost= 670.402504545\n",
      "Epoch: 0006 \ttraining_cost= 609.559982031\n",
      "Epoch: 0007 \ttraining_cost= 562.795297372\n",
      "Epoch: 0008 \ttraining_cost= 532.831748082\n",
      "Epoch: 0009 \ttraining_cost= 505.757897301\n",
      "Epoch: 0010 \ttraining_cost= 474.023872088\n",
      "Epoch: 0011 \ttraining_cost= 452.769220455\n",
      "Epoch: 0012 \ttraining_cost= 432.448909091\n",
      "Epoch: 0013 \ttraining_cost= 415.980172656\n",
      "Epoch: 0014 \ttraining_cost= 399.554035298\n",
      "Epoch: 0015 \ttraining_cost= 391.459511151\n",
      "Epoch: 0016 \ttraining_cost= 377.985594744\n",
      "Epoch: 0017 \ttraining_cost= 369.975417969\n",
      "Epoch: 0018 \ttraining_cost= 363.227212855\n",
      "Epoch: 0019 \ttraining_cost= 353.957707884\n",
      "Epoch: 0020 \ttraining_cost= 347.790248580\n",
      "Epoch: 0021 \ttraining_cost= 344.689228835\n",
      "Epoch: 0022 \ttraining_cost= 341.018398935\n",
      "Epoch: 0023 \ttraining_cost= 336.197069389\n",
      "Epoch: 0024 \ttraining_cost= 333.093827699\n",
      "Epoch: 0025 \ttraining_cost= 328.213042330\n",
      "Epoch: 0026 \ttraining_cost= 325.667774290\n",
      "Epoch: 0027 \ttraining_cost= 321.407638991\n",
      "Epoch: 0028 \ttraining_cost= 320.076871236\n",
      "Epoch: 0029 \ttraining_cost= 318.910142259\n",
      "Epoch: 0030 \ttraining_cost= 315.751143111\n",
      "Epoch: 0031 \ttraining_cost= 313.853508523\n",
      "Epoch: 0032 \ttraining_cost= 312.660045526\n",
      "Epoch: 0033 \ttraining_cost= 308.277422372\n",
      "Epoch: 0034 \ttraining_cost= 308.139591903\n",
      "Epoch: 0035 \ttraining_cost= 305.953213033\n",
      "Epoch: 0036 \ttraining_cost= 305.930940021\n",
      "Epoch: 0037 \ttraining_cost= 302.265630291\n",
      "Epoch: 0038 \ttraining_cost= 300.877830114\n",
      "Epoch: 0039 \ttraining_cost= 298.583607422\n",
      "Epoch: 0040 \ttraining_cost= 298.030009979\n",
      "Epoch: 0041 \ttraining_cost= 298.516087393\n",
      "Epoch: 0042 \ttraining_cost= 296.281896342\n",
      "Epoch: 0043 \ttraining_cost= 294.627102308\n",
      "Epoch: 0044 \ttraining_cost= 293.364671484\n",
      "Epoch: 0045 \ttraining_cost= 291.447993466\n",
      "Epoch: 0046 \ttraining_cost= 290.731080114\n",
      "Epoch: 0047 \ttraining_cost= 290.711203622\n",
      "Epoch: 0048 \ttraining_cost= 288.595161080\n",
      "Epoch: 0049 \ttraining_cost= 287.004736896\n",
      "Epoch: 0050 \ttraining_cost= 286.480692152\n",
      "Epoch: 0051 \ttraining_cost= 285.134833984\n",
      "Epoch: 0052 \ttraining_cost= 285.329732990\n",
      "Epoch: 0053 \ttraining_cost= 283.503945810\n",
      "Epoch: 0054 \ttraining_cost= 283.458729261\n",
      "Epoch: 0055 \ttraining_cost= 281.317745028\n",
      "Epoch: 0056 \ttraining_cost= 280.931255753\n",
      "Epoch: 0057 \ttraining_cost= 280.649756747\n",
      "Epoch: 0058 \ttraining_cost= 279.686305291\n",
      "Epoch: 0059 \ttraining_cost= 279.185183168\n",
      "Epoch: 0060 \ttraining_cost= 277.913962180\n",
      "Epoch: 0061 \ttraining_cost= 276.382164524\n",
      "Epoch: 0062 \ttraining_cost= 275.900495632\n",
      "Epoch: 0063 \ttraining_cost= 276.892187393\n",
      "Epoch: 0064 \ttraining_cost= 273.655003764\n",
      "Epoch: 0065 \ttraining_cost= 274.547962749\n",
      "Epoch: 0066 \ttraining_cost= 273.545014418\n",
      "Epoch: 0067 \ttraining_cost= 271.975124822\n",
      "Epoch: 0068 \ttraining_cost= 272.082215874\n",
      "Epoch: 0069 \ttraining_cost= 273.150093288\n",
      "Epoch: 0070 \ttraining_cost= 272.171781996\n",
      "Epoch: 0071 \ttraining_cost= 271.622383523\n",
      "Epoch: 0072 \ttraining_cost= 271.278975675\n",
      "Epoch: 0073 \ttraining_cost= 270.314629581\n",
      "Epoch: 0074 \ttraining_cost= 268.502858984\n",
      "Epoch: 0075 \ttraining_cost= 267.574715554\n",
      "Epoch: 0076 \ttraining_cost= 267.306352024\n",
      "Epoch: 0077 \ttraining_cost= 267.505149254\n",
      "Epoch: 0078 \ttraining_cost= 267.847731712\n",
      "Epoch: 0079 \ttraining_cost= 264.492923189\n",
      "Epoch: 0080 \ttraining_cost= 266.175899112\n",
      "Epoch: 0081 \ttraining_cost= 264.170042081\n",
      "Epoch: 0082 \ttraining_cost= 264.218634055\n",
      "Epoch: 0083 \ttraining_cost= 264.267281570\n",
      "Epoch: 0084 \ttraining_cost= 264.409988991\n",
      "Epoch: 0085 \ttraining_cost= 262.939362678\n",
      "Epoch: 0086 \ttraining_cost= 262.826778089\n",
      "Epoch: 0087 \ttraining_cost= 263.080680469\n",
      "Epoch: 0088 \ttraining_cost= 263.323187216\n",
      "Epoch: 0089 \ttraining_cost= 262.110818466\n",
      "Epoch: 0090 \ttraining_cost= 260.171685334\n",
      "Epoch: 0091 \ttraining_cost= 260.236573402\n",
      "Epoch: 0092 \ttraining_cost= 260.652183913\n",
      "Epoch: 0093 \ttraining_cost= 260.086048651\n",
      "Epoch: 0094 \ttraining_cost= 258.809615021\n",
      "Epoch: 0095 \ttraining_cost= 259.062896307\n",
      "Epoch: 0096 \ttraining_cost= 259.269047550\n",
      "Epoch: 0097 \ttraining_cost= 259.616804439\n",
      "Epoch: 0098 \ttraining_cost= 257.759430966\n",
      "Epoch: 0099 \ttraining_cost= 258.364320987\n",
      "Epoch: 0100 \ttraining_cost= 257.737898544\n",
      "Total cost: 14330.5\n"
     ]
    }
   ],
   "source": [
    "for epoch in range(training_epochs):\n",
    "    avg_cost = 0.\n",
    "    total_batch = int(n_samples / batch_size)\n",
    "    for i in range(total_batch):\n",
    "        batch_xs = get_random_block_from_data(X_train, batch_size)\n",
    "        \n",
    "        # Fit training using batch data\n",
    "        cost = autoencoder.partial_fit(batch_xs)\n",
    "        # Compute average loss\n",
    "        avg_cost += cost / n_samples * batch_size\n",
    "\n",
    "    # Display logs per epoch step\n",
    "    if epoch % display_step == 0:\n",
    "        print(\"Epoch:\", '%04d' % (epoch + 1), \"\\ttraining_cost=\", \"{:.9f}\".format(avg_cost))\n",
    "\n",
    "print(\"Total cost: \" + str(autoencoder.calc_total_cost(X_test)))"
   ]
  },
  {
   "cell_type": "code",
   "execution_count": 29,
   "metadata": {
    "collapsed": false,
    "deletable": true,
    "editable": true,
    "scrolled": true
   },
   "outputs": [
    {
     "name": "stderr",
     "output_type": "stream",
     "text": [
      "/home/kth/anaconda3/envs/zeta-ocr/lib/python3.6/site-packages/matplotlib/figure.py:402: UserWarning: matplotlib is currently using a non-GUI backend, so cannot show the figure\n",
      "  \"matplotlib is currently using a non-GUI backend, \"\n"
     ]
    },
    {
     "data": {
      "image/png": "[encoded data removed]",
      "text/plain": [
       "<matplotlib.figure.Figure at 0x7f28104a6dd8>"
      ]
     },
     "metadata": {},
     "output_type": "display_data"
    }
   ],
   "source": [
    "examples_to_show = 10\n",
    "start_img = 0\n",
    "idx = range(start_img, start_img + examples_to_show)\n",
    "X_test_original = mnist.test.images\n",
    "func_name = str(autoencoder.transfer).split(' ')[1]\n",
    "suptitle_name = '[Autoencoder] Transfer_function: %s / keep_prob: %.2f' % (func_name, autoencoder.dropout_probability)\n",
    "\n",
    "correupted_images = autoencoder.corrupt(X_test_original[idx, :])\n",
    "reconstructed_images = autoencoder.reconstruct(X_test[idx, :])\n",
    "f, a = plt.subplots(3, examples_to_show, figsize=(15, 5))\n",
    "for i in range(start_img, examples_to_show):\n",
    "    a[0][i].imshow(np.reshape(X_test_original[i, :], (28, 28)), cmap=plt.get_cmap('gray'))\n",
    "    a[1][i].imshow(np.reshape(correupted_images[i, :], (28, 28)), cmap=plt.get_cmap('gray'))\n",
    "    a[2][i].imshow(np.reshape(reconstructed_images[i, :], (28, 28)), cmap=plt.get_cmap('gray'))\n",
    "plt.suptitle(suptitle_name)\n",
    "f.show()\n",
    "# f.savefig('figures/testImage_%s_dropout_%.3f.png' % (func_name, autoencoder.dropout_probability))"
   ]
  },
  {
   "cell_type": "code",
   "execution_count": 30,
   "metadata": {
    "collapsed": false,
    "scrolled": false
   },
   "outputs": [
    {
     "data": {
      "text/plain": [
       "{'b1': <tensorflow.python.ops.variables.Variable at 0x7f28ec1bd1d0>,\n",
       " 'b2': <tensorflow.python.ops.variables.Variable at 0x7f28ec1bd320>,\n",
       " 'w1': <tensorflow.python.ops.variables.Variable at 0x7f28ec1bd358>,\n",
       " 'w2': <tf.Tensor 'w2:0' shape=(200, 784) dtype=float32>}"
      ]
     },
     "execution_count": 30,
     "metadata": {},
     "output_type": "execute_result"
    }
   ],
   "source": [
    "autoencoder.weights"
   ]
  },
  {
   "cell_type": "code",
   "execution_count": 31,
   "metadata": {
    "collapsed": false
   },
   "outputs": [],
   "source": [
    "encoder_weight = autoencoder.sess.run(autoencoder.weights['w1'])\n",
    "decoder_weight = autoencoder.sess.run(autoencoder.weights['w2'])"
   ]
  },
  {
   "cell_type": "code",
   "execution_count": 32,
   "metadata": {
    "collapsed": false
   },
   "outputs": [
    {
     "data": {
      "text/plain": [
       "array([-0.11116252, -0.25037235, -0.07460281, -0.26813948, -0.17161612,\n",
       "       -0.15282325, -0.24750167, -0.10688292, -0.10174896, -0.16375428,\n",
       "       -0.08642174, -0.30841967, -0.19511335, -0.2381423 , -0.18933025,\n",
       "       -0.15920192, -0.24153371, -0.19615851, -0.18965185, -0.17977075,\n",
       "       -0.16453114, -0.15396754, -0.1530861 , -0.23561949, -0.19995101,\n",
       "       -0.27048302, -0.0894681 , -0.23793578, -0.07162225, -0.15540946,\n",
       "       -0.20740503, -0.16213195, -0.14517327, -0.2151483 , -0.20463125,\n",
       "       -0.27022958, -0.1299293 , -0.09813217, -0.25111306, -0.06702652,\n",
       "       -0.2074704 , -0.11025321, -0.21498638, -0.19579042, -0.12272502,\n",
       "       -0.02356477, -0.06288023, -0.21577023, -0.23294033, -0.25395265,\n",
       "       -0.19637184, -0.16993716, -0.11417705, -0.08605636, -0.19012438,\n",
       "       -0.13279617, -0.16353194, -0.13536467, -0.27774781, -0.04394836,\n",
       "       -0.14202654, -0.08354152, -0.16330847, -0.06701095, -0.23627312,\n",
       "       -0.12228214, -0.114614  , -0.1446052 , -0.11339094, -0.1216749 ,\n",
       "       -0.12727624, -0.13515013, -0.09820486, -0.1614826 , -0.20426543,\n",
       "       -0.08288267, -0.13550325, -0.10348972, -0.21181113, -0.22651622,\n",
       "       -0.14372723, -0.12882586, -0.22743037, -0.17516963, -0.190486  ,\n",
       "       -0.13875979, -0.07806536, -0.22351965, -0.24483544, -0.17445368,\n",
       "       -0.33657524, -0.1872305 , -0.04582315, -0.19421269, -0.06325787,\n",
       "       -0.16243899, -0.13808686, -0.12093408, -0.06473067, -0.13907041,\n",
       "       -0.2041854 , -0.10759424, -0.07369278, -0.01687753, -0.16465043,\n",
       "       -0.18948415, -0.2438768 , -0.13759874, -0.08898709, -0.13904651,\n",
       "       -0.2559844 , -0.12931305, -0.08329155, -0.14134717, -0.2340232 ,\n",
       "       -0.27339822, -0.09613765, -0.17465852, -0.04073   , -0.26089391,\n",
       "       -0.15001221, -0.03696071, -0.25032976, -0.30648008, -0.08666681,\n",
       "       -0.10433847, -0.07953028, -0.15978414, -0.12742943, -0.13554092,\n",
       "       -0.28241211, -0.20156322, -0.1349947 , -0.05054736, -0.19113991,\n",
       "       -0.27812096, -0.19346307, -0.06562673, -0.17001949, -0.08547401,\n",
       "       -0.24825183, -0.20878354, -0.18341076, -0.23031779, -0.11700771,\n",
       "       -0.16914096, -0.12958936, -0.07589166, -0.17024662, -0.29417253,\n",
       "       -0.17884222, -0.15878995, -0.08787897, -0.21141265, -0.08040679,\n",
       "       -0.09581967, -0.09378789, -0.11614852, -0.10442943, -0.23675926,\n",
       "       -0.2603766 , -0.14314513, -0.14940247, -0.09766434, -0.10080612,\n",
       "       -0.26067626, -0.21120113, -0.18284672, -0.13768773, -0.17957322,\n",
       "       -0.06722672, -0.14430492, -0.06442133, -0.11747012, -0.12838437,\n",
       "       -0.2256674 , -0.31285697, -0.40663895, -0.11691181, -0.04744968,\n",
       "       -0.20314422, -0.17846158, -0.13451192, -0.20075403, -0.24008191,\n",
       "       -0.20177037, -0.1197449 , -0.34202924, -0.08792191, -0.09976429,\n",
       "       -0.27325863, -0.15525045, -0.16615146, -0.18783413, -0.29601565,\n",
       "       -0.1537274 , -0.11496218, -0.10901733, -0.06904887, -0.18560435], dtype=float32)"
      ]
     },
     "execution_count": 32,
     "metadata": {},
     "output_type": "execute_result"
    }
   ],
   "source": [
    "encoder_weight[0, :]"
   ]
  },
  {
   "cell_type": "code",
   "execution_count": 33,
   "metadata": {
    "collapsed": false
   },
   "outputs": [
    {
     "data": {
      "text/plain": [
       "array([-0.11116252, -0.25037235, -0.07460281, -0.26813948, -0.17161612,\n",
       "       -0.15282325, -0.24750167, -0.10688292, -0.10174896, -0.16375428,\n",
       "       -0.08642174, -0.30841967, -0.19511335, -0.2381423 , -0.18933025,\n",
       "       -0.15920192, -0.24153371, -0.19615851, -0.18965185, -0.17977075,\n",
       "       -0.16453114, -0.15396754, -0.1530861 , -0.23561949, -0.19995101,\n",
       "       -0.27048302, -0.0894681 , -0.23793578, -0.07162225, -0.15540946,\n",
       "       -0.20740503, -0.16213195, -0.14517327, -0.2151483 , -0.20463125,\n",
       "       -0.27022958, -0.1299293 , -0.09813217, -0.25111306, -0.06702652,\n",
       "       -0.2074704 , -0.11025321, -0.21498638, -0.19579042, -0.12272502,\n",
       "       -0.02356477, -0.06288023, -0.21577023, -0.23294033, -0.25395265,\n",
       "       -0.19637184, -0.16993716, -0.11417705, -0.08605636, -0.19012438,\n",
       "       -0.13279617, -0.16353194, -0.13536467, -0.27774781, -0.04394836,\n",
       "       -0.14202654, -0.08354152, -0.16330847, -0.06701095, -0.23627312,\n",
       "       -0.12228214, -0.114614  , -0.1446052 , -0.11339094, -0.1216749 ,\n",
       "       -0.12727624, -0.13515013, -0.09820486, -0.1614826 , -0.20426543,\n",
       "       -0.08288267, -0.13550325, -0.10348972, -0.21181113, -0.22651622,\n",
       "       -0.14372723, -0.12882586, -0.22743037, -0.17516963, -0.190486  ,\n",
       "       -0.13875979, -0.07806536, -0.22351965, -0.24483544, -0.17445368,\n",
       "       -0.33657524, -0.1872305 , -0.04582315, -0.19421269, -0.06325787,\n",
       "       -0.16243899, -0.13808686, -0.12093408, -0.06473067, -0.13907041,\n",
       "       -0.2041854 , -0.10759424, -0.07369278, -0.01687753, -0.16465043,\n",
       "       -0.18948415, -0.2438768 , -0.13759874, -0.08898709, -0.13904651,\n",
       "       -0.2559844 , -0.12931305, -0.08329155, -0.14134717, -0.2340232 ,\n",
       "       -0.27339822, -0.09613765, -0.17465852, -0.04073   , -0.26089391,\n",
       "       -0.15001221, -0.03696071, -0.25032976, -0.30648008, -0.08666681,\n",
       "       -0.10433847, -0.07953028, -0.15978414, -0.12742943, -0.13554092,\n",
       "       -0.28241211, -0.20156322, -0.1349947 , -0.05054736, -0.19113991,\n",
       "       -0.27812096, -0.19346307, -0.06562673, -0.17001949, -0.08547401,\n",
       "       -0.24825183, -0.20878354, -0.18341076, -0.23031779, -0.11700771,\n",
       "       -0.16914096, -0.12958936, -0.07589166, -0.17024662, -0.29417253,\n",
       "       -0.17884222, -0.15878995, -0.08787897, -0.21141265, -0.08040679,\n",
       "       -0.09581967, -0.09378789, -0.11614852, -0.10442943, -0.23675926,\n",
       "       -0.2603766 , -0.14314513, -0.14940247, -0.09766434, -0.10080612,\n",
       "       -0.26067626, -0.21120113, -0.18284672, -0.13768773, -0.17957322,\n",
       "       -0.06722672, -0.14430492, -0.06442133, -0.11747012, -0.12838437,\n",
       "       -0.2256674 , -0.31285697, -0.40663895, -0.11691181, -0.04744968,\n",
       "       -0.20314422, -0.17846158, -0.13451192, -0.20075403, -0.24008191,\n",
       "       -0.20177037, -0.1197449 , -0.34202924, -0.08792191, -0.09976429,\n",
       "       -0.27325863, -0.15525045, -0.16615146, -0.18783413, -0.29601565,\n",
       "       -0.1537274 , -0.11496218, -0.10901733, -0.06904887, -0.18560435], dtype=float32)"
      ]
     },
     "execution_count": 33,
     "metadata": {},
     "output_type": "execute_result"
    }
   ],
   "source": [
    "decoder_weight[:, 0]"
   ]
  },
  {
   "cell_type": "code",
   "execution_count": 34,
   "metadata": {
    "collapsed": true
   },
   "outputs": [],
   "source": [
    "encoder_bias = autoencoder.sess.run(autoencoder.weights['b1'])\n",
    "decoder_bias = autoencoder.sess.run(autoencoder.weights['b2'])"
   ]
  },
  {
   "cell_type": "code",
   "execution_count": 35,
   "metadata": {
    "collapsed": false
   },
   "outputs": [
    {
     "data": {
      "text/plain": [
       "array([ 4.3655591 ,  2.32843065,  5.911654  ,  2.01325941,  0.62221414,\n",
       "        3.46560359,  0.23201138,  3.05972886,  3.64607549,  6.26455975,\n",
       "        3.31697416, -4.02248621,  3.92986107, -2.70346785,  2.43659925,\n",
       "        4.5720787 , -1.94967926, -0.30341437,  2.12300205, -4.69773245,\n",
       "        5.0355587 , -2.01263762,  5.38426399, -5.52902794,  0.43981722,\n",
       "        1.63835216,  6.58169889,  2.22482371, -0.14749064,  6.10217905,\n",
       "        2.09883952,  6.91125536,  0.56873101,  2.94648147,  3.4677186 ,\n",
       "       -6.61987209,  0.98793989,  4.44978428, -1.74323928,  6.76151752,\n",
       "       -0.95131427,  1.99309802, -1.35937834,  3.83932567,  2.60283351,\n",
       "        6.19782686,  2.79350019,  1.98584902, -5.41503048, -1.49250436,\n",
       "        2.82326722,  1.53179204,  1.82880175,  4.69242382,  2.75342488,\n",
       "        2.9903698 ,  2.51934767,  3.66480184, -4.43101263,  3.91946554,\n",
       "       -1.37461984,  1.42702544,  7.34811974,  5.55856419,  3.03282046,\n",
       "        3.87049365,  5.89608431, -0.08734766,  2.07277989,  0.83002412,\n",
       "        3.02248263,  3.73235035,  1.72618806,  2.56506133,  2.68262601,\n",
       "        2.01881742, -2.81240368,  2.27154279,  2.15982151, -0.50371486,\n",
       "       -0.10440778,  1.82947862,  2.26526332,  3.56587625,  1.23312283,\n",
       "        5.08331299,  4.88051462, -2.9322319 , -3.03311634,  0.73423576,\n",
       "       -6.38216209,  4.36777401,  6.66812515,  3.5528059 ,  5.25870228,\n",
       "        2.80342412,  5.06654072,  1.8704896 ,  3.53159618,  1.81067193,\n",
       "        6.88943386,  5.91534424,  2.47178149,  6.35178804, -5.476367  ,\n",
       "       -5.87874794, -1.5097369 ,  4.17151022,  3.91914725,  4.94092798,\n",
       "        3.03981948,  2.25669289,  5.42745447, -0.9786253 , -4.48938847,\n",
       "       -4.36915731,  3.12350678,  2.73478293,  5.80618477,  0.03963439,\n",
       "       -3.2314167 ,  7.31147814,  1.53913939, -5.58727407,  4.50265741,\n",
       "        4.38264132,  0.79371035, -4.68292713,  2.76755691,  5.42646933,\n",
       "       -6.52702475, -2.83809352,  5.37930393,  6.55494976,  4.14531374,\n",
       "       -3.70984888,  0.57937145,  4.63155127,  2.84772301,  0.99368811,\n",
       "       -1.96478164,  2.48182702,  1.80044591, -4.84054756,  3.67991424,\n",
       "        2.4683938 ,  4.72537994,  3.56797981,  3.07916451, -2.08081722,\n",
       "        2.41760707,  2.95553684,  3.269449  ,  1.25647378,  5.20070362,\n",
       "        4.19809008,  3.74047256,  0.12486368,  2.57483768,  2.44591188,\n",
       "       -1.59888363,  4.0503931 , -0.82943541,  1.58654618,  4.63462591,\n",
       "       -4.7773695 ,  3.00101805,  2.4887507 ,  3.83358765,  1.542521  ,\n",
       "        7.18024826,  5.6549859 ,  5.12033463,  2.01303816,  5.31205177,\n",
       "        0.67745423, -5.14570951, -7.72107124,  3.97448564,  5.30370569,\n",
       "        1.78174257,  5.72264814, -0.20364796,  1.53500283, -5.45509481,\n",
       "       -0.69362354,  5.27611017,  1.51590598,  4.59662771,  0.91520876,\n",
       "       -5.6170001 ,  4.14102936,  2.16699195, -2.12885451, -4.11613655,\n",
       "        3.21341634,  1.28186023,  4.98574495,  4.76754379,  1.20948589], dtype=float32)"
      ]
     },
     "execution_count": 35,
     "metadata": {},
     "output_type": "execute_result"
    }
   ],
   "source": [
    "encoder_bias"
   ]
  },
  {
   "cell_type": "code",
   "execution_count": 36,
   "metadata": {
    "collapsed": false
   },
   "outputs": [
    {
     "data": {
      "text/plain": [
       "array([ -2.12970316e-01,  -2.16155663e-01,  -2.18894705e-01,\n",
       "        -2.17382446e-01,  -2.14263767e-01,  -2.18074441e-01,\n",
       "        -2.12357432e-01,  -2.13336453e-01,  -2.17698351e-01,\n",
       "        -2.12148443e-01,  -2.16484427e-01,  -2.12932482e-01,\n",
       "        -1.02874599e-01,  -2.02220101e-02,  -6.14699088e-02,\n",
       "        -1.22191593e-01,  -2.18451068e-01,  -2.12369695e-01,\n",
       "        -2.16713384e-01,  -2.19388247e-01,  -2.16597885e-01,\n",
       "        -2.21720904e-01,  -2.15273708e-01,  -2.14975163e-01,\n",
       "        -2.13364512e-01,  -2.15529084e-01,  -2.15382889e-01,\n",
       "        -2.18525127e-01,  -2.12455049e-01,  -2.15021819e-01,\n",
       "        -2.09914386e-01,  -2.10407421e-01,  -1.93732962e-01,\n",
       "        -9.78660882e-01,  -1.29187897e-01,  -1.56401068e-01,\n",
       "        -4.37884293e-02,  -1.26121968e-01,  -1.40479952e-01,\n",
       "        -1.46866530e-01,  -1.69722021e-01,  -1.64388016e-01,\n",
       "        -9.99937281e-02,  -2.66267862e-02,  -1.91182077e-01,\n",
       "        -2.06927866e-01,  -1.87043414e-01,  -9.84098092e-02,\n",
       "        -1.03431940e-01,  -7.36378059e-02,  -1.62989974e-01,\n",
       "        -2.86282599e-01,  -2.12328091e-01,  -2.11764634e-01,\n",
       "        -2.12605208e-01,  -2.15956509e-01,  -2.19773635e-01,\n",
       "        -2.12606430e-01,  -1.79021358e-01,  -1.43067229e+00,\n",
       "        -6.65195048e-01,  -1.96530914e+00,  -8.89040604e-02,\n",
       "        -2.30551869e-01,  -1.97696701e-01,  -1.83358550e-01,\n",
       "        -1.18258812e-01,  -2.10073546e-01,  -3.25682163e-01,\n",
       "        -4.29929018e-01,  -3.83456528e-01,  -3.36784571e-01,\n",
       "        -2.33353183e-01,  -1.39648214e-01,  -1.58939645e-01,\n",
       "        -1.62867799e-01,  -1.95096061e-01,  -2.36578256e-01,\n",
       "        -2.18981966e-01,  -1.82260156e-01,  -1.11208290e-01,\n",
       "        -1.32788241e-01,  -2.09929660e-01,  -2.17322811e-01,\n",
       "        -2.14220822e-01,  -2.16902390e-01,  -1.82584181e-01,\n",
       "        -2.83177590e+00,  -4.44443607e+00,  -2.85887748e-01,\n",
       "        -9.03376639e-01,  -3.07877809e-01,  -2.55261391e-01,\n",
       "        -2.34073415e-01,  -2.41804585e-01,  -2.92517066e-01,\n",
       "        -4.12786275e-01,  -4.42726970e-01,  -3.69639635e-01,\n",
       "        -3.24822932e-01,  -3.24353874e-01,  -4.78099287e-02,\n",
       "         3.53837609e-02,  -9.39984843e-02,  -1.97222859e-01,\n",
       "        -3.14543277e-01,  -2.82472074e-01,  -2.24658102e-01,\n",
       "        -4.38880831e-01,  -3.99678886e-01,  -4.36212778e-01,\n",
       "        -2.13814870e-01,  -2.14238256e-01,  -1.74153104e-01,\n",
       "        -2.03394413e+00,  -2.46190286e+00,  -1.68742764e+00,\n",
       "        -3.28748435e-01,  -2.69181192e-01,  -2.92977720e-01,\n",
       "        -3.35749477e-01,  -3.19541901e-01,  -1.89551398e-01,\n",
       "        -2.17441931e-01,  -9.87593234e-02,  -1.69597305e-02,\n",
       "         1.04733780e-02,   1.22653982e-02,   1.51886633e-02,\n",
       "        -3.24112400e-02,  -2.92647834e-04,  -8.86656269e-02,\n",
       "        -1.58400461e-01,  -2.58505672e-01,  -3.35886657e-01,\n",
       "        -3.64446908e-01,  -5.48061073e-01,  -5.73048735e+00,\n",
       "        -2.02334881e+00,  -2.81327456e-01,  -2.15545565e-01,\n",
       "        -2.13637650e-01,  -1.42216742e+00,  -1.37948012e+00,\n",
       "        -1.51086405e-01,  -1.79622710e-01,  -2.43120000e-01,\n",
       "        -2.68083274e-01,  -2.15450227e-01,  -1.11790098e-01,\n",
       "         1.56674787e-01,   3.91054958e-01,   5.69342732e-01,\n",
       "         5.41186929e-01,   5.87920904e-01,   6.42398119e-01,\n",
       "         6.25529528e-01,   4.78889585e-01,   4.01732624e-01,\n",
       "         1.09822050e-01,   1.61933705e-01,   1.41353503e-01,\n",
       "        -3.79370488e-02,  -1.78781807e-01,  -2.31400773e-01,\n",
       "        -2.20458984e-01,  -3.85671735e+00,  -3.45132303e+00,\n",
       "        -2.15958208e-01,  -2.06609035e+00,  -2.52721101e-01,\n",
       "        -2.02473745e-01,  -7.77225196e-02,  -7.15573058e-02,\n",
       "        -9.23559815e-02,  -2.86051124e-01,  -1.60562947e-01,\n",
       "         1.04985133e-01,   5.01952291e-01,   8.32495689e-01,\n",
       "         1.12357521e+00,   1.13679469e+00,   1.07276618e+00,\n",
       "         1.12472832e+00,   8.77104223e-01,   7.10087419e-01,\n",
       "         7.22765982e-01,   5.13256073e-01,   4.60023820e-01,\n",
       "         2.90456444e-01,   7.83472210e-02,  -1.19394414e-01,\n",
       "        -3.32599610e-01,  -3.76674592e-01,  -8.61047077e+00,\n",
       "        -7.65845120e-01,  -2.11996362e-01,  -2.38185376e-01,\n",
       "        -1.55131683e-01,  -1.63138226e-01,  -2.31228378e-02,\n",
       "        -4.53774035e-02,  -3.79153751e-02,  -1.50961563e-01,\n",
       "        -8.71068146e-03,   3.04163605e-01,   6.83816493e-01,\n",
       "         8.73289466e-01,   9.31615531e-01,   8.89482796e-01,\n",
       "         6.61538422e-01,   6.45981073e-01,   5.28066754e-01,\n",
       "         6.96814597e-01,   8.08889747e-01,   6.21598005e-01,\n",
       "         5.07263899e-01,   1.99439481e-01,   1.94253791e-02,\n",
       "        -1.56302415e-02,  -2.12180525e-01,  -2.87075818e-01,\n",
       "        -1.25555241e+00,  -3.69480467e+00,  -1.84151697e+00,\n",
       "        -1.18656181e-01,  -1.54722914e-01,  -1.80356950e-01,\n",
       "        -1.62395477e-01,  -1.27841577e-01,  -6.03300072e-02,\n",
       "        -8.43745768e-02,   2.36204520e-01,   6.33028865e-01,\n",
       "         1.03508556e+00,   1.17148697e+00,   9.56731319e-01,\n",
       "         4.45224643e-01,   7.85604492e-02,  -3.74363959e-02,\n",
       "         1.34045988e-01,   4.63389724e-01,   6.49707079e-01,\n",
       "         4.23686147e-01,   2.31758133e-01,   3.54261659e-02,\n",
       "         3.67783606e-02,  -1.09662406e-01,  -1.98280916e-01,\n",
       "        -1.55879080e-01,  -1.96947977e-01,  -2.94485903e+00,\n",
       "        -1.60449386e-01,  -1.69688329e-01,  -2.26081386e-01,\n",
       "        -3.82716656e-01,  -3.73992085e-01,  -3.21406543e-01,\n",
       "         2.09560413e-02,   1.54588714e-01,   3.23692679e-01,\n",
       "         7.73080349e-01,   1.08364522e+00,   8.36086512e-01,\n",
       "         4.48916048e-01,   1.01390265e-01,  -1.40932366e-01,\n",
       "        -2.58538991e-01,  -1.04486577e-01,   3.27376127e-01,\n",
       "         6.34166837e-01,   4.92978215e-01,   3.90106231e-01,\n",
       "         3.15578848e-01,   1.96497127e-01,  -8.50352794e-02,\n",
       "        -2.08675519e-01,  -2.55064428e-01,  -2.07016662e-01,\n",
       "        -1.05351865e-01,  -1.35721117e-01,  -1.74722031e-01,\n",
       "        -1.99677259e-01,  -3.72331679e-01,  -2.66234040e-01,\n",
       "        -1.71069667e-01,   9.79136676e-02,   2.04485551e-01,\n",
       "         5.26230991e-01,   8.92935157e-01,   8.06147933e-01,\n",
       "         5.13629854e-01,   2.52561510e-01,  -1.68892726e-01,\n",
       "        -2.91363418e-01,  -2.28763565e-01,  -5.83457723e-02,\n",
       "         1.97631046e-01,   5.91259539e-01,   5.79317093e-01,\n",
       "         7.14982450e-01,   4.78092939e-01,   2.89727330e-01,\n",
       "         8.97032302e-03,  -1.47993386e-01,  -2.34497026e-01,\n",
       "        -1.71396852e+00,  -1.37980536e-01,  -6.51897669e-01,\n",
       "        -1.58846676e-01,  -2.56427884e-01,  -2.90795028e-01,\n",
       "        -2.36279383e-01,  -2.24806610e-02,   2.19042867e-01,\n",
       "         4.19087440e-01,   6.24284267e-01,   9.05038714e-01,\n",
       "         8.61774623e-01,   5.72244406e-01,   2.41590187e-01,\n",
       "        -1.13747738e-01,  -2.94603169e-01,  -2.49373987e-01,\n",
       "         1.00141414e-01,   2.18453109e-01,   5.56717813e-01,\n",
       "         6.50526106e-01,   7.85750926e-01,   4.36116815e-01,\n",
       "         1.09606303e-01,   1.30737275e-01,  -9.48746805e-04,\n",
       "        -1.44402742e-01,  -4.91032934e+00,  -3.30483294e+00,\n",
       "        -1.88065410e-01,  -3.76236224e+00,  -1.61007389e-01,\n",
       "        -1.56264484e-01,  -2.67950118e-01,  -1.00541301e-01,\n",
       "         2.49579847e-01,   4.61871415e-01,   6.43966138e-01,\n",
       "         9.17694509e-01,   7.17069924e-01,   6.25346661e-01,\n",
       "         3.38567108e-01,   9.30981487e-02,   3.34459059e-02,\n",
       "         2.47564107e-01,   4.57315743e-01,   5.11393428e-01,\n",
       "         6.34976804e-01,   7.03801155e-01,   7.86567450e-01,\n",
       "         3.80630791e-01,   1.23403631e-01,   2.33951613e-01,\n",
       "         4.93044704e-02,  -2.04812199e-01,  -4.65801334e+00,\n",
       "        -2.28158021e+00,  -7.50979960e-01,  -2.42990828e+00,\n",
       "        -1.53617337e-01,  -1.87027276e-01,  -2.65974015e-01,\n",
       "        -7.53799528e-02,   2.50064611e-01,   5.12841105e-01,\n",
       "         6.87695920e-01,   5.74190080e-01,   4.99905527e-01,\n",
       "         5.72480857e-01,   5.64083934e-01,   3.66371781e-01,\n",
       "         4.47946697e-01,   6.12493813e-01,   8.00550759e-01,\n",
       "         6.29283905e-01,   6.86561108e-01,   6.42715871e-01,\n",
       "         5.41350007e-01,   4.03412819e-01,   2.34331965e-01,\n",
       "         3.02695811e-01,   2.46982207e-03,  -2.22842917e-01,\n",
       "        -3.68799257e+00,  -4.74891439e-02,  -6.75365627e-01,\n",
       "        -2.55552679e-01,  -1.14845671e-01,  -2.10383430e-01,\n",
       "        -1.57116830e-01,   4.67415228e-02,   2.70358622e-01,\n",
       "         4.96491104e-01,   6.24996841e-01,   4.97429222e-01,\n",
       "         5.03221750e-01,   5.00753880e-01,   5.14868498e-01,\n",
       "         5.97725689e-01,   7.03483343e-01,   6.96855545e-01,\n",
       "         7.65538990e-01,   6.10275745e-01,   6.71882629e-01,\n",
       "         6.68133140e-01,   5.12416303e-01,   4.27899420e-01,\n",
       "         1.72947139e-01,   1.28908098e-01,  -6.18840009e-02,\n",
       "        -2.03516260e-01,  -6.71934426e-01,  -1.17271793e+00,\n",
       "        -1.95680940e+00,  -1.92845777e-01,  -3.72347534e-01,\n",
       "        -2.89862573e-01,  -1.61062181e-01,   1.47853628e-01,\n",
       "         3.32079291e-01,   3.61600012e-01,   4.57509279e-01,\n",
       "         4.74614531e-01,   6.32031739e-01,   5.33652484e-01,\n",
       "         4.97848511e-01,   4.80435908e-01,   4.92255598e-01,\n",
       "         6.22561753e-01,   7.16870010e-01,   6.26893103e-01,\n",
       "         3.78646851e-01,   4.67859656e-01,   5.73887408e-01,\n",
       "         3.91138464e-01,   1.38360485e-01,   5.40324077e-02,\n",
       "        -6.22059777e-02,  -3.18519711e-01,  -3.95315409e+00,\n",
       "        -6.48788631e-01,  -1.26649404e+00,  -4.02219266e-01,\n",
       "        -7.74425805e-01,  -2.83349097e-01,  -2.63452530e-01,\n",
       "         1.47478312e-01,   2.58024007e-01,   4.00512069e-01,\n",
       "         5.81706583e-01,   6.41520321e-01,   5.85814238e-01,\n",
       "         5.45647562e-01,   5.25511682e-01,   5.27005613e-01,\n",
       "         4.39042419e-01,   5.27783275e-01,   6.30900979e-01,\n",
       "         5.40622056e-01,   1.21296532e-01,   3.02454442e-01,\n",
       "         4.83939141e-01,   2.29001924e-01,   1.59717910e-02,\n",
       "         1.66733898e-02,  -1.45253194e-02,  -2.39047512e-01,\n",
       "        -3.93718076e+00,  -2.94683194e+00,  -2.17307463e-01,\n",
       "        -2.95883203e+00,  -4.31276143e-01,  -3.20361257e-01,\n",
       "        -2.50645816e-01,   1.70521960e-01,   2.00938568e-01,\n",
       "         3.94569755e-01,   4.86754090e-01,   6.26719534e-01,\n",
       "         3.90656650e-01,   4.75917369e-01,   4.60359842e-01,\n",
       "         3.30015212e-01,   3.94424677e-01,   4.15024221e-01,\n",
       "         5.12733459e-01,   2.93216288e-01,   1.86234906e-01,\n",
       "         4.50727373e-01,   6.21161103e-01,   3.55460554e-01,\n",
       "         5.37844673e-02,   2.76095793e-03,  -1.25072286e-01,\n",
       "        -3.29030126e-01,  -3.95695972e+00,  -3.90331030e+00,\n",
       "        -1.58000362e+00,  -1.52254355e+00,  -7.93384850e-01,\n",
       "        -2.19243884e-01,  -1.22307844e-01,   2.55010933e-01,\n",
       "         2.11878613e-01,   2.50022501e-01,   2.72424579e-01,\n",
       "         3.16409111e-01,   2.42381722e-01,   5.97476810e-02,\n",
       "         3.82443555e-02,   9.64744464e-02,   2.26697668e-01,\n",
       "         4.83385235e-01,   3.35974813e-01,   3.15525949e-01,\n",
       "         5.42042017e-01,   7.04705358e-01,   6.41336620e-01,\n",
       "         4.42389220e-01,   1.18090190e-01,   1.36437610e-01,\n",
       "        -1.73394248e-01,  -3.63376647e-01,  -6.29588652e+00,\n",
       "        -2.35645100e-01,  -1.64838612e+00,  -4.02262211e+00,\n",
       "        -5.00209570e+00,  -2.89932221e-01,  -1.95852742e-02,\n",
       "         2.40715519e-01,   2.34912977e-01,   1.41302273e-01,\n",
       "         2.81292737e-01,   4.42259222e-01,   4.69742030e-01,\n",
       "         2.13603213e-01,   2.40710303e-01,   2.02286541e-01,\n",
       "         1.68854415e-01,   2.60970563e-01,   2.19789833e-01,\n",
       "         2.48474523e-01,   6.88783288e-01,   7.82886624e-01,\n",
       "         5.72537243e-01,   4.06390309e-01,   8.20735320e-02,\n",
       "        -1.61474869e-02,  -1.07809030e-01,  -3.95271689e-01,\n",
       "        -6.51489830e+00,  -1.58653334e-01,  -2.15303704e-01,\n",
       "        -8.42661798e-01,  -1.74582660e-01,  -3.25366467e-01,\n",
       "        -5.31463027e-02,   8.67565572e-02,   2.51883745e-01,\n",
       "         2.60870337e-01,   3.32254857e-01,   5.43863893e-01,\n",
       "         6.35477066e-01,   4.49479222e-01,   3.16927373e-01,\n",
       "         5.80084249e-02,   5.47959320e-02,   2.56369740e-01,\n",
       "         2.60335922e-01,   5.44958413e-01,   8.42088819e-01,\n",
       "         8.13042939e-01,   3.60372990e-01,   1.48352772e-01,\n",
       "        -7.17266873e-02,  -1.43325999e-01,  -2.51523286e-01,\n",
       "        -3.68698686e-01,  -5.81554651e-01,  -2.26392531e+00,\n",
       "        -2.63521343e-01,  -4.34809268e-01,  -3.53097677e+00,\n",
       "        -2.31316254e-01,  -1.16761081e-01,   1.14133999e-01,\n",
       "         1.48277923e-01,   3.15395184e-02,   2.51192003e-01,\n",
       "         4.15284783e-01,   4.51522857e-01,   3.45731288e-01,\n",
       "         3.87928963e-01,   2.73132503e-01,   3.95584732e-01,\n",
       "         5.94763637e-01,   8.12791169e-01,   9.50459361e-01,\n",
       "         7.90956140e-01,   3.81627589e-01,   1.77841559e-01,\n",
       "        -5.20721003e-02,  -1.68384567e-01,  -2.73132503e-01,\n",
       "        -3.30148786e-01,  -9.46644115e+00,  -4.02463168e-01,\n",
       "        -1.66410923e-01,  -3.20513517e-01,  -2.41979957e-01,\n",
       "        -5.25357771e+00,  -1.35544643e-01,  -1.72982037e-01,\n",
       "        -1.12672724e-01,   8.51292685e-02,  -1.93603411e-02,\n",
       "         5.60667962e-02,   2.90144175e-01,   3.29379171e-01,\n",
       "         2.51301736e-01,   3.87141317e-01,   5.30234456e-01,\n",
       "         7.01600552e-01,   9.01369512e-01,   1.05387890e+00,\n",
       "         7.56856322e-01,   4.67452884e-01,   2.37996474e-01,\n",
       "         6.08755201e-02,  -1.28409296e-01,  -2.35600963e-01,\n",
       "        -2.13920027e-01,  -4.08841670e-01,  -1.60419762e+00,\n",
       "        -2.41599932e-01,  -1.09395899e-01,  -2.17012897e-01,\n",
       "        -2.15384945e-01,  -3.22405308e-01,  -1.47434697e-01,\n",
       "        -2.76198804e-01,  -3.56374919e-01,  -1.76188454e-01,\n",
       "        -1.39876872e-01,   1.26318424e-03,   1.59216598e-01,\n",
       "         2.00543508e-01,   2.64391005e-01,   4.22962844e-01,\n",
       "         6.44439459e-01,   7.18332231e-01,   7.90465713e-01,\n",
       "         8.55571032e-01,   5.60059011e-01,   3.40582043e-01,\n",
       "        -1.26430288e-01,  -2.37693086e-01,  -2.35595256e-01,\n",
       "        -2.88882166e-01,  -3.34562629e-01,  -7.10322285e+00,\n",
       "        -3.41578603e-01,  -2.57468891e+00,  -2.20189095e-01,\n",
       "        -2.16308445e-01,  -2.20857009e-01,  -2.69490689e-01,\n",
       "        -1.72308266e-01,  -3.03888321e-01,  -3.89690071e-01,\n",
       "        -3.25679630e-01,  -2.54533172e-01,  -1.15987264e-01,\n",
       "         1.24620162e-01,   2.88343489e-01,   2.99245715e-01,\n",
       "         3.76344085e-01,   3.56436849e-01,   3.39809835e-01,\n",
       "         3.54964107e-01,   4.54220921e-01,   2.57021219e-01,\n",
       "         1.64993063e-01,  -1.23732254e-01,  -2.09598124e-01,\n",
       "        -3.11102033e-01,  -3.46256703e-01,  -3.73844415e-01,\n",
       "        -6.65575564e-01,  -1.53166398e-01,  -1.03223763e-01,\n",
       "        -2.10529551e-01,  -2.17428446e-01,  -2.14279577e-01,\n",
       "        -2.83825564e+00,  -7.49063194e-02,  -3.69332123e+00,\n",
       "        -2.19899267e-01,  -1.99290231e-01,  -3.31784040e-01,\n",
       "        -3.38049948e-01,  -1.85545787e-01,  -2.64212471e-02,\n",
       "         1.22756930e-03,  -8.06439593e-02,  -9.39215943e-02,\n",
       "        -1.82853758e-01,  -2.14668185e-01,  -1.32072046e-01,\n",
       "        -1.85209811e-02,  -3.74264121e-02,  -1.58218518e-01,\n",
       "        -9.99295339e-02,  -1.41361982e-01,  -1.92486137e-01,\n",
       "        -1.83084953e+00,  -3.42413998e+00,   3.28185894e-02,\n",
       "        -8.83563980e-02,  -2.18197718e-01,  -2.15353355e-01,\n",
       "        -2.13424698e-01,  -2.20240414e-01,  -2.18023822e-01,\n",
       "        -2.88452029e-01,  -1.81715161e-01,  -1.25548840e-01,\n",
       "        -1.38134554e-01,  -2.66389161e-01,  -3.28555733e-01,\n",
       "        -2.52576590e-01,  -2.54020303e-01,  -2.79361367e-01,\n",
       "        -3.24216664e-01,  -3.10213298e-01,  -2.11408913e-01,\n",
       "        -1.90533012e-01,  -2.67205179e-01,  -2.95055091e-01,\n",
       "        -2.40831524e-01,  -8.92587379e-02,  -1.28542125e-01,\n",
       "        -4.95726675e-01,  -3.83321881e+00,  -1.71307862e-01,\n",
       "        -1.75944731e-01,  -2.14693576e-01,  -2.13281497e-01,\n",
       "        -2.15399534e-01,  -2.18083158e-01,  -2.13720381e-01,\n",
       "        -2.13857010e-01,  -1.77556217e-01,  -2.32459635e-01,\n",
       "        -3.23758453e-01,  -9.28258896e-02,  -1.22471698e-01,\n",
       "        -1.82405040e-01,  -1.75845310e-01,  -1.07978612e-01,\n",
       "        -9.81961265e-02,  -8.20095465e-02,  -1.91303700e-01,\n",
       "        -1.59955785e-01,  -1.26102149e-01,  -2.53226966e-01,\n",
       "        -2.28120849e-01,  -1.79168701e-01,  -1.57916158e-01,\n",
       "        -2.03118935e-01,  -1.54578581e-01,  -1.68692335e-01,\n",
       "        -2.14135215e-01,  -2.16392085e-01,  -2.18044475e-01,\n",
       "        -2.19905034e-01], dtype=float32)"
      ]
     },
     "execution_count": 36,
     "metadata": {},
     "output_type": "execute_result"
    }
   ],
   "source": [
    "decoder_bias"
   ]
  },
  {
   "cell_type": "code",
   "execution_count": 37,
   "metadata": {
    "collapsed": false
   },
   "outputs": [
    {
     "data": {
      "text/plain": [
       "(200,)"
      ]
     },
     "execution_count": 37,
     "metadata": {},
     "output_type": "execute_result"
    }
   ],
   "source": [
    "encoder_bias.shape"
   ]
  },
  {
   "cell_type": "code",
   "execution_count": 38,
   "metadata": {
    "collapsed": false
   },
   "outputs": [
    {
     "data": {
      "text/plain": [
       "(784,)"
      ]
     },
     "execution_count": 38,
     "metadata": {},
     "output_type": "execute_result"
    }
   ],
   "source": [
    "decoder_bias.shape"
   ]
  },
  {
   "cell_type": "code",
   "execution_count": null,
   "metadata": {
    "collapsed": true
   },
   "outputs": [],
   "source": []
  }
 ],
 "metadata": {
  "kernelspec": {
   "display_name": "Python 3",
   "language": "python",
   "name": "python3"
  },
  "language_info": {
   "codemirror_mode": {
    "name": "ipython",
    "version": 3
   },
   "file_extension": ".py",
   "mimetype": "text/x-python",
   "name": "python",
   "nbconvert_exporter": "python",
   "pygments_lexer": "ipython3",
   "version": "3.6.0"
  }
 },
 "nbformat": 4,
 "nbformat_minor": 2
}
