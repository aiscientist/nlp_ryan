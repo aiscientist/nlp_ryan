{
 "cells": [
  {
   "cell_type": "markdown",
   "metadata": {
    "deletable": true,
    "editable": true
   },
   "source": [
    "Corpus와 CohesionProbability를 Class로 만든 뒤, 이를 각각 .py 파일로 만들었습니다. 한 번 만든 class 혹은 함수를 .py 파일로 저장한 뒤 import 하여 사용하면 코드를 재사용할 수 있습니다. \n",
    "\n",
    "class로 만들 경우, class 안의 변수 (L, max_l_length)는 반드시 self를 입력해야 합니다. 해당 class의 변수라는 의미입니다. \n",
    "\n",
    "함수 역시 () 안의 첫번째 argument를 self로 해야 합니다. "
   ]
  },
  {
   "cell_type": "markdown",
   "metadata": {
    "deletable": true,
    "editable": true
   },
   "source": [
    "앞의 Day2_1_cohesion의 예제를 import를 하여 수행해 봅시다."
   ]
  },
  {
   "cell_type": "code",
   "execution_count": 1,
   "metadata": {
    "collapsed": true,
    "deletable": true,
    "editable": true
   },
   "outputs": [],
   "source": [
    "corpus_fname = '../../../data/corpus_10days/news/2016-10-28_article_all_normed.txt'\n",
    "\n",
    "max_l_length = 10\n",
    "min_count = 30"
   ]
  },
  {
   "cell_type": "code",
   "execution_count": 2,
   "metadata": {
    "collapsed": false,
    "deletable": true,
    "editable": true
   },
   "outputs": [],
   "source": [
    "from corpus import Corpus\n",
    "from cohesion import CohesionProbability"
   ]
  },
  {
   "cell_type": "code",
   "execution_count": 3,
   "metadata": {
    "collapsed": false,
    "deletable": true,
    "editable": true
   },
   "outputs": [
    {
     "name": "stdout",
     "output_type": "stream",
     "text": [
      " ...\n",
      " \n",
      "위키리크스 클린턴 전 대통령 최측근 메모 공개  워싱턴 연합뉴스 신지홍 특파원 미국 민주당 대선후보 힐러리 클린턴의 남편인 빌 클린턴 전 대통령이 자신이 고문으로 속한 한 기업을  ...\n",
      " \n",
      "워싱턴 연합뉴스 심인성 특파원 미국 공화당 대선후보 도널드 트럼프가 26일 현지시간 민주당 지도부와 민주당 대선후보 힐러리 클린턴 캠프 내부 이메일해킹 사건의 배후와 관련해 북한이 ...\n",
      " \n"
     ]
    }
   ],
   "source": [
    "corpus = Corpus(corpus_fname, iter_sent=False)\n",
    "\n",
    "for num_doc, doc in enumerate(corpus):\n",
    "    if num_doc >= 3: break\n",
    "    print('%s ...\\n '% doc[:100])"
   ]
  },
  {
   "cell_type": "code",
   "execution_count": 4,
   "metadata": {
    "collapsed": false,
    "deletable": true,
    "editable": true
   },
   "outputs": [
    {
     "name": "stdout",
     "output_type": "stream",
     "text": [
      "inserting subwords into L: done\n",
      "num subword = 578867\n",
      "num subword = 30922 (after pruning with min count 30)\n"
     ]
    }
   ],
   "source": [
    "corpus.iter_sent = True\n",
    "cohesion_probability = CohesionProbability()\n",
    "cohesion_probability.train(corpus)"
   ]
  },
  {
   "cell_type": "code",
   "execution_count": 5,
   "metadata": {
    "collapsed": false,
    "deletable": true,
    "editable": true
   },
   "outputs": [
    {
     "name": "stdout",
     "output_type": "stream",
     "text": [
      "청와 = 0.522\n",
      "\n",
      "청와대 = 0.722\n",
      "\n",
      "청와대는 = 0.283\n",
      "\n",
      "민정수석 = 0.474\n",
      "\n",
      "민정수석이 = 0.313\n",
      "\n",
      "박근 = 0.294\n",
      "\n",
      "박근혜 = 0.539\n",
      "\n",
      "박근혜의 = 0.144\n",
      "\n"
     ]
    }
   ],
   "source": [
    "for word in ['청와', '청와대', '청와대는', '민정수석', '민정수석이', '박근', '박근혜', '박근혜의']:\n",
    "    print('%s = %.3f\\n' % (word, cohesion_probability.get_cohesion(word)))"
   ]
  },
  {
   "cell_type": "code",
   "execution_count": null,
   "metadata": {
    "collapsed": true,
    "deletable": true,
    "editable": true
   },
   "outputs": [],
   "source": []
  }
 ],
 "metadata": {
  "kernelspec": {
   "display_name": "Python 3",
   "language": "python",
   "name": "python3"
  },
  "language_info": {
   "codemirror_mode": {
    "name": "ipython",
    "version": 3
   },
   "file_extension": ".py",
   "mimetype": "text/x-python",
   "name": "python",
   "nbconvert_exporter": "python",
   "pygments_lexer": "ipython3",
   "version": "3.5.3"
  }
 },
 "nbformat": 4,
 "nbformat_minor": 0
}
