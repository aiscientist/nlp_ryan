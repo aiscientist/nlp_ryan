{
 "cells": [
  {
   "cell_type": "markdown",
   "metadata": {
    "deletable": true,
    "editable": true
   },
   "source": [
    "## Configuration"
   ]
  },
  {
   "cell_type": "code",
   "execution_count": 1,
   "metadata": {
    "collapsed": true,
    "deletable": true,
    "editable": true
   },
   "outputs": [],
   "source": [
    "corpus_fname = '../../../data/corpus_10days/news/2016-10-28_article_all_normed.txt'\n",
    "\n",
    "max_l_length = 10\n",
    "min_count = 30"
   ]
  },
  {
   "cell_type": "markdown",
   "metadata": {
    "deletable": true,
    "editable": true
   },
   "source": [
    "텍스트로 된 파일을 항상 with open으로 열지 않고 클래스로 만들 수도 있습니다. 특히 iteration을 문서 단위로 돌지, 문장 단위로 돌지를 설정한다거나, 각 문서마다 특별한 전처리를 하고 싶다면 클래스화하는 것이 유용합니다.\n",
    "\n",
    "Corpus라는 class는 fname이라는 파일 주소와 iter_sent를 argument로 받습니다. \n",
    "\n",
    "def __iter__(self) 함수를 작성하면 for loop을 돌 수 있으며, __len__이라는 함수를 작성하면 아래와 같이 내장함수 len을 이용할 수 있습니다. \n",
    "    \n",
    "    corpus = Corpus(fname, iter_sent=False)\n",
    "    len(corpus)\n",
    "    \n",
    "아래의 Corpus라는 class는 iter_sent가 True일 때에는 double space로 나눠진 문장들을 출력하며, 이 때 len은 해당 fname에 있는 문장의 개수입니다. iter_sent가 False 일 때에는 문서의 개수, 즉 line number가 출력됩니다. "
   ]
  },
  {
   "cell_type": "code",
   "execution_count": 2,
   "metadata": {
    "collapsed": true,
    "deletable": true,
    "editable": true
   },
   "outputs": [],
   "source": [
    "class Corpus:\n",
    "    \n",
    "    def __init__(self, fname, iter_sent=False):\n",
    "        self.fname = fname\n",
    "        self.iter_sent = iter_sent\n",
    "        self.doc_length = 0\n",
    "        self.sent_length = 0\n",
    "        \n",
    "    def __iter__(self):\n",
    "        with open(self.fname, encoding='utf-8') as f:\n",
    "            for doc in f:\n",
    "                doc = doc.strip()\n",
    "                if not self.iter_sent:\n",
    "                    yield doc\n",
    "                    continue\n",
    "                for sent in doc.split('  '):\n",
    "                    yield sent\n",
    "                    \n",
    "    def __len__(self):\n",
    "        if self.iter_sent:\n",
    "            if self.sent_length == 0:\n",
    "                with open(self.fname, encoding='utf-8') as f:\n",
    "                    for doc in f:\n",
    "                        self.sent_length += len(doc.strip().split('  '))\n",
    "            return self.sent_length\n",
    "        else:\n",
    "            if self.doc_length == 0:\n",
    "                with open(self.fname, encoding='utf-8') as f:\n",
    "                    for num_doc, doc in enumerate(f):\n",
    "                        continue\n",
    "                    self.doc_length = (num_doc + 1)\n",
    "            return self.doc_length"
   ]
  },
  {
   "cell_type": "code",
   "execution_count": 3,
   "metadata": {
    "collapsed": false,
    "deletable": true,
    "editable": true
   },
   "outputs": [
    {
     "name": "stdout",
     "output_type": "stream",
     "text": [
      " ...\n",
      " \n",
      "위키리크스 클린턴 전 대통령 최측근 메모 공개  워싱턴 연합뉴스 신지홍 특파원 미국 민주당 대선후보 힐러리 클린턴의 남편인 빌 클린턴 전 대통령이 자신이 고문으로 속한 한 기업을  ...\n",
      " \n",
      "워싱턴 연합뉴스 심인성 특파원 미국 공화당 대선후보 도널드 트럼프가 26일 현지시간 민주당 지도부와 민주당 대선후보 힐러리 클린턴 캠프 내부 이메일해킹 사건의 배후와 관련해 북한이 ...\n",
      " \n"
     ]
    }
   ],
   "source": [
    "corpus = Corpus(corpus_fname, iter_sent=False)\n",
    "\n",
    "for num_doc, doc in enumerate(corpus):\n",
    "    if num_doc >= 3: break\n",
    "    print('%s ...\\n '% doc[:100])"
   ]
  },
  {
   "cell_type": "markdown",
   "metadata": {
    "deletable": true,
    "editable": true
   },
   "source": [
    "self.num_sentence == 0 이나 self.num_docs == 0을 확인하여, 이전에 한 번이라도 문서의 길이를 읽었을 경우, 이전에 읽었던 정보를 return 하도록 작성할 수 있습니다. "
   ]
  },
  {
   "cell_type": "code",
   "execution_count": 4,
   "metadata": {
    "collapsed": false,
    "deletable": true,
    "editable": true
   },
   "outputs": [
    {
     "name": "stdout",
     "output_type": "stream",
     "text": [
      "CPU times: user 260 ms, sys: 20 ms, total: 280 ms\n",
      "Wall time: 229 ms\n"
     ]
    },
    {
     "data": {
      "text/plain": [
       "22754"
      ]
     },
     "execution_count": 4,
     "metadata": {},
     "output_type": "execute_result"
    }
   ],
   "source": [
    "%%time\n",
    "len(corpus)"
   ]
  },
  {
   "cell_type": "code",
   "execution_count": 5,
   "metadata": {
    "collapsed": false,
    "deletable": true,
    "editable": true
   },
   "outputs": [
    {
     "name": "stdout",
     "output_type": "stream",
     "text": [
      "CPU times: user 0 ns, sys: 0 ns, total: 0 ns\n",
      "Wall time: 7.15 µs\n"
     ]
    },
    {
     "data": {
      "text/plain": [
       "22754"
      ]
     },
     "execution_count": 5,
     "metadata": {},
     "output_type": "execute_result"
    }
   ],
   "source": [
    "%%time\n",
    "len(corpus)"
   ]
  },
  {
   "cell_type": "markdown",
   "metadata": {
    "deletable": true,
    "editable": true
   },
   "source": [
    "iter_sent = True로 바꾸면 for loop에 의하여 출력되는 객체가 문서가 아닌 문장임을 볼 수 있습니다"
   ]
  },
  {
   "cell_type": "code",
   "execution_count": 6,
   "metadata": {
    "collapsed": false,
    "deletable": true,
    "editable": true
   },
   "outputs": [
    {
     "name": "stdout",
     "output_type": "stream",
     "text": [
      "sent 0: \n",
      "\n",
      "sent 1: 위키리크스 클린턴 전 대통령 최측근 메모 공개\n",
      "\n",
      "sent 2: 워싱턴 연합뉴스 신지홍 특파원 미국 민주당 대선후보 힐러리 클린턴의 남편인 빌 클린턴 전 대통령이 자신이 고문으로 속한 한 기업을 통해 고액강연을 주선 받거나 가족재단인 클린턴재단 에 수천만 달러의 기부금이 흘러들어가도록 한 것으로 밝혀졌다고 미 언론이 27일 현지시간 전했다\n",
      "\n"
     ]
    }
   ],
   "source": [
    "corpus.iter_sent = True\n",
    "for num_sent, sent in enumerate(corpus):\n",
    "    if num_sent >= 3: break\n",
    "    print('sent %d: %s\\n' % (num_sent, sent))"
   ]
  },
  {
   "cell_type": "markdown",
   "metadata": {
    "deletable": true,
    "editable": true
   },
   "source": [
    "## Python: range 함수와 str slice"
   ]
  },
  {
   "cell_type": "markdown",
   "metadata": {
    "deletable": true,
    "editable": true
   },
   "source": [
    "range() 함수는 range(begin=0, end)로 입력되며, end 숫자 전의 숫자까지를 yield 합니다"
   ]
  },
  {
   "cell_type": "code",
   "execution_count": 7,
   "metadata": {
    "collapsed": false,
    "deletable": true,
    "editable": true
   },
   "outputs": [
    {
     "name": "stdout",
     "output_type": "stream",
     "text": [
      "0\n",
      "1\n",
      "2\n",
      "\n",
      "2\n",
      "3\n",
      "4\n"
     ]
    }
   ],
   "source": [
    "for i in range(3):\n",
    "    print(i)\n",
    "    \n",
    "print()\n",
    "for i in range(2, 5):\n",
    "    print(i)"
   ]
  },
  {
   "cell_type": "markdown",
   "metadata": {
    "deletable": true,
    "editable": true
   },
   "source": [
    "Python에서 str 슬라이싱은 list와 동일합니다"
   ]
  },
  {
   "cell_type": "code",
   "execution_count": 8,
   "metadata": {
    "collapsed": false,
    "deletable": true,
    "editable": true
   },
   "outputs": [
    {
     "data": {
      "text/plain": [
       "'abc'"
      ]
     },
     "execution_count": 8,
     "metadata": {},
     "output_type": "execute_result"
    }
   ],
   "source": [
    "'abcde'[:3]"
   ]
  },
  {
   "cell_type": "markdown",
   "metadata": {
    "deletable": true,
    "editable": true
   },
   "source": [
    "## Cohesion probability"
   ]
  },
  {
   "cell_type": "markdown",
   "metadata": {
    "deletable": true,
    "editable": true
   },
   "source": [
    "sys.stdout.write('\\rYOUR MESSAGE')는 progress를 출력하는데 용이합니다\n",
    "\n",
    "Corpus를 돌면서 각 문장의 어절마다 Left-side subwords인 L의 빈도수를 defaultdict를 이용하여 카운트합니다."
   ]
  },
  {
   "cell_type": "code",
   "execution_count": 9,
   "metadata": {
    "collapsed": false,
    "deletable": true,
    "editable": true
   },
   "outputs": [
    {
     "name": "stdout",
     "output_type": "stream",
     "text": [
      "inserting subwords into L: done\n",
      "num subword = 578867\n",
      "num subword = 30922 (after pruning with min count 30)\n"
     ]
    }
   ],
   "source": [
    "from collections import defaultdict\n",
    "import sys\n",
    "\n",
    "corpus.iter_sent = True\n",
    "\n",
    "L = defaultdict(lambda: 0)\n",
    "\n",
    "for num_sent, sent in enumerate(corpus):\n",
    "    if num_sent % 5000 == 0:\n",
    "        sys.stdout.write('\\risnerting %d sents... ' % num_sent)\n",
    "    for token in sent.split():\n",
    "        for e in range(1, min(max_l_length, len(token)) + 1):\n",
    "            subword = token[:e]\n",
    "            L[subword] += 1\n",
    "print('\\rinserting subwords into L: done')\n",
    "print('num subword = %d' % len(L))\n",
    "\n",
    "L = {subword:freq for subword, freq in L.items() if freq >= min_count}\n",
    "print('num subword = %d (after pruning with min count %d)' % (len(L), min_count))"
   ]
  },
  {
   "cell_type": "markdown",
   "metadata": {
    "deletable": true,
    "editable": true
   },
   "source": [
    "Cohesion은 길이가 2이상인 subword 에 대하여 정의가 되기 때문에 길이가 1인 단어에 대해서는 1.0을 return 하였습니다. \n",
    "\n",
    "또한 word가 L에 없는 경우 (빈도수가 min_count 이하이거나 아예 코퍼스에 등장하지 않았던 경우)에는 0.0을 return 하는 예외 처리를 합니다. \n",
    "\n",
    "cohesion은 결국 (word의 빈도수 / 맨 왼쪽의 글자 빈도수) 의 1 / (n-1) 승 입니다. numpy.power는 지수승 계산을 할 수 있도록 해줍니다. "
   ]
  },
  {
   "cell_type": "code",
   "execution_count": 10,
   "metadata": {
    "collapsed": false,
    "deletable": true,
    "editable": true
   },
   "outputs": [
    {
     "name": "stdout",
     "output_type": "stream",
     "text": [
      "청와대 :  0.722212060689\n"
     ]
    }
   ],
   "source": [
    "import numpy as np\n",
    "\n",
    "def get_cohesion(word):\n",
    "    \n",
    "    # 글자가 아니거나 공백, 혹은 희귀한 단어인 경우\n",
    "    if (not word) or ((word in L) == False): \n",
    "        return 0.0\n",
    "    \n",
    "    if len(word) == 1:\n",
    "        return 1.0\n",
    "    \n",
    "    word_freq = L.get(word, 0)\n",
    "    base_freq = L.get(word[:1], 0)\n",
    "    \n",
    "    if base_freq == 0:\n",
    "        return 0.0\n",
    "    else:\n",
    "        return np.power((word_freq / base_freq), 1 / (len(word) - 1))\n",
    "\n",
    "print('청와대 : ', get_cohesion('청와대'))"
   ]
  },
  {
   "cell_type": "markdown",
   "metadata": {
    "deletable": true,
    "editable": true
   },
   "source": [
    "길이가 2 이상인 subwords에 대하여 cohesion을 미리 계산해 둡니다. 앞에서 min_count로 필터링을 한 번 했기 때문에 적은 개수의 subwords만 cohesion을 계산하였습니다. "
   ]
  },
  {
   "cell_type": "code",
   "execution_count": 11,
   "metadata": {
    "collapsed": false,
    "deletable": true,
    "editable": true
   },
   "outputs": [
    {
     "data": {
      "text/plain": [
       "29908"
      ]
     },
     "execution_count": 11,
     "metadata": {},
     "output_type": "execute_result"
    }
   ],
   "source": [
    "cohesion_dict = {word:get_cohesion(word) for word in L if len(word) >= 2}\n",
    "len(cohesion_dict)"
   ]
  },
  {
   "cell_type": "markdown",
   "metadata": {
    "deletable": true,
    "editable": true
   },
   "source": [
    "예시 단어들의 cohesion을 실제로 계산해 봅시다. L+[R]의 경계가 되는 지점들에서 cohesion 값이 하락함을 볼 수 있습니다. \n",
    "\n",
    "    청와 = 0.522\n",
    "    청와대 = 0.722\n",
    "    \n",
    "청와라는 글자가 등장하면 대부분 청와대가 등장했기 때문에 '청와대'의 cohesion이 '청와'의 cohesion 보다 큽니다. "
   ]
  },
  {
   "cell_type": "code",
   "execution_count": 12,
   "metadata": {
    "collapsed": false,
    "deletable": true,
    "editable": true
   },
   "outputs": [
    {
     "name": "stdout",
     "output_type": "stream",
     "text": [
      "청와 = 0.522\n",
      "\n",
      "청와대 = 0.722\n",
      "\n",
      "청와대는 = 0.283\n",
      "\n",
      "민정수석 = 0.474\n",
      "\n",
      "민정수석이 = 0.313\n",
      "\n",
      "박근 = 0.294\n",
      "\n",
      "박근혜 = 0.539\n",
      "\n",
      "박근혜의 = 0.144\n",
      "\n"
     ]
    }
   ],
   "source": [
    "for word in ['청와', '청와대', '청와대는', '민정수석', '민정수석이', '박근', '박근혜', '박근혜의']:\n",
    "    print('%s = %.3f\\n' % (word, cohesion_dict.get(word, 0.0)))"
   ]
  },
  {
   "cell_type": "markdown",
   "metadata": {
    "deletable": true,
    "editable": true
   },
   "source": [
    "어절 word가 입력되었을 때, L들에서 cohesion이 가장 높은 subword를 잘라내는 토크나이저를 만들어 봅시다. \n",
    "\n",
    "길이가 2 이상일 때 cohesion이 정의되기 때문에 길이가 2 이하인 단어는 그대로 return 합니다. \n",
    "\n",
    "subword 의 ending point e는 길이가 2부터 'word의 길이 혹은 L의 최대 길이'의 min까지 입니다. range(b,e)에서 e는 포함되지 않기 때문에 +1을 해주는 것을 잊지 맙시다. "
   ]
  },
  {
   "cell_type": "markdown",
   "metadata": {
    "deletable": true,
    "editable": true
   },
   "source": [
    "## L tokenize"
   ]
  },
  {
   "cell_type": "code",
   "execution_count": 13,
   "metadata": {
    "collapsed": false,
    "deletable": true,
    "editable": true
   },
   "outputs": [
    {
     "name": "stdout",
     "output_type": "stream",
     "text": [
      "청와대 --> 청와대\n",
      "\n",
      "청와대는 --> 청와대\n",
      "\n",
      "민정수석 --> 민정수석\n",
      "\n",
      "민정수석이 --> 민정수석\n",
      "\n",
      "박근혜 --> 박근혜\n",
      "\n",
      "박근혜의 --> 박근혜\n",
      "\n"
     ]
    }
   ],
   "source": [
    "def L_tokenize(word):\n",
    "    \n",
    "    if len(word) <= 2:\n",
    "        return word\n",
    "    \n",
    "    score = []\n",
    "    for e in range(2, min(len(word), max_l_length)+1):\n",
    "        subword = word[:e]\n",
    "        score.append((subword, cohesion_dict.get(subword, 0), e)) # (word, cohesion, length)\n",
    "        \n",
    "    return sorted(score, key=lambda x:(x[1], x[2]), reverse=True)[0][0]\n",
    "\n",
    "for word in ['청와대', '청와대는', '민정수석', '민정수석이', '박근혜', '박근혜의']:\n",
    "    print('%s --> %s\\n' % (word, L_tokenize(word)))"
   ]
  },
  {
   "cell_type": "markdown",
   "metadata": {
    "deletable": true,
    "editable": true
   },
   "source": [
    "L_tokenizer는 상황에 맞게 튜닝할 수도 있습니다. Cohesion의 최대값을 지니는 subword를 선택하는 것이 아니라, 최대값과의 크기가 0.1 이하로 차이가 나는 subword 중에서는 가장 긴 subword를 추출하고 싶다면 아래와 같이 tolerance를 argument로 넣을 수도 있습니다. "
   ]
  },
  {
   "cell_type": "code",
   "execution_count": 14,
   "metadata": {
    "collapsed": false,
    "deletable": true,
    "editable": true
   },
   "outputs": [
    {
     "name": "stdout",
     "output_type": "stream",
     "text": [
      "w tolerance: 기자단에 --> 기자\n",
      "wo tolerance: 기자단에 --> 기자단\n",
      "\n"
     ]
    }
   ],
   "source": [
    "my_cohesion_dict = {\n",
    "    '기자': 0.5,\n",
    "    '기자단': 0.45\n",
    "}\n",
    "\n",
    "def L_tokenize_w_tolerance(word, tolerance=0.1):\n",
    "    \n",
    "    if len(word) <= 2:\n",
    "        return word\n",
    "    \n",
    "    score = []\n",
    "    for e in range(2, min(len(word), max_l_length)+1):\n",
    "        subword = word[:e]\n",
    "        score.append((subword, my_cohesion_dict.get(subword, 0), e)) # (word, cohesion, length)\n",
    "    \n",
    "    max_score = max([s[1] for s in score])\n",
    "    score = [s for s in score if (max_score - s[1]) <= tolerance]\n",
    "    \n",
    "    return sorted(score, key=lambda x:x[2], reverse=True)[0][0]\n",
    "\n",
    "\n",
    "for word in ['기자단에']:\n",
    "    print('w tolerance: %s --> %s' % (word, L_tokenize(word)))\n",
    "    print('wo tolerance: %s --> %s\\n' % (word, L_tokenize_w_tolerance(word)))"
   ]
  },
  {
   "cell_type": "code",
   "execution_count": null,
   "metadata": {
    "collapsed": true
   },
   "outputs": [],
   "source": []
  }
 ],
 "metadata": {
  "kernelspec": {
   "display_name": "Python 3",
   "language": "python",
   "name": "python3"
  },
  "language_info": {
   "codemirror_mode": {
    "name": "ipython",
    "version": 3
   },
   "file_extension": ".py",
   "mimetype": "text/x-python",
   "name": "python",
   "nbconvert_exporter": "python",
   "pygments_lexer": "ipython3",
   "version": "3.5.3"
  }
 },
 "nbformat": 4,
 "nbformat_minor": 0
}
