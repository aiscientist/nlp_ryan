{
 "cells": [
  {
   "cell_type": "markdown",
   "metadata": {},
   "source": [
    "# RNN tutorial v2\n",
    "- Use `tf.nn.dynamic_rnn` with MNIST dataset"
   ]
  },
  {
   "cell_type": "code",
   "execution_count": 1,
   "metadata": {
    "collapsed": true
   },
   "outputs": [],
   "source": [
    "import numpy as np\n",
    "import time\n",
    "from pprint import pprint\n",
    "\n",
    "import tensorflow as tf\n",
    "from tensorflow.contrib import rnn\n",
    "from tensorflow.examples.tutorials.mnist import input_data"
   ]
  },
  {
   "cell_type": "markdown",
   "metadata": {},
   "source": [
    "## 0. Load MNIST data"
   ]
  },
  {
   "cell_type": "code",
   "execution_count": 2,
   "metadata": {},
   "outputs": [
    {
     "name": "stdout",
     "output_type": "stream",
     "text": [
      "Extracting MNIST_idx3/train-images-idx3-ubyte.gz\n",
      "Extracting MNIST_idx3/train-labels-idx1-ubyte.gz\n",
      "Extracting MNIST_idx3/t10k-images-idx3-ubyte.gz\n",
      "Extracting MNIST_idx3/t10k-labels-idx1-ubyte.gz\n"
     ]
    }
   ],
   "source": [
    "mnist = input_data.read_data_sets('MNIST_idx3/', one_hot=False)"
   ]
  },
  {
   "cell_type": "code",
   "execution_count": 3,
   "metadata": {
    "collapsed": true
   },
   "outputs": [],
   "source": [
    "X_trn, Y_trn = mnist.train.images, mnist.train.labels\n",
    "X_val, Y_val = mnist.validation.images, mnist.validation.labels\n",
    "X_test, Y_test = mnist.test.images, mnist.test.labels"
   ]
  },
  {
   "cell_type": "code",
   "execution_count": 4,
   "metadata": {},
   "outputs": [
    {
     "name": "stdout",
     "output_type": "stream",
     "text": [
      "Number of training points:  55000\n",
      "Number of validation points:  5000\n",
      "Number of test points:  10000\n"
     ]
    }
   ],
   "source": [
    "num_trn = Y_trn.shape[0]\n",
    "num_val = Y_val.shape[0]\n",
    "num_test = Y_test.shape[0]\n",
    "\n",
    "print(\"Number of training points: \", num_trn)\n",
    "print(\"Number of validation points: \", num_val)\n",
    "print(\"Number of test points: \", num_test)"
   ]
  },
  {
   "cell_type": "code",
   "execution_count": 5,
   "metadata": {},
   "outputs": [
    {
     "name": "stdout",
     "output_type": "stream",
     "text": [
      "Dimension of X: 784 (28 x 28)\n"
     ]
    }
   ],
   "source": [
    "dim_X = X_trn.shape[1]\n",
    "pixel_X = int(np.sqrt(dim_X)) # np.sqrt의 출력이 float32이므로, 이를 int 자료형으로 변경\n",
    "\n",
    "print(\"Dimension of X: %d (%d x %d)\" % (dim_X, pixel_X, pixel_X))"
   ]
  },
  {
   "cell_type": "markdown",
   "metadata": {},
   "source": [
    "## 1. Parameters"
   ]
  },
  {
   "cell_type": "code",
   "execution_count": 6,
   "metadata": {
    "collapsed": true
   },
   "outputs": [],
   "source": [
    "LEARNING_RATE  = 0.001\n",
    "N_EPOCHS       = 30\n",
    "BATCH_SIZE     = 128\n",
    "DISPLAY_STEP   = 50\n",
    "VAL_EPOCH      = 5\n",
    "\n",
    "n_input   = pixel_X\n",
    "n_steps   = pixel_X\n",
    "n_hidden  = 64\n",
    "n_classes = 10"
   ]
  },
  {
   "cell_type": "markdown",
   "metadata": {},
   "source": [
    "## 2. Placeholders"
   ]
  },
  {
   "cell_type": "code",
   "execution_count": 7,
   "metadata": {
    "collapsed": true
   },
   "outputs": [],
   "source": [
    "X = tf.placeholder(tf.float32, [None, dim_X])\n",
    "Y = tf.placeholder(tf.int32, [None,])"
   ]
  },
  {
   "cell_type": "code",
   "execution_count": 8,
   "metadata": {
    "scrolled": true
   },
   "outputs": [
    {
     "name": "stdout",
     "output_type": "stream",
     "text": [
      "(?, 784)\n"
     ]
    }
   ],
   "source": [
    "print(X.get_shape())"
   ]
  },
  {
   "cell_type": "code",
   "execution_count": 9,
   "metadata": {},
   "outputs": [
    {
     "name": "stdout",
     "output_type": "stream",
     "text": [
      "(?, 784)\n",
      "(?, 28, 28)\n"
     ]
    }
   ],
   "source": [
    "# Placeholder인 X의 모양이 [?, 784]\n",
    "# X를 [?, 28, 28]로 변환한 것이 reshaped_X\n",
    "reshaped_X = tf.reshape(tensor=X, shape=[-1, n_steps, n_input])\n",
    "\n",
    "print(X.get_shape())\n",
    "print(reshaped_X.get_shape())"
   ]
  },
  {
   "cell_type": "markdown",
   "metadata": {},
   "source": [
    "## 3. Define the model"
   ]
  },
  {
   "cell_type": "code",
   "execution_count": 10,
   "metadata": {
    "collapsed": true
   },
   "outputs": [],
   "source": [
    "# # Define a LSTM cell\n",
    "# lstm_cell = rnn.BasicLSTMCell(num_units=n_hidden, \n",
    "#                               forget_bias=1.0)\n",
    "\n",
    "# # Get LSTM cell output\n",
    "\n",
    "# outputs, _ = tf.nn.dynamic_rnn(cell=lstm_cell, \n",
    "#                                inputs=reshaped_X, \n",
    "#                                dtype=tf.float32)"
   ]
  },
  {
   "cell_type": "code",
   "execution_count": 11,
   "metadata": {
    "collapsed": true,
    "scrolled": false
   },
   "outputs": [],
   "source": [
    "# print(outputs)"
   ]
  },
  {
   "cell_type": "code",
   "execution_count": 12,
   "metadata": {
    "collapsed": true
   },
   "outputs": [],
   "source": [
    "# last_step = list(outputs.get_shape())[1]\n",
    "# test = outputs[:, last_step-1, :]\n",
    "# print(test)"
   ]
  },
  {
   "cell_type": "code",
   "execution_count": 13,
   "metadata": {
    "collapsed": true
   },
   "outputs": [],
   "source": [
    "# Define RNN model with tf.contrib.rnn.static_rnn\n",
    "def RNN_dynamic(X, n_steps, n_hidden, n_classes):\n",
    "    \n",
    "    # Reshape the placeholder\n",
    "    reshaped_X = tf.reshape(tensor=X, shape=[-1, n_steps, n_input], name='reshaped')\n",
    "    \n",
    "    # Define a LSTM cell\n",
    "    lstm_cell = rnn.BasicLSTMCell(num_units=n_hidden, \n",
    "                                  forget_bias=1.0)\n",
    "    \n",
    "    # Get LSTM cell output\n",
    "    outputs, _ = tf.nn.dynamic_rnn(cell=lstm_cell, \n",
    "                                   inputs=reshaped_X, \n",
    "                                   dtype=tf.float32)\n",
    "    last_step = list(outputs.get_shape())[1]\n",
    "    last_output = outputs[:, last_step - 1, :]\n",
    "    \n",
    "    \n",
    "    # Define weights and biases\n",
    "    W = tf.get_variable(name='weights', \n",
    "                        shape=[n_hidden, n_classes], \n",
    "                        initializer=tf.contrib.layers.xavier_initializer())\n",
    "    b = tf.get_variable(name='bias', \n",
    "                        shape=[n_classes], \n",
    "                        initializer=tf.constant_initializer(0.0))\n",
    "    \n",
    "    # Calculate logits\n",
    "    logits = tf.nn.xw_plus_b(x=last_output, weights=W, biases=b, name='logits')\n",
    "    \n",
    "    return logits"
   ]
  },
  {
   "cell_type": "code",
   "execution_count": 14,
   "metadata": {},
   "outputs": [
    {
     "name": "stdout",
     "output_type": "stream",
     "text": [
      "Tensor(\"logits:0\", shape=(?, 10), dtype=float32)\n"
     ]
    }
   ],
   "source": [
    "# logits: output vector of RNN_static\n",
    "logits = RNN_dynamic(X, n_steps, n_hidden, n_classes)\n",
    "print(logits)"
   ]
  },
  {
   "cell_type": "code",
   "execution_count": 15,
   "metadata": {
    "collapsed": true
   },
   "outputs": [],
   "source": [
    "# Define cost function and training operator with optimizer\n",
    "cost = tf.reduce_mean(tf.nn.sparse_softmax_cross_entropy_with_logits(logits=logits, labels=Y))\n",
    "train_op = tf.train.RMSPropOptimizer(learning_rate=LEARNING_RATE).minimize(cost)\n",
    "\n",
    "# Evaluate the output of model\n",
    "correct_prediction = tf.nn.in_top_k(predictions=logits, targets=Y, k=1)\n",
    "accuracy = tf.reduce_mean(tf.cast(correct_prediction, tf.float32))"
   ]
  },
  {
   "cell_type": "code",
   "execution_count": 16,
   "metadata": {
    "collapsed": true
   },
   "outputs": [],
   "source": [
    "# Batch_iterator\n",
    "def make_batch_iterator(class_train, batch_size, allow_small_batch=True):\n",
    "    num_points = len(class_train)\n",
    "    start_idx = list(range(0, num_points, batch_size))\n",
    "    end_idx = list(range(batch_size, num_points + 1, batch_size))\n",
    "    if allow_small_batch:\n",
    "        start_idx.append(end_idx[-1] + 1)\n",
    "        end_idx.append(num_points)\n",
    "    return zip(start_idx, end_idx)"
   ]
  },
  {
   "cell_type": "markdown",
   "metadata": {},
   "source": [
    "# 4. Run the model"
   ]
  },
  {
   "cell_type": "code",
   "execution_count": 17,
   "metadata": {
    "collapsed": true
   },
   "outputs": [],
   "source": [
    "start_time = time.time()"
   ]
  },
  {
   "cell_type": "code",
   "execution_count": 18,
   "metadata": {},
   "outputs": [
    {
     "name": "stdout",
     "output_type": "stream",
     "text": [
      "[ 49 iter /   0 epoch] cost = 2.292659, accuracy = 0.171875\n",
      "[ 99 iter /   0 epoch] cost = 2.231856, accuracy = 0.289062\n",
      "[149 iter /   0 epoch] cost = 1.489734, accuracy = 0.507812\n",
      "[199 iter /   0 epoch] cost = 1.285939, accuracy = 0.562500\n",
      "[249 iter /   0 epoch] cost = 0.770704, accuracy = 0.773438\n",
      "[299 iter /   0 epoch] cost = 0.619487, accuracy = 0.804688\n",
      "[349 iter /   0 epoch] cost = 0.677381, accuracy = 0.773438\n",
      "[399 iter /   0 epoch] cost = 0.505758, accuracy = 0.820312\n",
      "[ 49 iter /   1 epoch] cost = 0.303259, accuracy = 0.914062\n",
      "[ 99 iter /   1 epoch] cost = 0.517923, accuracy = 0.812500\n",
      "[149 iter /   1 epoch] cost = 0.276392, accuracy = 0.914062\n",
      "[199 iter /   1 epoch] cost = 0.279756, accuracy = 0.929688\n",
      "[249 iter /   1 epoch] cost = 0.244143, accuracy = 0.906250\n",
      "[299 iter /   1 epoch] cost = 0.145175, accuracy = 0.953125\n",
      "[349 iter /   1 epoch] cost = 0.231901, accuracy = 0.914062\n",
      "[399 iter /   1 epoch] cost = 0.176347, accuracy = 0.945312\n",
      "[ 49 iter /   2 epoch] cost = 0.062852, accuracy = 1.000000\n",
      "[ 99 iter /   2 epoch] cost = 0.392215, accuracy = 0.898438\n",
      "[149 iter /   2 epoch] cost = 0.115851, accuracy = 0.960938\n",
      "[199 iter /   2 epoch] cost = 0.177291, accuracy = 0.968750\n",
      "[249 iter /   2 epoch] cost = 0.140512, accuracy = 0.953125\n",
      "[299 iter /   2 epoch] cost = 0.101789, accuracy = 0.968750\n",
      "[349 iter /   2 epoch] cost = 0.112267, accuracy = 0.960938\n",
      "[399 iter /   2 epoch] cost = 0.119633, accuracy = 0.968750\n",
      "[ 49 iter /   3 epoch] cost = 0.040994, accuracy = 0.992188\n",
      "[ 99 iter /   3 epoch] cost = 0.288591, accuracy = 0.914062\n",
      "[149 iter /   3 epoch] cost = 0.092485, accuracy = 0.960938\n",
      "[199 iter /   3 epoch] cost = 0.107118, accuracy = 0.976562\n",
      "[249 iter /   3 epoch] cost = 0.119697, accuracy = 0.953125\n",
      "[299 iter /   3 epoch] cost = 0.066240, accuracy = 0.976562\n",
      "[349 iter /   3 epoch] cost = 0.064841, accuracy = 0.976562\n",
      "[399 iter /   3 epoch] cost = 0.073876, accuracy = 0.976562\n",
      "[ 49 iter /   4 epoch] cost = 0.038604, accuracy = 0.984375\n",
      "[ 99 iter /   4 epoch] cost = 0.248056, accuracy = 0.921875\n",
      "[149 iter /   4 epoch] cost = 0.092426, accuracy = 0.968750\n",
      "[199 iter /   4 epoch] cost = 0.068745, accuracy = 0.984375\n",
      "[249 iter /   4 epoch] cost = 0.092228, accuracy = 0.976562\n",
      "[299 iter /   4 epoch] cost = 0.056630, accuracy = 0.984375\n",
      "[349 iter /   4 epoch] cost = 0.048079, accuracy = 0.976562\n",
      "[399 iter /   4 epoch] cost = 0.045603, accuracy = 0.992188\n",
      "\n",
      "\t[  4 epoch] validation cost = 0.166827, validation accuracy = 0.948200\n",
      "\n",
      "[ 49 iter /   5 epoch] cost = 0.038708, accuracy = 0.992188\n",
      "[ 99 iter /   5 epoch] cost = 0.183145, accuracy = 0.937500\n",
      "[149 iter /   5 epoch] cost = 0.082728, accuracy = 0.968750\n",
      "[199 iter /   5 epoch] cost = 0.039382, accuracy = 0.992188\n",
      "[249 iter /   5 epoch] cost = 0.070382, accuracy = 0.984375\n",
      "[299 iter /   5 epoch] cost = 0.051890, accuracy = 0.976562\n",
      "[349 iter /   5 epoch] cost = 0.042138, accuracy = 0.968750\n",
      "[399 iter /   5 epoch] cost = 0.026305, accuracy = 1.000000\n",
      "[ 49 iter /   6 epoch] cost = 0.024640, accuracy = 0.992188\n",
      "[ 99 iter /   6 epoch] cost = 0.166130, accuracy = 0.929688\n",
      "[149 iter /   6 epoch] cost = 0.100461, accuracy = 0.968750\n",
      "[199 iter /   6 epoch] cost = 0.022584, accuracy = 0.992188\n",
      "[249 iter /   6 epoch] cost = 0.051657, accuracy = 0.984375\n",
      "[299 iter /   6 epoch] cost = 0.044076, accuracy = 0.992188\n",
      "[349 iter /   6 epoch] cost = 0.031117, accuracy = 0.984375\n",
      "[399 iter /   6 epoch] cost = 0.021873, accuracy = 0.992188\n",
      "[ 49 iter /   7 epoch] cost = 0.018785, accuracy = 0.992188\n",
      "[ 99 iter /   7 epoch] cost = 0.147446, accuracy = 0.945312\n",
      "[149 iter /   7 epoch] cost = 0.085235, accuracy = 0.976562\n",
      "[199 iter /   7 epoch] cost = 0.022818, accuracy = 0.992188\n",
      "[249 iter /   7 epoch] cost = 0.034030, accuracy = 0.992188\n",
      "[299 iter /   7 epoch] cost = 0.040681, accuracy = 0.992188\n",
      "[349 iter /   7 epoch] cost = 0.024064, accuracy = 0.984375\n",
      "[399 iter /   7 epoch] cost = 0.021647, accuracy = 0.992188\n",
      "[ 49 iter /   8 epoch] cost = 0.014593, accuracy = 1.000000\n",
      "[ 99 iter /   8 epoch] cost = 0.143330, accuracy = 0.953125\n",
      "[149 iter /   8 epoch] cost = 0.077687, accuracy = 0.976562\n",
      "[199 iter /   8 epoch] cost = 0.015624, accuracy = 0.992188\n",
      "[249 iter /   8 epoch] cost = 0.024961, accuracy = 1.000000\n",
      "[299 iter /   8 epoch] cost = 0.032014, accuracy = 0.992188\n",
      "[349 iter /   8 epoch] cost = 0.022377, accuracy = 0.984375\n",
      "[399 iter /   8 epoch] cost = 0.021420, accuracy = 0.984375\n",
      "[ 49 iter /   9 epoch] cost = 0.016470, accuracy = 0.992188\n",
      "[ 99 iter /   9 epoch] cost = 0.149465, accuracy = 0.945312\n",
      "[149 iter /   9 epoch] cost = 0.050106, accuracy = 0.976562\n",
      "[199 iter /   9 epoch] cost = 0.015645, accuracy = 0.992188\n",
      "[249 iter /   9 epoch] cost = 0.017232, accuracy = 1.000000\n",
      "[299 iter /   9 epoch] cost = 0.023317, accuracy = 0.992188\n",
      "[349 iter /   9 epoch] cost = 0.017946, accuracy = 0.992188\n",
      "[399 iter /   9 epoch] cost = 0.018465, accuracy = 0.992188\n",
      "\n",
      "\t[  9 epoch] validation cost = 0.069855, validation accuracy = 0.977800\n",
      "\n",
      "[ 49 iter /  10 epoch] cost = 0.015846, accuracy = 0.992188\n",
      "[ 99 iter /  10 epoch] cost = 0.122548, accuracy = 0.953125\n",
      "[149 iter /  10 epoch] cost = 0.049008, accuracy = 0.992188\n",
      "[199 iter /  10 epoch] cost = 0.007822, accuracy = 1.000000\n",
      "[249 iter /  10 epoch] cost = 0.014398, accuracy = 1.000000\n",
      "[299 iter /  10 epoch] cost = 0.023920, accuracy = 0.992188\n",
      "[349 iter /  10 epoch] cost = 0.028600, accuracy = 0.992188\n",
      "[399 iter /  10 epoch] cost = 0.007212, accuracy = 1.000000\n",
      "[ 49 iter /  11 epoch] cost = 0.007050, accuracy = 1.000000\n",
      "[ 99 iter /  11 epoch] cost = 0.116801, accuracy = 0.953125\n",
      "[149 iter /  11 epoch] cost = 0.045578, accuracy = 0.992188\n",
      "[199 iter /  11 epoch] cost = 0.018918, accuracy = 0.992188\n",
      "[249 iter /  11 epoch] cost = 0.011700, accuracy = 1.000000\n",
      "[299 iter /  11 epoch] cost = 0.019605, accuracy = 0.992188\n",
      "[349 iter /  11 epoch] cost = 0.043070, accuracy = 0.984375\n",
      "[399 iter /  11 epoch] cost = 0.007651, accuracy = 1.000000\n",
      "[ 49 iter /  12 epoch] cost = 0.004833, accuracy = 1.000000\n",
      "[ 99 iter /  12 epoch] cost = 0.084587, accuracy = 0.968750\n",
      "[149 iter /  12 epoch] cost = 0.038778, accuracy = 0.984375\n",
      "[199 iter /  12 epoch] cost = 0.011376, accuracy = 0.992188\n",
      "[249 iter /  12 epoch] cost = 0.010479, accuracy = 1.000000\n",
      "[299 iter /  12 epoch] cost = 0.012366, accuracy = 1.000000\n",
      "[349 iter /  12 epoch] cost = 0.028499, accuracy = 0.992188\n",
      "[399 iter /  12 epoch] cost = 0.007782, accuracy = 1.000000\n",
      "[ 49 iter /  13 epoch] cost = 0.007579, accuracy = 1.000000\n",
      "[ 99 iter /  13 epoch] cost = 0.081486, accuracy = 0.960938\n",
      "[149 iter /  13 epoch] cost = 0.052158, accuracy = 0.984375\n",
      "[199 iter /  13 epoch] cost = 0.005866, accuracy = 1.000000\n",
      "[249 iter /  13 epoch] cost = 0.010096, accuracy = 1.000000\n",
      "[299 iter /  13 epoch] cost = 0.007642, accuracy = 1.000000\n",
      "[349 iter /  13 epoch] cost = 0.015115, accuracy = 0.992188\n",
      "[399 iter /  13 epoch] cost = 0.010796, accuracy = 1.000000\n",
      "[ 49 iter /  14 epoch] cost = 0.011032, accuracy = 1.000000\n",
      "[ 99 iter /  14 epoch] cost = 0.054315, accuracy = 0.976562\n",
      "[149 iter /  14 epoch] cost = 0.046833, accuracy = 0.984375\n",
      "[199 iter /  14 epoch] cost = 0.009167, accuracy = 1.000000\n",
      "[249 iter /  14 epoch] cost = 0.010402, accuracy = 1.000000\n",
      "[299 iter /  14 epoch] cost = 0.005501, accuracy = 1.000000\n",
      "[349 iter /  14 epoch] cost = 0.013516, accuracy = 0.992188\n",
      "[399 iter /  14 epoch] cost = 0.004873, accuracy = 1.000000\n",
      "\n",
      "\t[ 14 epoch] validation cost = 0.062773, validation accuracy = 0.981400\n",
      "\n",
      "[ 49 iter /  15 epoch] cost = 0.007611, accuracy = 1.000000\n",
      "[ 99 iter /  15 epoch] cost = 0.043636, accuracy = 0.992188\n",
      "[149 iter /  15 epoch] cost = 0.049080, accuracy = 0.984375\n",
      "[199 iter /  15 epoch] cost = 0.006590, accuracy = 1.000000\n",
      "[249 iter /  15 epoch] cost = 0.007999, accuracy = 1.000000\n",
      "[299 iter /  15 epoch] cost = 0.002240, accuracy = 1.000000\n",
      "[349 iter /  15 epoch] cost = 0.008468, accuracy = 1.000000\n",
      "[399 iter /  15 epoch] cost = 0.013863, accuracy = 0.992188\n",
      "[ 49 iter /  16 epoch] cost = 0.008312, accuracy = 1.000000\n",
      "[ 99 iter /  16 epoch] cost = 0.030701, accuracy = 0.992188\n",
      "[149 iter /  16 epoch] cost = 0.043485, accuracy = 0.984375\n",
      "[199 iter /  16 epoch] cost = 0.005188, accuracy = 1.000000\n",
      "[249 iter /  16 epoch] cost = 0.019692, accuracy = 0.992188\n"
     ]
    },
    {
     "name": "stdout",
     "output_type": "stream",
     "text": [
      "[299 iter /  16 epoch] cost = 0.003088, accuracy = 1.000000\n",
      "[349 iter /  16 epoch] cost = 0.009321, accuracy = 1.000000\n",
      "[399 iter /  16 epoch] cost = 0.004111, accuracy = 1.000000\n",
      "[ 49 iter /  17 epoch] cost = 0.005597, accuracy = 1.000000\n",
      "[ 99 iter /  17 epoch] cost = 0.026310, accuracy = 0.992188\n",
      "[149 iter /  17 epoch] cost = 0.028496, accuracy = 0.992188\n",
      "[199 iter /  17 epoch] cost = 0.016405, accuracy = 0.992188\n",
      "[249 iter /  17 epoch] cost = 0.022162, accuracy = 0.984375\n",
      "[299 iter /  17 epoch] cost = 0.002340, accuracy = 1.000000\n",
      "[349 iter /  17 epoch] cost = 0.007141, accuracy = 1.000000\n",
      "[399 iter /  17 epoch] cost = 0.005517, accuracy = 1.000000\n",
      "[ 49 iter /  18 epoch] cost = 0.010134, accuracy = 0.992188\n",
      "[ 99 iter /  18 epoch] cost = 0.026420, accuracy = 0.992188\n",
      "[149 iter /  18 epoch] cost = 0.043251, accuracy = 0.992188\n",
      "[199 iter /  18 epoch] cost = 0.005914, accuracy = 1.000000\n",
      "[249 iter /  18 epoch] cost = 0.010418, accuracy = 0.992188\n",
      "[299 iter /  18 epoch] cost = 0.006936, accuracy = 1.000000\n",
      "[349 iter /  18 epoch] cost = 0.022743, accuracy = 0.984375\n",
      "[399 iter /  18 epoch] cost = 0.003123, accuracy = 1.000000\n",
      "[ 49 iter /  19 epoch] cost = 0.006701, accuracy = 1.000000\n",
      "[ 99 iter /  19 epoch] cost = 0.031429, accuracy = 0.984375\n",
      "[149 iter /  19 epoch] cost = 0.019700, accuracy = 0.992188\n",
      "[199 iter /  19 epoch] cost = 0.011402, accuracy = 0.992188\n",
      "[249 iter /  19 epoch] cost = 0.003854, accuracy = 1.000000\n",
      "[299 iter /  19 epoch] cost = 0.002187, accuracy = 1.000000\n",
      "[349 iter /  19 epoch] cost = 0.022041, accuracy = 0.984375\n",
      "[399 iter /  19 epoch] cost = 0.002562, accuracy = 1.000000\n",
      "\n",
      "\t[ 19 epoch] validation cost = 0.056883, validation accuracy = 0.983000\n",
      "\n",
      "[ 49 iter /  20 epoch] cost = 0.004633, accuracy = 1.000000\n",
      "[ 99 iter /  20 epoch] cost = 0.013357, accuracy = 1.000000\n",
      "[149 iter /  20 epoch] cost = 0.016176, accuracy = 0.992188\n",
      "[199 iter /  20 epoch] cost = 0.007789, accuracy = 1.000000\n",
      "[249 iter /  20 epoch] cost = 0.007622, accuracy = 1.000000\n",
      "[299 iter /  20 epoch] cost = 0.002195, accuracy = 1.000000\n",
      "[349 iter /  20 epoch] cost = 0.018115, accuracy = 0.992188\n",
      "[399 iter /  20 epoch] cost = 0.001989, accuracy = 1.000000\n",
      "[ 49 iter /  21 epoch] cost = 0.004759, accuracy = 1.000000\n",
      "[ 99 iter /  21 epoch] cost = 0.019164, accuracy = 1.000000\n",
      "[149 iter /  21 epoch] cost = 0.021426, accuracy = 0.992188\n",
      "[199 iter /  21 epoch] cost = 0.012182, accuracy = 1.000000\n",
      "[249 iter /  21 epoch] cost = 0.028220, accuracy = 0.984375\n",
      "[299 iter /  21 epoch] cost = 0.000690, accuracy = 1.000000\n",
      "[349 iter /  21 epoch] cost = 0.005802, accuracy = 1.000000\n",
      "[399 iter /  21 epoch] cost = 0.001926, accuracy = 1.000000\n",
      "[ 49 iter /  22 epoch] cost = 0.002902, accuracy = 1.000000\n",
      "[ 99 iter /  22 epoch] cost = 0.031206, accuracy = 0.992188\n",
      "[149 iter /  22 epoch] cost = 0.024872, accuracy = 0.992188\n",
      "[199 iter /  22 epoch] cost = 0.004444, accuracy = 1.000000\n",
      "[249 iter /  22 epoch] cost = 0.005314, accuracy = 1.000000\n",
      "[299 iter /  22 epoch] cost = 0.012417, accuracy = 0.992188\n",
      "[349 iter /  22 epoch] cost = 0.007510, accuracy = 1.000000\n",
      "[399 iter /  22 epoch] cost = 0.001368, accuracy = 1.000000\n",
      "[ 49 iter /  23 epoch] cost = 0.010711, accuracy = 0.992188\n",
      "[ 99 iter /  23 epoch] cost = 0.012820, accuracy = 1.000000\n",
      "[149 iter /  23 epoch] cost = 0.020486, accuracy = 0.984375\n",
      "[199 iter /  23 epoch] cost = 0.004665, accuracy = 1.000000\n",
      "[249 iter /  23 epoch] cost = 0.003342, accuracy = 1.000000\n",
      "[299 iter /  23 epoch] cost = 0.001195, accuracy = 1.000000\n",
      "[349 iter /  23 epoch] cost = 0.005776, accuracy = 1.000000\n",
      "[399 iter /  23 epoch] cost = 0.000635, accuracy = 1.000000\n",
      "[ 49 iter /  24 epoch] cost = 0.002979, accuracy = 1.000000\n",
      "[ 99 iter /  24 epoch] cost = 0.021900, accuracy = 0.992188\n",
      "[149 iter /  24 epoch] cost = 0.005817, accuracy = 1.000000\n",
      "[199 iter /  24 epoch] cost = 0.020394, accuracy = 0.992188\n",
      "[249 iter /  24 epoch] cost = 0.007273, accuracy = 1.000000\n",
      "[299 iter /  24 epoch] cost = 0.001491, accuracy = 1.000000\n",
      "[349 iter /  24 epoch] cost = 0.011778, accuracy = 0.992188\n",
      "[399 iter /  24 epoch] cost = 0.001166, accuracy = 1.000000\n",
      "\n",
      "\t[ 24 epoch] validation cost = 0.069562, validation accuracy = 0.980600\n",
      "\n",
      "[ 49 iter /  25 epoch] cost = 0.002608, accuracy = 1.000000\n",
      "[ 99 iter /  25 epoch] cost = 0.008712, accuracy = 1.000000\n",
      "[149 iter /  25 epoch] cost = 0.008435, accuracy = 1.000000\n",
      "[199 iter /  25 epoch] cost = 0.001359, accuracy = 1.000000\n",
      "[249 iter /  25 epoch] cost = 0.009318, accuracy = 0.992188\n",
      "[299 iter /  25 epoch] cost = 0.003609, accuracy = 1.000000\n",
      "[349 iter /  25 epoch] cost = 0.009620, accuracy = 0.992188\n",
      "[399 iter /  25 epoch] cost = 0.002210, accuracy = 1.000000\n",
      "[ 49 iter /  26 epoch] cost = 0.003264, accuracy = 1.000000\n",
      "[ 99 iter /  26 epoch] cost = 0.009428, accuracy = 1.000000\n",
      "[149 iter /  26 epoch] cost = 0.001362, accuracy = 1.000000\n",
      "[199 iter /  26 epoch] cost = 0.000572, accuracy = 1.000000\n",
      "[249 iter /  26 epoch] cost = 0.004921, accuracy = 1.000000\n",
      "[299 iter /  26 epoch] cost = 0.001529, accuracy = 1.000000\n",
      "[349 iter /  26 epoch] cost = 0.006457, accuracy = 1.000000\n",
      "[399 iter /  26 epoch] cost = 0.007943, accuracy = 1.000000\n",
      "[ 49 iter /  27 epoch] cost = 0.003069, accuracy = 1.000000\n",
      "[ 99 iter /  27 epoch] cost = 0.012154, accuracy = 1.000000\n",
      "[149 iter /  27 epoch] cost = 0.016182, accuracy = 0.992188\n",
      "[199 iter /  27 epoch] cost = 0.010095, accuracy = 1.000000\n",
      "[249 iter /  27 epoch] cost = 0.008908, accuracy = 0.992188\n",
      "[299 iter /  27 epoch] cost = 0.001503, accuracy = 1.000000\n",
      "[349 iter /  27 epoch] cost = 0.002099, accuracy = 1.000000\n",
      "[399 iter /  27 epoch] cost = 0.000568, accuracy = 1.000000\n",
      "[ 49 iter /  28 epoch] cost = 0.001144, accuracy = 1.000000\n",
      "[ 99 iter /  28 epoch] cost = 0.006637, accuracy = 1.000000\n",
      "[149 iter /  28 epoch] cost = 0.004520, accuracy = 1.000000\n",
      "[199 iter /  28 epoch] cost = 0.000820, accuracy = 1.000000\n",
      "[249 iter /  28 epoch] cost = 0.003735, accuracy = 1.000000\n",
      "[299 iter /  28 epoch] cost = 0.000609, accuracy = 1.000000\n",
      "[349 iter /  28 epoch] cost = 0.015108, accuracy = 0.992188\n",
      "[399 iter /  28 epoch] cost = 0.000517, accuracy = 1.000000\n",
      "[ 49 iter /  29 epoch] cost = 0.001398, accuracy = 1.000000\n",
      "[ 99 iter /  29 epoch] cost = 0.006952, accuracy = 1.000000\n",
      "[149 iter /  29 epoch] cost = 0.001225, accuracy = 1.000000\n",
      "[199 iter /  29 epoch] cost = 0.000609, accuracy = 1.000000\n",
      "[249 iter /  29 epoch] cost = 0.002098, accuracy = 1.000000\n",
      "[299 iter /  29 epoch] cost = 0.001661, accuracy = 1.000000\n",
      "[349 iter /  29 epoch] cost = 0.017205, accuracy = 1.000000\n",
      "[399 iter /  29 epoch] cost = 0.000586, accuracy = 1.000000\n",
      "\n",
      "\t[ 29 epoch] validation cost = 0.072430, validation accuracy = 0.982200\n",
      "\n",
      "\n",
      "\t[Test] test cost = 0.064228, test accuracy = 0.983200\n"
     ]
    }
   ],
   "source": [
    "with tf.Session() as sess:\n",
    "    \n",
    "    # Initialize all variables\n",
    "    sess.run(tf.global_variables_initializer())\n",
    "    \n",
    "    # For-loop with respect to epochs\n",
    "    for epoch in range(N_EPOCHS):\n",
    "        \n",
    "        # Make batch_iterator\n",
    "        batch_iterator = make_batch_iterator(class_train=Y_trn, \n",
    "                                             batch_size=BATCH_SIZE,\n",
    "                                             allow_small_batch=True)\n",
    "    \n",
    "        iteration = 0\n",
    "        \n",
    "        # For-loop with batch_iterator\n",
    "        for start, end in batch_iterator:\n",
    "            \n",
    "            # Construct the input batch\n",
    "            batch_xs = X_trn[start:end]\n",
    "            batch_ys = Y_trn[start:end]\n",
    "    \n",
    "            # Run the training operator, accuracy, cpst\n",
    "            _, cost_batch, acc_batch = sess.run([train_op, cost, accuracy], feed_dict={X: batch_xs, Y: batch_ys})\n",
    "            \n",
    "            if (iteration + 1) % DISPLAY_STEP == 0:\n",
    "                print(\"[%3d iter / %3d epoch] cost = %.6f, accuracy = %.6f\" % (iteration, epoch, cost_batch, acc_batch))\n",
    "            \n",
    "            iteration = iteration + 1\n",
    "        \n",
    "        if (epoch + 1) % VAL_EPOCH == 0:\n",
    "            cost_val, acc_val = sess.run([cost, accuracy], feed_dict={X: X_val, Y: Y_val})\n",
    "            print()\n",
    "            print(\"\\t[%3d epoch] validation cost = %.6f, validation accuracy = %.6f\" % (epoch, cost_val, acc_val))\n",
    "            print()\n",
    "    \n",
    "    # Test\n",
    "    cost_test, acc_test = sess.run([cost, accuracy], feed_dict={X: X_test, Y: Y_test})\n",
    "    print(\"\\n\\t[Test] test cost = %.6f, test accuracy = %.6f\" % (cost_test, acc_test))"
   ]
  },
  {
   "cell_type": "code",
   "execution_count": 19,
   "metadata": {},
   "outputs": [
    {
     "name": "stdout",
     "output_type": "stream",
     "text": [
      "398.3017108440399\n"
     ]
    }
   ],
   "source": [
    "print(time.time() - start_time)"
   ]
  }
 ],
 "metadata": {
  "kernelspec": {
   "display_name": "Python 3",
   "language": "python",
   "name": "python3"
  },
  "language_info": {
   "codemirror_mode": {
    "name": "ipython",
    "version": 3
   },
   "file_extension": ".py",
   "mimetype": "text/x-python",
   "name": "python",
   "nbconvert_exporter": "python",
   "pygments_lexer": "ipython3",
   "version": "3.5.3"
  }
 },
 "nbformat": 4,
 "nbformat_minor": 2
}
