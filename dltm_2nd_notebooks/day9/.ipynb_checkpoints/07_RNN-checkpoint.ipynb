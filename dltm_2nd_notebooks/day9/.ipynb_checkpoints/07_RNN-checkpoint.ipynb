{
 "cells": [
  {
   "cell_type": "markdown",
   "metadata": {},
   "source": [
    "# RNN tutorial\n",
    "- Use `tf.contrib.rnn.static_rnn` with MNIST dataset"
   ]
  },
  {
   "cell_type": "code",
   "execution_count": 1,
   "metadata": {
    "collapsed": true
   },
   "outputs": [],
   "source": [
    "import numpy as np\n",
    "from pprint import pprint\n",
    "import time\n",
    "\n",
    "import tensorflow as tf\n",
    "from tensorflow.contrib import rnn\n",
    "from tensorflow.examples.tutorials.mnist import input_data"
   ]
  },
  {
   "cell_type": "markdown",
   "metadata": {},
   "source": [
    "## 0. Load MNIST data"
   ]
  },
  {
   "cell_type": "code",
   "execution_count": 2,
   "metadata": {},
   "outputs": [
    {
     "name": "stdout",
     "output_type": "stream",
     "text": [
      "Extracting MNIST_idx3/train-images-idx3-ubyte.gz\n",
      "Extracting MNIST_idx3/train-labels-idx1-ubyte.gz\n",
      "Extracting MNIST_idx3/t10k-images-idx3-ubyte.gz\n",
      "Extracting MNIST_idx3/t10k-labels-idx1-ubyte.gz\n"
     ]
    }
   ],
   "source": [
    "mnist = input_data.read_data_sets('MNIST_idx3/', one_hot=False)"
   ]
  },
  {
   "cell_type": "code",
   "execution_count": 3,
   "metadata": {
    "collapsed": true
   },
   "outputs": [],
   "source": [
    "X_trn, Y_trn = mnist.train.images, mnist.train.labels\n",
    "X_val, Y_val = mnist.validation.images, mnist.validation.labels\n",
    "X_test, Y_test = mnist.test.images, mnist.test.labels"
   ]
  },
  {
   "cell_type": "code",
   "execution_count": 4,
   "metadata": {},
   "outputs": [
    {
     "name": "stdout",
     "output_type": "stream",
     "text": [
      "Number of training points:  55000\n",
      "Number of validation points:  5000\n",
      "Number of test points:  10000\n"
     ]
    }
   ],
   "source": [
    "num_trn = Y_trn.shape[0]\n",
    "num_val = Y_val.shape[0]\n",
    "num_test = Y_test.shape[0]\n",
    "\n",
    "print(\"Number of training points: \", num_trn)\n",
    "print(\"Number of validation points: \", num_val)\n",
    "print(\"Number of test points: \", num_test)"
   ]
  },
  {
   "cell_type": "code",
   "execution_count": 5,
   "metadata": {},
   "outputs": [
    {
     "name": "stdout",
     "output_type": "stream",
     "text": [
      "Dimension of X: 784 (28 x 28)\n"
     ]
    }
   ],
   "source": [
    "dim_X = X_trn.shape[1]\n",
    "pixel_X = int(np.sqrt(dim_X)) # np.sqrt의 출력이 float32이므로, 이를 int 자료형으로 변경\n",
    "\n",
    "print(\"Dimension of X: %d (%d x %d)\" % (dim_X, pixel_X, pixel_X))"
   ]
  },
  {
   "cell_type": "markdown",
   "metadata": {},
   "source": [
    "## 1. Parameters"
   ]
  },
  {
   "cell_type": "code",
   "execution_count": 6,
   "metadata": {
    "collapsed": true
   },
   "outputs": [],
   "source": [
    "LEARNING_RATE  = 0.001\n",
    "N_EPOCHS       = 30\n",
    "BATCH_SIZE     = 128\n",
    "DISPLAY_STEP   = 50\n",
    "VAL_EPOCH      = 5\n",
    "\n",
    "n_input   = pixel_X\n",
    "n_steps   = pixel_X\n",
    "n_hidden  = 128\n",
    "n_classes = 10"
   ]
  },
  {
   "cell_type": "markdown",
   "metadata": {},
   "source": [
    "## 2. Placeholders"
   ]
  },
  {
   "cell_type": "code",
   "execution_count": 7,
   "metadata": {
    "collapsed": true
   },
   "outputs": [],
   "source": [
    "X = tf.placeholder(tf.float32, [None, dim_X])\n",
    "Y = tf.placeholder(tf.int32, [None,])"
   ]
  },
  {
   "cell_type": "code",
   "execution_count": 8,
   "metadata": {},
   "outputs": [
    {
     "name": "stdout",
     "output_type": "stream",
     "text": [
      "(?, 784)\n"
     ]
    }
   ],
   "source": [
    "print(X.get_shape())"
   ]
  },
  {
   "cell_type": "code",
   "execution_count": 9,
   "metadata": {},
   "outputs": [
    {
     "name": "stdout",
     "output_type": "stream",
     "text": [
      "(?, 784)\n",
      "(?, 28, 28)\n",
      "[<tf.Tensor 'unstack:0' shape=(?, 28) dtype=float32>,\n",
      " <tf.Tensor 'unstack:1' shape=(?, 28) dtype=float32>,\n",
      " <tf.Tensor 'unstack:2' shape=(?, 28) dtype=float32>,\n",
      " <tf.Tensor 'unstack:3' shape=(?, 28) dtype=float32>,\n",
      " <tf.Tensor 'unstack:4' shape=(?, 28) dtype=float32>,\n",
      " <tf.Tensor 'unstack:5' shape=(?, 28) dtype=float32>,\n",
      " <tf.Tensor 'unstack:6' shape=(?, 28) dtype=float32>,\n",
      " <tf.Tensor 'unstack:7' shape=(?, 28) dtype=float32>,\n",
      " <tf.Tensor 'unstack:8' shape=(?, 28) dtype=float32>,\n",
      " <tf.Tensor 'unstack:9' shape=(?, 28) dtype=float32>,\n",
      " <tf.Tensor 'unstack:10' shape=(?, 28) dtype=float32>,\n",
      " <tf.Tensor 'unstack:11' shape=(?, 28) dtype=float32>,\n",
      " <tf.Tensor 'unstack:12' shape=(?, 28) dtype=float32>,\n",
      " <tf.Tensor 'unstack:13' shape=(?, 28) dtype=float32>,\n",
      " <tf.Tensor 'unstack:14' shape=(?, 28) dtype=float32>,\n",
      " <tf.Tensor 'unstack:15' shape=(?, 28) dtype=float32>,\n",
      " <tf.Tensor 'unstack:16' shape=(?, 28) dtype=float32>,\n",
      " <tf.Tensor 'unstack:17' shape=(?, 28) dtype=float32>,\n",
      " <tf.Tensor 'unstack:18' shape=(?, 28) dtype=float32>,\n",
      " <tf.Tensor 'unstack:19' shape=(?, 28) dtype=float32>,\n",
      " <tf.Tensor 'unstack:20' shape=(?, 28) dtype=float32>,\n",
      " <tf.Tensor 'unstack:21' shape=(?, 28) dtype=float32>,\n",
      " <tf.Tensor 'unstack:22' shape=(?, 28) dtype=float32>,\n",
      " <tf.Tensor 'unstack:23' shape=(?, 28) dtype=float32>,\n",
      " <tf.Tensor 'unstack:24' shape=(?, 28) dtype=float32>,\n",
      " <tf.Tensor 'unstack:25' shape=(?, 28) dtype=float32>,\n",
      " <tf.Tensor 'unstack:26' shape=(?, 28) dtype=float32>,\n",
      " <tf.Tensor 'unstack:27' shape=(?, 28) dtype=float32>]\n",
      "<class 'list'>\n"
     ]
    }
   ],
   "source": [
    "# Placeholder인 X의 모양이 [?, 784]\n",
    "# X를 [?, 28, 28]로 변환한 것이 reshaped_X\n",
    "# 이미지의 가로줄을 RNN에 순서대로 넣기 위해서는 axis=1로 잘라야 함을 알 수 있다.\n",
    "reshaped_X = tf.reshape(tensor=X, shape=[-1, n_steps, n_input])\n",
    "unstacked_X = tf.unstack(value=reshaped_X, num=n_steps, axis=1)\n",
    "\n",
    "print(X.get_shape())\n",
    "print(reshaped_X.get_shape())\n",
    "\n",
    "# Now, print \"unstacked_X\" and its type.\n",
    "pprint(unstacked_X)\n",
    "print(type(unstacked_X))"
   ]
  },
  {
   "cell_type": "markdown",
   "metadata": {},
   "source": [
    "## 3. Define the model"
   ]
  },
  {
   "cell_type": "code",
   "execution_count": 10,
   "metadata": {
    "collapsed": true
   },
   "outputs": [],
   "source": [
    "# # Define LSTM cell\n",
    "# lstm_cell = rnn.BasicLSTMCell(num_units=n_hidden, \n",
    "#                               forget_bias=1.0)\n",
    "\n",
    "# # Get LSTM cell output\n",
    "\n",
    "# outputs, _ = rnn.static_rnn(cell=lstm_cell, \n",
    "#                             inputs=unstacked_X, \n",
    "#                             dtype=tf.float32)"
   ]
  },
  {
   "cell_type": "code",
   "execution_count": 11,
   "metadata": {
    "collapsed": true
   },
   "outputs": [],
   "source": [
    "# outputs"
   ]
  },
  {
   "cell_type": "code",
   "execution_count": 12,
   "metadata": {
    "collapsed": true
   },
   "outputs": [],
   "source": [
    "# Define RNN model with tf.contrib.rnn.static_rnn\n",
    "def RNN_static(X, n_steps, n_hidden, n_classes):\n",
    "    \n",
    "    # Reshape the placeholder\n",
    "    reshaped_X = tf.reshape(tensor=X, shape=[-1, n_steps, n_input], name='reshaped')\n",
    "    \n",
    "    # Unstack to get a list of 'n_steps' tensors of shape [batch_size, n_input]\n",
    "    unstacked_X = tf.unstack(value=reshaped_X, num=n_steps, axis=1, name='unstack')\n",
    "    \n",
    "    # Define LSTM cell\n",
    "    lstm_cell = rnn.BasicLSTMCell(num_units=n_hidden, \n",
    "                                  forget_bias=1.0)\n",
    "    \n",
    "    # Get LSTM cell output\n",
    "    \n",
    "    outputs, _ = rnn.static_rnn(cell=lstm_cell, \n",
    "                                inputs=unstacked_X, \n",
    "                                dtype=tf.float32)\n",
    "    \n",
    "    # Define weights and biases\n",
    "    W = tf.get_variable(name='weights', \n",
    "                        shape=[n_hidden, n_classes], \n",
    "                        initializer=tf.contrib.layers.xavier_initializer())\n",
    "    b = tf.get_variable(name='bias', \n",
    "                        shape=[n_classes], \n",
    "                        initializer=tf.constant_initializer(0.0))\n",
    "    \n",
    "    # Calculate logits\n",
    "    # last rnn output: outputs[-1] (because the type of outputs is \"list\")\n",
    "    logits = tf.nn.xw_plus_b(x=outputs[-1], weights=W, biases=b, name='logits')\n",
    "    \n",
    "    return logits"
   ]
  },
  {
   "cell_type": "code",
   "execution_count": 13,
   "metadata": {},
   "outputs": [
    {
     "name": "stdout",
     "output_type": "stream",
     "text": [
      "Tensor(\"logits:0\", shape=(?, 10), dtype=float32)\n"
     ]
    }
   ],
   "source": [
    "# logits: output vector of RNN_static\n",
    "logits = RNN_static(X, n_steps, n_hidden, n_classes)\n",
    "print(logits)"
   ]
  },
  {
   "cell_type": "code",
   "execution_count": 14,
   "metadata": {
    "collapsed": true
   },
   "outputs": [],
   "source": [
    "# Define cost function and training operator with optimizer\n",
    "cost = tf.reduce_mean(tf.nn.sparse_softmax_cross_entropy_with_logits(logits=logits, labels=Y))\n",
    "train_op = tf.train.RMSPropOptimizer(learning_rate=LEARNING_RATE).minimize(cost)\n",
    "\n",
    "# Evaluate the output of model\n",
    "correct_prediction = tf.nn.in_top_k(predictions=logits, targets=Y, k=1)\n",
    "accuracy = tf.reduce_mean(tf.cast(correct_prediction, tf.float32))"
   ]
  },
  {
   "cell_type": "code",
   "execution_count": 15,
   "metadata": {
    "collapsed": true
   },
   "outputs": [],
   "source": [
    "# Batch_iterator\n",
    "def make_batch_iterator(class_train, batch_size, allow_small_batch=True):\n",
    "    num_points = len(class_train)\n",
    "    start_idx = list(range(0, num_points, batch_size))\n",
    "    end_idx = list(range(batch_size, num_points + 1, batch_size))\n",
    "    if allow_small_batch:\n",
    "        start_idx.append(end_idx[-1] + 1)\n",
    "        end_idx.append(num_points)\n",
    "    return zip(start_idx, end_idx)"
   ]
  },
  {
   "cell_type": "markdown",
   "metadata": {},
   "source": [
    "# 4. Run the model"
   ]
  },
  {
   "cell_type": "code",
   "execution_count": 16,
   "metadata": {
    "collapsed": true
   },
   "outputs": [],
   "source": [
    "start_time = time.time()"
   ]
  },
  {
   "cell_type": "code",
   "execution_count": 17,
   "metadata": {},
   "outputs": [
    {
     "name": "stdout",
     "output_type": "stream",
     "text": [
      "[ 49 step /   0 epoch] cost = 2.290208, accuracy = 0.156250\n",
      "[ 99 step /   0 epoch] cost = 2.197170, accuracy = 0.265625\n",
      "[149 step /   0 epoch] cost = 1.252287, accuracy = 0.554688\n",
      "[199 step /   0 epoch] cost = 1.127980, accuracy = 0.601562\n",
      "[249 step /   0 epoch] cost = 0.746323, accuracy = 0.718750\n",
      "[299 step /   0 epoch] cost = 0.366397, accuracy = 0.906250\n",
      "[349 step /   0 epoch] cost = 0.476752, accuracy = 0.859375\n",
      "[399 step /   0 epoch] cost = 0.189469, accuracy = 0.937500\n",
      "[ 49 step /   1 epoch] cost = 0.350003, accuracy = 0.851562\n",
      "[ 99 step /   1 epoch] cost = 0.382748, accuracy = 0.875000\n",
      "[149 step /   1 epoch] cost = 0.292921, accuracy = 0.929688\n",
      "[199 step /   1 epoch] cost = 0.200924, accuracy = 0.945312\n",
      "[249 step /   1 epoch] cost = 0.164598, accuracy = 0.937500\n",
      "[299 step /   1 epoch] cost = 0.085182, accuracy = 0.976562\n",
      "[349 step /   1 epoch] cost = 0.124056, accuracy = 0.968750\n",
      "[399 step /   1 epoch] cost = 0.097934, accuracy = 0.968750\n",
      "[ 49 step /   2 epoch] cost = 0.079732, accuracy = 0.968750\n",
      "[ 99 step /   2 epoch] cost = 0.235715, accuracy = 0.937500\n",
      "[149 step /   2 epoch] cost = 0.133689, accuracy = 0.960938\n",
      "[199 step /   2 epoch] cost = 0.129609, accuracy = 0.976562\n",
      "[249 step /   2 epoch] cost = 0.097900, accuracy = 0.968750\n",
      "[299 step /   2 epoch] cost = 0.036397, accuracy = 0.992188\n",
      "[349 step /   2 epoch] cost = 0.051707, accuracy = 0.984375\n",
      "[399 step /   2 epoch] cost = 0.068658, accuracy = 0.976562\n",
      "[ 49 step /   3 epoch] cost = 0.052921, accuracy = 0.992188\n",
      "[ 99 step /   3 epoch] cost = 0.201419, accuracy = 0.914062\n",
      "[149 step /   3 epoch] cost = 0.129613, accuracy = 0.953125\n",
      "[199 step /   3 epoch] cost = 0.097262, accuracy = 0.976562\n",
      "[249 step /   3 epoch] cost = 0.099112, accuracy = 0.968750\n",
      "[299 step /   3 epoch] cost = 0.019368, accuracy = 1.000000\n",
      "[349 step /   3 epoch] cost = 0.050964, accuracy = 0.984375\n",
      "[399 step /   3 epoch] cost = 0.035631, accuracy = 0.992188\n",
      "[ 49 step /   4 epoch] cost = 0.046058, accuracy = 0.976562\n",
      "[ 99 step /   4 epoch] cost = 0.135040, accuracy = 0.960938\n",
      "[149 step /   4 epoch] cost = 0.129605, accuracy = 0.960938\n",
      "[199 step /   4 epoch] cost = 0.082912, accuracy = 0.968750\n",
      "[249 step /   4 epoch] cost = 0.097027, accuracy = 0.960938\n",
      "[299 step /   4 epoch] cost = 0.011647, accuracy = 0.992188\n",
      "[349 step /   4 epoch] cost = 0.023908, accuracy = 1.000000\n",
      "[399 step /   4 epoch] cost = 0.065510, accuracy = 0.968750\n",
      "\n",
      "\t[  4 epoch] validation cost = 0.119881, validation accuracy = 0.964800\n",
      "\n",
      "[ 49 step /   5 epoch] cost = 0.047842, accuracy = 0.976562\n",
      "[ 99 step /   5 epoch] cost = 0.121184, accuracy = 0.953125\n",
      "[149 step /   5 epoch] cost = 0.087663, accuracy = 0.976562\n",
      "[199 step /   5 epoch] cost = 0.043289, accuracy = 0.992188\n",
      "[249 step /   5 epoch] cost = 0.044031, accuracy = 0.984375\n",
      "[299 step /   5 epoch] cost = 0.009592, accuracy = 1.000000\n",
      "[349 step /   5 epoch] cost = 0.017744, accuracy = 1.000000\n",
      "[399 step /   5 epoch] cost = 0.035141, accuracy = 0.992188\n",
      "[ 49 step /   6 epoch] cost = 0.016066, accuracy = 1.000000\n",
      "[ 99 step /   6 epoch] cost = 0.118438, accuracy = 0.960938\n",
      "[149 step /   6 epoch] cost = 0.063493, accuracy = 0.984375\n",
      "[199 step /   6 epoch] cost = 0.040653, accuracy = 0.976562\n",
      "[249 step /   6 epoch] cost = 0.043727, accuracy = 0.984375\n",
      "[299 step /   6 epoch] cost = 0.002975, accuracy = 1.000000\n",
      "[349 step /   6 epoch] cost = 0.031350, accuracy = 0.984375\n",
      "[399 step /   6 epoch] cost = 0.011216, accuracy = 1.000000\n",
      "[ 49 step /   7 epoch] cost = 0.025532, accuracy = 0.984375\n",
      "[ 99 step /   7 epoch] cost = 0.098192, accuracy = 0.960938\n",
      "[149 step /   7 epoch] cost = 0.078484, accuracy = 0.976562\n",
      "[199 step /   7 epoch] cost = 0.012028, accuracy = 1.000000\n",
      "[249 step /   7 epoch] cost = 0.020555, accuracy = 0.992188\n",
      "[299 step /   7 epoch] cost = 0.008494, accuracy = 0.992188\n",
      "[349 step /   7 epoch] cost = 0.009644, accuracy = 1.000000\n",
      "[399 step /   7 epoch] cost = 0.004994, accuracy = 1.000000\n",
      "[ 49 step /   8 epoch] cost = 0.017446, accuracy = 1.000000\n",
      "[ 99 step /   8 epoch] cost = 0.104487, accuracy = 0.953125\n",
      "[149 step /   8 epoch] cost = 0.046802, accuracy = 0.992188\n",
      "[199 step /   8 epoch] cost = 0.016644, accuracy = 0.992188\n",
      "[249 step /   8 epoch] cost = 0.047415, accuracy = 0.976562\n",
      "[299 step /   8 epoch] cost = 0.010129, accuracy = 1.000000\n",
      "[349 step /   8 epoch] cost = 0.010001, accuracy = 1.000000\n",
      "[399 step /   8 epoch] cost = 0.006580, accuracy = 1.000000\n",
      "[ 49 step /   9 epoch] cost = 0.013385, accuracy = 1.000000\n",
      "[ 99 step /   9 epoch] cost = 0.036238, accuracy = 0.992188\n",
      "[149 step /   9 epoch] cost = 0.017701, accuracy = 0.992188\n",
      "[199 step /   9 epoch] cost = 0.003262, accuracy = 1.000000\n",
      "[249 step /   9 epoch] cost = 0.012090, accuracy = 0.992188\n",
      "[299 step /   9 epoch] cost = 0.021294, accuracy = 0.992188\n",
      "[349 step /   9 epoch] cost = 0.023222, accuracy = 0.992188\n",
      "[399 step /   9 epoch] cost = 0.006983, accuracy = 1.000000\n",
      "\n",
      "\t[  9 epoch] validation cost = 0.076400, validation accuracy = 0.982200\n",
      "\n",
      "[ 49 step /  10 epoch] cost = 0.014372, accuracy = 0.992188\n",
      "[ 99 step /  10 epoch] cost = 0.053537, accuracy = 0.984375\n",
      "[149 step /  10 epoch] cost = 0.009347, accuracy = 1.000000\n",
      "[199 step /  10 epoch] cost = 0.008473, accuracy = 1.000000\n",
      "[249 step /  10 epoch] cost = 0.010966, accuracy = 1.000000\n",
      "[299 step /  10 epoch] cost = 0.005411, accuracy = 1.000000\n",
      "[349 step /  10 epoch] cost = 0.021259, accuracy = 0.992188\n",
      "[399 step /  10 epoch] cost = 0.008040, accuracy = 1.000000\n",
      "[ 49 step /  11 epoch] cost = 0.007882, accuracy = 1.000000\n",
      "[ 99 step /  11 epoch] cost = 0.014863, accuracy = 0.992188\n",
      "[149 step /  11 epoch] cost = 0.011425, accuracy = 1.000000\n",
      "[199 step /  11 epoch] cost = 0.010215, accuracy = 1.000000\n",
      "[249 step /  11 epoch] cost = 0.008293, accuracy = 0.992188\n",
      "[299 step /  11 epoch] cost = 0.001610, accuracy = 1.000000\n",
      "[349 step /  11 epoch] cost = 0.023091, accuracy = 0.984375\n",
      "[399 step /  11 epoch] cost = 0.002542, accuracy = 1.000000\n",
      "[ 49 step /  12 epoch] cost = 0.012279, accuracy = 0.992188\n",
      "[ 99 step /  12 epoch] cost = 0.038533, accuracy = 0.984375\n",
      "[149 step /  12 epoch] cost = 0.008831, accuracy = 1.000000\n",
      "[199 step /  12 epoch] cost = 0.004822, accuracy = 1.000000\n",
      "[249 step /  12 epoch] cost = 0.008613, accuracy = 1.000000\n",
      "[299 step /  12 epoch] cost = 0.000887, accuracy = 1.000000\n",
      "[349 step /  12 epoch] cost = 0.010104, accuracy = 1.000000\n",
      "[399 step /  12 epoch] cost = 0.016663, accuracy = 0.992188\n",
      "[ 49 step /  13 epoch] cost = 0.021492, accuracy = 0.984375\n",
      "[ 99 step /  13 epoch] cost = 0.015654, accuracy = 1.000000\n",
      "[149 step /  13 epoch] cost = 0.012434, accuracy = 1.000000\n",
      "[199 step /  13 epoch] cost = 0.001669, accuracy = 1.000000\n",
      "[249 step /  13 epoch] cost = 0.001583, accuracy = 1.000000\n",
      "[299 step /  13 epoch] cost = 0.000859, accuracy = 1.000000\n",
      "[349 step /  13 epoch] cost = 0.006041, accuracy = 1.000000\n",
      "[399 step /  13 epoch] cost = 0.002468, accuracy = 1.000000\n",
      "[ 49 step /  14 epoch] cost = 0.006327, accuracy = 1.000000\n",
      "[ 99 step /  14 epoch] cost = 0.046398, accuracy = 0.984375\n",
      "[149 step /  14 epoch] cost = 0.013880, accuracy = 0.992188\n",
      "[199 step /  14 epoch] cost = 0.001524, accuracy = 1.000000\n",
      "[249 step /  14 epoch] cost = 0.001994, accuracy = 1.000000\n",
      "[299 step /  14 epoch] cost = 0.007351, accuracy = 1.000000\n",
      "[349 step /  14 epoch] cost = 0.016121, accuracy = 0.992188\n",
      "[399 step /  14 epoch] cost = 0.000607, accuracy = 1.000000\n",
      "\n",
      "\t[ 14 epoch] validation cost = 0.072695, validation accuracy = 0.983600\n",
      "\n",
      "[ 49 step /  15 epoch] cost = 0.005953, accuracy = 1.000000\n",
      "[ 99 step /  15 epoch] cost = 0.026455, accuracy = 0.992188\n",
      "[149 step /  15 epoch] cost = 0.001732, accuracy = 1.000000\n",
      "[199 step /  15 epoch] cost = 0.003323, accuracy = 1.000000\n",
      "[249 step /  15 epoch] cost = 0.002772, accuracy = 1.000000\n",
      "[299 step /  15 epoch] cost = 0.004038, accuracy = 1.000000\n",
      "[349 step /  15 epoch] cost = 0.004153, accuracy = 1.000000\n",
      "[399 step /  15 epoch] cost = 0.004426, accuracy = 1.000000\n",
      "[ 49 step /  16 epoch] cost = 0.030474, accuracy = 0.984375\n",
      "[ 99 step /  16 epoch] cost = 0.010005, accuracy = 1.000000\n",
      "[149 step /  16 epoch] cost = 0.019036, accuracy = 0.992188\n",
      "[199 step /  16 epoch] cost = 0.001066, accuracy = 1.000000\n",
      "[249 step /  16 epoch] cost = 0.002033, accuracy = 1.000000\n"
     ]
    },
    {
     "name": "stdout",
     "output_type": "stream",
     "text": [
      "[299 step /  16 epoch] cost = 0.001293, accuracy = 1.000000\n",
      "[349 step /  16 epoch] cost = 0.005003, accuracy = 1.000000\n",
      "[399 step /  16 epoch] cost = 0.004807, accuracy = 1.000000\n",
      "[ 49 step /  17 epoch] cost = 0.018219, accuracy = 0.992188\n",
      "[ 99 step /  17 epoch] cost = 0.017273, accuracy = 0.992188\n",
      "[149 step /  17 epoch] cost = 0.000977, accuracy = 1.000000\n",
      "[199 step /  17 epoch] cost = 0.012997, accuracy = 0.992188\n",
      "[249 step /  17 epoch] cost = 0.003522, accuracy = 1.000000\n",
      "[299 step /  17 epoch] cost = 0.001795, accuracy = 1.000000\n",
      "[349 step /  17 epoch] cost = 0.012591, accuracy = 0.992188\n",
      "[399 step /  17 epoch] cost = 0.001173, accuracy = 1.000000\n",
      "[ 49 step /  18 epoch] cost = 0.004756, accuracy = 1.000000\n",
      "[ 99 step /  18 epoch] cost = 0.008035, accuracy = 0.992188\n",
      "[149 step /  18 epoch] cost = 0.000438, accuracy = 1.000000\n",
      "[199 step /  18 epoch] cost = 0.000422, accuracy = 1.000000\n",
      "[249 step /  18 epoch] cost = 0.002058, accuracy = 1.000000\n",
      "[299 step /  18 epoch] cost = 0.000147, accuracy = 1.000000\n",
      "[349 step /  18 epoch] cost = 0.009801, accuracy = 1.000000\n",
      "[399 step /  18 epoch] cost = 0.004509, accuracy = 1.000000\n",
      "[ 49 step /  19 epoch] cost = 0.020332, accuracy = 0.992188\n",
      "[ 99 step /  19 epoch] cost = 0.024710, accuracy = 0.992188\n",
      "[149 step /  19 epoch] cost = 0.004704, accuracy = 1.000000\n",
      "[199 step /  19 epoch] cost = 0.040276, accuracy = 0.992188\n",
      "[249 step /  19 epoch] cost = 0.001015, accuracy = 1.000000\n",
      "[299 step /  19 epoch] cost = 0.000184, accuracy = 1.000000\n",
      "[349 step /  19 epoch] cost = 0.010729, accuracy = 0.992188\n",
      "[399 step /  19 epoch] cost = 0.000849, accuracy = 1.000000\n",
      "\n",
      "\t[ 19 epoch] validation cost = 0.068637, validation accuracy = 0.983600\n",
      "\n",
      "[ 49 step /  20 epoch] cost = 0.002749, accuracy = 1.000000\n",
      "[ 99 step /  20 epoch] cost = 0.025213, accuracy = 0.984375\n",
      "[149 step /  20 epoch] cost = 0.000417, accuracy = 1.000000\n",
      "[199 step /  20 epoch] cost = 0.000479, accuracy = 1.000000\n",
      "[249 step /  20 epoch] cost = 0.006283, accuracy = 0.992188\n",
      "[299 step /  20 epoch] cost = 0.000691, accuracy = 1.000000\n",
      "[349 step /  20 epoch] cost = 0.001264, accuracy = 1.000000\n",
      "[399 step /  20 epoch] cost = 0.007707, accuracy = 1.000000\n",
      "[ 49 step /  21 epoch] cost = 0.002583, accuracy = 1.000000\n",
      "[ 99 step /  21 epoch] cost = 0.002157, accuracy = 1.000000\n",
      "[149 step /  21 epoch] cost = 0.006046, accuracy = 1.000000\n",
      "[199 step /  21 epoch] cost = 0.003559, accuracy = 1.000000\n",
      "[249 step /  21 epoch] cost = 0.005304, accuracy = 1.000000\n",
      "[299 step /  21 epoch] cost = 0.000306, accuracy = 1.000000\n",
      "[349 step /  21 epoch] cost = 0.020065, accuracy = 0.984375\n",
      "[399 step /  21 epoch] cost = 0.000636, accuracy = 1.000000\n",
      "[ 49 step /  22 epoch] cost = 0.006618, accuracy = 1.000000\n",
      "[ 99 step /  22 epoch] cost = 0.004876, accuracy = 1.000000\n",
      "[149 step /  22 epoch] cost = 0.000138, accuracy = 1.000000\n",
      "[199 step /  22 epoch] cost = 0.007005, accuracy = 0.992188\n",
      "[249 step /  22 epoch] cost = 0.000764, accuracy = 1.000000\n",
      "[299 step /  22 epoch] cost = 0.000253, accuracy = 1.000000\n",
      "[349 step /  22 epoch] cost = 0.001401, accuracy = 1.000000\n",
      "[399 step /  22 epoch] cost = 0.005966, accuracy = 1.000000\n",
      "[ 49 step /  23 epoch] cost = 0.001285, accuracy = 1.000000\n",
      "[ 99 step /  23 epoch] cost = 0.006537, accuracy = 1.000000\n",
      "[149 step /  23 epoch] cost = 0.001388, accuracy = 1.000000\n",
      "[199 step /  23 epoch] cost = 0.002189, accuracy = 1.000000\n",
      "[249 step /  23 epoch] cost = 0.001211, accuracy = 1.000000\n",
      "[299 step /  23 epoch] cost = 0.000060, accuracy = 1.000000\n",
      "[349 step /  23 epoch] cost = 0.001066, accuracy = 1.000000\n",
      "[399 step /  23 epoch] cost = 0.000721, accuracy = 1.000000\n",
      "[ 49 step /  24 epoch] cost = 0.001763, accuracy = 1.000000\n",
      "[ 99 step /  24 epoch] cost = 0.012004, accuracy = 0.992188\n",
      "[149 step /  24 epoch] cost = 0.006866, accuracy = 0.992188\n",
      "[199 step /  24 epoch] cost = 0.002658, accuracy = 1.000000\n",
      "[249 step /  24 epoch] cost = 0.000223, accuracy = 1.000000\n",
      "[299 step /  24 epoch] cost = 0.001886, accuracy = 1.000000\n",
      "[349 step /  24 epoch] cost = 0.001461, accuracy = 1.000000\n",
      "[399 step /  24 epoch] cost = 0.000850, accuracy = 1.000000\n",
      "\n",
      "\t[ 24 epoch] validation cost = 0.065662, validation accuracy = 0.988800\n",
      "\n",
      "[ 49 step /  25 epoch] cost = 0.023447, accuracy = 0.992188\n",
      "[ 99 step /  25 epoch] cost = 0.003385, accuracy = 1.000000\n",
      "[149 step /  25 epoch] cost = 0.000349, accuracy = 1.000000\n",
      "[199 step /  25 epoch] cost = 0.000441, accuracy = 1.000000\n",
      "[249 step /  25 epoch] cost = 0.000853, accuracy = 1.000000\n",
      "[299 step /  25 epoch] cost = 0.012596, accuracy = 0.992188\n",
      "[349 step /  25 epoch] cost = 0.002252, accuracy = 1.000000\n",
      "[399 step /  25 epoch] cost = 0.003947, accuracy = 1.000000\n",
      "[ 49 step /  26 epoch] cost = 0.077878, accuracy = 0.984375\n",
      "[ 99 step /  26 epoch] cost = 0.002025, accuracy = 1.000000\n",
      "[149 step /  26 epoch] cost = 0.008870, accuracy = 0.992188\n",
      "[199 step /  26 epoch] cost = 0.000693, accuracy = 1.000000\n",
      "[249 step /  26 epoch] cost = 0.044957, accuracy = 0.992188\n",
      "[299 step /  26 epoch] cost = 0.026730, accuracy = 0.992188\n",
      "[349 step /  26 epoch] cost = 0.009164, accuracy = 0.992188\n",
      "[399 step /  26 epoch] cost = 0.002161, accuracy = 1.000000\n",
      "[ 49 step /  27 epoch] cost = 0.000277, accuracy = 1.000000\n",
      "[ 99 step /  27 epoch] cost = 0.023305, accuracy = 0.992188\n",
      "[149 step /  27 epoch] cost = 0.000176, accuracy = 1.000000\n",
      "[199 step /  27 epoch] cost = 0.000072, accuracy = 1.000000\n",
      "[249 step /  27 epoch] cost = 0.014002, accuracy = 0.992188\n",
      "[299 step /  27 epoch] cost = 0.000640, accuracy = 1.000000\n",
      "[349 step /  27 epoch] cost = 0.000610, accuracy = 1.000000\n",
      "[399 step /  27 epoch] cost = 0.001057, accuracy = 1.000000\n",
      "[ 49 step /  28 epoch] cost = 0.001712, accuracy = 1.000000\n",
      "[ 99 step /  28 epoch] cost = 0.000969, accuracy = 1.000000\n",
      "[149 step /  28 epoch] cost = 0.000145, accuracy = 1.000000\n",
      "[199 step /  28 epoch] cost = 0.000497, accuracy = 1.000000\n",
      "[249 step /  28 epoch] cost = 0.004703, accuracy = 1.000000\n",
      "[299 step /  28 epoch] cost = 0.000149, accuracy = 1.000000\n",
      "[349 step /  28 epoch] cost = 0.016725, accuracy = 0.992188\n",
      "[399 step /  28 epoch] cost = 0.000300, accuracy = 1.000000\n",
      "[ 49 step /  29 epoch] cost = 0.005783, accuracy = 1.000000\n",
      "[ 99 step /  29 epoch] cost = 0.010344, accuracy = 0.992188\n",
      "[149 step /  29 epoch] cost = 0.002742, accuracy = 1.000000\n",
      "[199 step /  29 epoch] cost = 0.000172, accuracy = 1.000000\n",
      "[249 step /  29 epoch] cost = 0.010390, accuracy = 0.992188\n",
      "[299 step /  29 epoch] cost = 0.010290, accuracy = 0.992188\n",
      "[349 step /  29 epoch] cost = 0.000929, accuracy = 1.000000\n",
      "[399 step /  29 epoch] cost = 0.000562, accuracy = 1.000000\n",
      "\n",
      "\t[ 29 epoch] validation cost = 0.066446, validation accuracy = 0.987200\n",
      "\n",
      "\n",
      "\t[Test] test cost = 0.075056, test accuracy = 0.983800\n"
     ]
    }
   ],
   "source": [
    "with tf.Session() as sess:\n",
    "    \n",
    "    # Initialize all variables\n",
    "    sess.run(tf.global_variables_initializer())\n",
    "    \n",
    "    # For-loop with respect to epochs\n",
    "    for epoch in range(N_EPOCHS):\n",
    "        \n",
    "        # Make batch_iterator\n",
    "        batch_iterator = make_batch_iterator(class_train=Y_trn, \n",
    "                                             batch_size=BATCH_SIZE,\n",
    "                                             allow_small_batch=True)\n",
    "    \n",
    "        step = 0\n",
    "        \n",
    "        # For-loop with batch_iterator\n",
    "        for start, end in batch_iterator:\n",
    "            \n",
    "            # Construct the input batch\n",
    "            batch_xs = X_trn[start:end]\n",
    "            batch_ys = Y_trn[start:end]\n",
    "    \n",
    "            # Run the training operator, accuracy, cpst\n",
    "            _, cost_batch, acc_batch = sess.run([train_op, cost, accuracy], feed_dict={X: batch_xs, Y: batch_ys})\n",
    "            \n",
    "            if (step + 1) % DISPLAY_STEP == 0:\n",
    "                print(\"[%3d step / %3d epoch] cost = %.6f, accuracy = %.6f\" % (step, epoch, cost_batch, acc_batch))\n",
    "            \n",
    "            step = step + 1\n",
    "        \n",
    "        if (epoch + 1) % VAL_EPOCH == 0:\n",
    "            cost_val, acc_val = sess.run([cost, accuracy], feed_dict={X: X_val, Y: Y_val})\n",
    "            print()\n",
    "            print(\"\\t[%3d epoch] validation cost = %.6f, validation accuracy = %.6f\" % (epoch, cost_val, acc_val))\n",
    "            print()\n",
    "    \n",
    "    # Test\n",
    "    cost_test, acc_test = sess.run([cost, accuracy], feed_dict={X: X_test, Y: Y_test})\n",
    "    print(\"\\n\\t[Test] test cost = %.6f, test accuracy = %.6f\" % (cost_test, acc_test))"
   ]
  },
  {
   "cell_type": "code",
   "execution_count": 18,
   "metadata": {},
   "outputs": [
    {
     "name": "stdout",
     "output_type": "stream",
     "text": [
      "518.864462852478\n"
     ]
    }
   ],
   "source": [
    "print(time.time() - start_time)"
   ]
  }
 ],
 "metadata": {
  "kernelspec": {
   "display_name": "Python 3",
   "language": "python",
   "name": "python3"
  },
  "language_info": {
   "codemirror_mode": {
    "name": "ipython",
    "version": 3
   },
   "file_extension": ".py",
   "mimetype": "text/x-python",
   "name": "python",
   "nbconvert_exporter": "python",
   "pygments_lexer": "ipython3",
   "version": "3.6.1"
  }
 },
 "nbformat": 4,
 "nbformat_minor": 2
}
