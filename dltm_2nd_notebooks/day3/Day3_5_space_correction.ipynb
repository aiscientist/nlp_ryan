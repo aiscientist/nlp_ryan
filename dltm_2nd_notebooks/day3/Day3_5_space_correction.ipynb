{
 "cells": [
  {
   "cell_type": "markdown",
   "metadata": {
    "deletable": true,
    "editable": true
   },
   "source": [
    "좀 더 자세한 알고리즘 설명은 github의 soy/tutorial/space_correction.ipynb를 참고하면 좋습니다. 이 튜토리얼에서는 사용법을 위주로 설명합니다. \n",
    "\n",
    "먼저 soy.git을 이용하기 위하여 sys.path에 폴더 주소를 추가합니다. \n",
    "\n",
    "soy.nlp.space의 CountSpace를 import 합니다. "
   ]
  },
  {
   "cell_type": "code",
   "execution_count": 1,
   "metadata": {
    "collapsed": false,
    "deletable": true,
    "editable": true
   },
   "outputs": [],
   "source": [
    "import sys\n",
    "\n",
    "sys.path.append('../soy')"
   ]
  },
  {
   "cell_type": "code",
   "execution_count": 2,
   "metadata": {
    "collapsed": false,
    "deletable": true,
    "editable": true
   },
   "outputs": [],
   "source": [
    "from soy.nlp.space import RuleDict, CountSpace\n",
    "model = CountSpace()"
   ]
  },
  {
   "cell_type": "markdown",
   "metadata": {
    "deletable": true,
    "editable": true
   },
   "source": [
    "## Training\n",
    "\n",
    "soy에는 라라랜드 영화의 리뷰 샘플이 학습데이터로 올라가 있습니다. 이 데이터는 다양한 띄어쓰기 패턴을 학습하기에는 적은 양이지만, 빠르게 실습을 하기 위해서 이를 이용해보도록 하겠습니다. \n",
    "\n",
    "134963_norm은 리뷰데이터에서 한글만 남겨놓은 텍스트와 평점이 \\t으로 구분되어있는 데이터입니다. 이로부터 텍스트만을 가져와서 띄어쓰기수정 모델을 학습합니다. CountSpace는 텍스트만 있는 문서에서 한줄씩 텍스트를 읽으며 띄어쓰기 패턴을 학습하기 때문에 평점을 제거한 텍스트를 tmp 폴더에 저장해두겠습니다. "
   ]
  },
  {
   "cell_type": "markdown",
   "metadata": {
    "deletable": true,
    "editable": true
   },
   "source": [
    "for _ in range(3): 은 range를 3번 돌라는 의미이며, 무의미한 변수를 만들기 때문에 under-bar 처리하였습니다. \n",
    "\n",
    "print(next(f))를 통하여 한 줄씩 출력이 됩니다. "
   ]
  },
  {
   "cell_type": "code",
   "execution_count": 3,
   "metadata": {
    "collapsed": false,
    "deletable": true,
    "editable": true
   },
   "outputs": [
    {
     "name": "stdout",
     "output_type": "stream",
     "text": [
      "시사회에서 보고왔습니다동화와 재즈뮤지컬의 만남 지루하지않고 재밌습니다\t9\n",
      "\n",
      "사랑과 꿈 그 흐름의 아름다움을 음악과 영상으로 최대한 담아놓았다 배우들 연기는 두말할것없고\t10\n",
      "\n",
      "지금껏 영화 평가 해본 적이 없는데 진짜 최고네요 색감 스토리 음악 연기 모두ㅜㅜ최고입니다\t10\n",
      "\n"
     ]
    }
   ],
   "source": [
    "with open('../soy/data/naver_movie/comments/134963_norm.txt', encoding='utf-8') as f:\n",
    "    for _ in range(3):\n",
    "        print(next(f))"
   ]
  },
  {
   "cell_type": "code",
   "execution_count": 4,
   "metadata": {
    "collapsed": false,
    "deletable": true,
    "editable": true
   },
   "outputs": [],
   "source": [
    "with open('../soy/data/naver_movie/comments/134963_norm.txt', encoding='utf-8') as f:\n",
    "    docs = [doc.split('\\t')[0] for doc in f]\n",
    "\n",
    "with open('./tmp/134963_norm.txt', 'w', encoding='utf-8') as f:\n",
    "    for doc in docs:\n",
    "        f.write('%s\\n' % doc)"
   ]
  },
  {
   "cell_type": "markdown",
   "metadata": {
    "deletable": true,
    "editable": true
   },
   "source": [
    "num_lines는 fname 파일의 num_lines 번째 줄까지만 학습하는 argument 입니다. -1이면 모든 줄을 학습에 이용합니다. 코드가 잘 돌아가는지 디버깅을 할 때에는 적당한 숫자를 넣어주시면 그 줄만큼만 학습을 합니다."
   ]
  },
  {
   "cell_type": "code",
   "execution_count": 5,
   "metadata": {
    "collapsed": false,
    "deletable": true,
    "editable": true
   },
   "outputs": [
    {
     "name": "stdout",
     "output_type": "stream",
     "text": [
      "all tags length = 654328 --> 53317, (num_doc = 15602)"
     ]
    }
   ],
   "source": [
    "model.train(fname='./tmp/134963_norm.txt', num_lines=-1)"
   ]
  },
  {
   "cell_type": "markdown",
   "metadata": {
    "deletable": true,
    "editable": true
   },
   "source": [
    "json 형식으로 parameters를 저장하도록 json_format=True를 설정한 뒤, tmp 폴더에 모델을 저장해둡니다. "
   ]
  },
  {
   "cell_type": "code",
   "execution_count": 6,
   "metadata": {
    "collapsed": false,
    "deletable": true,
    "editable": true
   },
   "outputs": [],
   "source": [
    "model.save_model('./tmp/space_model.json', json_format=True)"
   ]
  },
  {
   "cell_type": "markdown",
   "metadata": {
    "deletable": true,
    "editable": true
   },
   "source": [
    "## Test\n",
    "\n",
    "테스트를 하기 위해서 아래의 패러메터들의 값을 설정합니다. \n",
    "\n",
    "- arguments\n",
    "\n",
    "    - 4개의 parameter\n",
    "        - force_abs_threshold: 점수의 절대값이 이 수준 이상이면 최고점이 아니더라도 즉각 태깅\n",
    "        - nonspace_threshold : 이 점수 이하일 때만 0으로 태깅\n",
    "        - space_threshold    : 이 점수 이상일 때만 1로 태깅\n",
    "        - min_count          : L, C, R 각각의 feature 빈도수가 min_count 이하이면 불확실한 정보로 판단, 띄어쓰기 계산 시 무시\n",
    "        \n",
    "    - verbose: iteration 마다 띄어쓰기가 어떻게 되고 있는지 확인\n",
    "    \n",
    "    - rules  : 점수와 관계없이 반드시 태깅을 먼저 할 (chars, tags)\n",
    "        "
   ]
  },
  {
   "cell_type": "code",
   "execution_count": 7,
   "metadata": {
    "collapsed": true,
    "deletable": true,
    "editable": true
   },
   "outputs": [],
   "source": [
    "verbose=False\n",
    "mc = 10  # min_count\n",
    "ft = 0.3 # force_abs_threshold\n",
    "nt =-0.3 # nonspace_threshold\n",
    "st = 0.3 # space_threshold"
   ]
  },
  {
   "cell_type": "markdown",
   "metadata": {
    "deletable": true,
    "editable": true
   },
   "source": [
    "before와 after를 보면 띄어쓰기가 수정되었음을 볼 수 있습니다. "
   ]
  },
  {
   "cell_type": "code",
   "execution_count": 8,
   "metadata": {
    "collapsed": false,
    "deletable": true,
    "editable": true
   },
   "outputs": [
    {
     "name": "stdout",
     "output_type": "stream",
     "text": [
      "before: 이건진짜좋은영화 라라랜드진짜좋은영화\n",
      "after : 이건 진짜 좋은 영화 라라랜드진짜 좋은 영화\n"
     ]
    }
   ],
   "source": [
    "sent = '이건진짜좋은영화 라라랜드진짜좋은영화'\n",
    "\n",
    "sent_corrected, tags = model.correct(doc=sent, verbose=verbose, force_abs_threshold=ft, nonspace_threshold=nt, space_threshold=st, min_count=mc)\n",
    "\n",
    "print('before: %s' % sent)\n",
    "print('after : %s' % sent_corrected)"
   ]
  },
  {
   "cell_type": "markdown",
   "metadata": {
    "deletable": true,
    "editable": true
   },
   "source": [
    "verbose=True 이면, 각 단계별로 어떻게 띄어쓰기가 수정되었는지 확인할 수 있습니다. \n",
    "\n",
    "이 경우에는 대부분의 경우 띄어쓰기가 확실해서 force tagging이 되었습니다. tagg가 None으로 뜨는 경우는, 띄어쓰기 정보가 불확실하여 띄어쓰기를 하지 않은 경우입니다. "
   ]
  },
  {
   "cell_type": "code",
   "execution_count": 9,
   "metadata": {
    "collapsed": false,
    "deletable": true,
    "editable": true
   },
   "outputs": [
    {
     "name": "stdout",
     "output_type": "stream",
     "text": [
      "Input: ? ? ? ? ? ? ? 1 ? ? ? ? ? ? ? ? ? 1 \n",
      "이건진짜좋은영화 라라랜드진짜좋은영화\n",
      "Force tagged (iter=1): 0 1 0 1 0 1 0 1 0 0 0 ? ? 1 0 1 0 1 \n",
      "Force tagged (iter=2): 0 1 0 1 0 1 0 1 0 0 0 ? ? 1 0 1 0 1 \n"
     ]
    },
    {
     "data": {
      "text/plain": [
       "('이건 진짜 좋은 영화 라라랜드진짜 좋은 영화',\n",
       " [0, 1, 0, 1, 0, 1, 0, 1, 0, 0, 0, None, None, 1, 0, 1, 0, 1])"
      ]
     },
     "execution_count": 9,
     "metadata": {},
     "output_type": "execute_result"
    }
   ],
   "source": [
    "corrected, tags = model.correct(doc=sent, verbose=True, force_abs_threshold=ft, nonspace_threshold=nt, space_threshold=st, min_count=mc)"
   ]
  },
  {
   "cell_type": "markdown",
   "metadata": {
    "deletable": true,
    "editable": true
   },
   "source": [
    "force_abs_threshold의 값을 좀 더 키우면 force tagging이 적게 일어납니다. 속도가 더 느려집니다. "
   ]
  },
  {
   "cell_type": "code",
   "execution_count": 10,
   "metadata": {
    "collapsed": false,
    "deletable": true,
    "editable": true
   },
   "outputs": [
    {
     "name": "stdout",
     "output_type": "stream",
     "text": [
      "Input: ? ? ? ? ? ? ? 1 ? ? ? ? ? ? ? ? ? 1 \n",
      "이건진짜좋은영화 라라랜드진짜좋은영화\n",
      "Force tagged (iter=1): 0 ? 0 ? 0 ? 0 1 0 0 0 ? ? ? 0 ? 0 1 \n",
      "Iteratively tagged (iter=1): 0 1 0 ? 0 ? 0 1 0 0 0 ? ? ? 0 ? 0 1 \n",
      "Force tagged (iter=2): 0 1 0 ? 0 ? 0 1 0 0 0 ? ? ? 0 ? 0 1 \n",
      "Iteratively tagged (iter=2): 0 1 0 1 0 ? 0 1 0 0 0 ? ? ? 0 ? 0 1 \n",
      "Force tagged (iter=3): 0 1 0 1 0 ? 0 1 0 0 0 ? ? ? 0 ? 0 1 \n",
      "Iteratively tagged (iter=3): 0 1 0 1 0 ? 0 1 0 0 0 ? ? 1 0 ? 0 1 \n",
      "Force tagged (iter=4): 0 1 0 1 0 ? 0 1 0 0 0 ? ? 1 0 ? 0 1 \n",
      "Iteratively tagged (iter=4): 0 1 0 1 0 1 0 1 0 0 0 ? ? 1 0 ? 0 1 \n",
      "Force tagged (iter=5): 0 1 0 1 0 1 0 1 0 0 0 ? ? 1 0 ? 0 1 \n",
      "Iteratively tagged (iter=5): 0 1 0 1 0 1 0 1 0 0 0 ? ? 1 0 1 0 1 \n",
      "Force tagged (iter=6): 0 1 0 1 0 1 0 1 0 0 0 ? ? 1 0 1 0 1 \n"
     ]
    },
    {
     "data": {
      "text/plain": [
       "('이건 진짜 좋은 영화 라라랜드진짜 좋은 영화',\n",
       " [0, 1, 0, 1, 0, 1, 0, 1, 0, 0, 0, None, None, 1, 0, 1, 0, 1])"
      ]
     },
     "execution_count": 10,
     "metadata": {},
     "output_type": "execute_result"
    }
   ],
   "source": [
    "model.correct(doc=sent, verbose=True, force_abs_threshold=0.9, nonspace_threshold=nt, space_threshold=st, min_count=mc)"
   ]
  },
  {
   "cell_type": "markdown",
   "metadata": {
    "deletable": true,
    "editable": true
   },
   "source": [
    "debug=True이면 lcr 점수표와 띄어쓰기 교정이 되는 과정이 출력됩니다. "
   ]
  },
  {
   "cell_type": "code",
   "execution_count": 11,
   "metadata": {
    "collapsed": false,
    "deletable": true,
    "editable": true
   },
   "outputs": [
    {
     "name": "stdout",
     "output_type": "stream",
     "text": [
      "0: 이 (-1.000, 16)\tlcr = (0.000, 0.000, -1.000)\n",
      "1: 건 (0.750, 24)\tlcr = (0.000, 0.750, 0.000)\n",
      "2: 진 (-1.000, 53)\tlcr = (0.000, -1.000, -1.000)\n",
      "3: 짜 (0.703, 45)\tlcr = (0.750, 0.655, 0.000)\n",
      "4: 좋 (-1.000, 536)\tlcr = (-1.000, 0.000, -1.000)\n",
      "5: 은 (0.503, 1024)\tlcr = (0.000, 0.377, 0.629)\n",
      "6: 영 (-1.000, 1102)\tlcr = (-1.000, -1.000, -1.000)\n",
      "7: 화 (0.000, 0)\tlcr = (0.000, 0.000, 0.000)\n",
      "8: 라 (-0.998, 1015)\tlcr = (-1.000, -1.000, -0.995)\n",
      "9: 라 (-0.938, 1430)\tlcr = (-0.882, -0.962, -0.968)\n",
      "10: 랜 (-1.000, 1396)\tlcr = (-1.000, -1.000, 0.000)\n",
      "11: 드 (0.011, 920)\tlcr = (0.011, 0.000, 0.000)\n",
      "12: 진 (-1.000, 29)\tlcr = (0.000, 0.000, -1.000)\n",
      "13: 짜 (0.655, 29)\tlcr = (0.000, 0.655, 0.000)\n",
      "14: 좋 (-1.000, 536)\tlcr = (-1.000, 0.000, -1.000)\n",
      "15: 은 (0.502, 1022)\tlcr = (0.000, 0.377, 0.627)\n",
      "16: 영 (-1.000, 1022)\tlcr = (-1.000, -1.000, 0.000)\n",
      "17: 화 (0.000, 0)\tlcr = (0.000, 0.000, 0.000)\n",
      "force tagging i=0, score=-1.000\n",
      "force tagging i=2, score=-1.000\n",
      "force tagging i=4, score=-1.000\n",
      "force tagging i=6, score=-1.000\n",
      "force tagging i=8, score=-0.998\n",
      "force tagging i=9, score=-0.939\n",
      "force tagging i=10, score=-1.000\n",
      "force tagging i=14, score=-1.000\n",
      "force tagging i=16, score=-1.000\n",
      "sequential tagging i=1, score=0.750\n",
      "sequential tagging i=3, score=0.685\n",
      "sequential tagging i=13, score=0.655\n",
      "sequential tagging i=5, score=0.503\n",
      "sequential tagging i=15, score=0.502\n"
     ]
    },
    {
     "data": {
      "text/plain": [
       "('이건 진짜 좋은 영화 라라랜드진짜 좋은 영화',\n",
       " [0, 1, 0, 1, 0, 1, 0, 1, 0, 0, 0, None, None, 1, 0, 1, 0, 1])"
      ]
     },
     "execution_count": 11,
     "metadata": {},
     "output_type": "execute_result"
    }
   ],
   "source": [
    "model.correct(doc=sent, debug=True, force_abs_threshold=0.9, nonspace_threshold=nt, space_threshold=st, min_count=mc)"
   ]
  },
  {
   "cell_type": "markdown",
   "metadata": {
    "deletable": true,
    "editable": true
   },
   "source": [
    "### Load model and rules\n",
    "\n",
    "이미 학습된 모델과 띄어쓰기가 반드시 이뤄져야 하는 rules를 아는 경우에 이를 로딩하여 이용할 수 있습니다. "
   ]
  },
  {
   "cell_type": "code",
   "execution_count": 12,
   "metadata": {
    "collapsed": false,
    "deletable": true,
    "editable": true
   },
   "outputs": [],
   "source": [
    "model = CountSpace()\n",
    "\n",
    "model_fname = './tmp/space_model.json'\n",
    "model.load_model(model_fname, json_format=True)"
   ]
  },
  {
   "cell_type": "markdown",
   "metadata": {
    "deletable": true,
    "editable": true
   },
   "source": [
    "아래와 같이 모델을 중복으로 로딩할 수 있습니다. 중복으로 로딩될 때에는 (chars,tags)의 빈도수가 추가됩니다. "
   ]
  },
  {
   "cell_type": "code",
   "execution_count": 13,
   "metadata": {
    "collapsed": true,
    "deletable": true,
    "editable": true
   },
   "outputs": [],
   "source": [
    "another_model_fname = './tmp/space_model.json'\n",
    "model.load_model(another_model_fname, json_format=True)"
   ]
  },
  {
   "cell_type": "markdown",
   "metadata": {
    "deletable": true,
    "editable": true
   },
   "source": [
    "rules는 하나 이상의 파일이 입력될 수 있음을 고려하여 fname list로 받습니다. \n",
    "\n",
    "min_rule_length, max_rule_length는 rules에 이용되는 단어의 최소/최대 길이입니다. "
   ]
  },
  {
   "cell_type": "code",
   "execution_count": 14,
   "metadata": {
    "collapsed": false,
    "deletable": true,
    "editable": true
   },
   "outputs": [],
   "source": [
    "rule_fnames = ['./space_rules.txt']\n",
    "min_rule_length = 2\n",
    "max_rule_length = 3\n",
    "\n",
    "rule_dict = RuleDict(min_rule_length, max_rule_length, rule_fnames)"
   ]
  },
  {
   "cell_type": "code",
   "execution_count": 15,
   "metadata": {
    "collapsed": false,
    "deletable": true,
    "editable": true
   },
   "outputs": [
    {
     "data": {
      "text/plain": [
       "{'가게는': (1, 0, 0, 1),\n",
       " '가게로': (1, 0, 0, 1),\n",
       " '가게야': (1, 0, 0, 1),\n",
       " '가게찌': (1, 0, 0, 1),\n",
       " '가령': (1, 0, 1),\n",
       " '가잣': (1, 0, 1),\n",
       " '가졍': (1, 0, 1),\n",
       " '가쥬': (1, 0, 1),\n",
       " '각각': (1, 0, 1)}"
      ]
     },
     "execution_count": 15,
     "metadata": {},
     "output_type": "execute_result"
    }
   ],
   "source": [
    "rule_dict.rule_dict"
   ]
  },
  {
   "cell_type": "code",
   "execution_count": 16,
   "metadata": {
    "collapsed": false,
    "deletable": true,
    "editable": true
   },
   "outputs": [
    {
     "data": {
      "text/plain": [
       "('이건 진짜 좋은 영화 라라랜드진짜 좋은 영화',\n",
       " [0, 1, 0, 1, 0, 1, 0, 1, 0, 0, 0, None, None, 1, 0, 1, 0, 1])"
      ]
     },
     "execution_count": 16,
     "metadata": {},
     "output_type": "execute_result"
    }
   ],
   "source": [
    "model.correct(doc=sent, verbose=verbose, force_abs_threshold=ft, nonspace_threshold=nt, space_threshold=st, min_count=mc)"
   ]
  },
  {
   "cell_type": "code",
   "execution_count": null,
   "metadata": {
    "collapsed": true,
    "deletable": true,
    "editable": true
   },
   "outputs": [],
   "source": []
  }
 ],
 "metadata": {
  "anaconda-cloud": {},
  "kernelspec": {
   "display_name": "Python 3",
   "language": "python",
   "name": "python3"
  },
  "language_info": {
   "codemirror_mode": {
    "name": "ipython",
    "version": 3
   },
   "file_extension": ".py",
   "mimetype": "text/x-python",
   "name": "python",
   "nbconvert_exporter": "python",
   "pygments_lexer": "ipython3",
   "version": "3.5.3"
  }
 },
 "nbformat": 4,
 "nbformat_minor": 0
}
