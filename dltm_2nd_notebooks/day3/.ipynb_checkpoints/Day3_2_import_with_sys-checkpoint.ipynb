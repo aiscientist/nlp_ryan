{
 "cells": [
  {
   "cell_type": "markdown",
   "metadata": {},
   "source": [
    "sys.path에 자신이 이용할 py 파일이 있는 폴더를 추가하면, 어떤 위치에 있는 py 파일도 import 할 수 있습니다. \n",
    "\n",
    "sys.path는 package path가 들어있는 list입니다. "
   ]
  },
  {
   "cell_type": "code",
   "execution_count": 2,
   "metadata": {
    "collapsed": false
   },
   "outputs": [
    {
     "name": "stdout",
     "output_type": "stream",
     "text": [
      "<class 'list'>\n",
      "['',\n",
      " '/home/lovit/anaconda2/envs/jupyter_server_py3/lib/python35.zip',\n",
      " '/home/lovit/anaconda2/envs/jupyter_server_py3/lib/python3.5',\n",
      " '/home/lovit/anaconda2/envs/jupyter_server_py3/lib/python3.5/plat-linux',\n",
      " '/home/lovit/anaconda2/envs/jupyter_server_py3/lib/python3.5/lib-dynload',\n",
      " '/home/lovit/anaconda2/envs/jupyter_server_py3/lib/python3.5/site-packages/Sphinx-1.3.5-py3.5.egg',\n",
      " '/home/lovit/anaconda2/envs/jupyter_server_py3/lib/python3.5/site-packages/setuptools-20.3-py3.5.egg',\n",
      " '/home/lovit/anaconda2/envs/jupyter_server_py3/lib/python3.5/site-packages',\n",
      " '/home/lovit/anaconda2/envs/jupyter_server_py3/lib/python3.5/site-packages/IPython/extensions',\n",
      " '/home/lovit/.ipython']\n"
     ]
    }
   ],
   "source": [
    "from pprint import pprint\n",
    "import sys\n",
    "\n",
    "print(type(sys.path))\n",
    "pprint(sys.path)"
   ]
  },
  {
   "cell_type": "markdown",
   "metadata": {},
   "source": [
    "sys.path에 폴더 주소를 넣어준 뒤, 다시 sys.path를 프린트하면 추가한 주소가 들어있습니다. \n",
    "\n",
    "그 뒤에 package를 import 할 수 있습니다. "
   ]
  },
  {
   "cell_type": "code",
   "execution_count": 3,
   "metadata": {
    "collapsed": true
   },
   "outputs": [],
   "source": [
    "sys.path.append('../../lovit/mypy/')"
   ]
  },
  {
   "cell_type": "code",
   "execution_count": 4,
   "metadata": {
    "collapsed": false
   },
   "outputs": [
    {
     "name": "stdout",
     "output_type": "stream",
     "text": [
      "['',\n",
      " '/home/lovit/anaconda2/envs/jupyter_server_py3/lib/python35.zip',\n",
      " '/home/lovit/anaconda2/envs/jupyter_server_py3/lib/python3.5',\n",
      " '/home/lovit/anaconda2/envs/jupyter_server_py3/lib/python3.5/plat-linux',\n",
      " '/home/lovit/anaconda2/envs/jupyter_server_py3/lib/python3.5/lib-dynload',\n",
      " '/home/lovit/anaconda2/envs/jupyter_server_py3/lib/python3.5/site-packages/Sphinx-1.3.5-py3.5.egg',\n",
      " '/home/lovit/anaconda2/envs/jupyter_server_py3/lib/python3.5/site-packages/setuptools-20.3-py3.5.egg',\n",
      " '/home/lovit/anaconda2/envs/jupyter_server_py3/lib/python3.5/site-packages',\n",
      " '/home/lovit/anaconda2/envs/jupyter_server_py3/lib/python3.5/site-packages/IPython/extensions',\n",
      " '/home/lovit/.ipython',\n",
      " '../../lovit/mypy/']\n"
     ]
    }
   ],
   "source": [
    "pprint(sys.path)"
   ]
  },
  {
   "cell_type": "code",
   "execution_count": 11,
   "metadata": {
    "collapsed": false
   },
   "outputs": [
    {
     "name": "stdout",
     "output_type": "stream",
     "text": [
      "\r",
      "isnerting 0 sents... \r",
      "inserting subwords into L: done\n",
      "num subword = 3\n",
      "num subword = 3 (after pruning with min count 0)\n"
     ]
    },
    {
     "data": {
      "text/plain": [
       "0.81649658092772603"
      ]
     },
     "execution_count": 11,
     "metadata": {},
     "output_type": "execute_result"
    }
   ],
   "source": [
    "from cohesion import CohesionProbability\n",
    "\n",
    "cohesion_probability = CohesionProbability(min_count=0)\n",
    "cohesion_probability.train([\n",
    "        '가나다', \n",
    "        '가나',\n",
    "        '가나다'\n",
    "    ])\n",
    "\n",
    "cohesion_probability.get_cohesion('가나다')"
   ]
  },
  {
   "cell_type": "code",
   "execution_count": null,
   "metadata": {
    "collapsed": true
   },
   "outputs": [],
   "source": []
  }
 ],
 "metadata": {
  "kernelspec": {
   "display_name": "Python 3",
   "language": "python",
   "name": "python3"
  },
  "language_info": {
   "codemirror_mode": {
    "name": "ipython",
    "version": 3
   },
   "file_extension": ".py",
   "mimetype": "text/x-python",
   "name": "python",
   "nbconvert_exporter": "python",
   "pygments_lexer": "ipython3",
   "version": "3.5.2"
  }
 },
 "nbformat": 4,
 "nbformat_minor": 0
}
