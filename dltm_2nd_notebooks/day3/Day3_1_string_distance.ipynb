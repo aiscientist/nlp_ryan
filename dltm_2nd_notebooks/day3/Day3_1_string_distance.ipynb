{
 "cells": [
  {
   "cell_type": "markdown",
   "metadata": {
    "deletable": true,
    "editable": true
   },
   "source": [
    "## Edit distance\n",
    "\n",
    "1. Edit distance (Levenshtein distance)\n",
    "1. Token edit distance\n",
    "1. Jamo edit distance\n",
    "1. Token - Jamo edit distance"
   ]
  },
  {
   "cell_type": "markdown",
   "metadata": {
    "deletable": true,
    "editable": true
   },
   "source": [
    "기본적인 Levenshtein distance (Edit distance)를 먼저 만든 뒤, 하나씩 변형을 해보겠습니다. \n",
    "\n",
    "코드는 [이 주소][lev]를 참고하여 가져왔습니다. 두 str s1, s2에 대하여 s1의 길이가 s2보다 길거나 같다고 가정합니다. 그래서 len(s1) < len(s2)를 확인하여, s2의 길이가 더 길 경우에는 반대로 입력합니다. \n",
    "\n",
    "s1에서 s2로 바뀌거나, s2에서 s1으로 바뀌는 비용은 같기 때문입니다. \n",
    "\n",
    "[lev]: https://en.wikibooks.org/wiki/Algorithm_Implementation/Strings/Levenshtein_distance#Python"
   ]
  },
  {
   "cell_type": "code",
   "execution_count": 2,
   "metadata": {
    "collapsed": false
   },
   "outputs": [],
   "source": []
  },
  {
   "cell_type": "code",
   "execution_count": 3,
   "metadata": {
    "collapsed": false,
    "deletable": true,
    "editable": true
   },
   "outputs": [],
   "source": [
    "def levenshtein(s1, s2):\n",
    "    if len(s1) < len(s2):\n",
    "        return levenshtein(s2, s1)\n",
    "\n",
    "    # len(s1) >= len(s2)\n",
    "    if len(s2) == 0:\n",
    "        return len(s1)\n",
    "\n",
    "    previous_row = range(len(s2) + 1)\n",
    "    for i, c1 in enumerate(s1):\n",
    "        current_row = [i + 1]\n",
    "        for j, c2 in enumerate(s2):\n",
    "            insertions = previous_row[j + 1] + 1 # j+1 instead of j since previous_row and current_row are one character longer\n",
    "            deletions = current_row[j] + 1       # than s2\n",
    "            substitutions = previous_row[j] + (c1 != c2)\n",
    "            current_row.append(min(insertions, deletions, substitutions))\n",
    "        previous_row = current_row\n",
    "    \n",
    "    return previous_row[-1]"
   ]
  },
  {
   "cell_type": "markdown",
   "metadata": {
    "collapsed": false,
    "deletable": true,
    "editable": true
   },
   "source": [
    "위의 코드는 s1, s2에 대하여 enumerate를 통하여 iteration을 돌면서 각 unit들이 같은지 확인합니다. 즉  s1, s2는 iterable 하기만 하면 됩니다. 글자 단위로 넣으면 띄어쓰기도 글자로 인식한 뒤, 각 위치의 글자들이 같은지 확인하며 Edit distance를 계산합니다. "
   ]
  },
  {
   "cell_type": "code",
   "execution_count": 4,
   "metadata": {
    "collapsed": false,
    "deletable": true,
    "editable": true
   },
   "outputs": [
    {
     "name": "stdout",
     "output_type": "stream",
     "text": [
      "('매직 마법 마술사', '메직 마법 마술사') : 1\n",
      "('매직 마법 마술사', '메직 마법 마술사') : 1\n",
      "('매직 마법 마술사', '메직 마벙 마술사') : 2\n",
      "('매직 마법 마술사', '마술사 매직 마법') : 7\n"
     ]
    }
   ],
   "source": [
    "test_pairs = [\n",
    "    ('매직 마법 마술사', '메직 마법 마술사'),\n",
    "    ('매직 마법 마술사', '메직 마법 마술사'),\n",
    "    ('매직 마법 마술사', '메직 마벙 마술사'), \n",
    "    ('매직 마법 마술사', '마술사 매직 마법')\n",
    "]\n",
    "\n",
    "for pair in test_pairs:\n",
    "    print(pair, ':', levenshtein(pair[0], pair[1]))"
   ]
  },
  {
   "cell_type": "markdown",
   "metadata": {
    "deletable": true,
    "editable": true
   },
   "source": [
    "Unit을 글자가 아니라 단어로 넣을 수도 있습니다. "
   ]
  },
  {
   "cell_type": "code",
   "execution_count": 5,
   "metadata": {
    "collapsed": false,
    "deletable": true,
    "editable": true
   },
   "outputs": [
    {
     "name": "stdout",
     "output_type": "stream",
     "text": [
      "('매직 마법 마술사', '메직 마법 마술사') : 1\n",
      "('매직 마법 마술사', '메직 마법 마술사') : 1\n",
      "('매직 마법 마술사', '메직 마벙 마술사') : 2\n",
      "('매직 마법 마술사', '마술사 매직 마법') : 2\n"
     ]
    }
   ],
   "source": [
    "for pair in test_pairs:\n",
    "    print(pair, ':', levenshtein(pair[0].split(), pair[1].split()))"
   ]
  },
  {
   "cell_type": "markdown",
   "metadata": {
    "deletable": true,
    "editable": true
   },
   "source": [
    "substitutions의 비용을 다르게 줄 수도 있습니다. c1에서 c2로 바뀌는 비용을 (c1, c2): float로 dict에 넣어둡니다."
   ]
  },
  {
   "cell_type": "code",
   "execution_count": 6,
   "metadata": {
    "collapsed": false,
    "deletable": true,
    "editable": true
   },
   "outputs": [
    {
     "name": "stdout",
     "output_type": "stream",
     "text": [
      "with out cost,        서비스 --> 써비스: 1.00\n",
      "with predefined cost, 서비스 --> 써비스: 0.01\n"
     ]
    }
   ],
   "source": [
    "def levenshtein(s1, s2, cost=None):\n",
    "    if len(s1) < len(s2):\n",
    "        return levenshtein(s2, s1)\n",
    "\n",
    "    # len(s1) >= len(s2)\n",
    "    if len(s2) == 0:\n",
    "        return len(s1)\n",
    "    \n",
    "    if cost == None:\n",
    "        cost = {}\n",
    "    \n",
    "    def get_cost(c1, c2, cost):\n",
    "        return 0 if (c1 == c2) else cost.get((c1, c2), 1)\n",
    "\n",
    "    previous_row = range(len(s2) + 1)\n",
    "    for i, c1 in enumerate(s1):\n",
    "        current_row = [i + 1]\n",
    "        for j, c2 in enumerate(s2):\n",
    "            insertions = previous_row[j + 1] + 1 # j+1 instead of j since previous_row and current_row are one character longer\n",
    "            deletions = current_row[j] + 1       # than s2\n",
    "            substitutions = previous_row[j] + get_cost(c1, c2, cost)\n",
    "            current_row.append(min(insertions, deletions, substitutions))\n",
    "        previous_row = current_row\n",
    "    \n",
    "    return previous_row[-1]\n",
    "\n",
    "\n",
    "print('with out cost,        서비스 --> 써비스: %.2f' % levenshtein('서비스', '써비스'))\n",
    "print('with predefined cost, 서비스 --> 써비스: %.2f' % levenshtein('서비스', '써비스', {('서', '써'): 0.01}))"
   ]
  },
  {
   "cell_type": "markdown",
   "metadata": {
    "deletable": true,
    "editable": true
   },
   "source": [
    "띄어쓰기가 있을 경우에는 어절 단위로, 없을 경우에는 글자 단위로 Edit distance를 계산하고, 어절 간의 거리를 임의의 함수로 정의하고 싶다면 아래처럼 base_distance를 argument로 받는 token_levenshtein 함수를 만들 수 있습니다. \n",
    "\n",
    "Python은 함수의 argument로 함수도 넣을 수 있습니다. "
   ]
  },
  {
   "cell_type": "code",
   "execution_count": 12,
   "metadata": {
    "collapsed": false,
    "deletable": true,
    "editable": true
   },
   "outputs": [
    {
     "name": "stdout",
     "output_type": "stream",
     "text": [
      "('매직 마법 마술사', '메직 마법 마술사') : 1 --> 1\n",
      "\n",
      "('매직 마법 마술사', '메직 마법 마술사') : 1 --> 1\n",
      "\n",
      "('매직 마법 마술사', '메직 마벙 마술사') : 2 --> 2\n",
      "\n",
      "('매직 마법 마술사', '마술사 매직 마법') : 7 --> 2\n",
      "\n"
     ]
    }
   ],
   "source": [
    "def token_levenshtein(s1, s2, base_distance=levenshtein, debug=False):\n",
    "    t1 = set(s1.split())\n",
    "    t2 = set(s2.split())\n",
    "    \n",
    "    cost = {(t1_i, t2_j): base_distance(t1_i, t2_j) for t1_i in t1 for t2_j in t2}\n",
    "    \n",
    "    if debug: \n",
    "        print(cost)\n",
    "        \n",
    "    return levenshtein(s1.split(), s2.split(), cost)\n",
    "    \n",
    "    \n",
    "for pair in test_pairs:\n",
    "    print(pair, ':', '%d --> %d\\n' % (levenshtein(pair[0],pair[1]), \n",
    "                                    token_levenshtein(pair[0], pair[1])))"
   ]
  },
  {
   "cell_type": "markdown",
   "metadata": {
    "deletable": true,
    "editable": true
   },
   "source": [
    "한글을 받아서 초/중/종성을 나눈 뒤, 한 글자를 세 글자로 이뤄진 리스트를 return 하는 함수를 만들겠습니다. "
   ]
  },
  {
   "cell_type": "code",
   "execution_count": 15,
   "metadata": {
    "collapsed": false,
    "deletable": true,
    "editable": true
   },
   "outputs": [
    {
     "data": {
      "text/plain": [
       "['ㄱ', 'ㅏ', 'ㅁ']"
      ]
     },
     "execution_count": 15,
     "metadata": {},
     "output_type": "execute_result"
    }
   ],
   "source": [
    "class Jamo:\n",
    "    \n",
    "    kor_begin = 44032\n",
    "    kor_end = 55203\n",
    "    chosung_base = 588\n",
    "    jungsung_base = 28\n",
    "\n",
    "    chosung_list = [ 'ㄱ', 'ㄲ', 'ㄴ', 'ㄷ', 'ㄸ', 'ㄹ', 'ㅁ', 'ㅂ', 'ㅃ', \n",
    "            'ㅅ', 'ㅆ', 'ㅇ' , 'ㅈ', 'ㅉ', 'ㅊ', 'ㅋ', 'ㅌ', 'ㅍ', 'ㅎ']\n",
    "\n",
    "    jungsung_list = ['ㅏ', 'ㅐ', 'ㅑ', 'ㅒ', 'ㅓ', 'ㅔ', \n",
    "            'ㅕ', 'ㅖ', 'ㅗ', 'ㅘ', 'ㅙ', 'ㅚ', \n",
    "            'ㅛ', 'ㅜ', 'ㅝ', 'ㅞ', 'ㅟ', 'ㅠ', \n",
    "            'ㅡ', 'ㅢ', 'ㅣ']\n",
    "\n",
    "    jongsung_list = [\n",
    "        ' ', 'ㄱ', 'ㄲ', 'ㄳ', 'ㄴ', 'ㄵ', 'ㄶ', 'ㄷ',\n",
    "            'ㄹ', 'ㄺ', 'ㄻ', 'ㄼ', 'ㄽ', 'ㄾ', 'ㄿ', 'ㅀ', \n",
    "            'ㅁ', 'ㅂ', 'ㅄ', 'ㅅ', 'ㅆ', 'ㅇ', 'ㅈ', 'ㅊ', \n",
    "            'ㅋ', 'ㅌ', 'ㅍ', 'ㅎ']\n",
    "\n",
    "    jaum_list = ['ㄱ', 'ㄲ', 'ㄳ', 'ㄴ', 'ㄵ', 'ㄶ', 'ㄷ', 'ㄸ', 'ㄹ', \n",
    "                  'ㄺ', 'ㄻ', 'ㄼ', 'ㄽ', 'ㄾ', 'ㄿ', 'ㅀ', 'ㅁ', 'ㅂ', \n",
    "                  'ㅃ', 'ㅄ', 'ㅅ', 'ㅆ', 'ㅇ', 'ㅈ', 'ㅉ', 'ㅊ', 'ㅋ', 'ㅌ', 'ㅍ', 'ㅎ']\n",
    "\n",
    "    moum_list = ['ㅏ', 'ㅐ', 'ㅑ', 'ㅒ', 'ㅓ', 'ㅔ', 'ㅕ', 'ㅖ', 'ㅗ', 'ㅘ', \n",
    "                  'ㅙ', 'ㅚ', 'ㅛ', 'ㅜ', 'ㅝ', 'ㅞ', 'ㅟ', 'ㅠ', 'ㅡ', 'ㅢ', 'ㅣ']\n",
    "        \n",
    "    def jamo(self, c):\n",
    "        i = ord(c)\n",
    "        if not (self.kor_begin <= i <= self.kor_end):\n",
    "            return [c]\n",
    "        \n",
    "        i = i - self.kor_begin\n",
    "        cho  = i // self.chosung_base\n",
    "        jung = ( i - cho * self.chosung_base ) // self.jungsung_base \n",
    "        jong = ( i - cho * self.chosung_base - jung * self.jungsung_base )\n",
    "\n",
    "        return [self.chosung_list[cho], self.jungsung_list[jung], self.jongsung_list[jong]]\n",
    "    \n",
    "jamo_module = Jamo()\n",
    "\n",
    "def jamo(c):\n",
    "    return jamo_module.jamo(c)\n",
    "\n",
    "jamo('감')"
   ]
  },
  {
   "cell_type": "markdown",
   "metadata": {
    "deletable": true,
    "editable": true
   },
   "source": [
    "글자의 substitution 비용을 초/중/종성을 분리한 뒤의 levenshtein 거리의 1/3을 곱함으로써, 초/중/종성 차이를 모두 고려하는 levenshtein distance를 계산할 수 있습니다. "
   ]
  },
  {
   "cell_type": "code",
   "execution_count": 16,
   "metadata": {
    "collapsed": false,
    "deletable": true,
    "editable": true
   },
   "outputs": [
    {
     "data": {
      "text/plain": [
       "1.3333333333333333"
      ]
     },
     "execution_count": 16,
     "metadata": {},
     "output_type": "execute_result"
    }
   ],
   "source": [
    "def jamo_levenshtein(s1, s2):\n",
    "    if len(s1) < len(s2):\n",
    "        return levenshtein(s2, s1)\n",
    "\n",
    "    # len(s1) >= len(s2)\n",
    "    if len(s2) == 0:\n",
    "        return len(s1)\n",
    "    \n",
    "    def get_jamo_cost(c1, c2):\n",
    "        return 0 if (c1 == c2) else levenshtein(jamo(c1), jamo(c2))/3\n",
    "\n",
    "    previous_row = range(len(s2) + 1)\n",
    "    for i, c1 in enumerate(s1):\n",
    "        current_row = [i + 1]\n",
    "        for j, c2 in enumerate(s2):\n",
    "            insertions = previous_row[j + 1] + 1 # j+1 instead of j since previous_row and current_row are one character longer\n",
    "            deletions = current_row[j] + 1       # than s2\n",
    "            substitutions = previous_row[j] + get_jamo_cost(c1, c2)\n",
    "            current_row.append(min(insertions, deletions, substitutions))\n",
    "        previous_row = current_row\n",
    "    \n",
    "    return previous_row[-1]\n",
    "\n",
    "jamo_levenshtein('가각', '감이')"
   ]
  },
  {
   "cell_type": "code",
   "execution_count": 17,
   "metadata": {
    "collapsed": false,
    "deletable": true,
    "editable": true
   },
   "outputs": [
    {
     "name": "stdout",
     "output_type": "stream",
     "text": [
      "                                   BASIC --> TOKEN --> JAMO TOKEN\n",
      "('매직 마법 마술사', '메직 마법 마술사') : 1 --> 1 --> 0.333\n",
      "('매직 마법 마술사', '메직 마법 마술사') : 1 --> 1 --> 0.333\n",
      "('매직 마법 마술사', '메직 마벙 마술사') : 2 --> 2 --> 0.667\n",
      "('매직 마법 마술사', '마술사 매직 마법') : 7 --> 2 --> 2.000\n"
     ]
    }
   ],
   "source": [
    "print('%sBASIC --> TOKEN --> JAMO TOKEN' % (' '*35))\n",
    "\n",
    "for pair in test_pairs:\n",
    "    print(pair, ':', '%d --> %d --> %.3f' % (levenshtein(pair[0],pair[1]), \n",
    "                                             token_levenshtein(pair[0], pair[1]),\n",
    "                                             token_levenshtein(pair[0], pair[1], base_distance=jamo_levenshtein))\n",
    "         )"
   ]
  },
  {
   "cell_type": "markdown",
   "metadata": {
    "deletable": true,
    "editable": true
   },
   "source": [
    "## Jaccard distance"
   ]
  },
  {
   "cell_type": "markdown",
   "metadata": {
    "deletable": true,
    "editable": true
   },
   "source": [
    "Jaccard distance는 unit들에 대하여 set의 1 - (intersection / union) 값입니다. \n",
    "\n",
    "주어진 단어 s1, s2에 대하여 unit을 만드는 함수를 lambda를 통하여 정의하였습니다. \n",
    "\n",
    "    s1_set = unify(s1)\n",
    "    \n",
    "이 부분을 통하여 주어진 s1, s2는 unit set으로 바뀌게 되며, str을 set 처리하면 글자의 set이 출력됩니다. set은 iterable한 대상이 입력되면 iteration을 돌면서 고유한 값을 저장하기 때문입니다. "
   ]
  },
  {
   "cell_type": "code",
   "execution_count": 9,
   "metadata": {
    "collapsed": false,
    "deletable": true,
    "editable": true
   },
   "outputs": [
    {
     "data": {
      "text/plain": [
       "{'a', 'b', 'c'}"
      ]
     },
     "execution_count": 9,
     "metadata": {},
     "output_type": "execute_result"
    }
   ],
   "source": [
    "set('abcc')"
   ]
  },
  {
   "cell_type": "code",
   "execution_count": 10,
   "metadata": {
    "collapsed": false,
    "deletable": true,
    "editable": true
   },
   "outputs": [
    {
     "data": {
      "text/plain": [
       "{'a'}"
      ]
     },
     "execution_count": 10,
     "metadata": {},
     "output_type": "execute_result"
    }
   ],
   "source": [
    "set('a')"
   ]
  },
  {
   "cell_type": "code",
   "execution_count": 24,
   "metadata": {
    "collapsed": false,
    "deletable": true,
    "editable": true
   },
   "outputs": [
    {
     "name": "stdout",
     "output_type": "stream",
     "text": [
      "{'도', '것', '이', '요'}\n",
      "{'도', '저', '것', '요', '오'}\n",
      "0.5 \n",
      "\n",
      "{'것도', '도요', '이것'}\n",
      "{'것도', '저것', '도요', '요오'}\n",
      "0.6\n"
     ]
    }
   ],
   "source": [
    "def jaccard_distance(s1, s2, unitfy=lambda x:set(x), debug=False):\n",
    "    if (not s1) or (not s2):\n",
    "        return 1\n",
    "    \n",
    "    s1_set = unitfy(s1)\n",
    "    s2_set = unitfy(s2)\n",
    "    if debug:\n",
    "        print(s1_set)\n",
    "        print(s2_set)\n",
    "    return 1 - len(s1_set.intersection(s2_set)) / len(s1_set.union(s2_set))\n",
    "\n",
    "print(jaccard_distance('이것도요', '저것도요오', debug=True), '\\n')\n",
    "print(jaccard_distance('이것도요', '저것도요오', debug=True, \n",
    "                       unitfy=lambda x:set([x[i:i+2] for i in range(len(x)-1)])))"
   ]
  },
  {
   "cell_type": "markdown",
   "metadata": {
    "deletable": true,
    "editable": true
   },
   "source": [
    "unify 함수에 복잡한 함수를 넣을 때에는 lambda와 helper 함수를 함께 써도 좋습니다. \n",
    "\n",
    "char_ngram은 min_n부터 max_n길이의 character ngram을 추출하는 함수입니다. "
   ]
  },
  {
   "cell_type": "code",
   "execution_count": 26,
   "metadata": {
    "collapsed": false,
    "deletable": true,
    "editable": true
   },
   "outputs": [
    {
     "name": "stdout",
     "output_type": "stream",
     "text": [
      "{'것도', '도요', '이것도', '것도요', '이것'}\n",
      "{'도요오', '도요', '요오', '저것', '저것도', '것도', '것도요'}\n",
      "0.6666666666666667\n"
     ]
    }
   ],
   "source": [
    "def char_ngram(x, min_n=1, max_n=3):\n",
    "    ngrams = []\n",
    "    max_n = min(max_n, len(x))\n",
    "    for n in range(min_n, max_n+1):\n",
    "        for b in range(len(x) - n + 1):\n",
    "            ngrams.append(x[b:b+n])\n",
    "    return ngrams\n",
    "\n",
    "print(jaccard_distance('이것도요', '저것도요오', debug=True, \n",
    "                       unitfy=lambda x:set(char_ngram(x, min_n=2))))"
   ]
  },
  {
   "cell_type": "markdown",
   "metadata": {
    "deletable": true,
    "editable": true
   },
   "source": [
    "## Cosine"
   ]
  },
  {
   "cell_type": "markdown",
   "metadata": {
    "deletable": true,
    "editable": true
   },
   "source": [
    "Cosine distance는 Jaccard distance와 다르게, 한 unit이 몇 번 등장하였는지의 횟수 정보를 이용합니다. 이를 위해서 str s1, s2의 character들이 몇 번 등장하였는지 카운팅을 해야 합니다. iterable 한 객체의 요소들의 카운팅은 Counter를 이용하여 쉽게 할 수 있습니다. "
   ]
  },
  {
   "cell_type": "code",
   "execution_count": 22,
   "metadata": {
    "collapsed": false,
    "deletable": true,
    "editable": true
   },
   "outputs": [
    {
     "data": {
      "text/plain": [
       "Counter({'a': 1, 'b': 1, 'c': 1})"
      ]
     },
     "execution_count": 22,
     "metadata": {},
     "output_type": "execute_result"
    }
   ],
   "source": [
    "from collections import Counter\n",
    "\n",
    "Counter('abc')"
   ]
  },
  {
   "cell_type": "code",
   "execution_count": 23,
   "metadata": {
    "collapsed": false,
    "deletable": true,
    "editable": true
   },
   "outputs": [
    {
     "name": "stdout",
     "output_type": "stream",
     "text": [
      "d1:  Counter({'도': 1, '것': 1, '이': 1, '요': 1})\n",
      "d2:  Counter({'요': 1, '저': 1, '도': 1, '것': 1, '오': 1})\n",
      "0.32917960675 \n",
      "\n",
      "d1:  Counter({'도요': 1, '요': 1, '것도': 1, '이': 1, '것': 1, '것도요': 1, '도': 1, '이것': 1, '이것도': 1})\n",
      "d2:  Counter({'저': 1, '도요오': 1, '도요': 1, '것': 1, '도': 1, '요오': 1, '저것': 1, '요': 1, '저것도': 1, '것도': 1, '것도요': 1, '오': 1})\n",
      "0.42264973081\n"
     ]
    }
   ],
   "source": [
    "import numpy as np\n",
    "\n",
    "def cosine_distance(s1, s2, unitfy=lambda x:Counter(x), debug=False):\n",
    "    \"\"\"distance = 1 - cosine similarity; [0, 2]\n",
    "    \"\"\"\n",
    "    \n",
    "    if (not s1) or (not s2):\n",
    "        return 2\n",
    "    \n",
    "    d1 = unitfy(s1)\n",
    "    d2 = unitfy(s2)\n",
    "    \n",
    "    prod = 0\n",
    "    for c1, f in d1.items():\n",
    "        prod += (f * d2.get(c1, 0))\n",
    "        \n",
    "    if debug:\n",
    "        print('d1: ', d1)\n",
    "        print('d2: ', d2)\n",
    "    \n",
    "    return 1 - ( prod / np.sqrt( (sum([f**2 for f in d1.values()]) * sum([f**2 for f in d2.values()])) ) )\n",
    "\n",
    "print(cosine_distance('이것도요', '저것도요오', debug=True), '\\n')\n",
    "print(cosine_distance('이것도요', '저것도요오', debug=True, \n",
    "                      unitfy=lambda x:Counter(char_ngram(x, min_n=1, max_n=3))))"
   ]
  },
  {
   "cell_type": "code",
   "execution_count": null,
   "metadata": {
    "collapsed": true,
    "deletable": true,
    "editable": true
   },
   "outputs": [],
   "source": []
  }
 ],
 "metadata": {
  "kernelspec": {
   "display_name": "Python 3",
   "language": "python",
   "name": "python3"
  },
  "language_info": {
   "codemirror_mode": {
    "name": "ipython",
    "version": 3
   },
   "file_extension": ".py",
   "mimetype": "text/x-python",
   "name": "python",
   "nbconvert_exporter": "python",
   "pygments_lexer": "ipython3",
   "version": "3.5.3"
  }
 },
 "nbformat": 4,
 "nbformat_minor": 0
}
