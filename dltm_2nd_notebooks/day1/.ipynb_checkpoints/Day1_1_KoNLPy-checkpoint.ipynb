{
 "cells": [
  {
   "cell_type": "markdown",
   "metadata": {
    "deletable": true,
    "editable": true
   },
   "source": [
    "[KoNLPy](http://konlpy.org/ko/latest) 는 Python에서 한국어 텍스트의 전처리를 할 수 있도록 토크나이징 / 품사 태깅 / 명사 추출을 하는 Packages입니다. \n",
    "\n",
    "KoNLPy에는 트위터 형태소 분석기, 한나눔, 꼬꼬마, 코모란, 한국어-매캅 등 다양한 종류의 공개된 한국어 형태소 분석기들이 들어있습니다. 각 형태소 분석기마다 구현된 언어가 다릅니다. 특히 자바로 구현된 형태소 분석기들을 사용하기 위해서 JPype1을 먼저 설치하여야 합니다. \n",
    "\n",
    "이번 실습에서는 꼬꼬마, 트위터 분석기, 한나눔을 이용하겠습니다. "
   ]
  },
  {
   "cell_type": "code",
   "execution_count": 1,
   "metadata": {
    "collapsed": true,
    "deletable": true,
    "editable": true
   },
   "outputs": [],
   "source": [
    "from konlpy.tag import Kkma, Twitter, Hannanum\n",
    "from pprint import pprint"
   ]
  },
  {
   "cell_type": "markdown",
   "metadata": {
    "deletable": true,
    "editable": true
   },
   "source": [
    "여러 개의 형태소 분석기를 비교하기 위해서 각 형태소 분석기들을 이름과 함께 tuple로 만들어, 이를 list에 넣어둡니다. "
   ]
  },
  {
   "cell_type": "code",
   "execution_count": 2,
   "metadata": {
    "collapsed": true,
    "deletable": true,
    "editable": true
   },
   "outputs": [],
   "source": [
    "taggers = [('kkma', Kkma()), ('twitter', Twitter()), ('hannanum', Hannanum())]"
   ]
  },
  {
   "cell_type": "markdown",
   "metadata": {
    "deletable": true,
    "editable": true
   },
   "source": [
    "print를 할 때 %s는 해당 자리에 str이 들어간다는 의미입니다. 해당되는 값은 % 뒤의 튜플 안에 넣어줄 수 있습니다. \n",
    "\n",
    "String format에 넣을 수 있는 것들은 %d (int), %f (float), %r (boolean) 등이 있습니다. \n",
    "\n",
    "%10s를 이용하면 우측 정렬로 해당 str의 길이가 10보다 짧을 경우, 나머지를 모두 빈 칸으로 채워줍니다. "
   ]
  },
  {
   "cell_type": "code",
   "execution_count": 3,
   "metadata": {
    "collapsed": false,
    "deletable": true,
    "editable": true
   },
   "outputs": [
    {
     "name": "stdout",
     "output_type": "stream",
     "text": [
      "tagger name =       kkma\tclass_name = <class 'konlpy.tag._kkma.Kkma'>\n",
      "tagger name =    twitter\tclass_name = <class 'konlpy.tag._twitter.Twitter'>\n",
      "tagger name =   hannanum\tclass_name = <class 'konlpy.tag._hannanum.Hannanum'>\n"
     ]
    }
   ],
   "source": [
    "for tagger in taggers:\n",
    "    name = tagger[0]       # tagger라는 tuple의 0번째 요소\n",
    "    tagger = tagger[1]     # tagger라는 tuple의 1번째 요소\n",
    "    print('tagger name = %10s\\tclass_name = %s' % (name, tagger.__class__))"
   ]
  },
  {
   "cell_type": "markdown",
   "metadata": {
    "deletable": true,
    "editable": true
   },
   "source": [
    "비슷하게 %.3f를 이용하면 float의 소수점 3자리 까지만 출력해줍니다. "
   ]
  },
  {
   "cell_type": "code",
   "execution_count": 4,
   "metadata": {
    "collapsed": false,
    "deletable": true,
    "editable": true
   },
   "outputs": [
    {
     "data": {
      "text/plain": [
       "'1.321'"
      ]
     },
     "execution_count": 4,
     "metadata": {},
     "output_type": "execute_result"
    }
   ],
   "source": [
    "'%.3f' % 1.3205533"
   ]
  },
  {
   "cell_type": "markdown",
   "metadata": {
    "deletable": true,
    "editable": true
   },
   "source": [
    "참고로 [https://pyformat.info/](https://pyformat.info/) 를 살펴보면 {}를 이용하는 format도 볼 수 있습니다. %s를 이용하면 타입을 지정할 수 있다는 장점도 있습니다. "
   ]
  },
  {
   "cell_type": "markdown",
   "metadata": {
    "deletable": true,
    "editable": true
   },
   "source": [
    "taggers list 안의 자료들이 다른 자료 2개로 이뤄진 튜플이란 것을 알기 때문에 \n",
    "\n",
    "    for tagger in taggers:\n",
    "    \n",
    "대신, tagger[0], tagger[1]을 미리 지정할 수 있습니다. \n",
    "\n",
    "    for name, tagger in taggers:"
   ]
  },
  {
   "cell_type": "code",
   "execution_count": 5,
   "metadata": {
    "collapsed": false,
    "deletable": true,
    "editable": true
   },
   "outputs": [
    {
     "name": "stdout",
     "output_type": "stream",
     "text": [
      "tagger name =       kkma\tclass_name = <class 'konlpy.tag._kkma.Kkma'>\n",
      "tagger name =    twitter\tclass_name = <class 'konlpy.tag._twitter.Twitter'>\n",
      "tagger name =   hannanum\tclass_name = <class 'konlpy.tag._hannanum.Hannanum'>\n"
     ]
    }
   ],
   "source": [
    "for name, tagger in taggers:\n",
    "    print('tagger name = %10s\\tclass_name = %s' % (name, tagger.__class__))"
   ]
  },
  {
   "cell_type": "markdown",
   "metadata": {
    "deletable": true,
    "editable": true
   },
   "source": [
    "함수를 실행는 시간을 보고 싶을 때에는 %%time 예약어를 이용하면 좋습니다"
   ]
  },
  {
   "cell_type": "markdown",
   "metadata": {
    "deletable": true,
    "editable": true
   },
   "source": [
    "패키지마다 품사표가 다릅니다. Hannanum에서 '이건'이란 어절이 [('이', 'N'), ('이', 'J'), ('건', 'E')]으로 나오는 것은 '이'라는 글자가 명사(N), 조사(J)가 있기 때문입니다"
   ]
  },
  {
   "cell_type": "code",
   "execution_count": 6,
   "metadata": {
    "collapsed": false,
    "deletable": true,
    "editable": true
   },
   "outputs": [
    {
     "name": "stdout",
     "output_type": "stream",
     "text": [
      "pos_tagger name = hannanum\n",
      "[('이', 'N'),\n",
      " ('이', 'J'),\n",
      " ('건', 'E'),\n",
      " ('테스트', 'N'),\n",
      " ('문장', 'N'),\n",
      " ('이', 'J'),\n",
      " ('ㅂ니다', 'E')]\n",
      "CPU times: user 2.02 s, sys: 128 ms, total: 2.15 s\n",
      "Wall time: 612 ms\n"
     ]
    }
   ],
   "source": [
    "%%time\n",
    "print('pos_tagger name = %s' % taggers[2][0])\n",
    "pprint(taggers[2][1].pos('이건 테스트 문장입니다'))"
   ]
  },
  {
   "cell_type": "markdown",
   "metadata": {
    "deletable": true,
    "editable": true
   },
   "source": [
    "패키지마다 품사표가 좀 다릅니다. 각 품사표를 확인하고 싶다면 [KoNLPy][konlpy_page]의 [품사 태그 비교표][tag_table]를 보셔도 좋고, 아래와 같이 각 형태소 분석기의 태그셋을 확인하셔도 좋습니다\n",
    "\n",
    "[konlpy_page]: http://konlpy.org/ko/v0.4.4/morph/\n",
    "[tag_table]: https://docs.google.com/spreadsheets/d/1OGAjUvalBuX-oZvZ_-9tEfYD2gQe7hTGsgUpiiBSXI8/edit#gid=0"
   ]
  },
  {
   "cell_type": "code",
   "execution_count": 7,
   "metadata": {
    "collapsed": false,
    "deletable": true,
    "editable": true
   },
   "outputs": [
    {
     "name": "stdout",
     "output_type": "stream",
     "text": [
      "pos_tagger name = kkma\n",
      "{'EC': '연결 어미',\n",
      " 'ECD': '의존적 연결 어미',\n",
      " 'ECE': '대등 연결 어미',\n",
      " 'ECS': '보조적 연결 어미',\n",
      " 'EF': '종결 어미',\n",
      " 'EFA': '청유형 종결 어미',\n",
      " 'EFI': '감탄형 종결 어미',\n",
      " 'EFN': '평서형 종결 어미',\n",
      " 'EFO': '명령형 종결 어미',\n",
      " 'EFQ': '의문형 종결 어미',\n",
      " 'EFR': '존칭형 종결 어미',\n",
      " 'EP': '선어말 어미',\n",
      " 'EPH': '존칭 선어말 어미',\n",
      " 'EPP': '공손 선어말 어미',\n",
      " 'EPT': '시제 선어말 어미',\n",
      " 'ET': '전성 어미',\n",
      " 'ETD': '관형형 전성 어미',\n",
      " 'ETN': '명사형 전성 어미',\n",
      " 'IC': '감탄사',\n",
      " 'JC': '접속 조사',\n",
      " 'JK': '조사',\n",
      " 'JKC': '보격 조사',\n",
      " 'JKG': '관형격 조사',\n",
      " 'JKI': '호격 조사',\n",
      " 'JKM': '부사격 조사',\n",
      " 'JKO': '목적격 조사',\n",
      " 'JKQ': '인용격 조사',\n",
      " 'JKS': '주격 조사',\n",
      " 'JX': '보조사',\n",
      " 'MA': '부사',\n",
      " 'MAC': '접속 부사',\n",
      " 'MAG': '일반 부사',\n",
      " 'MD': '관형사',\n",
      " 'MDN': '수 관형사',\n",
      " 'MDT': '일반 관형사',\n",
      " 'NN': '명사',\n",
      " 'NNB': '일반 의존 명사',\n",
      " 'NNG': '보통명사',\n",
      " 'NNM': '단위 의존 명사',\n",
      " 'NNP': '고유명사',\n",
      " 'NP': '대명사',\n",
      " 'NR': '수사',\n",
      " 'OH': '한자',\n",
      " 'OL': '외국어',\n",
      " 'ON': '숫자',\n",
      " 'SE': '줄임표',\n",
      " 'SF': '마침표, 물음표, 느낌표',\n",
      " 'SO': '붙임표(물결,숨김,빠짐)',\n",
      " 'SP': '쉼표,가운뎃점,콜론,빗금',\n",
      " 'SS': '따옴표,괄호표,줄표',\n",
      " 'SW': '기타기호 (논리수학기호,화폐기호)',\n",
      " 'UN': '명사추정범주',\n",
      " 'VA': '형용사',\n",
      " 'VC': '지정사',\n",
      " 'VCN': \"부정 지정사, 형용사 '아니다'\",\n",
      " 'VCP': \"긍정 지정사, 서술격 조사 '이다'\",\n",
      " 'VV': '동사',\n",
      " 'VX': '보조 용언',\n",
      " 'VXA': '보조 형용사',\n",
      " 'VXV': '보조 동사',\n",
      " 'XP': '접두사',\n",
      " 'XPN': '체언 접두사',\n",
      " 'XPV': '용언 접두사',\n",
      " 'XR': '어근',\n",
      " 'XSA': '형용사 파생 접미사',\n",
      " 'XSN': '명사파생 접미사',\n",
      " 'XSV': '동사 파생 접미사'}\n"
     ]
    }
   ],
   "source": [
    "print('pos_tagger name = %s' % taggers[0][0])\n",
    "pprint(taggers[0][1].tagset)"
   ]
  },
  {
   "cell_type": "code",
   "execution_count": 8,
   "metadata": {
    "collapsed": false,
    "deletable": true,
    "editable": true
   },
   "outputs": [
    {
     "name": "stdout",
     "output_type": "stream",
     "text": [
      "pos_tagger name = twitter\n",
      "{'Adjective': '형용사',\n",
      " 'Adverb': '부사',\n",
      " 'Alpha': '알파벳',\n",
      " 'Conjunction': '접속사',\n",
      " 'Determiner': '관형사',\n",
      " 'Eomi': '어미',\n",
      " 'Exclamation': '감탄사',\n",
      " 'Foreign': '외국어, 한자 및 기타기호',\n",
      " 'Hashtag': '트위터 해쉬태그',\n",
      " 'Josa': '조사',\n",
      " 'KoreanParticle': '(ex: ㅋㅋ)',\n",
      " 'Noun': '명사',\n",
      " 'Number': '숫자',\n",
      " 'PreEomi': '선어말어미',\n",
      " 'Punctuation': '구두점',\n",
      " 'ScreenName': '트위터 아이디',\n",
      " 'Suffix': '접미사',\n",
      " 'Unknown': '미등록어',\n",
      " 'Verb': '동사'}\n"
     ]
    }
   ],
   "source": [
    "print('pos_tagger name = %s' % taggers[1][0])\n",
    "pprint(taggers[1][1].tagset)"
   ]
  },
  {
   "cell_type": "markdown",
   "metadata": {
    "deletable": true,
    "editable": true
   },
   "source": [
    "12개로 이뤄진 실제 뉴스 기사에 대하여 각각의 형태소 분석기를 적용해 보겠습니다. "
   ]
  },
  {
   "cell_type": "code",
   "execution_count": 9,
   "metadata": {
    "collapsed": true,
    "deletable": true,
    "editable": true
   },
   "outputs": [],
   "source": [
    "sents = ['최순실 씨가 외국인투자촉진법 개정안 통과와 예산안 반영까지 꼼꼼이 챙긴 건데, 이른바 외촉법, 어떤 법이길래 최 씨가 열심히 챙긴 걸까요. 자신의 이해관계와 맞아 떨어지는 부분이 없었는지 취재기자와 한걸음 더 들여다보겠습니다. 이서준 기자, 우선 외국인투자촉진법 개정안, 어떤 내용입니까?',\n",
    "        '한마디로 대기업이 외국 투자를 받아 계열사를 설립할 때 규제를 완화시켜 주는 법안입니다. 대기업 지주사의 손자 회사가 이른바 증손회사를 만들 때 지분 100%를 출자해야 합니다. 대기업의 문어발식 계열사 확장을 막기 위한 조치인데요. 외촉법 개정안은 손자회사가 외국 투자를 받아서 증손회사를 만들 땐 예외적으로 50% 지분만 투자해도 되게끔 해주는 내용입니다.',\n",
    "        '그만큼 쉽게 완화해주는 거잖아요. 그때 기억을 더듬어보면 야당의 반발이 매우 심했습니다. 그 이유가 뭐였죠? ',\n",
    "        '대기업 특혜 법안이라는 취지였는데요. (당연히 그랬겠죠.) 당시 박영선 의원의 국회 발언을 들어보시겠습니다. [박영선 의원/더불어민주당 (2013년 12월 31일) : 경제의 근간을 흔드는 법을 무원칙적으로 이렇게 특정 재벌 회사에게 특혜를 주기 위해 간청하는 민원법을 우리가 새해부터 왜 통과시켜야 합니까.]',\n",
    "        '최순실 씨 사건을 쫓아가다 보면 본의 아니게 이번 정부의 과거로 올라가면서 복기하는 듯한 느낌이 드는데 이것도 바로 그중 하나입니다. 생생하게 기억합니다. 이 때 장면들은. 특정 재벌 회사를 위한 특혜라고 말하는데, 어떤 기업을 말하는 건가요?',\n",
    "        'SK와 GS 입니다. 개정안이 통과되는 걸 전제로 두 회사는 외국 투자를 받아 증손회사 설립을 진행중이었기 때문인데요. 당시 개정안이 통과되지 않으면 두 기업이 수조원의 손실이 생길 수 있는 것으로 알려져 있었습니다. 허창수 GS 회장과 김창근 SK회장은 2013년 8월 박 대통령과 청와대에서 대기업 회장단 오찬자리에서 외촉법 통과를 요청한 바도 있습니다. ',\n",
    "        '물론 두 기업과 최순실 씨와 연결고리가 나온 건 아니지만, 정 전 비서관 녹취파일 속 최 씨는 외촉법에 상당히 집착을 하는 걸로 보이긴 합니다.',\n",
    "        '네 그렇습니다. 통화 내용을 다시 짚어보면요. 최 씨는 외촉법 관련 예산이 12월 2일, 반드시 되어야 한다, 작년 예산으로 돼서는 안 된다고 얘기하고 있는데요. 다시 말해서 외촉법 관련 예산안이 내년에 반영되어야 한다고 압박을 하고 있는 겁니다. 그러면서 \"국민을 볼모로 잡고 있다\"며 \"국회와 정치권에 책임을 묻겠다\"고 으름장까지 놓고 있는데요. 매우 집착하는 모습인데요. 이에 대해서 정 전 비서관이 \"예산이 그렇게 빨리 통과된 적 없습니다\"고 말하자 말을 끊으면서 매우 흥분한 듯, \"그렇더라도, 그렇더라도\" 하면서 \"야당이 공약 지키라고 하면서 협조는 안 한다\", \"대통령으로 할 수 있는 일이 없다\", \"불공정 사태와 난맥상이 나온다\"며 굉장한 압박까지 하고 있습니다.',\n",
    "        '이 얘기들만 들여다봐도 마치 본인이 대통령처럼 얘기하고 있습니다. 내용들 보면 그렇지 않습니까? 혹시 최 씨가 이 외촉법 통과로 이득을 본 경우도 있습니까. ',\n",
    "        '최 씨가 입김을 넣어 차은택 씨가 주도를 한 걸로 알려진 K컬처밸리 사업이 그렇다는 얘기가 나오고 있습니다. 외촉법을 편법으로 활용해 1% 금리를 적용받았다는 지적이 나오고 있습니다. 본격 사업이 추진되기 전 최순실 국정개입 사건이 터지기는 했지만, 이외에도 다른 혜택을 받았는지는 조사가 필요해 보입니다. ',\n",
    "        '그런데 녹취파일을 보면 \"남자1\"이 등장합니다. 이 사람은 누구입니까?',\n",
    "        '정 전 비서관을 \"정 과장님\"으로 부르며 반말을 하는 남자인데요. 최순실 씨처럼 정 전 비서관을 하대하고 있습니다. 또 청와대 내부 정보를 알고 있는 듯하고 또 인사에까지 개입하려고 하고 있습니다. 그렇기 때문에 정윤회 씨로 추정은 됩니다만 확인은 되지 않습니다.'\n",
    "]"
   ]
  },
  {
   "cell_type": "code",
   "execution_count": 10,
   "metadata": {
    "collapsed": false,
    "deletable": true,
    "editable": true
   },
   "outputs": [
    {
     "data": {
      "text/plain": [
       "12"
      ]
     },
     "execution_count": 10,
     "metadata": {},
     "output_type": "execute_result"
    }
   ],
   "source": [
    "len(sents)"
   ]
  },
  {
   "cell_type": "markdown",
   "metadata": {
    "deletable": true,
    "editable": true
   },
   "source": [
    "어떤 라이브러리를 쓸지 선택하기 전에, 내 데이터의 프로세싱 시간은 얼마나 걸리는지, 그리고 그 처리 품질은 어떤지 먼저 확인을 해야 합니다. 1개의 기사에 대하여 각각의 형태소 분석기 별 프로세싱 시간을 비교하였습니다.\n",
    "\n",
    "    time.time()\n",
    "    \n",
    "은 컴퓨터 시간의 기준점으로부터의 현재 시간을 초단위로 나타내 줍니다. 그렇기 때문에 작업 전의 시간을 \n",
    "\n",
    "    process_time = time.time()\n",
    "    \n",
    "으로 정한 뒤, 작업이 모두 끝난 시간을 빼주면, 작업 시간이 초 단위로 계산됩니다. \n",
    "\n",
    "    ...\n",
    "    \n",
    "    process_time = time.time() - process_time\n",
    "\n",
    "각 tagger의 결과물은 tokens 안에 넣어둡니다. "
   ]
  },
  {
   "cell_type": "code",
   "execution_count": 11,
   "metadata": {
    "collapsed": false,
    "deletable": true,
    "editable": true
   },
   "outputs": [
    {
     "name": "stdout",
     "output_type": "stream",
     "text": [
      "tagger name =       kkma, 6.787 secs\n",
      "tagger name =    twitter, 0.799 secs\n",
      "tagger name =   hannanum, 0.121 secs\n"
     ]
    }
   ],
   "source": [
    "import time\n",
    "\n",
    "tokens = []\n",
    "\n",
    "for name, tagger in taggers:\n",
    "    \n",
    "    process_time = time.time()\n",
    "    _tokens = []\n",
    "    \n",
    "    for sent in sents:\n",
    "        _tokens += tagger.pos(sent)\n",
    "        \n",
    "    process_time = time.time() - process_time\n",
    "    tokens.append(_tokens)\n",
    "    \n",
    "    print('tagger name = %10s, %.3f secs' % (name, process_time))"
   ]
  },
  {
   "cell_type": "markdown",
   "metadata": {
    "deletable": true,
    "editable": true
   },
   "source": [
    "whos 명령어는 현재 파일의 kernel이 메모리에 올려둔 변수들을 보여줍니다. 이 때 앞에 under-bar, _ 가 들어간 변수들은 whos에 보이지 않습니다. "
   ]
  },
  {
   "cell_type": "code",
   "execution_count": 12,
   "metadata": {
    "collapsed": false,
    "deletable": true,
    "editable": true
   },
   "outputs": [
    {
     "name": "stdout",
     "output_type": "stream",
     "text": [
      "Variable       Type        Data/Info\n",
      "------------------------------------\n",
      "Hannanum       type        <class 'konlpy.tag._hannanum.Hannanum'>\n",
      "Kkma           type        <class 'konlpy.tag._kkma.Kkma'>\n",
      "Twitter        type        <class 'konlpy.tag._twitter.Twitter'>\n",
      "name           str         hannanum\n",
      "pprint         function    <function pprint at 0x7eff570396a8>\n",
      "process_time   float       0.12050938606262207\n",
      "sent           str         정 전 비서관을 \"정 과장님\"으로 부르며 반말<...> 씨로 추정은 됩니다만 확인은 되지 않습니다.\n",
      "sents          list        n=12\n",
      "tagger         Hannanum    <konlpy.tag._hannanum.Han<...>object at 0x7eff48c9bc88>\n",
      "taggers        list        n=3\n",
      "time           module      <module 'time' (built-in)>\n",
      "tokens         list        n=3\n"
     ]
    }
   ],
   "source": [
    "whos"
   ]
  },
  {
   "cell_type": "markdown",
   "metadata": {
    "deletable": true,
    "editable": true
   },
   "source": [
    "모든 토큰을 그대로 나열해 보는 것은 무리가 있어보입니다. 형태소 분석기 별로 고유한 단어와 그 개수를 세어보겠습니다. 그리고 그 전에도 '최순실'이라는 이름이 꼬꼬마 형태소 분석기에서 '최', '순', '실'로 나누어지는 것이 보이네요. 이는 꼬꼬마 형태소 분석기가 학습할 때, '최순실'이라는 이름이 학습데이터에 없었기 때문입니다. 이를 주로 out of vocabulary problem이라 부릅니다. "
   ]
  },
  {
   "cell_type": "code",
   "execution_count": 13,
   "metadata": {
    "collapsed": false,
    "deletable": true,
    "editable": true
   },
   "outputs": [
    {
     "name": "stdout",
     "output_type": "stream",
     "text": [
      "[('최', 'NNP'), ('순', 'NNG'), ('실', 'NNG'), ('씨', 'NNB'), ('가', 'JKS'), ('외국인', 'NNG'), ('투자', 'NNG'), ('촉진법', 'NNG'), ('개정안', 'NNG'), ('통과', 'NNG'), ('와', 'JC'), ('예산안', 'NNG'), ('반영', 'NNG'), ('까지', 'JX'), ('꼼꼼이', 'MAG'), ('챙기', 'VV'), ('ㄴ', 'ETD'), ('것', 'NNB'), ('이', 'VCP'), ('ㄴ데', 'ECD'), (',', 'SP'), ('이른바', 'MAG'), ('외촉', 'NNG'), ('법', 'NNG'), (',', 'SP'), ('어떤', 'MDT'), ('법', 'NNG'), ('이', 'VCP'), ('길래', 'ECD'), ('최', 'NNP'), ('씨', 'NNB'), ('가', 'JKS'), ('열심히', 'MAG'), ('챙기', 'VV'), ('ㄴ', 'ETD'), ('걸', 'VV'), ('ㄹ까요', 'EFQ'), ('.', 'SF'), ('자신', 'NNG'), ('의', 'JKG'), ('이해관계', 'NNG'), ('와', 'JKM'), ('맞', 'VV'), ('아', 'ECD'), ('떨어지', 'VV'), ('는', 'ETD'), ('부분', 'NNG'), ('이', 'JKS'), ('없', 'VA'), ('었', 'EPT'), ('는지', 'ECS'), ('취재', 'NNG'), ('기자', 'NNG'), ('와', 'JKM'), ('한걸음', 'NNG'), ('더', 'MAG'), ('들여다보', 'VV'), ('겠', 'EPT'), ('습니다', 'EFN'), ('.', 'SF'), ('이서', 'NNG'), ('주', 'VV'), ('ㄴ', 'ETD'), ('기자', 'NNG'), (',', 'SP'), ('우선', 'MAG'), ('외국인', 'NNG'), ('투자', 'NNG'), ('촉진법', 'NNG'), ('개정안', 'NNG'), (',', 'SP'), ('어떤', 'MDT'), ('내용', 'NNG'), ('이', 'VCP'), ('ㅂ니까', 'EFQ'), ('?', 'SF'), ('한마디', 'NNG'), ('로', 'JKM'), ('대기업', 'NNG'), ('이', 'JKS'), ('외국', 'NNG'), ('투자', 'NNG'), ('를', 'JKO'), ('받', 'VV'), ('아', 'ECD'), ('계열사', 'NNG'), ('를', 'JKO'), ('설립', 'NNG'), ('하', 'XSV'), ('ㄹ', 'ETD'), ('때', 'NNG'), ('규제', 'NNG'), ('를', 'JKO'), ('완화', 'NNG'), ('시키', 'XSV'), ('어', 'ECS'), ('주', 'VXV'), ('는', 'ETD'), ('법안', 'NNG'), ('이', 'VCP'), ('ㅂ니다', 'EFN'), ('.', 'SF'), ('대기업', 'NNG'), ('지주사', 'NNG'), ('의', 'JKG'), ('손자', 'NNG'), ('회사', 'NNG'), ('가', 'JKS'), ('이른바', 'MAG'), ('증손', 'NNG'), ('회사', 'NNG'), ('를', 'JKO'), ('만들', 'VV'), ('ㄹ', 'ETD'), ('때', 'NNG'), ('지분', 'NNG'), ('100', 'NR'), ('%', 'SW'), ('를', 'JKO'), ('출자', 'NNG'), ('하', 'XSV'), ('어야', 'ECD'), ('하', 'VV'), ('ㅂ니다', 'EFN'), ('.', 'SF'), ('대기업', 'NNG'), ('의', 'JKG'), ('문어발', 'NNG'), ('식', 'NNG'), ('계열사', 'NNG'), ('확장', 'NNG'), ('을', 'JKO'), ('막', 'VV'), ('기', 'ETN'), ('위하', 'VV'), ('ㄴ', 'ETD'), ('조치', 'NNG'), ('이', 'VCP'), ('ㄴ데요', 'EFN'), ('.', 'SF'), ('외촉', 'NNG'), ('법', 'NNG'), ('개정안', 'NNG'), ('은', 'JX'), ('손자', 'NNG'), ('회사', 'NNG'), ('가', 'JKS'), ('외국', 'NNG'), ('투자', 'NNG'), ('를', 'JKO'), ('받', 'VV'), ('아서', 'ECD'), ('증손', 'NNG'), ('회사', 'NNG'), ('를', 'JKO'), ('만들', 'VV'), ('ㄹ', 'ETD'), ('때', 'VV'), ('ㄴ', 'ETD'), ('예외적', 'NNG'), ('으로', 'JKM'), ('50', 'NR'), ('%', 'SW'), ('지분', 'NNG'), ('만', 'JX'), ('투자', 'NNG'), ('하', 'XSV'), ('어도', 'ECD'), ('되', 'VV'), ('게끔', 'ECD'), ('하', 'VV'), ('어', 'ECS'), ('주', 'VXV'), ('는', 'ETD'), ('내용', 'NNG'), ('이', 'VCP'), ('ㅂ니다', 'EFN'), ('.', 'SF'), ('그만큼', 'MAG'), ('쉽', 'VA'), ('게', 'ECD'), ('완화', 'NNG'), ('하', 'XSV'), ('어', 'ECS'), ('주', 'VXV'), ('는', 'ETD'), ('거잖아', 'UN'), ('요', 'JX'), ('.', 'SF'), ('그때', 'NNG'), ('기억', 'NNG'), ('을', 'JKO'), ('더듬', 'VV'), ('어', 'ECD'), ('보', 'VXV'), ('면', 'ECE'), ('야당', 'NNG'), ('의', 'JKG'), ('반발', 'NNG'), ('이', 'JKS'), ('매우', 'MAG'), ('심하', 'VA'), ('었', 'EPT'), ('습니다', 'EFN'), ('.', 'SF'), ('그', 'MDT'), ('이유', 'NNG'), ('가', 'JKS'), ('뭐', 'NP'), ('이', 'VCP'), ('었', 'EPT'), ('죠', 'EFN'), ('?', 'SF'), ('대기업', 'NNG'), ('특혜', 'NNG'), ('법안', 'NNG'), ('이', 'VCP'), ('라는', 'ETD'), ('취지', 'NNG'), ('이', 'VCP'), ('었', 'EPT'), ('는데요', 'ECD'), ('.', 'SF'), ('(', 'SS'), ('당연히', 'MAG'), ('그리하', 'VV'), ('였', 'EPT'), ('겠', 'EPT'), ('죠', 'EFN'), ('.', 'SF'), (')', 'SS'), ('당시', 'NNG'), ('박', 'NNG'), ('영선', 'NNG'), ('의원', 'NNG'), ('의', 'JKG'), ('국회', 'NNG'), ('발언', 'NNG'), ('을', 'JKO'), ('들어보', 'VV'), ('시', 'EPH'), ('겠', 'EPT'), ('습니다', 'EFN'), ('.', 'SF'), ('[', 'SS'), ('박', 'NNG'), ('영선', 'NNG'), ('의원', 'NNG'), ('/', 'SP'), ('더불', 'VV'), ('어', 'ECD'), ('민주당', 'NNG'), ('(', 'SS'), ('2013', 'NR'), ('년', 'NNB'), ('12', 'NR'), ('월', 'NNM'), ('31', 'NR'), ('일', 'NNM'), (')', 'SS'), (':', 'SP'), ('경제', 'NNG'), ('의', 'JKG'), ('근간', 'NNG'), ('을', 'JKO'), ('흔들', 'VV'), ('는', 'ETD'), ('법', 'NNG'), ('을', 'JKO'), ('무원칙', 'NNG'), ('적', 'XSN'), ('으로', 'JKM'), ('이렇', 'VA'), ('게', 'ECD'), ('특정', 'NNG'), ('재벌', 'NNG'), ('회사', 'NNG'), ('에게', 'JKM'), ('특혜', 'NNG'), ('를', 'JKO'), ('주', 'VV'), ('기', 'ETN'), ('위하', 'VV'), ('어', 'ECS'), ('간청', 'NNG'), ('하', 'XSV'), ('는', 'ETD'), ('민원', 'NNG'), ('법', 'NNG'), ('을', 'JKO'), ('우리', 'NP'), ('가', 'JKS'), ('새해', 'NNG'), ('부터', 'JX'), ('왜', 'MAG'), ('통과', 'NNG'), ('시키', 'XSV'), ('어야', 'ECD'), ('하', 'VV'), ('ㅂ니까', 'EFQ'), ('.', 'SF'), (']', 'SS'), ('최', 'NNP'), ('순', 'NNG'), ('실', 'NNG'), ('씨', 'NNB'), ('사건', 'NNG'), ('을', 'JKO'), ('쫓아가', 'VV'), ('다', 'ECS'), ('보', 'VXV'), ('면', 'ECE'), ('본의', 'NNG'), ('아니', 'VV'), ('게', 'ECD'), ('이번', 'NNG'), ('정부', 'NNG'), ('의', 'JKG'), ('과거', 'NNG'), ('로', 'JKM'), ('올라가', 'VV'), ('면서', 'ECE'), ('복기', 'NNG'), ('하', 'XSV'), ('는', 'ETD'), ('듯하', 'VXA'), ('ㄴ', 'ETD'), ('느낌', 'NNG'), ('이', 'JKS'), ('들', 'VV'), ('는데', 'ECD'), ('이것', 'NP'), ('도', 'JX'), ('바로', 'MAG'), ('그중', 'NNG'), ('하나', 'NR'), ('이', 'VCP'), ('ㅂ니다', 'EFN'), ('.', 'SF'), ('생생', 'XR'), ('하', 'XSA'), ('게', 'ECD'), ('기억', 'NNG'), ('하', 'XSV'), ('ㅂ니다', 'EFN'), ('.', 'SF'), ('이', 'NR'), ('때', 'NNG'), ('장면', 'NNG'), ('들', 'XSN'), ('은', 'JX'), ('.', 'SF'), ('특정', 'NNG'), ('재벌', 'NNG'), ('회사', 'NNG'), ('를', 'JKO'), ('위하', 'VV'), ('ㄴ', 'ETD'), ('특혜', 'NNG'), ('라고', 'JX'), ('말하', 'VV'), ('는데', 'ECD'), (',', 'SP'), ('어떤', 'MDT'), ('기업', 'NNG'), ('을', 'JKO'), ('말하', 'VV'), ('는', 'ETD'), ('것', 'NNB'), ('이', 'VCP'), ('ㄴ가요', 'EFQ'), ('?', 'SF'), ('SK', 'OL'), ('와', 'JC'), ('GS', 'OL'), ('일', 'VV'), ('ㅂ니다', 'EFN'), ('.', 'SF'), ('개정안', 'NNG'), ('이', 'JKS'), ('통과', 'NNG'), ('되', 'XSV'), ('는', 'ETD'), ('것', 'NNB'), ('을', 'JKO'), ('전제', 'NNG'), ('로', 'JKM'), ('두', 'MDN'), ('회사', 'NNG'), ('는', 'JX'), ('외국', 'NNG'), ('투자', 'NNG'), ('를', 'JKO'), ('받', 'VV'), ('아', 'ECD'), ('증손', 'NNG'), ('회사', 'NNG'), ('설립', 'NNG'), ('을', 'JKO'), ('진행', 'NNG'), ('중', 'NNB'), ('이', 'VCP'), ('었', 'EPT'), ('기', 'ETN'), ('때문', 'NNB'), ('이', 'VCP'), ('ㄴ데요', 'EFN'), ('.', 'SF'), ('당시', 'NNG'), ('개정안', 'NNG'), ('이', 'JKS'), ('통과', 'NNG'), ('되', 'XSV'), ('지', 'ECD'), ('않', 'VXV'), ('으면', 'ECD'), ('두', 'MDN'), ('기업', 'NNG'), ('이', 'JKS'), ('수조', 'NR'), ('원', 'NNM'), ('의', 'JKG'), ('손실', 'NNG'), ('이', 'JKS'), ('생기', 'VV'), ('ㄹ', 'ETD'), ('수', 'NNB'), ('있', 'VV'), ('는', 'ETD'), ('것', 'NNB'), ('으로', 'JKM'), ('알리', 'VV'), ('어', 'ECS'), ('지', 'VXV'), ('어', 'ECS'), ('있', 'VXV'), ('었', 'EPT'), ('습니다', 'EFN'), ('.', 'SF'), ('허', 'NNG'), ('창', 'NNG'), ('수', 'NNG'), ('GS', 'OL'), ('회장', 'NNG'), ('과', 'JKM'), ('김창근', 'NNG'), ('SK', 'OL'), ('회장', 'NNG'), ('은', 'JX'), ('2013', 'NR'), ('년', 'NNM'), ('8', 'NR'), ('월', 'NNM'), ('박', 'NNG'), ('대통령', 'NNG'), ('과', 'JC'), ('청와대', 'NNG'), ('에서', 'JKM'), ('대기업', 'NNG'), ('회장단', 'NNG'), ('오찬', 'NNG'), ('자리', 'NNG'), ('에서', 'JKM'), ('외촉', 'NNG'), ('법', 'NNG'), ('통과', 'NNG'), ('를', 'JKO'), ('요청', 'NNG'), ('하', 'XSV'), ('ㄴ', 'ETD'), ('바', 'NNB'), ('도', 'JX'), ('있', 'VV'), ('습니다', 'EFN'), ('.', 'SF'), ('물론', 'MAG'), ('두', 'MDN'), ('기업', 'NNG'), ('과', 'JKM'), ('최', 'NNP'), ('순', 'NNG'), ('실', 'NNG'), ('씨', 'NNB'), ('와', 'JKM'), ('연결', 'NNG'), ('고리', 'NNG'), ('가', 'JKS'), ('나오', 'VV'), ('ㄴ', 'ETD'), ('건', 'NNM'), ('아니', 'VCN'), ('지만', 'ECE'), (',', 'SP'), ('정', 'NNG'), ('전', 'NNG'), ('비서관', 'NNG'), ('녹취', 'NNG'), ('파일', 'NNG'), ('속', 'NNG'), ('최', 'NNP'), ('씨', 'NNB'), ('는', 'JX'), ('외촉', 'NNG'), ('법', 'NNG'), ('에', 'JKM'), ('상당히', 'MAG'), ('집착', 'NNG'), ('을', 'JKO'), ('하', 'VV'), ('는', 'ETD'), ('것', 'NNB'), ('으로', 'JKM'), ('보이', 'VV'), ('기', 'ETN'), ('는', 'JKS'), ('하', 'VV'), ('ㅂ니다', 'EFN'), ('.', 'SF'), ('네', 'MDN'), ('그렇', 'VA'), ('습니다', 'EFN'), ('.', 'SF'), ('통화', 'NNG'), ('내용', 'NNG'), ('을', 'JKO'), ('다시', 'MAG'), ('짚', 'VV'), ('어', 'ECD'), ('보', 'VV'), ('면요', 'ECE'), ('.', 'SF'), ('최', 'NNP'), ('씨', 'NNB'), ('는', 'JX'), ('외촉', 'NNG'), ('법', 'NNG'), ('관련', 'NNG'), ('예산', 'NNG'), ('이', 'JKS'), ('12', 'NR'), ('월', 'NNM'), ('2', 'NR'), ('일', 'NNM'), (',', 'SP'), ('반드시', 'MAG'), ('되', 'VV'), ('어야', 'ECD'), ('하', 'VV'), ('ㄴ다', 'ECS'), (',', 'SP'), ('작년', 'NNG'), ('예산', 'NNG'), ('으로', 'JKM'), ('되', 'VV'), ('어서', 'ECD'), ('는', 'JX'), ('안', 'MAG'), ('되', 'VV'), ('ㄴ다고', 'ECE'), ('얘기', 'NNG'), ('하', 'XSV'), ('고', 'ECE'), ('있', 'VXV'), ('는데요', 'ECD'), ('.', 'SF'), ('다시', 'MAG'), ('말하', 'VV'), ('어서', 'ECD'), ('외촉', 'NNG'), ('법', 'NNG'), ('관련', 'NNG'), ('예산안', 'NNG'), ('이', 'JKS'), ('내년', 'NNG'), ('에', 'JKM'), ('반영', 'NNG'), ('되', 'XSV'), ('어야', 'ECD'), ('하', 'VV'), ('ㄴ다고', 'ECE'), ('압박', 'NNG'), ('을', 'JKO'), ('하', 'VV'), ('고', 'ECE'), ('있', 'VXV'), ('는', 'ETD'), ('것', 'NNB'), ('이', 'VCP'), ('ㅂ니다', 'EFN'), ('.', 'SF'), ('그러', 'VV'), ('면서', 'ECE'), ('\"', 'SS'), ('국민', 'NNG'), ('을', 'JKO'), ('볼모', 'NNG'), ('로', 'JKM'), ('잡', 'VV'), ('고', 'ECE'), ('있', 'VXV'), ('다', 'ECS'), ('\"', 'SS'), ('며', 'JC'), ('\"', 'SS'), ('국회', 'NNG'), ('와', 'JKM'), ('정치권', 'NNG'), ('에', 'JKM'), ('책임', 'NNG'), ('을', 'JKO'), ('묻', 'VV'), ('겠', 'EPT'), ('다', 'ECS'), ('\"', 'SS'), ('고', 'NNG'), ('으름장', 'NNG'), ('까지', 'JX'), ('놓', 'VV'), ('고', 'ECE'), ('있', 'VXV'), ('는데요', 'ECD'), ('.', 'SF'), ('매우', 'MAG'), ('집착', 'NNG'), ('하', 'XSV'), ('는', 'ETD'), ('모습', 'NNG'), ('이', 'VCP'), ('ㄴ데요', 'EFN'), ('.', 'SF'), ('이에', 'MAG'), ('대하', 'VV'), ('어서', 'ECD'), ('정', 'NNG'), ('전', 'NNG'), ('비서관', 'NNG'), ('이', 'JKS'), ('\"', 'SS'), ('예산', 'NNG'), ('이', 'JKS'), ('그렇', 'VA'), ('게', 'ECD'), ('빨리', 'MAG'), ('통과', 'NNG'), ('되', 'XSV'), ('ㄴ', 'ETD'), ('적', 'NNB'), ('없', 'VA'), ('습니다', 'EFN'), ('\"', 'SS'), ('고', 'NNG'), ('말하', 'VV'), ('자', 'ECE'), ('말', 'NNG'), ('을', 'JKO'), ('끊', 'VV'), ('으면서', 'ECE'), ('매우', 'MAG'), ('흥분', 'NNG'), ('하', 'XSV'), ('ㄴ', 'ETD'), ('듯', 'NNB'), (',', 'SP'), ('\"', 'SS'), ('그렇', 'VA'), ('더라도', 'ECD'), (',', 'SP'), ('그렇', 'VA'), ('더라도', 'ECD'), ('\"', 'SS'), ('하', 'VV'), ('면서', 'ECE'), ('\"', 'SS'), ('야당', 'NNG'), ('이', 'JKS'), ('공약', 'NNG'), ('지', 'NNG'), ('키', 'NNG'), ('라고', 'JX'), ('하면서', 'NNG'), ('협조', 'NNG'), ('는', 'JX'), ('안', 'MAG'), ('하', 'VV'), ('ㄴ다', 'ECS'), ('\"', 'SS'), (',', 'SP'), ('\"', 'SS'), ('대통령', 'NNG'), ('으로', 'JKM'), ('하', 'VV'), ('ㄹ', 'ETD'), ('수', 'NNB'), ('있', 'VV'), ('는', 'ETD'), ('일', 'NNG'), ('이', 'JKS'), ('없', 'VA'), ('다', 'ECS'), ('\"', 'SS'), (',', 'SP'), ('\"', 'SS'), ('불공정', 'NNG'), ('사태', 'NNG'), ('와', 'JKM'), ('난맥상', 'NNG'), ('이', 'JKS'), ('나오', 'VV'), ('ㄴ다', 'ECS'), ('\"', 'SS'), ('며', 'JC'), ('굉장', 'XR'), ('하', 'XSA'), ('ㄴ', 'ETD'), ('압박', 'NNG'), ('까지', 'JX'), ('하', 'VV'), ('고', 'ECE'), ('있', 'VXV'), ('습니다', 'EFN'), ('.', 'SF'), ('이', 'MDT'), ('얘기', 'NNG'), ('들', 'XSN'), ('만', 'NNB'), ('들여다보', 'VV'), ('아도', 'ECD'), ('마치', 'MAG'), ('본인', 'NNG'), ('이', 'JKS'), ('대통령', 'NNG'), ('처럼', 'JKM'), ('얘기', 'NNG'), ('하', 'XSV'), ('고', 'ECE'), ('있', 'VXV'), ('습니다', 'EFN'), ('.', 'SF'), ('내용', 'NNG'), ('들', 'XSN'), ('보', 'VV'), ('면', 'ECE'), ('그렇', 'VA'), ('지', 'ECD'), ('않', 'VXV'), ('습니까', 'EFQ'), ('?', 'SF'), ('혹시', 'MAG'), ('최', 'NNP'), ('씨', 'NNB'), ('가', 'JKS'), ('이', 'MDT'), ('외촉', 'NNG'), ('법', 'NNG'), ('통과', 'NNG'), ('로', 'JKM'), ('이득', 'NNG'), ('을', 'JKO'), ('보', 'VV'), ('ㄴ', 'ETD'), ('경우', 'NNG'), ('도', 'JX'), ('있', 'VV'), ('습니까', 'EFQ'), ('.', 'SF'), ('최', 'NNP'), ('씨', 'NNB'), ('가', 'JKS'), ('입김', 'NNG'), ('을', 'JKO'), ('넣', 'VV'), ('어', 'ECD'), ('차', 'NNG'), ('은택', 'NNG'), ('씨', 'NNB'), ('가', 'JKS'), ('주도', 'NNG'), ('를', 'JKO'), ('하', 'VV'), ('ㄴ', 'ETD'), ('것', 'NNB'), ('으로', 'JKM'), ('알리', 'VV'), ('어', 'ECS'), ('지', 'VXV'), ('ㄴ', 'ETD'), ('K', 'OL'), ('커', 'VV'), ('ㄹ', 'ETD'), ('처', 'NNG'), ('밸리', 'NNG'), ('사업', 'NNG'), ('이', 'JKS'), ('그렇', 'VA'), ('다는', 'ETD'), ('얘기', 'NNG'), ('가', 'JKS'), ('나오', 'VV'), ('고', 'ECE'), ('있', 'VXV'), ('습니다', 'EFN'), ('.', 'SF'), ('외촉', 'NNG'), ('법', 'NNG'), ('을', 'JKO'), ('편법', 'NNG'), ('으로', 'JKM'), ('활용', 'NNG'), ('하', 'XSV'), ('어', 'ECS'), ('1', 'NR'), ('%', 'SW'), ('금리', 'NNG'), ('를', 'JKO'), ('적용', 'NNG'), ('받', 'VV'), ('았', 'EPT'), ('다는', 'ETD'), ('지적', 'NNG'), ('이', 'JKS'), ('나오', 'VV'), ('고', 'ECE'), ('있', 'VXV'), ('습니다', 'EFN'), ('.', 'SF'), ('본격', 'NNG'), ('사업', 'NNG'), ('이', 'JKS'), ('추진', 'NNG'), ('되', 'XSV'), ('기', 'ETN'), ('전', 'NNG'), ('최', 'NNP'), ('순', 'NNG'), ('실', 'NNG'), ('국정', 'NNG'), ('개입', 'NNG'), ('사건', 'NNG'), ('이', 'JKS'), ('터지', 'VV'), ('기', 'ETN'), ('는', 'JX'), ('하', 'VV'), ('었', 'EPT'), ('지만', 'ECE'), (',', 'SP'), ('이외', 'NNG'), ('에', 'JKM'), ('도', 'JX'), ('다른', 'MDT'), ('혜택', 'NNG'), ('을', 'JKO'), ('받', 'VV'), ('았', 'EPT'), ('는지', 'ECS'), ('는', 'JX'), ('조사', 'NNG'), ('가', 'JKS'), ('필요', 'NNG'), ('하', 'XSV'), ('어', 'ECS'), ('보이', 'VV'), ('ㅂ니다', 'EFN'), ('.', 'SF'), ('그런데', 'MAC'), ('녹취', 'NNG'), ('파일', 'NNG'), ('을', 'JKO'), ('보', 'VV'), ('면', 'ECE'), ('\"', 'SS'), ('남자', 'NNG'), ('1', 'NR'), ('\"', 'SS'), ('이', 'NNG'), ('등장', 'NNG'), ('하', 'XSV'), ('ㅂ니다', 'EFN'), ('.', 'SF'), ('이', 'NR'), ('사람', 'NNG'), ('은', 'JX'), ('누구', 'NP'), ('이', 'VCP'), ('ㅂ니까', 'EFQ'), ('?', 'SF'), ('정', 'NNG'), ('전', 'NNG'), ('비서관', 'NNG'), ('을', 'JKO'), ('\"', 'SS'), ('정', 'NNG'), ('과장', 'NNG'), ('님', 'XSN'), ('\"', 'SS'), ('으로', 'JKM'), ('부르', 'VV'), ('며', 'ECE'), ('반말', 'NNG'), ('을', 'JKO'), ('하', 'VV'), ('는', 'ETD'), ('남자', 'NNG'), ('이', 'VCP'), ('ㄴ데요', 'EFN'), ('.', 'SF'), ('최', 'NNP'), ('순', 'NNG'), ('실', 'NNG'), ('씨', 'NNB'), ('처럼', 'JKM'), ('정', 'NNG'), ('전', 'NNG'), ('비서관', 'NNG'), ('을', 'JKO'), ('하대', 'NNG'), ('하', 'XSV'), ('고', 'ECE'), ('있', 'VXV'), ('습니다', 'EFN'), ('.', 'SF'), ('또', 'MAG'), ('청와대', 'NNG'), ('내부', 'NNG'), ('정보', 'NNG'), ('를', 'JKO'), ('알', 'VV'), ('고', 'ECE'), ('있', 'VXV'), ('는', 'ETD'), ('듯하', 'VXA'), ('고', 'ECE'), ('또', 'MAG'), ('인사', 'NNG'), ('에', 'JKM'), ('까지', 'JX'), ('개입', 'NNG'), ('하', 'XSV'), ('려고', 'ECD'), ('하', 'VV'), ('고', 'ECE'), ('있', 'VXV'), ('습니다', 'EFN'), ('.', 'SF'), ('그렇', 'VV'), ('기', 'ETN'), ('때문', 'NNB'), ('에', 'JKM'), ('정', 'NNG'), ('윤회', 'NNG'), ('씨', 'NNB'), ('로', 'JKM'), ('추정', 'NNG'), ('은', 'JX'), ('되', 'VV'), ('ㅂ니다만', 'ECE'), ('확인', 'NNG'), ('은', 'JX'), ('되', 'VV'), ('지', 'ECD'), ('않', 'VXV'), ('습니다', 'EFN'), ('.', 'SF')]\n"
     ]
    }
   ],
   "source": [
    "print(tokens[0])"
   ]
  },
  {
   "cell_type": "markdown",
   "metadata": {
    "deletable": true,
    "editable": true
   },
   "source": [
    "각 단어들이 몇 번 등장하였는지 그 횟수를 카운팅하겠습니다. 이 때 가장 좋지 않은 방법인 (1) dict를 이용하는 법, 조금 더 나은 (2) defaultdict를 이용하는 법, (3) collections.Counter를 이용하는 법을 모두 살펴봅니다. "
   ]
  },
  {
   "cell_type": "code",
   "execution_count": 14,
   "metadata": {
    "collapsed": false,
    "deletable": true,
    "editable": true
   },
   "outputs": [
    {
     "name": "stdout",
     "output_type": "stream",
     "text": [
      "[(('으로', 'JKM'), 9), (('지', 'VXV'), 2), (('라는', 'ETD'), 1), (('쫓아가', 'VV'), 1), (('통과', 'NNG'), 7)] ...\n"
     ]
    }
   ],
   "source": [
    "counter = {}\n",
    "for word in tokens[0]:\n",
    "    if word in counter:\n",
    "        counter[word] = counter[word] + 1\n",
    "    else:\n",
    "        counter[word] = 1   \n",
    "\n",
    "print(list(counter.items())[:5], '...')"
   ]
  },
  {
   "cell_type": "markdown",
   "metadata": {
    "deletable": true,
    "editable": true
   },
   "source": [
    "정렬은 sorted를 이용합니다. sorted 함수의 key를 통하여 정렬의 기준을 지정할 수 있습니다. \n",
    "\n",
    "lambda는 이름이 없는 함수를 의미합니다. counter는 dict이므로 keys(), values, items()를 가집니다. 이 때 items()의 return은 [(key, value), (key, value), ...] 형태이기 때문에 정렬 대상 (key, value)를 x로 볼 때, x의 1번째 값 x[1]을 기준으로 정렬하라는 의미이며, 순서는 1, 2, 3, ..의 오름차순이 아닌 역순으로 하라는 의미입니다. \n",
    "\n",
    "sorted의 return type은 list이기 때문에 가장 앞쪽의 5개만 slice하여 살펴봅니다. "
   ]
  },
  {
   "cell_type": "code",
   "execution_count": 15,
   "metadata": {
    "collapsed": false,
    "deletable": true,
    "editable": true
   },
   "outputs": [
    {
     "data": {
      "text/plain": [
       "[(('.', 'SF'), 37),\n",
       " (('을', 'JKO'), 24),\n",
       " (('이', 'JKS'), 20),\n",
       " (('\"', 'SS'), 18),\n",
       " (('이', 'VCP'), 17)]"
      ]
     },
     "execution_count": 15,
     "metadata": {},
     "output_type": "execute_result"
    }
   ],
   "source": [
    "# 정렬\n",
    "sorted(counter.items(), key=lambda x:x[1], reverse=True)[:5]"
   ]
  },
  {
   "cell_type": "markdown",
   "metadata": {
    "deletable": true,
    "editable": true
   },
   "source": [
    "lambda 대신에 sorting 함수를 지정할 수도 있습니다. my_key는 x라는 값을 입력받아서 sorting에 이용할 변수를 만들어 줍니다. 이 때 함수 안에서 다양한 값의 변형을 할 수도 있습니다. reverse를 False로 하면서 같은 결과를 얻기 위해서는 return x[1] 대신 return -1 * x[1]을 해줄 수도 있습니다. "
   ]
  },
  {
   "cell_type": "code",
   "execution_count": 16,
   "metadata": {
    "collapsed": false,
    "deletable": true,
    "editable": true
   },
   "outputs": [
    {
     "data": {
      "text/plain": [
       "[(('.', 'SF'), 37),\n",
       " (('을', 'JKO'), 24),\n",
       " (('이', 'JKS'), 20),\n",
       " (('\"', 'SS'), 18),\n",
       " (('이', 'VCP'), 17)]"
      ]
     },
     "execution_count": 16,
     "metadata": {},
     "output_type": "execute_result"
    }
   ],
   "source": [
    "def my_key(x):\n",
    "    return -1 * x[1]\n",
    "\n",
    "sorted(counter.items(), key=my_key)[:5]"
   ]
  },
  {
   "cell_type": "markdown",
   "metadata": {
    "deletable": true,
    "editable": true
   },
   "source": [
    "그런데 Python에서는 if word in counter: else: 와 같은 구문을 한 줄로 아름답게 코딩할 수 있도록 defaultdict를 제공해줍니다. dict.get(key, 0)과 같은 효과가 있습니다. 더해서 명사, tag의 첫 글자가 NN으로 시작하는 것만 선택해서 카운팅 하겠습니다."
   ]
  },
  {
   "cell_type": "code",
   "execution_count": 17,
   "metadata": {
    "collapsed": false,
    "deletable": true,
    "editable": true
   },
   "outputs": [
    {
     "name": "stdout",
     "output_type": "stream",
     "text": [
      "[(('법', 'NNG'), 11),\n",
      " (('씨', 'NNB'), 11),\n",
      " (('최', 'NNP'), 10),\n",
      " (('회사', 'NNG'), 8),\n",
      " (('외촉', 'NNG'), 8),\n",
      " (('통과', 'NNG'), 7),\n",
      " (('것', 'NNB'), 7),\n",
      " (('투자', 'NNG'), 6),\n",
      " (('정', 'NNG'), 6),\n",
      " (('개정안', 'NNG'), 5),\n",
      " (('대기업', 'NNG'), 5),\n",
      " (('전', 'NNG'), 5),\n",
      " (('순', 'NNG'), 5),\n",
      " (('실', 'NNG'), 5),\n",
      " (('내용', 'NNG'), 4),\n",
      " (('얘기', 'NNG'), 4),\n",
      " (('비서관', 'NNG'), 4),\n",
      " (('대통령', 'NNG'), 3),\n",
      " (('예산', 'NNG'), 3),\n",
      " (('월', 'NNM'), 3),\n",
      " (('증손', 'NNG'), 3),\n",
      " (('특혜', 'NNG'), 3),\n",
      " (('기업', 'NNG'), 3),\n",
      " (('박', 'NNG'), 3),\n",
      " (('때', 'NNG'), 3),\n",
      " (('외국', 'NNG'), 3),\n",
      " (('고', 'NNG'), 2),\n",
      " (('법안', 'NNG'), 2),\n",
      " (('반영', 'NNG'), 2),\n",
      " (('회장', 'NNG'), 2),\n",
      " (('관련', 'NNG'), 2),\n",
      " (('촉진법', 'NNG'), 2),\n",
      " (('지분', 'NNG'), 2),\n",
      " (('집착', 'NNG'), 2),\n",
      " (('외국인', 'NNG'), 2),\n",
      " (('남자', 'NNG'), 2),\n",
      " (('수', 'NNB'), 2),\n",
      " (('사업', 'NNG'), 2),\n",
      " (('완화', 'NNG'), 2),\n",
      " (('당시', 'NNG'), 2),\n",
      " (('기자', 'NNG'), 2),\n",
      " (('사건', 'NNG'), 2),\n",
      " (('때문', 'NNB'), 2),\n",
      " (('청와대', 'NNG'), 2),\n",
      " (('파일', 'NNG'), 2),\n",
      " (('설립', 'NNG'), 2),\n",
      " (('의원', 'NNG'), 2),\n",
      " (('예산안', 'NNG'), 2),\n",
      " (('개입', 'NNG'), 2),\n",
      " (('계열사', 'NNG'), 2),\n",
      " (('일', 'NNM'), 2),\n",
      " (('손자', 'NNG'), 2),\n",
      " (('녹취', 'NNG'), 2),\n",
      " (('특정', 'NNG'), 2),\n",
      " (('야당', 'NNG'), 2),\n",
      " (('영선', 'NNG'), 2),\n",
      " (('재벌', 'NNG'), 2),\n",
      " (('기억', 'NNG'), 2),\n",
      " (('압박', 'NNG'), 2),\n",
      " (('국회', 'NNG'), 2),\n",
      " (('회장단', 'NNG'), 1),\n",
      " (('편법', 'NNG'), 1),\n",
      " (('내부', 'NNG'), 1),\n",
      " (('한마디', 'NNG'), 1),\n",
      " (('예외적', 'NNG'), 1),\n",
      " (('본의', 'NNG'), 1),\n",
      " (('문어발', 'NNG'), 1),\n",
      " (('적용', 'NNG'), 1),\n",
      " (('하대', 'NNG'), 1),\n",
      " (('과장', 'NNG'), 1),\n",
      " (('근간', 'NNG'), 1),\n",
      " (('말', 'NNG'), 1),\n",
      " (('이', 'NNG'), 1),\n",
      " (('정보', 'NNG'), 1),\n",
      " (('은택', 'NNG'), 1),\n",
      " (('활용', 'NNG'), 1),\n",
      " (('년', 'NNB'), 1),\n",
      " (('무원칙', 'NNG'), 1),\n",
      " (('난맥상', 'NNG'), 1),\n",
      " (('허', 'NNG'), 1),\n",
      " (('장면', 'NNG'), 1),\n",
      " (('수', 'NNG'), 1),\n",
      " (('한걸음', 'NNG'), 1),\n",
      " (('내년', 'NNG'), 1),\n",
      " (('주도', 'NNG'), 1),\n",
      " (('김창근', 'NNG'), 1),\n",
      " (('으름장', 'NNG'), 1),\n",
      " (('본인', 'NNG'), 1),\n",
      " (('금리', 'NNG'), 1),\n",
      " (('전제', 'NNG'), 1),\n",
      " (('연결', 'NNG'), 1),\n",
      " (('불공정', 'NNG'), 1),\n",
      " (('지적', 'NNG'), 1),\n",
      " (('정부', 'NNG'), 1),\n",
      " (('손실', 'NNG'), 1),\n",
      " (('공약', 'NNG'), 1),\n",
      " (('지', 'NNG'), 1),\n",
      " (('확장', 'NNG'), 1),\n",
      " (('창', 'NNG'), 1),\n",
      " (('모습', 'NNG'), 1),\n",
      " (('이외', 'NNG'), 1),\n",
      " (('요청', 'NNG'), 1),\n",
      " (('하면서', 'NNG'), 1),\n",
      " (('바', 'NNB'), 1),\n",
      " (('일', 'NNG'), 1),\n",
      " (('진행', 'NNG'), 1),\n",
      " (('인사', 'NNG'), 1),\n",
      " (('반말', 'NNG'), 1),\n",
      " (('부분', 'NNG'), 1),\n",
      " (('민주당', 'NNG'), 1),\n",
      " (('오찬', 'NNG'), 1),\n",
      " (('중', 'NNB'), 1),\n",
      " (('그때', 'NNG'), 1),\n",
      " (('건', 'NNM'), 1),\n",
      " (('속', 'NNG'), 1),\n",
      " (('복기', 'NNG'), 1),\n",
      " (('느낌', 'NNG'), 1),\n",
      " (('이번', 'NNG'), 1),\n",
      " (('간청', 'NNG'), 1),\n",
      " (('사람', 'NNG'), 1),\n",
      " (('추진', 'NNG'), 1),\n",
      " (('본격', 'NNG'), 1),\n",
      " (('듯', 'NNB'), 1),\n",
      " (('규제', 'NNG'), 1),\n",
      " (('통화', 'NNG'), 1),\n",
      " (('출자', 'NNG'), 1),\n",
      " (('국민', 'NNG'), 1),\n",
      " (('반발', 'NNG'), 1),\n",
      " (('경우', 'NNG'), 1),\n",
      " (('조치', 'NNG'), 1),\n",
      " (('추정', 'NNG'), 1),\n",
      " (('윤회', 'NNG'), 1),\n",
      " (('작년', 'NNG'), 1),\n",
      " (('처', 'NNG'), 1),\n",
      " (('경제', 'NNG'), 1),\n",
      " (('밸리', 'NNG'), 1),\n",
      " (('그중', 'NNG'), 1),\n",
      " (('과거', 'NNG'), 1),\n",
      " (('자리', 'NNG'), 1),\n",
      " (('볼모', 'NNG'), 1),\n",
      " (('만', 'NNB'), 1),\n",
      " (('자신', 'NNG'), 1),\n",
      " (('혜택', 'NNG'), 1),\n",
      " (('이득', 'NNG'), 1),\n",
      " (('민원', 'NNG'), 1),\n",
      " (('흥분', 'NNG'), 1),\n",
      " (('국정', 'NNG'), 1),\n",
      " (('등장', 'NNG'), 1),\n",
      " (('협조', 'NNG'), 1),\n",
      " (('키', 'NNG'), 1),\n",
      " (('새해', 'NNG'), 1),\n",
      " (('이해관계', 'NNG'), 1),\n",
      " (('적', 'NNB'), 1),\n",
      " (('정치권', 'NNG'), 1),\n",
      " (('지주사', 'NNG'), 1),\n",
      " (('이서', 'NNG'), 1),\n",
      " (('년', 'NNM'), 1),\n",
      " (('이유', 'NNG'), 1),\n",
      " (('입김', 'NNG'), 1),\n",
      " (('고리', 'NNG'), 1),\n",
      " (('발언', 'NNG'), 1),\n",
      " (('사태', 'NNG'), 1),\n",
      " (('확인', 'NNG'), 1),\n",
      " (('식', 'NNG'), 1),\n",
      " (('필요', 'NNG'), 1),\n",
      " (('조사', 'NNG'), 1),\n",
      " (('취지', 'NNG'), 1),\n",
      " (('원', 'NNM'), 1),\n",
      " (('취재', 'NNG'), 1),\n",
      " (('차', 'NNG'), 1),\n",
      " (('책임', 'NNG'), 1)]\n"
     ]
    }
   ],
   "source": [
    "from collections import defaultdict\n",
    "\n",
    "counter = defaultdict(lambda: 0)\n",
    "nouns = [word for word in tokens[0] if word[1][:2] == 'NN']\n",
    "\n",
    "for word in nouns:\n",
    "    counter[word] += 1\n",
    "    \n",
    "pprint(sorted(counter.items(), key=lambda x:x[1], reverse=True))"
   ]
  },
  {
   "cell_type": "markdown",
   "metadata": {
    "deletable": true,
    "editable": true
   },
   "source": [
    "빈도수가 작은 경우도 많아서 좀 복잡해 보입니다. 최소한 2번 이상 나온 단어들만 살펴보겠습니다."
   ]
  },
  {
   "cell_type": "code",
   "execution_count": 18,
   "metadata": {
    "collapsed": false,
    "deletable": true,
    "editable": true
   },
   "outputs": [
    {
     "name": "stdout",
     "output_type": "stream",
     "text": [
      "[(('씨', 'NNB'), 11),\n",
      " (('법', 'NNG'), 11),\n",
      " (('최', 'NNP'), 10),\n",
      " (('외촉', 'NNG'), 8),\n",
      " (('회사', 'NNG'), 8),\n",
      " (('것', 'NNB'), 7),\n",
      " (('통과', 'NNG'), 7),\n",
      " (('투자', 'NNG'), 6),\n",
      " (('정', 'NNG'), 6),\n",
      " (('대기업', 'NNG'), 5),\n",
      " (('개정안', 'NNG'), 5),\n",
      " (('순', 'NNG'), 5),\n",
      " (('실', 'NNG'), 5),\n",
      " (('전', 'NNG'), 5),\n",
      " (('내용', 'NNG'), 4),\n",
      " (('얘기', 'NNG'), 4),\n",
      " (('비서관', 'NNG'), 4),\n",
      " (('특혜', 'NNG'), 3),\n",
      " (('대통령', 'NNG'), 3),\n",
      " (('기업', 'NNG'), 3),\n",
      " (('예산', 'NNG'), 3),\n",
      " (('박', 'NNG'), 3),\n",
      " (('증손', 'NNG'), 3),\n",
      " (('때', 'NNG'), 3),\n",
      " (('월', 'NNM'), 3),\n",
      " (('외국', 'NNG'), 3),\n",
      " (('고', 'NNG'), 2),\n",
      " (('법안', 'NNG'), 2),\n",
      " (('설립', 'NNG'), 2),\n",
      " (('반영', 'NNG'), 2),\n",
      " (('회장', 'NNG'), 2),\n",
      " (('영선', 'NNG'), 2),\n",
      " (('의원', 'NNG'), 2),\n",
      " (('계열사', 'NNG'), 2),\n",
      " (('집착', 'NNG'), 2),\n",
      " (('일', 'NNM'), 2),\n",
      " (('촉진법', 'NNG'), 2),\n",
      " (('개입', 'NNG'), 2),\n",
      " (('지분', 'NNG'), 2),\n",
      " (('기억', 'NNG'), 2),\n",
      " (('때문', 'NNB'), 2),\n",
      " (('외국인', 'NNG'), 2),\n",
      " (('남자', 'NNG'), 2),\n",
      " (('수', 'NNB'), 2),\n",
      " (('사업', 'NNG'), 2),\n",
      " (('녹취', 'NNG'), 2),\n",
      " (('완화', 'NNG'), 2),\n",
      " (('특정', 'NNG'), 2),\n",
      " (('야당', 'NNG'), 2),\n",
      " (('압박', 'NNG'), 2),\n",
      " (('관련', 'NNG'), 2),\n",
      " (('당시', 'NNG'), 2),\n",
      " (('기자', 'NNG'), 2),\n",
      " (('사건', 'NNG'), 2),\n",
      " (('재벌', 'NNG'), 2),\n",
      " (('파일', 'NNG'), 2),\n",
      " (('청와대', 'NNG'), 2),\n",
      " (('예산안', 'NNG'), 2),\n",
      " (('손자', 'NNG'), 2),\n",
      " (('국회', 'NNG'), 2)]\n"
     ]
    }
   ],
   "source": [
    "counter = {word:freq for word, freq in counter.items() if (freq >= 2) and (word[1][:2] == 'NN')}\n",
    "pprint(sorted(counter.items(), key=lambda x:x[1], reverse=True))"
   ]
  },
  {
   "cell_type": "markdown",
   "metadata": {
    "deletable": true,
    "editable": true
   },
   "source": [
    "최순실 -> [최, 순, 실], 박영선 -> [박, 영선]으로 나눠진 걸 볼 수 있습니다. 그런데 적어도 지금 시기의 뉴스 분석을 하기 위해서는 놓쳐서는 안되는 이름같습니다.\n",
    "\n",
    "그리고 카운팅을 하기 위해서는 사실 더 좋은 클래스를 Python에서 제공해 주고 있습니다. 위 작업을 가장 짧게 코딩해 보겠습니다."
   ]
  },
  {
   "cell_type": "code",
   "execution_count": 19,
   "metadata": {
    "collapsed": false,
    "deletable": true,
    "editable": true
   },
   "outputs": [
    {
     "name": "stdout",
     "output_type": "stream",
     "text": [
      "[(('씨', 'NNB'), 11),\n",
      " (('법', 'NNG'), 11),\n",
      " (('최', 'NNP'), 10),\n",
      " (('외촉', 'NNG'), 8),\n",
      " (('회사', 'NNG'), 8),\n",
      " (('것', 'NNB'), 7),\n",
      " (('통과', 'NNG'), 7),\n",
      " (('정', 'NNG'), 6),\n",
      " (('투자', 'NNG'), 6),\n",
      " (('순', 'NNG'), 5),\n",
      " (('대기업', 'NNG'), 5),\n",
      " (('개정안', 'NNG'), 5),\n",
      " (('실', 'NNG'), 5),\n",
      " (('전', 'NNG'), 5),\n",
      " (('내용', 'NNG'), 4),\n",
      " (('얘기', 'NNG'), 4),\n",
      " (('비서관', 'NNG'), 4)]\n"
     ]
    }
   ],
   "source": [
    "from collections import Counter\n",
    "\n",
    "counter = Counter(tokens[0])\n",
    "counter = {word:freq for word, freq in counter.items() if (freq >= 4) and (word[1][:2] == 'NN')}\n",
    "pprint(sorted(counter.items(), key=lambda x:x[1], reverse=True))"
   ]
  },
  {
   "cell_type": "markdown",
   "metadata": {
    "deletable": true,
    "editable": true
   },
   "source": [
    "이제 모든 형태소 분석기들로부터, '최순실'이라는 이름이 제대로 잡혔는지, 그리고 빈도수가 4 이상인 명사들은 어떤 것들이 있는지를 확인해보겠습니다. \n",
    "\n",
    "두 개의 리스트에 있는 아이템을 동시에 가져오는 방법으로 zip이 있습니다. 이것 역시 Python의 매우 유용한 기능입니다. "
   ]
  },
  {
   "cell_type": "code",
   "execution_count": 20,
   "metadata": {
    "collapsed": false,
    "deletable": true,
    "editable": true
   },
   "outputs": [
    {
     "name": "stdout",
     "output_type": "stream",
     "text": [
      "1 a\n",
      "2 b\n",
      "3 c\n"
     ]
    }
   ],
   "source": [
    "list_1 = [1, 2, 3, 4]\n",
    "list_2 = ['a', 'b', 'c']\n",
    "\n",
    "for entry_1, entry_2 in zip(list_1, list_2):\n",
    "    print(entry_1, entry_2)"
   ]
  },
  {
   "cell_type": "code",
   "execution_count": 21,
   "metadata": {
    "collapsed": false,
    "deletable": true,
    "editable": true
   },
   "outputs": [
    {
     "name": "stdout",
     "output_type": "stream",
     "text": [
      "\n",
      "\n",
      "Part of speech tagger: kkma\n",
      "[(('씨', 'NNB'), 11),\n",
      " (('법', 'NNG'), 11),\n",
      " (('최', 'NNP'), 10),\n",
      " (('외촉', 'NNG'), 8),\n",
      " (('회사', 'NNG'), 8),\n",
      " (('것', 'NNB'), 7),\n",
      " (('통과', 'NNG'), 7),\n",
      " (('정', 'NNG'), 6),\n",
      " (('투자', 'NNG'), 6),\n",
      " (('순', 'NNG'), 5),\n",
      " (('대기업', 'NNG'), 5),\n",
      " (('개정안', 'NNG'), 5),\n",
      " (('실', 'NNG'), 5),\n",
      " (('전', 'NNG'), 5),\n",
      " (('내용', 'NNG'), 4),\n",
      " (('얘기', 'NNG'), 4),\n",
      " (('비서관', 'NNG'), 4)]\n",
      "\n",
      "\n",
      "Part of speech tagger: twitter\n",
      "[(('씨', 'Noun'), 11),\n",
      " (('회사', 'Noun'), 8),\n",
      " (('외촉법', 'Noun'), 8),\n",
      " (('통과', 'Noun'), 7),\n",
      " (('이', 'Noun'), 6),\n",
      " (('대기업', 'Noun'), 5),\n",
      " (('개정안', 'Noun'), 5),\n",
      " (('정', 'Noun'), 5),\n",
      " (('최', 'Noun'), 5),\n",
      " (('전', 'Noun'), 5),\n",
      " (('최순실', 'Noun'), 5),\n",
      " (('요', 'Noun'), 4),\n",
      " (('내용', 'Noun'), 4),\n",
      " (('투자', 'Noun'), 4),\n",
      " (('비서', 'Noun'), 4),\n",
      " (('관', 'Noun'), 4)]\n",
      "\n",
      "\n",
      "Part of speech tagger: hannanum\n",
      "[(('외촉법', 'N'), 7),\n",
      " (('통과', 'N'), 7),\n",
      " (('대기업', 'N'), 5),\n",
      " (('최', 'N'), 5),\n",
      " (('말', 'N'), 5),\n",
      " (('전', 'N'), 5),\n",
      " (('개정안', 'N'), 5),\n",
      " (('최순실', 'N'), 5),\n",
      " (('비서관', 'N'), 4),\n",
      " (('것', 'N'), 4),\n",
      " (('회사', 'N'), 4)]\n"
     ]
    }
   ],
   "source": [
    "for (name, _), _tokens in zip(taggers, tokens):\n",
    "    print('\\n\\nPart of speech tagger: %s' % name)\n",
    "    counter = Counter(_tokens)\n",
    "    counter = {word:freq for word, freq in counter.items() if (freq >= 4) and (word[1][:1] == 'N')}\n",
    "    pprint(sorted(counter.items(), key=lambda x:x[1], reverse=True))"
   ]
  },
  {
   "cell_type": "markdown",
   "metadata": {
    "deletable": true,
    "editable": true
   },
   "source": [
    "모든 데이터에 적합할 정도로 universial corpus로부터 학습된 한국어 형태소 분석기는 '아직'까지는 없습니다. 그리고 한국어로 기술되었다고 하더라도, 차용한 글자만 한글일 뿐, 한국어는 아닌 언어들도 많이 있습니다. 특히 도메인 특수 용어들이 이에 해당합니다. \n",
    "\n",
    "사용할 수 있는 알고리즘들이 여러개일 경우에는 주어진 시간 안에 작업이 끝날 수 있는지와 주어진 데이터에 대한 형태소 분석기의 경향, 정성적 품질이 어느 정도인지 반드시 확인하고 이용하여야 합니다. "
   ]
  },
  {
   "cell_type": "code",
   "execution_count": null,
   "metadata": {
    "collapsed": true,
    "deletable": true,
    "editable": true
   },
   "outputs": [],
   "source": []
  }
 ],
 "metadata": {
  "kernelspec": {
   "display_name": "Python 3",
   "language": "python",
   "name": "python3"
  },
  "language_info": {
   "codemirror_mode": {
    "name": "ipython",
    "version": 3
   },
   "file_extension": ".py",
   "mimetype": "text/x-python",
   "name": "python",
   "nbconvert_exporter": "python",
   "pygments_lexer": "ipython3",
   "version": "3.5.3"
  }
 },
 "nbformat": 4,
 "nbformat_minor": 0
}
