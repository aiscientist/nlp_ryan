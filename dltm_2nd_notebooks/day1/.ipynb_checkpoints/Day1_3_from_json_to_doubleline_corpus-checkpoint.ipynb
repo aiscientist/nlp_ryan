{
 "cells": [
  {
   "cell_type": "markdown",
   "metadata": {
    "deletable": true,
    "editable": true
   },
   "source": [
    "glob은 해당하는 파일을 찾아줍니다. ../은 상위 폴더 주소 입니다\n",
    "\n",
    "실험 파일 전체에 적용되는 값들은 한 쪽 (주로 Jupyter notebook 맨 위쪽)에 몰아두는 것이 실수를 방지할 수 있습니다. (config.py를 만드는 것도 좋은 방법입니다.)"
   ]
  },
  {
   "cell_type": "code",
   "execution_count": 1,
   "metadata": {
    "collapsed": false,
    "deletable": true,
    "editable": true
   },
   "outputs": [
    {
     "name": "stdout",
     "output_type": "stream",
     "text": [
      "1355\n"
     ]
    }
   ],
   "source": [
    "import glob\n",
    "\n",
    "RAW_DATA_FOLDER = '../../../data/small_naver_news/raw/'\n",
    "PREPROSSED_DATA_FOLDER = '../../../data/small_naver_news/processed/'\n",
    "\n",
    "json_fnames = glob.glob('%s/*.json' % RAW_DATA_FOLDER)\n",
    "print(len(json_fnames))"
   ]
  },
  {
   "cell_type": "code",
   "execution_count": 2,
   "metadata": {
    "collapsed": true,
    "deletable": true,
    "editable": true
   },
   "outputs": [],
   "source": [
    "import json\n",
    "\n",
    "with open(json_fnames[2], encoding='utf-8') as f:\n",
    "    json_article = json.load(f)"
   ]
  },
  {
   "cell_type": "markdown",
   "metadata": {
    "deletable": true,
    "editable": true
   },
   "source": [
    "해당 문서는 네이버 뉴스의 내용을 수집한 것입니다. contentHtml은 뉴스 본문 부분의 html을 태그를 제거하지 않고서 저장한 부분이며, content는 이 중 텍스트만을 추린 부분입니다. \n",
    "\n",
    "코드는 항상 완벽할 수 없습니다. 데이터를 수집할 때 가능하다면 원본의 데이터를 늘 저장하시기 바랍니다. content를 만드는 parser가 잘못 만들어졌다면, 이미 저장된 JSON 파일들의 contentHtml을 불러와서 다시 파싱하면 되니까요. "
   ]
  },
  {
   "cell_type": "code",
   "execution_count": 3,
   "metadata": {
    "collapsed": false,
    "deletable": true,
    "editable": true
   },
   "outputs": [
    {
     "data": {
      "text/plain": [
       "dict_keys(['title', 'crawlerVersion', 'content', 'url', 'crawledTime', 'contentHtml', 'sid1', 'oid', 'office', 'writtenTime', 'aid'])"
      ]
     },
     "execution_count": 3,
     "metadata": {},
     "output_type": "execute_result"
    }
   ],
   "source": [
    "json_article.keys()"
   ]
  },
  {
   "cell_type": "code",
   "execution_count": 4,
   "metadata": {
    "collapsed": false,
    "deletable": true,
    "editable": true
   },
   "outputs": [
    {
     "data": {
      "text/plain": [
       "{'aid': '0008914417',\n",
       " 'content': '창당추진위 \"30여명 안팎 내일 탈당, 내달 2차 탈당 예상\"\\n(서울=연합뉴스) 이승관 현혜란 기자 = 새누리당 비박(비박근혜)계 의원들로 구성된 \\'보수개혁신당\\'(가칭) 창당추진위원회는 오는 27일 오전 집단탈당 및 분당을 공식 선언하기로 26일 결정했다.\\n창당추진위는 이날 오전 국회에서 김무성 전 대표, 유승민 의원 등이 참석한 가운데 전체회의를 열어 이같이 결정했다고 대변인인 오신환 의원이 브리핑을 통해 밝혔다.\\n오 의원은 \"내일은 30명 안팎에 탈당 선언을 할 것이고, 다음달 초에 2차적으로 소규모 탈당이 있을 것\"이라면서 \"이를 포함하면 원래 예상한 인원수인 34명 정도와 크게 다르지 않을 것\"이라고 말했다.\\n탈당 의원들은 오는 27일 분당 선언 직후 의원총회를 즉각 소집해 원(院) 구성과 원내대표 선출 일정 등을 논의하기로 했으며, 공식 창당일은 다음달 24일로 결정했다.\\nhumane@yna.co.kr\\n',\n",
       " 'contentHtml': '<div id=\"articleBodyContents\"> \\n <!-- 본문 내용 --> \\n <!-- TV플레이어 --> \\n <!-- // TV플레이어 --> \\n <script type=\"text/javascript\">\\n// flash 오류를 우회하기 위한 함수 추가\\nfunction _flash_removeCallback() {}\\n</script> \\n <br />\\n <br />창당추진위 &quot;30여명 안팎 내일 탈당, 내달 2차 탈당 예상&quot;\\n <br />\\n <br />(서울=연합뉴스) 이승관 현혜란 기자 = 새누리당 비박(비박근혜)계 의원들로 구성된 \\'보수개혁신당\\'(가칭) 창당추진위원회는 오는 27일 오전 집단탈당 및 분당을 공식 선언하기로 26일 결정했다.\\n <br />\\n <br /> 창당추진위는 이날 오전 국회에서 김무성 전 대표, 유승민 의원 등이 참석한 가운데 전체회의를 열어 이같이 결정했다고 대변인인 오신환 의원이 브리핑을 통해 밝혔다.\\n <br />\\n <br /> 오 의원은 &quot;내일은 30명 안팎에 탈당 선언을 할 것이고, 다음달 초에 2차적으로 소규모 탈당이 있을 것&quot;이라면서 &quot;이를 포함하면 원래 예상한 인원수인 34명 정도와 크게 다르지 않을 것&quot;이라고 말했다. \\n <br />\\n <br /> 탈당 의원들은 오는 27일 분당 선언 직후 의원총회를 즉각 소집해 원(院) 구성과 원내대표 선출 일정 등을 논의하기로 했으며, 공식 창당일은 다음달 24일로 결정했다.\\n <br />\\n <br />\\n <span class=\"end_photo_org\"><img src=\"http://imgnews.naver.net/image/001/2016/12/26/AKR20161226042200001_01_i_99_20161226095107.jpg?type=w540\" /></span>\\n <br />\\n <br /> humane@yna.co.kr\\n <br />\\n <br />\\n <br />\\n <br /> \\n <!-- // 본문 내용 --> \\n</div>',\n",
       " 'crawledTime': '2016-12-29 18:23',\n",
       " 'crawlerVersion': '0.1',\n",
       " 'office': 'http://www.yonhapnews.co.kr',\n",
       " 'oid': '001',\n",
       " 'sid1': '100',\n",
       " 'title': '與 비박계, 내일 분당 선언…내달 24일 보수신당 공식 창당',\n",
       " 'url': 'http://news.naver.com/main/read.nhn?mode=LSD&mid=sec&sid1=100&oid=001&aid=0008914417',\n",
       " 'writtenTime': '2016-12-26 09:48 2016-12-26 09:51'}"
      ]
     },
     "execution_count": 4,
     "metadata": {},
     "output_type": "execute_result"
    }
   ],
   "source": [
    "json_article"
   ]
  },
  {
   "cell_type": "markdown",
   "metadata": {
    "deletable": true,
    "editable": true
   },
   "source": [
    "개인적인 선호이지만, a line a document로 텍스트를 저장하는 편입니다. 나중에 term frequency matrix를 만들거나 Word2Vec, Doc2Vec을 학습할 때 편리합니다. \n",
    "\n",
    "하지만 하나의 문서는 여러 줄로 구성될 수 있습니다. 그래서 실제 줄바꿈이 있는 경우에는 **두 칸 띄어쓰기**를 이용하여 구분합니다. 기호에 따라서 탭 구분을 하셔도 좋습니다. 이 때, 줄 구분기호 (두 칸 띄어쓰기)는 반드시 한 문장 안에서 없어야 되겠죠. \n",
    "\n",
    "그리고 뉴스에서 필요한 메타 정보들도 line number를 맞춰서 index 파일로 만드는 것을 선호합니다. 이렇게 line number가 맞으면 필요할 때 해당 문서의 메타 정보들을 이용할 수 있으니까요. "
   ]
  },
  {
   "cell_type": "markdown",
   "metadata": {
    "deletable": true,
    "editable": true
   },
   "source": [
    "JSON 문서에 만약 content, title과 같은 정보가 존재하지 않아 오류가 날 것을 대비하여 dict.get(key, '')를 이용하여 json parser를 만듭니다. Python의 함수는 한 번에 여러 개의 변수가 return 될 수 있습니다."
   ]
  },
  {
   "cell_type": "code",
   "execution_count": 5,
   "metadata": {
    "collapsed": false,
    "deletable": true,
    "editable": true
   },
   "outputs": [
    {
     "name": "stdout",
     "output_type": "stream",
     "text": [
      "title: 與 비박계, 내일 분당 선언…내달 24일 보수신당 공식 창당\n",
      "idx: 0008914417\n",
      "text: 창당추진위 \"30여명 안팎 내일 탈당, 내달 2차 탈당 예상\"  (서울=연합뉴스) 이승관 현혜란 기자 = 새누리당 비박(비박근혜)계 의원들로 구성된 '보수개혁신당'(가칭) 창당추진위원회는 오는 27일 오전 집단탈당 및 분당을 공식 선언하기로 26일 결정했다.  창당추진위는 이날 오전 국회에서 김무성 전 대표, 유승민 의원 등이 참석한 가운데 전체회의를 열어 이같이 결정했다고 대변인인 오신환 의원이 브리핑을 통해 밝혔다.  오 의원은 \"내일은 30명 안팎에 탈당 선언을 할 것이고, 다음달 초에 2차적으로 소규모 탈당이 있을 것\"이라면서 \"이를 포함하면 원래 예상한 인원수인 34명 정도와 크게 다르지 않을 것\"이라고 말했다.  탈당 의원들은 오는 27일 분당 선언 직후 의원총회를 즉각 소집해 원(院) 구성과 원내대표 선출 일정 등을 논의하기로 했으며, 공식 창당일은 다음달 24일로 결정했다.  humane@yna.co.kr  \n"
     ]
    }
   ],
   "source": [
    "import json\n",
    "\n",
    "def parse_json(json_fname):\n",
    "    with open(json_fname, encoding='utf-8') as f:\n",
    "        json_object = json.load(f)\n",
    "        text = json_object.get('content', '').replace('\\n', '  ')\n",
    "        title = json_object.get('title', '')\n",
    "        idx = json_fname.split('/')[-1].split('.')[0]\n",
    "        return text, title, idx\n",
    "    \n",
    "text, title, idx = parse_json(json_fnames[2])\n",
    "\n",
    "print('title: %s' % title)\n",
    "print('idx: %s' % idx)\n",
    "print('text: %s' % text)"
   ]
  },
  {
   "cell_type": "markdown",
   "metadata": {
    "deletable": true,
    "editable": true
   },
   "source": [
    "두 칸 띄어쓰기로 각 문장을 나누뒀기 때문에 return 된 text를 두 칸 띄어쓰기로 다시 나눠봅니다. 한 기사에 7줄이 있었음을 확인할 수 있습니다. "
   ]
  },
  {
   "cell_type": "code",
   "execution_count": 7,
   "metadata": {
    "collapsed": false,
    "deletable": true,
    "editable": true
   },
   "outputs": [
    {
     "data": {
      "text/plain": [
       "7"
      ]
     },
     "execution_count": 7,
     "metadata": {},
     "output_type": "execute_result"
    }
   ],
   "source": [
    "len(text.split('  '))"
   ]
  },
  {
   "cell_type": "markdown",
   "metadata": {
    "deletable": true,
    "editable": true
   },
   "source": [
    "a line a document 형식의 corpus.txt 파일과 이에 해당하는 corpus_index.txt 파일을 만듭니다. "
   ]
  },
  {
   "cell_type": "code",
   "execution_count": 8,
   "metadata": {
    "collapsed": false,
    "deletable": true,
    "editable": true
   },
   "outputs": [
    {
     "name": "stdout",
     "output_type": "stream",
     "text": [
      "done\n"
     ]
    }
   ],
   "source": [
    "with open('%s/corpus.txt' % PREPROSSED_DATA_FOLDER, 'w', encoding='utf-8') as fc:\n",
    "    with open('%s/corpus_index.txt' % PREPROSSED_DATA_FOLDER, 'w', encoding='utf-8') as fi:\n",
    "        for json_fname in json_fnames:\n",
    "            text, title, idx = parse_json(json_fname)\n",
    "            fc.write('%s\\n' % text)\n",
    "            fi.write('%s\\t%s\\n' % (title, idx))\n",
    "\n",
    "print('done')"
   ]
  },
  {
   "cell_type": "markdown",
   "metadata": {
    "deletable": true,
    "editable": true
   },
   "source": [
    "str.strip()은 str의 맨 앞/뒤에 있는 공백이나 줄바꿈 기호를 제거해주는 함수입니다. "
   ]
  },
  {
   "cell_type": "code",
   "execution_count": 9,
   "metadata": {
    "collapsed": false,
    "deletable": true,
    "editable": true
   },
   "outputs": [
    {
     "data": {
      "text/plain": [
       "'ab c'"
      ]
     },
     "execution_count": 9,
     "metadata": {},
     "output_type": "execute_result"
    }
   ],
   "source": [
    "'  ab c '.strip()"
   ]
  },
  {
   "cell_type": "code",
   "execution_count": 10,
   "metadata": {
    "collapsed": false,
    "deletable": true,
    "editable": true
   },
   "outputs": [
    {
     "name": "stdout",
     "output_type": "stream",
     "text": [
      "num docs = 1355\n",
      "num sents of docs[2] = 6\n",
      "docs[2]\n",
      "창당추진위 \"30여명 안팎 내일 탈당, 내달 2차 탈당 예상\"  (서울=연합뉴스) 이승관 현혜란 기자 = 새누리당 비박(비박근혜)계 의원들로 구성된 '보수개혁신당'(가칭) 창당추진위원회는 오는 27일 오전 집단탈당 및 분당을 공식 선언하기로 26일 결정했다.  창당추진위는 이날 오전 국회에서 김무성 전 대표, 유승민 의원 등이 참석한 가운데 전체회의를 열어 이같이 결정했다고 대변인인 오신환 의원이 브리핑을 통해 밝혔다.  오 의원은 \"내일은 30명 안팎에 탈당 선언을 할 것이고, 다음달 초에 2차적으로 소규모 탈당이 있을 것\"이라면서 \"이를 포함하면 원래 예상한 인원수인 34명 정도와 크게 다르지 않을 것\"이라고 말했다.  탈당 의원들은 오는 27일 분당 선언 직후 의원총회를 즉각 소집해 원(院) 구성과 원내대표 선출 일정 등을 논의하기로 했으며, 공식 창당일은 다음달 24일로 결정했다.  humane@yna.co.kr\n"
     ]
    }
   ],
   "source": [
    "with open('%s/corpus.txt' % PREPROSSED_DATA_FOLDER, encoding='utf-8') as f:\n",
    "    docs = [doc.strip() for doc in f]\n",
    "\n",
    "print('num docs = %d' % len(docs))\n",
    "print('num sents of docs[2] = %d' % len(docs[2].split('  ')))\n",
    "print('docs[2]\\n%s' % docs[2])"
   ]
  },
  {
   "cell_type": "markdown",
   "metadata": {
    "deletable": true,
    "editable": true
   },
   "source": [
    "docs[2]의 num sents의 숫자가 다른 이유는 return된 text의 마지막 줄이 빈 공백이었기 때문입니다. "
   ]
  },
  {
   "cell_type": "code",
   "execution_count": 11,
   "metadata": {
    "collapsed": false,
    "deletable": true,
    "editable": true
   },
   "outputs": [
    {
     "data": {
      "text/plain": [
       "'humane@yna.co.kr'"
      ]
     },
     "execution_count": 11,
     "metadata": {},
     "output_type": "execute_result"
    }
   ],
   "source": [
    "docs[2].split('  ')[-1]"
   ]
  },
  {
   "cell_type": "code",
   "execution_count": 12,
   "metadata": {
    "collapsed": false,
    "deletable": true,
    "editable": true
   },
   "outputs": [
    {
     "data": {
      "text/plain": [
       "''"
      ]
     },
     "execution_count": 12,
     "metadata": {},
     "output_type": "execute_result"
    }
   ],
   "source": [
    "text.split('  ')[-1]"
   ]
  },
  {
   "cell_type": "code",
   "execution_count": 13,
   "metadata": {
    "collapsed": false,
    "deletable": true,
    "editable": true
   },
   "outputs": [
    {
     "data": {
      "text/plain": [
       "'kjhpress@yna.co.kr'"
      ]
     },
     "execution_count": 13,
     "metadata": {},
     "output_type": "execute_result"
    }
   ],
   "source": [
    "text.split('  ')[-2]"
   ]
  },
  {
   "cell_type": "code",
   "execution_count": null,
   "metadata": {
    "collapsed": true,
    "deletable": true,
    "editable": true
   },
   "outputs": [],
   "source": []
  }
 ],
 "metadata": {
  "kernelspec": {
   "display_name": "Python 3",
   "language": "python",
   "name": "python3"
  },
  "language_info": {
   "codemirror_mode": {
    "name": "ipython",
    "version": 3
   },
   "file_extension": ".py",
   "mimetype": "text/x-python",
   "name": "python",
   "nbconvert_exporter": "python",
   "pygments_lexer": "ipython3",
   "version": "3.5.3"
  }
 },
 "nbformat": 4,
 "nbformat_minor": 0
}
