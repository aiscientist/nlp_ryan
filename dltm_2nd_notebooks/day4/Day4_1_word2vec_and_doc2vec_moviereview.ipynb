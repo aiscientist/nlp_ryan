{
 "cells": [
  {
   "cell_type": "markdown",
   "metadata": {
    "deletable": true,
    "editable": true
   },
   "source": [
    "soy package를 system path에 추가하고, 토크나이징을 위하여 cohesion을 학습할 것인지, 문서들을 토크나이징 할 것인지 미리 지정합니다. \n",
    "\n",
    "토크나이징과 같이 작업 시간이 많이 들어갈 수 있는 작업들은 이렇게 맨 위에서 True, False로 설정할 수 있도록 미리 설정해두면, Shift + Enter를 연속으로 누르다가 했던 작업을 다시 하는 실수를 방지할 수 있습니다. \n",
    "\n",
    "한 번 토크나이징을 하면, 값을 False로 바꿔두세요. "
   ]
  },
  {
   "cell_type": "code",
   "execution_count": 1,
   "metadata": {
    "collapsed": false,
    "deletable": true,
    "editable": true
   },
   "outputs": [],
   "source": [
    "import sys\n",
    "sys.path.append('../soy/')\n",
    "import soy\n",
    "\n",
    "\n",
    "TRAIN_COHESION = False\n",
    "TOKENIZE = False\n",
    "\n",
    "corpus_fname = '../../../data/sample_naver_movie/merged_comments.txt'\n",
    "tokenized_corpus_fname = '../../../data/sample_naver_movie/merged_comments_tokenized.txt'\n",
    "cohesion_fname = '../../../data/sample_naver_movie/navermovie_cohesion'\n",
    "maxscore_fname = '../../../data/sample_naver_movie/navermovie_maxscore.pkl'\n",
    "\n",
    "\n",
    "TRAIN_WORD2VEC = False\n",
    "word2vec_fname = '../../../data/sample_naver_movie/movie_review_word2vec_model.pkl'\n",
    "\n",
    "\n",
    "TRAIN_DOC2VEC = False\n",
    "doc2vec_fname = '../../../data/sample_naver_movie/movie_review_doc2vec_model.pkl'\n",
    "\n",
    "id2movie_fname = '../../../data/sample_naver_movie/navermovie_info_idx2moviename.pkl'\n",
    "id2actor_fname = '../../../data/sample_naver_movie/navermovie_info_idx2actorname.pkl'"
   ]
  },
  {
   "cell_type": "markdown",
   "metadata": {
    "deletable": true,
    "editable": true
   },
   "source": [
    "## Preprocessing: Cohesion training + Tokenizing"
   ]
  },
  {
   "cell_type": "markdown",
   "metadata": {
    "deletable": true,
    "editable": true
   },
   "source": [
    "corpus 파일은 tap으로 구분하여 한 줄에 <영화아이디, 텍스트, 평점>으로 입력되어 있습니다. \n",
    "\n",
    "    with open() as f:\n",
    "        docs=[doc.strip().split('\\t') for doc in f]\n",
    "\n",
    "위 구문은 파일을 읽어 한 줄에 줄바꿈 기호를 제거한 뒤, tap으로 줄을 분리합니다. 그 결과 한 줄에는 [영화아이디, 텍스트, 평점]의 리스트가 들어있게 됩니다. \n",
    "\n",
    "    [[영화아이디, 텍스트, 평점], \n",
    "     [영화아이디, 텍스트, 평점], \n",
    "     ...\n",
    "    ]\n",
    "\n",
    "위 형식의 list of list이기 때문에 각각의 column 별로 값을 분리하기 위하여 zip(\\*)을 이용합니다. "
   ]
  },
  {
   "cell_type": "code",
   "execution_count": 3,
   "metadata": {
    "collapsed": false,
    "deletable": true,
    "editable": true
   },
   "outputs": [
    {
     "data": {
      "text/plain": [
       "('명불허전',\n",
       " '왠지 고사 피의중간고사보다 재미가없을듯해요 만약보게된다면실망할듯',\n",
       " '티아라 사랑해 ㅜ',\n",
       " '황정음 윤시윤 지붕킥 인연 김수로 티아라지연 공부의신 인연 너무너무재미있어요',\n",
       " '기대 완전')"
      ]
     },
     "execution_count": 3,
     "metadata": {},
     "output_type": "execute_result"
    }
   ],
   "source": [
    "def get_text(fname):\n",
    "    with open(fname, encoding='utf-8') as f:\n",
    "        docs = [doc.strip().split('\\t') for doc in f]\n",
    "    \n",
    "    idx, texts, scores = zip(*docs)\n",
    "    return idx, texts, scores\n",
    "\n",
    "idx, docs, scores = get_text(corpus_fname)\n",
    "docs[:5]"
   ]
  },
  {
   "cell_type": "markdown",
   "metadata": {
    "deletable": true,
    "editable": true
   },
   "source": [
    "문서의 길이는 3,280,685 입니다. 320만개 정도의 리뷰가 있습니다"
   ]
  },
  {
   "cell_type": "code",
   "execution_count": 4,
   "metadata": {
    "collapsed": false,
    "deletable": true,
    "editable": true
   },
   "outputs": [
    {
     "data": {
      "text/plain": [
       "3280685"
      ]
     },
     "execution_count": 4,
     "metadata": {},
     "output_type": "execute_result"
    }
   ],
   "source": [
    "len(docs)"
   ]
  },
  {
   "cell_type": "markdown",
   "metadata": {
    "deletable": true,
    "editable": true
   },
   "source": [
    "TRAIN_COHESION == True이면 cohesion을 학습합니다. 학습된 결과는 data/sample_naver_movie에 navermovie_cohesion 이름으로 저장합니다. 만약 TRAIN_COHESION == False이면 학습된 cohesion을 load합니다\n",
    "\n",
    "MaxScoreTokenizer에 이용할 scores는 최소 빈도수 10, 최소 cohesion 값 0.001 이상인 단어에 대해서만 filtering 하여 pickle로 저장해둡니다. "
   ]
  },
  {
   "cell_type": "code",
   "execution_count": 15,
   "metadata": {
    "collapsed": false,
    "deletable": true,
    "editable": true
   },
   "outputs": [],
   "source": [
    "import pickle\n",
    "from soy.nlp.extractors import CohesionProbability\n",
    "\n",
    "cohesion = CohesionProbability()\n",
    "\n",
    "if TRAIN_COHESION:\n",
    "    cohesion.train(docs)\n",
    "    cohesion.save(cohesion_fname)\n",
    "    \n",
    "    scores = cohesion.get_all_cohesion_probabilities()\n",
    "    scores = {word:s[0] for word, s in scores.items() if s[2] >= 10 and s[0] > 0.001}\n",
    "    with open(maxscore_fname, 'wb') as f:\n",
    "        pickle.dump(scores, f)\n",
    "        \n",
    "else:\n",
    "    cohesion.load(cohesion_fname)\n",
    "    with open(maxscore_fname, 'rb') as f:\n",
    "        scores = pickle.load(f)"
   ]
  },
  {
   "cell_type": "markdown",
   "metadata": {
    "deletable": true,
    "editable": true
   },
   "source": [
    "Cohesion의 L score 기준으로 토크나이징을 수행하는 MaxScoreTokenizer를 만듦니다. 만약 TOKENIZE == True이면 모든 문서들을 토크나이징 합니다. 토크나이징의 예시를 3문장에 대하여 수행하여 그 결과를 미리 살펴봅니다"
   ]
  },
  {
   "cell_type": "code",
   "execution_count": 19,
   "metadata": {
    "collapsed": false,
    "deletable": true,
    "editable": true
   },
   "outputs": [
    {
     "name": "stdout",
     "output_type": "stream",
     "text": [
      "명불허전\n",
      "['명불허전'] \n",
      "\n",
      "왠지 고사 피의중간고사보다 재미가없을듯해요 만약보게된다면실망할듯\n",
      "['왠지', '고사', '피의', '중간', '고사', '보다', '재미', '가', '없을', '듯해요', '만약', '보게', '된다', '면', '실망', '할듯'] \n",
      "\n",
      "티아라 사랑해 ㅜ\n",
      "['티아라', '사랑', '해', 'ㅜ'] \n",
      "\n"
     ]
    }
   ],
   "source": [
    "from soy.nlp.tokenizer import MaxScoreTokenizer\n",
    "\n",
    "tokenizer = MaxScoreTokenizer(scores=scores)\n",
    "\n",
    "for doc in docs[:3]:\n",
    "    print(doc)\n",
    "    print(tokenizer.tokenize(doc), '\\n')\n",
    "\n",
    "if TOKENIZE:\n",
    "    with open(tokenized_corpus_fname, 'w', encoding='utf-8') as f:\n",
    "        for idx_, text, score in zip(idx, docs, scores):\n",
    "            tokens = ' '.join(tokenizer.tokenize(text)).strip()\n",
    "            f.write('%s\\t%s\\t%s\\n' % (idx_, tokens, score))\n",
    "            \n",
    "    print('tokenizing was done')"
   ]
  },
  {
   "cell_type": "markdown",
   "metadata": {
    "deletable": true,
    "editable": true
   },
   "source": [
    "## Word2Vec 학습"
   ]
  },
  {
   "cell_type": "markdown",
   "metadata": {
    "deletable": true,
    "editable": true
   },
   "source": [
    "Gensim의 Word2Vec을 학습하기 위해서는 list of str 형식의 input이 필요합니다. 하지만 모든 리뷰들을 메모리에 올리지 않고도 학습할 수 있습니다. generator인 with open을 이용하여 __iter__를 오버라이딩한 CommentWord2Vec이라는 클래스를 생성합니다. \n",
    "\n",
    "__iter__에서 \n",
    "\n",
    "    for doc in f:\n",
    "        movie_idx, text, score = doc.split('\\t')\n",
    "        yield text.split()\n",
    "\n",
    "을 수행하면, 파일 f로부터 한 줄을 읽어 tap으로 텍스트를 구분한 뒤, 그 텍스트를 띄어쓰기 기준으로 잘라낸 token list가 for loop 안에서 출력됩니다. \n",
    "\n",
    "__iter__는 아래 구문이 작동할 수 있도록 해주는 파이썬 내장함수 입니다. \n",
    "\n",
    "    for doc in word2vec_corpus:\n",
    "        print(doc)\n",
    "\n",
    "토크나이징이 된 리뷰들을 CommentWord2Vec의 fname으로 입력하였기 때문에, 띄어쓰기 만으로 단어열을 yield 할 수 있습니다. 이러한 작업은 반복이 되기 때문에 raw corpus와 tokenized corpus를 구분하여 저장하는 것이 좋습니다. "
   ]
  },
  {
   "cell_type": "code",
   "execution_count": 2,
   "metadata": {
    "collapsed": false,
    "deletable": true,
    "editable": true
   },
   "outputs": [
    {
     "name": "stdout",
     "output_type": "stream",
     "text": [
      "['명불허전']\n",
      "['왠지', '고사', '피의', '중간', '고사', '보다', '재미', '가', '없을', '듯해요', '만약', '보게', '된다', '면', '실망', '할듯']\n",
      "['티아라', '사랑', '해', 'ㅜ']\n",
      "['황정', '음', '윤시윤', '지붕킥', '인연', '김수', '로', '티아라지연', '공부', '의신', '인연', '너무', '너무', '재미', '있어', '요']\n",
      "['기대', '완전']\n",
      "['기대', '지연', '나온다']\n"
     ]
    }
   ],
   "source": [
    "import os\n",
    "    \n",
    "class CommentWord2Vec:\n",
    "    \n",
    "    def __init__(self, fname):\n",
    "        self.fname = fname\n",
    "        if not os.path.isfile(fname):\n",
    "            print('File not found: %s' % fname)\n",
    "        \n",
    "    def __iter__(self):\n",
    "        with open(self.fname, encoding='utf-8') as f:\n",
    "            for doc in f:\n",
    "                movie_idx, text, score = doc.split('\\t')\n",
    "                yield text.split()\n",
    "                \n",
    "                \n",
    "word2vec_corpus = CommentWord2Vec(tokenized_corpus_fname)\n",
    "\n",
    "for num_doc, doc in enumerate(word2vec_corpus):\n",
    "    if num_doc > 5: break\n",
    "    print(doc)"
   ]
  },
  {
   "cell_type": "markdown",
   "metadata": {
    "deletable": true,
    "editable": true
   },
   "source": [
    "Gensim의 Word2Vec을 이용합니다. 미리 만들어둔 word2vec_corpus를 Word2Vec의 argument로 입력합니다. default parameters를 이용하여 Word2Vec을 학습힙니다. \n",
    "\n",
    "Word2Vec의 arguments 중에서 중요한 것들은 아래와 같습니다. \n",
    "\n",
    "- size: 단어의 임베딩 공간의 크기\n",
    "- alpha: learning rate\n",
    "- window: 한 단어의 좌/우의 문맥 크기\n",
    "- min_count: 모델이 학습할 단어의 최소 출현 빈도수\n",
    "- max_vocab_size: None이 아닌 숫자를 입력하면 빈도수 기준으로 상위 max_vocab_size 개수만큼의 단어만 학습\n",
    "- sg: 1이면 skipgram 이용\n",
    "- negative: negative sampling에서 negative sample의 개수"
   ]
  },
  {
   "cell_type": "code",
   "execution_count": 3,
   "metadata": {
    "collapsed": false,
    "deletable": true,
    "editable": true
   },
   "outputs": [],
   "source": [
    "from gensim.models import Word2Vec\n",
    "import pickle\n",
    "\n",
    "if TRAIN_WORD2VEC:\n",
    "    word2vec_model = Word2Vec(word2vec_corpus)\n",
    "    with open(word2vec_fname, 'wb') as f:\n",
    "        pickle.dump(word2vec_model, f)\n",
    "        \n",
    "else:\n",
    "    with open(word2vec_fname, 'rb') as f:\n",
    "        word2vec_model = pickle.load(f)"
   ]
  },
  {
   "cell_type": "markdown",
   "metadata": {
    "deletable": true,
    "editable": true
   },
   "source": [
    "학습된 Word2Vec모델의 .most_similar(단어, topn) 함수는 입력된 단어에 대하여 가장 비슷한 topn개의 다른 단어들과 유사도를 출력합니다. \n",
    "\n",
    "아래의 에제에서 '영화'와 가장 비슷한 단어는 '애니'이며, 유사도는 0.7270입니다"
   ]
  },
  {
   "cell_type": "code",
   "execution_count": 6,
   "metadata": {
    "collapsed": false,
    "deletable": true,
    "editable": true
   },
   "outputs": [
    {
     "data": {
      "text/plain": [
       "[('애니', 0.7270158529281616),\n",
       " ('애니메이션', 0.6740480661392212),\n",
       " ('작품', 0.6374686360359192),\n",
       " ('명화', 0.6239856481552124),\n",
       " ('드라마', 0.6083831787109375),\n",
       " ('수작', 0.5843718647956848),\n",
       " ('블록버스터', 0.5830725431442261),\n",
       " ('에니메이션', 0.5776616334915161),\n",
       " ('여화', 0.5737490653991699),\n",
       " ('양화', 0.5575988292694092)]"
      ]
     },
     "execution_count": 6,
     "metadata": {},
     "output_type": "execute_result"
    }
   ],
   "source": [
    "word2vec_model.most_similar('영화', topn=10)"
   ]
  },
  {
   "cell_type": "code",
   "execution_count": 26,
   "metadata": {
    "collapsed": false,
    "deletable": true,
    "editable": true
   },
   "outputs": [
    {
     "data": {
      "text/plain": [
       "[('송강호', 0.919318675994873),\n",
       " ('이정재', 0.852825939655304),\n",
       " ('공유', 0.8508720993995667),\n",
       " ('황정민', 0.8402723073959351),\n",
       " ('송광호', 0.8278650641441345),\n",
       " ('유아인', 0.8198508024215698),\n",
       " ('손현주', 0.8156596422195435),\n",
       " ('설경구', 0.8124169111251831),\n",
       " ('김명민', 0.8080841302871704),\n",
       " ('박신양', 0.8069778680801392)]"
      ]
     },
     "execution_count": 26,
     "metadata": {},
     "output_type": "execute_result"
    }
   ],
   "source": [
    "word2vec_model.most_similar('하정우', topn=10)"
   ]
  },
  {
   "cell_type": "code",
   "execution_count": 27,
   "metadata": {
    "collapsed": false,
    "deletable": true,
    "editable": true
   },
   "outputs": [
    {
     "data": {
      "text/plain": [
       "[('일점', 0.8898996114730835),\n",
       " ('별1개', 0.8513052463531494),\n",
       " ('2점', 0.8441988229751587),\n",
       " ('별반개', 0.843772828578949),\n",
       " ('별한개', 0.8416849374771118),\n",
       " ('3점', 0.8179458379745483),\n",
       " ('4점', 0.7843236923217773),\n",
       " ('5점', 0.782870888710022),\n",
       " ('별2개', 0.7643338441848755),\n",
       " ('십점', 0.7511963844299316)]"
      ]
     },
     "execution_count": 27,
     "metadata": {},
     "output_type": "execute_result"
    }
   ],
   "source": [
    "word2vec_model.most_similar('1점', topn=10)"
   ]
  },
  {
   "cell_type": "code",
   "execution_count": 28,
   "metadata": {
    "collapsed": false,
    "deletable": true,
    "editable": true
   },
   "outputs": [
    {
     "data": {
      "text/plain": [
       "[('백점', 0.8345217704772949),\n",
       " ('별5개', 0.7879848480224609),\n",
       " ('별다섯개', 0.7785131931304932),\n",
       " ('구점', 0.7737853527069092),\n",
       " ('1점', 0.7511963844299316),\n",
       " ('일점', 0.734034538269043),\n",
       " ('만점', 0.7175484895706177),\n",
       " ('반점', 0.7165299654006958),\n",
       " ('천점', 0.7126907706260681),\n",
       " ('별1개', 0.7063093781471252)]"
      ]
     },
     "execution_count": 28,
     "metadata": {},
     "output_type": "execute_result"
    }
   ],
   "source": [
    "word2vec_model.most_similar('십점', topn=10)"
   ]
  },
  {
   "cell_type": "code",
   "execution_count": 29,
   "metadata": {
    "collapsed": false,
    "deletable": true,
    "editable": true
   },
   "outputs": [
    {
     "data": {
      "text/plain": [
       "[('이용철', 0.8919610977172852),\n",
       " ('송경원', 0.8612687587738037),\n",
       " ('김현수', 0.8551464080810547),\n",
       " ('황진미', 0.8520922660827637),\n",
       " ('박평식', 0.8049514889717102),\n",
       " ('허지웅', 0.8009775280952454),\n",
       " ('정시우', 0.7984682321548462),\n",
       " ('이주현', 0.7837086915969849),\n",
       " ('씨네21', 0.7780917286872864),\n",
       " ('한겨레', 0.7684910297393799)]"
      ]
     },
     "execution_count": 29,
     "metadata": {},
     "output_type": "execute_result"
    }
   ],
   "source": [
    "word2vec_model.most_similar('이동진', topn=10)"
   ]
  },
  {
   "cell_type": "code",
   "execution_count": 30,
   "metadata": {
    "collapsed": false,
    "deletable": true,
    "editable": true
   },
   "outputs": [
    {
     "data": {
      "text/plain": [
       "[('기자', 0.8722352981567383),\n",
       " ('전문가', 0.8690904378890991),\n",
       " ('씨네21', 0.8210318088531494),\n",
       " ('평론가들', 0.765844464302063),\n",
       " ('기자들', 0.7481426000595093),\n",
       " ('황진미', 0.7349421977996826),\n",
       " ('한겨레', 0.7320604920387268),\n",
       " ('이용철', 0.7223106622695923),\n",
       " ('일베', 0.7179790735244751),\n",
       " ('평론', 0.7114050388336182)]"
      ]
     },
     "execution_count": 30,
     "metadata": {},
     "output_type": "execute_result"
    }
   ],
   "source": [
    "word2vec_model.most_similar('평론가', topn=10)"
   ]
  },
  {
   "cell_type": "code",
   "execution_count": 31,
   "metadata": {
    "collapsed": false,
    "deletable": true,
    "editable": true
   },
   "outputs": [
    {
     "data": {
      "text/plain": [
       "[('비평', 0.8205782175064087),\n",
       " ('비난', 0.7567965984344482),\n",
       " ('마녀사냥', 0.7317776083946228),\n",
       " ('평가', 0.7311972379684448),\n",
       " ('평론가', 0.7114049792289734),\n",
       " ('악평', 0.7046335339546204),\n",
       " ('헛소리', 0.6922388076782227),\n",
       " ('비판', 0.6894634366035461),\n",
       " ('평론가들', 0.6862804889678955),\n",
       " ('판단', 0.6772139072418213)]"
      ]
     },
     "execution_count": 31,
     "metadata": {},
     "output_type": "execute_result"
    }
   ],
   "source": [
    "word2vec_model.most_similar('평론', topn=10)"
   ]
  },
  {
   "cell_type": "code",
   "execution_count": 32,
   "metadata": {
    "collapsed": false,
    "deletable": true,
    "editable": true
   },
   "outputs": [
    {
     "data": {
      "text/plain": [
       "[('줄거리', 0.8792709112167358),\n",
       " ('시나리오', 0.8635469675064087),\n",
       " ('내용', 0.7438483238220215),\n",
       " ('내러티브', 0.6806436777114868),\n",
       " ('소재', 0.6615859270095825),\n",
       " ('전개', 0.6538527011871338),\n",
       " ('플롯', 0.6399033069610596),\n",
       " ('CG', 0.6355487108230591),\n",
       " ('영상미', 0.6278510689735413),\n",
       " ('네러티브', 0.6154857873916626)]"
      ]
     },
     "execution_count": 32,
     "metadata": {},
     "output_type": "execute_result"
    }
   ],
   "source": [
    "word2vec_model.most_similar('스토리', topn=10)"
   ]
  },
  {
   "cell_type": "code",
   "execution_count": 33,
   "metadata": {
    "collapsed": false,
    "deletable": true,
    "editable": true
   },
   "outputs": [
    {
     "data": {
      "text/plain": [
       "[('조연들', 0.8378283381462097),\n",
       " ('주연', 0.744808554649353),\n",
       " ('조연들의', 0.7030118107795715),\n",
       " ('단역', 0.6977415084838867),\n",
       " ('정재영', 0.5851399302482605),\n",
       " ('배역들', 0.5800350904464722),\n",
       " ('이성민', 0.5691245794296265),\n",
       " ('배역', 0.5679682493209839),\n",
       " ('까메오', 0.5582926273345947),\n",
       " ('박성웅', 0.5508951544761658)]"
      ]
     },
     "execution_count": 33,
     "metadata": {},
     "output_type": "execute_result"
    }
   ],
   "source": [
    "word2vec_model.most_similar('조연', topn=10)"
   ]
  },
  {
   "cell_type": "code",
   "execution_count": 34,
   "metadata": {
    "collapsed": false,
    "deletable": true,
    "editable": true
   },
   "outputs": [
    {
     "data": {
      "text/plain": [
       "[('캐릭터', 0.7202448844909668),\n",
       " ('톱스타', 0.693311333656311),\n",
       " ('케릭터', 0.6556588411331177),\n",
       " ('베우', 0.6484212875366211),\n",
       " ('주연', 0.5995330214500427),\n",
       " ('주인공', 0.5758554339408875),\n",
       " ('연기', 0.5713545083999634),\n",
       " ('아이', 0.571211576461792),\n",
       " ('조연들', 0.5567048192024231),\n",
       " ('꼬맹이', 0.5439891219139099)]"
      ]
     },
     "execution_count": 34,
     "metadata": {},
     "output_type": "execute_result"
    }
   ],
   "source": [
    "word2vec_model.most_similar('배우', topn=10)"
   ]
  },
  {
   "cell_type": "code",
   "execution_count": 50,
   "metadata": {
    "collapsed": false,
    "deletable": true,
    "editable": true
   },
   "outputs": [
    {
     "data": {
      "text/plain": [
       "[('4d', 0.8334470987319946),\n",
       " ('3디', 0.8216956257820129),\n",
       " ('2d', 0.8174580931663513),\n",
       " ('4디', 0.8061981201171875),\n",
       " ('아이맥스', 0.7934178709983826),\n",
       " ('쓰리디', 0.7897979021072388),\n",
       " ('4D', 0.7873770594596863),\n",
       " ('3d', 0.7830653190612793),\n",
       " ('투디', 0.7762783169746399),\n",
       " ('imax', 0.7537804841995239)]"
      ]
     },
     "execution_count": 50,
     "metadata": {},
     "output_type": "execute_result"
    }
   ],
   "source": [
    "word2vec_model.most_similar('포디', topn=10)"
   ]
  },
  {
   "cell_type": "code",
   "execution_count": 49,
   "metadata": {
    "collapsed": false,
    "deletable": true,
    "editable": true
   },
   "outputs": [
    {
     "data": {
      "text/plain": [
       "[('용산', 0.9296648502349854),\n",
       " ('일산', 0.9021010398864746),\n",
       " ('왕십리', 0.8999133110046387),\n",
       " ('센텀', 0.8933353424072266),\n",
       " ('목동', 0.8897708654403687),\n",
       " ('신도림', 0.8873537182807922),\n",
       " ('강변', 0.8852328062057495),\n",
       " ('신촌', 0.8834091424942017),\n",
       " ('상암', 0.8725293278694153),\n",
       " ('김포', 0.8637005090713501)]"
      ]
     },
     "execution_count": 49,
     "metadata": {},
     "output_type": "execute_result"
    }
   ],
   "source": [
    "word2vec_model.most_similar('영등포', topn=10)"
   ]
  },
  {
   "cell_type": "code",
   "execution_count": 42,
   "metadata": {
    "collapsed": false,
    "deletable": true,
    "editable": true
   },
   "outputs": [
    {
     "data": {
      "text/plain": [
       "[('롯데', 0.8718061447143555),\n",
       " ('영등포', 0.8630311489105225),\n",
       " ('왕십리', 0.8520963788032532),\n",
       " ('시네마', 0.8413782119750977),\n",
       " ('용산', 0.8399519920349121),\n",
       " ('신촌', 0.8258014917373657),\n",
       " ('일산', 0.8243458271026611),\n",
       " ('센텀', 0.8143980503082275),\n",
       " ('홍대', 0.8050951361656189),\n",
       " ('롯시', 0.8028289675712585)]"
      ]
     },
     "execution_count": 42,
     "metadata": {},
     "output_type": "execute_result"
    }
   ],
   "source": [
    "word2vec_model.most_similar('메가박스', topn=10)"
   ]
  },
  {
   "cell_type": "code",
   "execution_count": 36,
   "metadata": {
    "collapsed": false,
    "deletable": true,
    "editable": true
   },
   "outputs": [
    {
     "data": {
      "text/plain": [
       "[('OCN', 0.8665090799331665),\n",
       " ('아맥', 0.7466250658035278),\n",
       " ('특집', 0.7397516965866089),\n",
       " ('설특집', 0.736554741859436),\n",
       " ('tv', 0.7252987623214722),\n",
       " ('민방위', 0.7093151807785034),\n",
       " ('설특선', 0.7013320922851562),\n",
       " ('케이블', 0.7009643316268921),\n",
       " ('설날특집', 0.6997461915016174),\n",
       " ('KBS', 0.6992093324661255)]"
      ]
     },
     "execution_count": 36,
     "metadata": {},
     "output_type": "execute_result"
    }
   ],
   "source": [
    "word2vec_model.most_similar('ocn', topn=10)"
   ]
  },
  {
   "cell_type": "code",
   "execution_count": 35,
   "metadata": {
    "collapsed": false,
    "deletable": true,
    "editable": true
   },
   "outputs": [
    {
     "data": {
      "text/plain": [
       "[('김윤석', 0.9154908657073975),\n",
       " ('김명민', 0.9021692872047424),\n",
       " ('유해진', 0.8866415023803711),\n",
       " ('정재영', 0.8833662271499634),\n",
       " ('조진웅', 0.877825140953064),\n",
       " ('박신양', 0.8620526790618896),\n",
       " ('조정석', 0.8590015172958374),\n",
       " ('최민식', 0.85504150390625),\n",
       " ('송강호', 0.8549157977104187),\n",
       " ('유아인', 0.8516969680786133)]"
      ]
     },
     "execution_count": 35,
     "metadata": {},
     "output_type": "execute_result"
    }
   ],
   "source": [
    "word2vec_model.most_similar('황정민')"
   ]
  },
  {
   "cell_type": "markdown",
   "metadata": {
    "deletable": true,
    "editable": true
   },
   "source": [
    "## Doc2Vec 학습"
   ]
  },
  {
   "cell_type": "markdown",
   "metadata": {
    "deletable": true,
    "editable": true
   },
   "source": [
    "Doc2Vec을 학습하기 위해서는 각각 문서의 label이 저장되어야 합니다. 이를 위하여 TaggedDocument라는 클래스가 이용됩니다. TaggedDocument는 단어들을 words에, 레이블 정보를 tags에 리스트 형태로 입력합니다"
   ]
  },
  {
   "cell_type": "code",
   "execution_count": 7,
   "metadata": {
    "collapsed": false,
    "deletable": true,
    "editable": true
   },
   "outputs": [],
   "source": [
    "import os\n",
    "import pickle\n",
    "from gensim.models import Doc2Vec\n",
    "from gensim.models.doc2vec import TaggedDocument\n",
    "\n",
    "\n",
    "class CommentDoc2Vec:\n",
    "    \n",
    "    def __init__(self, fname):\n",
    "        self.fname = fname\n",
    "        if not os.path.isfile(fname):\n",
    "            print('File not found: %s' % fname)\n",
    "        \n",
    "    def __iter__(self):\n",
    "        with open(self.fname, encoding='utf-8') as f:\n",
    "            for doc in f:\n",
    "                movie_idx, text, score = doc.split('\\t')\n",
    "                yield TaggedDocument(words=text.split(), tags=['MOVIE_%s' % movie_idx])\n",
    "\n",
    "                \n",
    "doc2vec_corpus = CommentDoc2Vec(tokenized_corpus_fname)\n",
    "\n",
    "\n",
    "if TRAIN_DOC2VEC:\n",
    "    doc2vec_model = Doc2Vec(doc2vec_corpus)\n",
    "    with open(doc2vec_fname, 'wb') as f:\n",
    "        pickle.dump(doc2vec_model, f)\n",
    "\n",
    "else:\n",
    "    with open(doc2vec_fname, 'rb') as f:\n",
    "        doc2vec_model = pickle.load(f)"
   ]
  },
  {
   "cell_type": "markdown",
   "metadata": {
    "deletable": true,
    "editable": true
   },
   "source": [
    "Doc2Vec은 Word2Vec과 동일하게 단어 벡터를 학습하며, 이를 바탕으로 document vector를 학습합니다. 그렇기 때문에 단어 벡터에 의한 유사도는 동일하게 학습됩니다. "
   ]
  },
  {
   "cell_type": "code",
   "execution_count": 9,
   "metadata": {
    "collapsed": true,
    "deletable": true,
    "editable": true
   },
   "outputs": [],
   "source": [
    "doc2vec_model.infer_vector?"
   ]
  },
  {
   "cell_type": "code",
   "execution_count": 8,
   "metadata": {
    "collapsed": false,
    "deletable": true,
    "editable": true
   },
   "outputs": [
    {
     "data": {
      "text/plain": [
       "[('애니', 0.6325808763504028),\n",
       " ('작품', 0.6256965398788452),\n",
       " ('명화', 0.5957159399986267),\n",
       " ('이야기', 0.5752507448196411),\n",
       " ('드라마', 0.5624338388442993),\n",
       " ('애니메이션', 0.5499187707901001),\n",
       " ('블록버스터', 0.5162981748580933),\n",
       " ('백미', 0.5081011056900024),\n",
       " ('장르', 0.5013960599899292),\n",
       " ('양화', 0.492192804813385)]"
      ]
     },
     "execution_count": 8,
     "metadata": {},
     "output_type": "execute_result"
    }
   ],
   "source": [
    "doc2vec_model.most_similar('영화', topn=10)"
   ]
  },
  {
   "cell_type": "markdown",
   "metadata": {
    "deletable": true,
    "editable": true
   },
   "source": [
    "Doc2Vec model의 .docvecs안에는 document vector와 관련된 정보들이 저장되어 있습니다"
   ]
  },
  {
   "cell_type": "code",
   "execution_count": 42,
   "metadata": {
    "collapsed": false,
    "deletable": true,
    "editable": true
   },
   "outputs": [
    {
     "data": {
      "text/plain": [
       "172"
      ]
     },
     "execution_count": 42,
     "metadata": {},
     "output_type": "execute_result"
    }
   ],
   "source": [
    "len(doc2vec_model.docvecs)"
   ]
  },
  {
   "cell_type": "markdown",
   "metadata": {
    "deletable": true,
    "editable": true
   },
   "source": [
    "Doctags에 들어있는 offset은 document vector의 임베딩 메트릭스의 row id이며, word_count는 각 태그에 해당하는 문서에 단어가 몇 개 있었는지, doc_count는 각 태그에 해당하는 문서가 몇 번 등장하였는지입니다"
   ]
  },
  {
   "cell_type": "code",
   "execution_count": 41,
   "metadata": {
    "collapsed": false,
    "deletable": true,
    "editable": true
   },
   "outputs": [
    {
     "name": "stdout",
     "output_type": "stream",
     "text": [
      "MOVIE_72523 Doctag(offset=0, word_count=94513, doc_count=10187)\n",
      "MOVIE_59845 Doctag(offset=1, word_count=144494, doc_count=13095)\n",
      "MOVIE_109753 Doctag(offset=2, word_count=202367, doc_count=10361)\n",
      "MOVIE_45321 Doctag(offset=3, word_count=294482, doc_count=26915)\n",
      "MOVIE_45290 Doctag(offset=4, word_count=775777, doc_count=48273)\n",
      "MOVIE_47385 Doctag(offset=5, word_count=412600, doc_count=41653)\n",
      "MOVIE_78726 Doctag(offset=6, word_count=326349, doc_count=20615)\n",
      "MOVIE_89218 Doctag(offset=7, word_count=388191, doc_count=20080)\n",
      "MOVIE_47528 Doctag(offset=8, word_count=139339, doc_count=13397)\n",
      "MOVIE_75397 Doctag(offset=9, word_count=236332, doc_count=16444)\n",
      "MOVIE_48246 Doctag(offset=10, word_count=235112, doc_count=21912)\n",
      "MOVIE_140695 Doctag(offset=11, word_count=318897, doc_count=23998)\n",
      "MOVIE_72054 Doctag(offset=12, word_count=378347, doc_count=25748)\n",
      "MOVIE_102817 Doctag(offset=13, word_count=386768, doc_count=26021)\n",
      "MOVIE_109960 Doctag(offset=14, word_count=256567, doc_count=14302)\n",
      "MOVIE_123519 Doctag(offset=15, word_count=346297, doc_count=22449)\n",
      "MOVIE_78790 Doctag(offset=16, word_count=201133, doc_count=11511)\n",
      "MOVIE_129408 Doctag(offset=17, word_count=152852, doc_count=10329)\n",
      "MOVIE_62586 Doctag(offset=18, word_count=259965, doc_count=25018)\n",
      "MOVIE_122527 Doctag(offset=19, word_count=464045, doc_count=37752)\n",
      "MOVIE_51143 Doctag(offset=20, word_count=303649, doc_count=32271)\n",
      "MOVIE_39157 Doctag(offset=21, word_count=142454, doc_count=16559)\n",
      "MOVIE_141104 Doctag(offset=22, word_count=361956, doc_count=24586)\n",
      "MOVIE_51708 Doctag(offset=23, word_count=181744, doc_count=16455)\n",
      "MOVIE_137377 Doctag(offset=24, word_count=182447, doc_count=12069)\n",
      "MOVIE_127496 Doctag(offset=25, word_count=183940, doc_count=10747)\n",
      "MOVIE_91031 Doctag(offset=26, word_count=281333, doc_count=19902)\n",
      "MOVIE_121051 Doctag(offset=27, word_count=772944, doc_count=44779)\n",
      "MOVIE_100931 Doctag(offset=28, word_count=548150, doc_count=36068)\n",
      "MOVIE_80866 Doctag(offset=29, word_count=108669, doc_count=10084)\n",
      "MOVIE_109911 Doctag(offset=30, word_count=155219, doc_count=10467)\n",
      "MOVIE_52515 Doctag(offset=31, word_count=263941, doc_count=24617)\n",
      "MOVIE_18847 Doctag(offset=32, word_count=163515, doc_count=17234)\n",
      "MOVIE_47384 Doctag(offset=33, word_count=934912, doc_count=63942)\n",
      "MOVIE_39636 Doctag(offset=34, word_count=134470, doc_count=14262)\n",
      "MOVIE_121048 Doctag(offset=35, word_count=576483, doc_count=40044)\n",
      "MOVIE_51386 Doctag(offset=36, word_count=240776, doc_count=22884)\n",
      "MOVIE_118917 Doctag(offset=37, word_count=181977, doc_count=12235)\n",
      "MOVIE_52548 Doctag(offset=38, word_count=147373, doc_count=14726)\n",
      "MOVIE_132933 Doctag(offset=39, word_count=318422, doc_count=17575)\n",
      "MOVIE_120157 Doctag(offset=40, word_count=347040, doc_count=20522)\n",
      "MOVIE_72408 Doctag(offset=41, word_count=146852, doc_count=11626)\n",
      "MOVIE_65674 Doctag(offset=42, word_count=225155, doc_count=20488)\n",
      "MOVIE_106850 Doctag(offset=43, word_count=211405, doc_count=14710)\n",
      "MOVIE_74866 Doctag(offset=44, word_count=162875, doc_count=11059)\n",
      "MOVIE_93028 Doctag(offset=45, word_count=190744, doc_count=10600)\n",
      "MOVIE_83893 Doctag(offset=46, word_count=404877, doc_count=26615)\n",
      "MOVIE_144968 Doctag(offset=47, word_count=200208, doc_count=14567)\n",
      "MOVIE_43679 Doctag(offset=48, word_count=116746, doc_count=12725)\n",
      "MOVIE_130013 Doctag(offset=49, word_count=218494, doc_count=14696)\n",
      "MOVIE_70241 Doctag(offset=50, word_count=167556, doc_count=15395)\n",
      "MOVIE_118922 Doctag(offset=51, word_count=209952, doc_count=13522)\n",
      "MOVIE_77128 Doctag(offset=52, word_count=131429, doc_count=10909)\n",
      "MOVIE_130903 Doctag(offset=53, word_count=363025, doc_count=27305)\n",
      "MOVIE_102875 Doctag(offset=54, word_count=659849, doc_count=40894)\n",
      "MOVIE_67786 Doctag(offset=55, word_count=253597, doc_count=17680)\n",
      "MOVIE_93728 Doctag(offset=56, word_count=247352, doc_count=14741)\n",
      "MOVIE_44529 Doctag(offset=57, word_count=142544, doc_count=14777)\n",
      "MOVIE_99714 Doctag(offset=58, word_count=196756, doc_count=13814)\n",
      "MOVIE_91073 Doctag(offset=59, word_count=222847, doc_count=11379)\n",
      "MOVIE_72522 Doctag(offset=60, word_count=234035, doc_count=13487)\n",
      "MOVIE_83084 Doctag(offset=61, word_count=165437, doc_count=14441)\n",
      "MOVIE_74315 Doctag(offset=62, word_count=128444, doc_count=10706)\n",
      "MOVIE_37886 Doctag(offset=63, word_count=215963, doc_count=17052)\n",
      "MOVIE_98146 Doctag(offset=64, word_count=216303, doc_count=13477)\n",
      "MOVIE_76581 Doctag(offset=65, word_count=198425, doc_count=18676)\n",
      "MOVIE_75006 Doctag(offset=66, word_count=171599, doc_count=10909)\n",
      "MOVIE_115622 Doctag(offset=67, word_count=243380, doc_count=16576)\n",
      "MOVIE_73372 Doctag(offset=68, word_count=292548, doc_count=31045)\n",
      "MOVIE_142803 Doctag(offset=69, word_count=169546, doc_count=10245)\n",
      "MOVIE_47229 Doctag(offset=70, word_count=107334, doc_count=10401)\n",
      "MOVIE_108225 Doctag(offset=71, word_count=320852, doc_count=17403)\n",
      "MOVIE_96379 Doctag(offset=72, word_count=253606, doc_count=16757)\n",
      "MOVIE_116532 Doctag(offset=73, word_count=173904, doc_count=10173)\n",
      "MOVIE_99794 Doctag(offset=74, word_count=329930, doc_count=17973)\n",
      "MOVIE_49727 Doctag(offset=75, word_count=141757, doc_count=12685)\n",
      "MOVIE_75413 Doctag(offset=76, word_count=130277, doc_count=10652)\n",
      "MOVIE_90589 Doctag(offset=77, word_count=225055, doc_count=15676)\n",
      "MOVIE_68196 Doctag(offset=78, word_count=243863, doc_count=12348)\n",
      "MOVIE_114249 Doctag(offset=79, word_count=255410, doc_count=20534)\n",
      "MOVIE_39894 Doctag(offset=80, word_count=306842, doc_count=37677)\n",
      "MOVIE_137952 Doctag(offset=81, word_count=343157, doc_count=22904)\n",
      "MOVIE_95541 Doctag(offset=82, word_count=172445, doc_count=14139)\n",
      "MOVIE_88225 Doctag(offset=83, word_count=228172, doc_count=13672)\n",
      "MOVIE_102272 Doctag(offset=84, word_count=580131, doc_count=33614)\n",
      "MOVIE_89755 Doctag(offset=85, word_count=434481, doc_count=21441)\n",
      "MOVIE_73344 Doctag(offset=86, word_count=157541, doc_count=14085)\n",
      "MOVIE_109778 Doctag(offset=87, word_count=207599, doc_count=14224)\n",
      "MOVIE_66158 Doctag(offset=88, word_count=145545, doc_count=15420)\n",
      "MOVIE_75355 Doctag(offset=89, word_count=115435, doc_count=9990)\n",
      "MOVIE_47370 Doctag(offset=90, word_count=232199, doc_count=12181)\n",
      "MOVIE_39841 Doctag(offset=91, word_count=363923, doc_count=42412)\n",
      "MOVIE_142822 Doctag(offset=92, word_count=728503, doc_count=40985)\n",
      "MOVIE_39640 Doctag(offset=93, word_count=104530, doc_count=11331)\n",
      "MOVIE_129383 Doctag(offset=94, word_count=158618, doc_count=10878)\n",
      "MOVIE_107373 Doctag(offset=95, word_count=178862, doc_count=11377)\n",
      "MOVIE_115642 Doctag(offset=96, word_count=200097, doc_count=14081)\n",
      "MOVIE_94775 Doctag(offset=97, word_count=695101, doc_count=45131)\n",
      "MOVIE_99740 Doctag(offset=98, word_count=175130, doc_count=11951)\n",
      "MOVIE_58018 Doctag(offset=99, word_count=263521, doc_count=25681)\n",
      "MOVIE_70254 Doctag(offset=100, word_count=208904, doc_count=17056)\n",
      "MOVIE_134963 Doctag(offset=101, word_count=251774, doc_count=15599)\n",
      "MOVIE_98438 Doctag(offset=102, word_count=407677, doc_count=32748)\n",
      "MOVIE_102824 Doctag(offset=103, word_count=227555, doc_count=13078)\n",
      "MOVIE_22126 Doctag(offset=104, word_count=100494, doc_count=11481)\n",
      "MOVIE_64191 Doctag(offset=105, word_count=122143, doc_count=11438)\n",
      "MOVIE_39405 Doctag(offset=106, word_count=88891, doc_count=10353)\n",
      "MOVIE_75426 Doctag(offset=107, word_count=208497, doc_count=15588)\n",
      "MOVIE_91045 Doctag(offset=108, word_count=158378, doc_count=10503)\n",
      "MOVIE_67900 Doctag(offset=109, word_count=126784, doc_count=12567)\n",
      "MOVIE_71509 Doctag(offset=110, word_count=296932, doc_count=27799)\n",
      "MOVIE_135843 Doctag(offset=111, word_count=423824, doc_count=21588)\n",
      "MOVIE_130966 Doctag(offset=112, word_count=992539, doc_count=62092)\n",
      "MOVIE_41450 Doctag(offset=113, word_count=97560, doc_count=12247)\n",
      "MOVIE_17421 Doctag(offset=114, word_count=138407, doc_count=16195)\n",
      "MOVIE_69956 Doctag(offset=115, word_count=161696, doc_count=10136)\n",
      "MOVIE_44913 Doctag(offset=116, word_count=354096, doc_count=21837)\n",
      "MOVIE_73318 Doctag(offset=117, word_count=98021, doc_count=10120)\n",
      "MOVIE_88253 Doctag(offset=118, word_count=600806, doc_count=33995)\n",
      "MOVIE_48227 Doctag(offset=119, word_count=206962, doc_count=20491)\n",
      "MOVIE_76016 Doctag(offset=120, word_count=193692, doc_count=18202)\n",
      "MOVIE_39569 Doctag(offset=121, word_count=536896, doc_count=54128)\n",
      "MOVIE_76460 Doctag(offset=122, word_count=133935, doc_count=12355)\n",
      "MOVIE_68052 Doctag(offset=123, word_count=181181, doc_count=17711)\n",
      "MOVIE_107924 Doctag(offset=124, word_count=328435, doc_count=20794)\n",
      "MOVIE_44885 Doctag(offset=125, word_count=94136, doc_count=10340)\n",
      "MOVIE_88426 Doctag(offset=126, word_count=170751, doc_count=14685)\n",
      "MOVIE_126032 Doctag(offset=127, word_count=222144, doc_count=15073)\n",
      "MOVIE_94767 Doctag(offset=128, word_count=384704, doc_count=23645)\n",
      "MOVIE_47152 Doctag(offset=129, word_count=112825, doc_count=11302)\n",
      "MOVIE_83250 Doctag(offset=130, word_count=261340, doc_count=14780)\n",
      "MOVIE_32686 Doctag(offset=131, word_count=117432, doc_count=12212)\n",
      "MOVIE_63513 Doctag(offset=132, word_count=99195, doc_count=10804)\n",
      "MOVIE_54411 Doctag(offset=133, word_count=106714, doc_count=11591)\n",
      "MOVIE_125459 Doctag(offset=134, word_count=225572, doc_count=17624)\n",
      "MOVIE_115977 Doctag(offset=135, word_count=538727, doc_count=39846)\n",
      "MOVIE_72363 Doctag(offset=136, word_count=200607, doc_count=18866)\n",
      "MOVIE_53034 Doctag(offset=137, word_count=151660, doc_count=13949)\n",
      "MOVIE_51918 Doctag(offset=138, word_count=110666, doc_count=10589)\n",
      "MOVIE_119966 Doctag(offset=139, word_count=265069, doc_count=16357)\n",
      "MOVIE_92047 Doctag(offset=140, word_count=227666, doc_count=12346)\n",
      "MOVIE_42589 Doctag(offset=141, word_count=201372, doc_count=27256)\n",
      "MOVIE_67769 Doctag(offset=142, word_count=310672, doc_count=18388)\n",
      "MOVIE_68695 Doctag(offset=143, word_count=167296, doc_count=16392)\n",
      "MOVIE_92075 Doctag(offset=144, word_count=207177, doc_count=11938)\n",
      "MOVIE_75401 Doctag(offset=145, word_count=146594, doc_count=12805)\n",
      "MOVIE_76080 Doctag(offset=146, word_count=107679, doc_count=10091)\n",
      "MOVIE_68555 Doctag(offset=147, word_count=332953, doc_count=38402)\n",
      "MOVIE_45232 Doctag(offset=148, word_count=124450, doc_count=10769)\n",
      "MOVIE_103535 Doctag(offset=149, word_count=196306, doc_count=10625)\n",
      "MOVIE_99752 Doctag(offset=150, word_count=443876, doc_count=26409)\n",
      "MOVIE_119430 Doctag(offset=151, word_count=187697, doc_count=13984)\n",
      "MOVIE_85640 Doctag(offset=152, word_count=155902, doc_count=10194)\n",
      "MOVIE_100647 Doctag(offset=153, word_count=300107, doc_count=20577)\n",
      "MOVIE_62328 Doctag(offset=154, word_count=757973, doc_count=39680)\n",
      "MOVIE_100691 Doctag(offset=155, word_count=310711, doc_count=19777)\n",
      "MOVIE_51777 Doctag(offset=156, word_count=232731, doc_count=13264)\n",
      "MOVIE_58088 Doctag(offset=157, word_count=92982, doc_count=10861)\n",
      "MOVIE_64129 Doctag(offset=158, word_count=115308, doc_count=10646)\n",
      "MOVIE_60753 Doctag(offset=159, word_count=114363, doc_count=12046)\n",
      "MOVIE_43678 Doctag(offset=160, word_count=89086, doc_count=11158)\n",
      "MOVIE_61521 Doctag(offset=161, word_count=221941, doc_count=23347)\n",
      "MOVIE_96327 Doctag(offset=162, word_count=161822, doc_count=12074)\n",
      "MOVIE_47531 Doctag(offset=163, word_count=215123, doc_count=21564)\n",
      "MOVIE_77768 Doctag(offset=164, word_count=254933, doc_count=17850)\n",
      "MOVIE_113344 Doctag(offset=165, word_count=178980, doc_count=13214)\n",
      "MOVIE_94187 Doctag(offset=166, word_count=197068, doc_count=12917)\n",
      "MOVIE_129050 Doctag(offset=167, word_count=282043, doc_count=14472)\n",
      "MOVIE_86867 Doctag(offset=168, word_count=276683, doc_count=14451)\n",
      "MOVIE_121922 Doctag(offset=169, word_count=337180, doc_count=20432)\n",
      "MOVIE_129049 Doctag(offset=170, word_count=211744, doc_count=14887)\n",
      "MOVIE_62266 Doctag(offset=171, word_count=422451, doc_count=42125)\n"
     ]
    }
   ],
   "source": [
    "for idx, doctag in sorted(doc2vec_model.docvecs.doctags.items(), key=lambda x:x[1].offset):\n",
    "    print(idx, doctag)"
   ]
  },
  {
   "cell_type": "markdown",
   "metadata": {
    "deletable": true,
    "editable": true
   },
   "source": [
    "위에서 MOVIE_59845의 offset = 1은 docvec에서의 row id가 1라는 의미입니다. \n",
    "\n",
    "리스트 안의 tuple 값의 의미는 (doctag, 유사도) 입니다 "
   ]
  },
  {
   "cell_type": "code",
   "execution_count": 10,
   "metadata": {
    "collapsed": false,
    "deletable": true,
    "editable": true
   },
   "outputs": [
    {
     "data": {
      "text/plain": [
       "[('MOVIE_72408', 0.6937278509140015),\n",
       " ('MOVIE_42589', 0.6132638454437256),\n",
       " ('MOVIE_48246', 0.6109100580215454),\n",
       " ('MOVIE_123519', 0.6034465432167053),\n",
       " ('MOVIE_65674', 0.6010728478431702),\n",
       " ('MOVIE_73344', 0.5951342582702637),\n",
       " ('MOVIE_39841', 0.5864832401275635),\n",
       " ('MOVIE_62328', 0.5827306509017944),\n",
       " ('MOVIE_41450', 0.5788613557815552),\n",
       " ('MOVIE_72523', 0.570276141166687)]"
      ]
     },
     "execution_count": 10,
     "metadata": {},
     "output_type": "execute_result"
    }
   ],
   "source": [
    "doc2vec_model.docvecs.most_similar('MOVIE_59845')"
   ]
  },
  {
   "cell_type": "markdown",
   "metadata": {
    "deletable": true,
    "editable": true
   },
   "source": [
    "Document vector의 row id로도 most_similar를 찾을 수 있습니다. "
   ]
  },
  {
   "cell_type": "code",
   "execution_count": 44,
   "metadata": {
    "collapsed": false,
    "deletable": true,
    "editable": true
   },
   "outputs": [
    {
     "data": {
      "text/plain": [
       "[('MOVIE_72408', 0.6937278509140015),\n",
       " ('MOVIE_42589', 0.6132639050483704),\n",
       " ('MOVIE_48246', 0.6109099984169006),\n",
       " ('MOVIE_123519', 0.6034466028213501),\n",
       " ('MOVIE_65674', 0.6010727882385254),\n",
       " ('MOVIE_73344', 0.5951342582702637),\n",
       " ('MOVIE_39841', 0.5864832401275635),\n",
       " ('MOVIE_62328', 0.5827306509017944),\n",
       " ('MOVIE_41450', 0.5788613557815552),\n",
       " ('MOVIE_72523', 0.5702760815620422)]"
      ]
     },
     "execution_count": 44,
     "metadata": {},
     "output_type": "execute_result"
    }
   ],
   "source": [
    "doc2vec_model.docvecs.most_similar(1)"
   ]
  },
  {
   "cell_type": "markdown",
   "metadata": {
    "deletable": true,
    "editable": true
   },
   "source": [
    "Dov2Veco.docvecs.doctags는 document vector의 각 row 기준으로 tag 정보가 저장되어 있습니다. "
   ]
  },
  {
   "cell_type": "code",
   "execution_count": 82,
   "metadata": {
    "collapsed": false,
    "deletable": true,
    "editable": true
   },
   "outputs": [
    {
     "data": {
      "text/plain": [
       "['MOVIE_76581', 'MOVIE_102272', 'MOVIE_58088', 'MOVIE_65674', 'MOVIE_107924']"
      ]
     },
     "execution_count": 82,
     "metadata": {},
     "output_type": "execute_result"
    }
   ],
   "source": [
    "list(doc2vec_model.docvecs.doctags)[:5]"
   ]
  },
  {
   "cell_type": "code",
   "execution_count": 83,
   "metadata": {
    "collapsed": false,
    "deletable": true,
    "editable": true
   },
   "outputs": [
    {
     "data": {
      "text/plain": [
       "[('MOVIE_76581', Doctag(offset=65, word_count=198425, doc_count=18676)),\n",
       " ('MOVIE_102272', Doctag(offset=84, word_count=580131, doc_count=33614)),\n",
       " ('MOVIE_58088', Doctag(offset=157, word_count=92982, doc_count=10861)),\n",
       " ('MOVIE_65674', Doctag(offset=42, word_count=225155, doc_count=20488)),\n",
       " ('MOVIE_107924', Doctag(offset=124, word_count=328435, doc_count=20794))]"
      ]
     },
     "execution_count": 83,
     "metadata": {},
     "output_type": "execute_result"
    }
   ],
   "source": [
    "list(doc2vec_model.docvecs.doctags.items())[:5]"
   ]
  },
  {
   "cell_type": "markdown",
   "metadata": {
    "deletable": true,
    "editable": true
   },
   "source": [
    "## Doc2Vec 해석하기"
   ]
  },
  {
   "cell_type": "code",
   "execution_count": 11,
   "metadata": {
    "collapsed": true,
    "deletable": true,
    "editable": true
   },
   "outputs": [],
   "source": [
    "import pickle\n",
    "\n",
    "with open(id2movie_fname, 'rb') as f:\n",
    "    idx2movie = pickle.load(f)\n",
    "    \n",
    "movie2idx = {name:movie_idx for movie_idx, name in idx2movie.items()}"
   ]
  },
  {
   "cell_type": "markdown",
   "metadata": {
    "deletable": true,
    "editable": true
   },
   "source": [
    "Doc2Vec.docvecs.most_similar에서는 태그로 구분되는 문서들에 대하여 유사한 다른 문서를 찾아줍니다. "
   ]
  },
  {
   "cell_type": "code",
   "execution_count": 13,
   "metadata": {
    "collapsed": false,
    "deletable": true,
    "editable": true
   },
   "outputs": [
    {
     "name": "stdout",
     "output_type": "stream",
     "text": [
      "('MOVIE_96379', 0.7444707155227661)\n",
      "('MOVIE_92075', 0.5642454028129578)\n",
      "('MOVIE_129050', 0.5568262338638306)\n",
      "('MOVIE_45290', 0.5365338921546936)\n",
      "('MOVIE_130013', 0.5360148549079895)\n",
      "('MOVIE_66158', 0.5177206993103027)\n",
      "('MOVIE_39636', 0.5167732238769531)\n",
      "('MOVIE_118917', 0.5033876895904541)\n",
      "('MOVIE_137952', 0.4995463192462921)\n",
      "('MOVIE_100931', 0.4983254075050354)\n"
     ]
    }
   ],
   "source": [
    "for similar in doc2vec_model.docvecs.most_similar('MOVIE_134963'):\n",
    "    print(similar)"
   ]
  },
  {
   "cell_type": "markdown",
   "metadata": {
    "deletable": true,
    "editable": true
   },
   "source": [
    "영화 아이디를 영화 제목으로 바꿔서 해석해봅시다"
   ]
  },
  {
   "cell_type": "code",
   "execution_count": 14,
   "metadata": {
    "collapsed": false,
    "deletable": true,
    "editable": true
   },
   "outputs": [
    {
     "name": "stdout",
     "output_type": "stream",
     "text": [
      "51386 \t 포화 속으로\n",
      "126032 \t 수어사이드 스쿼드\n",
      "118917 \t 인턴\n",
      "45290 \t 인터스텔라\n",
      "119430 \t 엑스맨: 아포칼립스\n",
      "119966 \t 쎄시봉\n",
      "52548 \t 의형제\n",
      "129408 \t 메이즈 러너: 스코치 트라이얼\n",
      "47528 \t 해리 포터와 죽음의 성물 - 2부\n",
      "52515 \t 인셉션\n",
      "140695 \t 럭키\n",
      "109778 \t 끝까지 간다\n",
      "67786 \t 쥬라기 월드\n",
      "109960 \t 배트맨 대 슈퍼맨: 저스티스의 시작\n",
      "76016 \t 써니\n",
      "51143 \t 과속스캔들\n",
      "73318 \t 시라노; 연애조작단\n",
      "58018 \t 화려한 휴가\n",
      "75397 \t 미스터 고\n",
      "53034 \t 하모니\n",
      "41450 \t 투사부일체\n",
      "129050 \t 뷰티 인사이드\n",
      "51918 \t 뉴 문\n",
      "120157 \t 검은 사제들\n",
      "83084 \t 최종병기 활\n",
      "89755 \t 레미제라블\n",
      "142803 \t 형\n",
      "68695 \t 추격자\n",
      "44529 \t 해바라기\n",
      "32686 \t 센과 치히로의 행방불명\n",
      "98438 \t 어벤져스: 에이지 오브 울트론\n",
      "115642 \t 신비한 동물사전\n",
      "74315 \t 고지전\n",
      "113344 \t 나우 유 씨 미 2\n",
      "47370 \t 그래비티\n",
      "17421 \t 쇼생크 탈출\n",
      "107924 \t 수상한 그녀\n",
      "48246 \t 7광구\n",
      "102875 \t 국제시장\n",
      "75355 \t 퀵\n",
      "39640 \t 하울의 움직이는 성\n",
      "92075 \t 어바웃 타임\n",
      "62328 \t 설국열차\n",
      "72054 \t 다크 나이트 라이즈\n",
      "44885 \t 아이언맨\n",
      "102824 \t 숨바꼭질\n",
      "99752 \t 군도:민란의 시대\n",
      "99740 \t 혹성탈출: 반격의 서막\n",
      "106850 \t 천안함 프로젝트\n",
      "94187 \t 어메이징 스파이더맨 2\n",
      "93028 \t 용의자\n",
      "47385 \t 국가대표\n",
      "39157 \t 미녀는 괴로워\n",
      "108225 \t 역린\n",
      "65674 \t 좋은 놈, 나쁜 놈, 이상한 놈\n",
      "44913 \t 아수라\n",
      "37886 \t 클레멘타인\n",
      "62586 \t 다크 나이트\n",
      "74866 \t 인디펜던스 데이: 리써전스\n",
      "88426 \t 건축학개론\n",
      "100931 \t 겨울왕국\n",
      "107373 \t 신의 한 수\n",
      "135843 \t 귀향\n",
      "85640 \t 파파로티\n",
      "78790 \t 내가 살인범이다\n",
      "127496 \t 대호\n",
      "132933 \t 판도라\n",
      "109753 \t 해무\n",
      "90589 \t 엣지 오브 투모로우\n",
      "72523 \t 고사 두 번째 이야기: 교생실습\n",
      "92047 \t 웜 바디스\n",
      "75413 \t 도가니\n",
      "142822 \t 인천상륙작전\n",
      "141104 \t 터널\n",
      "47229 \t 트와일라잇\n",
      "91045 \t 반창꼬\n",
      "83250 \t 타워\n",
      "91031 \t 신세계\n",
      "76460 \t 리얼 스틸\n",
      "99714 \t 엑스맨: 데이즈 오브 퓨처 패스트\n",
      "49727 \t 2012\n",
      "144968 \t 제이슨 본\n",
      "75401 \t 헬로우 고스트\n",
      "73344 \t 초능력자\n",
      "67900 \t 해리 포터와 혼혈 왕자\n",
      "137952 \t 밀정\n",
      "60753 \t 세븐 데이즈\n",
      "129049 \t 마션\n",
      "121051 \t 곡성(哭聲)\n",
      "89218 \t 베를린\n",
      "129383 \t 미스 페레그린과 이상한 아이들의 집\n",
      "75426 \t 데드풀\n",
      "64129 \t 디스트릭트 9\n",
      "76581 \t 스카이라인\n",
      "134963 \t 라라랜드\n",
      "59845 \t 박쥐\n",
      "125459 \t 닥터 스트레인지\n",
      "100647 \t 히말라야\n",
      "58088 \t 라디오 스타\n",
      "114249 \t 킹스맨 : 시크릿 에이전트\n",
      "99794 \t 더 테러 라이브\n",
      "62266 \t 아바타\n",
      "18847 \t 타이타닉\n",
      "109911 \t 빅 히어로\n",
      "42589 \t 다세포 소녀\n",
      "68052 \t 트랜스포머: 패자의 역습\n",
      "39569 \t 디 워\n",
      "78726 \t 도둑들\n",
      "70241 \t 트랜스포머 3\n",
      "72408 \t 악마를 보았다\n",
      "48227 \t 전우치\n",
      "68196 \t 맨 오브 스틸\n",
      "98146 \t 감시자들\n",
      "22126 \t 인생은 아름다워\n",
      "51777 \t 월드워Z\n",
      "63513 \t 시간을 달리는 소녀\n",
      "94767 \t 덕혜옹주\n",
      "96327 \t 캡틴 아메리카: 윈터 솔져\n",
      "45321 \t 해운대\n",
      "118922 \t 카트\n",
      "88225 \t 연가시\n",
      "64191 \t 나는 전설이다\n",
      "39636 \t 지금, 만나러 갑니다\n",
      "93728 \t 관상\n",
      "72522 \t 감기\n",
      "102272 \t 연평해전\n",
      "67769 \t 타짜-신의 손\n",
      "73372 \t 세 얼간이\n",
      "91073 \t 박수건달\n",
      "71509 \t 아저씨\n",
      "94775 \t 7번방의 선물\n",
      "100691 \t 트랜스포머: 사라진 시대\n",
      "61521 \t 트랜스포머\n",
      "137377 \t 응답하라 1988\n",
      "86867 \t 퍼시픽 림\n",
      "122527 \t 캡틴 아메리카: 시빌 워\n",
      "115622 \t 인사이드 아웃\n",
      "51708 \t 영웅: 샐러멘더의 비밀\n",
      "72363 \t 어벤져스\n",
      "47384 \t 26년\n",
      "54411 \t 우리들의 행복한 시간\n",
      "39894 \t 왕의 남자\n",
      "123519 \t 아가씨\n",
      "88253 \t 늑대소년\n",
      "68555 \t 말할 수 없는 비밀\n",
      "76080 \t 조선명탐정: 각시투구꽃의 비밀\n",
      "96379 \t 비긴 어게인\n",
      "83893 \t 광해, 왕이 된 남자\n",
      "69956 \t 터미네이터 제니시스\n",
      "66158 \t 어거스트 러쉬\n",
      "116532 \t 두근두근 내 인생\n",
      "43678 \t 캐리비안의 해적 - 망자의 함\n",
      "102817 \t 해적: 바다로 간 산적\n",
      "47152 \t 테이큰\n",
      "130013 \t 님아, 그 강을 건너지 마오\n",
      "43679 \t 캐리비안의 해적 - 세상의 끝에서\n",
      "95541 \t 미션 임파서블: 로그네이션\n",
      "39405 \t 웰컴 투 동막골\n",
      "121048 \t 암살\n",
      "130903 \t 검사외전\n",
      "47531 \t 라스트 갓파더\n",
      "77768 \t 매드맥스: 분노의 도로\n",
      "121922 \t 사도\n",
      "45232 \t 쌍화점\n",
      "39841 \t 괴물\n",
      "80866 \t 완득이\n",
      "75006 \t 워크래프트: 전쟁의 서막\n",
      "70254 \t 아이언맨 3\n",
      "130966 \t 부산행\n",
      "77128 \t 배틀쉽\n",
      "103535 \t 소원\n",
      "115977 \t 베테랑\n"
     ]
    }
   ],
   "source": [
    "for doctag in doc2vec_model.docvecs.doctags:\n",
    "    movie_idx = doctag.split('_')[1]\n",
    "    name = idx2movie.get(movie_idx, -1)\n",
    "    print(movie_idx, '\\t', name)"
   ]
  },
  {
   "cell_type": "markdown",
   "metadata": {
    "deletable": true,
    "editable": true
   },
   "source": [
    "영화 리뷰를 기준으로 각 영화를 document vector로 표현하였을 때 라라랜드와 리뷰가 비슷한 영화는 '비긴 어게인', '어바웃 타임' 등입니다"
   ]
  },
  {
   "cell_type": "code",
   "execution_count": null,
   "metadata": {
    "collapsed": true,
    "deletable": true,
    "editable": true
   },
   "outputs": [],
   "source": [
    "doc2vec_fnam"
   ]
  },
  {
   "cell_type": "code",
   "execution_count": 15,
   "metadata": {
    "collapsed": false,
    "deletable": true,
    "editable": true
   },
   "outputs": [
    {
     "name": "stdout",
     "output_type": "stream",
     "text": [
      "라라랜드\n",
      "\n",
      "('비긴 어게인', '96379', 0.7444707155227661)\n",
      "('어바웃 타임', '92075', 0.5642454028129578)\n",
      "('뷰티 인사이드', '129050', 0.5568262338638306)\n",
      "('인터스텔라', '45290', 0.5365338921546936)\n",
      "('님아, 그 강을 건너지 마오', '130013', 0.5360148549079895)\n",
      "('어거스트 러쉬', '66158', 0.5177206993103027)\n",
      "('지금, 만나러 갑니다', '39636', 0.5167732238769531)\n",
      "('인턴', '118917', 0.5033876895904541)\n",
      "('밀정', '137952', 0.4995463192462921)\n",
      "('겨울왕국', '100931', 0.4983254075050354)\n"
     ]
    }
   ],
   "source": [
    "def id2name(similar):\n",
    "    idx = similar[0].split('_')[1]\n",
    "    return (idx2movie.get(idx, 'unknown'), idx, similar[1])\n",
    "\n",
    "\n",
    "print('라라랜드\\n')\n",
    "\n",
    "for similar in doc2vec_model.docvecs.most_similar('MOVIE_134963'):\n",
    "    print(id2name(similar))"
   ]
  },
  {
   "cell_type": "code",
   "execution_count": 63,
   "metadata": {
    "collapsed": false,
    "deletable": true,
    "editable": true
   },
   "outputs": [
    {
     "name": "stdout",
     "output_type": "stream",
     "text": [
      "관상\n",
      "\n",
      "('광해, 왕이 된 남자', '83893', 0.7537062764167786)\n",
      "('신세계', '91031', 0.7222433090209961)\n",
      "('내가 살인범이다', '78790', 0.7212600708007812)\n",
      "('도둑들', '78726', 0.71009361743927)\n",
      "('더 테러 라이브', '99794', 0.7087115049362183)\n",
      "('설국열차', '62328', 0.7007530927658081)\n",
      "('의형제', '52548', 0.6972651481628418)\n",
      "('베를린', '89218', 0.6868836879730225)\n",
      "('감시자들', '98146', 0.6800079345703125)\n",
      "('반창꼬', '91045', 0.6719637513160706)\n"
     ]
    }
   ],
   "source": [
    "print('관상\\n')\n",
    "for similar in doc2vec_model.docvecs.most_similar('MOVIE_93728'):\n",
    "    print(id2name(similar))"
   ]
  },
  {
   "cell_type": "code",
   "execution_count": 64,
   "metadata": {
    "collapsed": false,
    "deletable": true,
    "editable": true
   },
   "outputs": [
    {
     "name": "stdout",
     "output_type": "stream",
     "text": [
      "광해 왕이된 남자\n",
      "\n",
      "('7번방의 선물', '94775', 0.8323941230773926)\n",
      "('내가 살인범이다', '78790', 0.8064652681350708)\n",
      "('신세계', '91031', 0.7924854159355164)\n",
      "('반창꼬', '91045', 0.7831587791442871)\n",
      "('국가대표', '47385', 0.7770907878875732)\n",
      "('과속스캔들', '51143', 0.7756988406181335)\n",
      "('세븐 데이즈', '60753', 0.7751924991607666)\n",
      "('써니', '76016', 0.7714511156082153)\n",
      "('해바라기', '44529', 0.7613867521286011)\n",
      "('왕의 남자', '39894', 0.7602701187133789)\n"
     ]
    }
   ],
   "source": [
    "print('광해 왕이된 남자\\n')\n",
    "for similar in doc2vec_model.docvecs.most_similar('MOVIE_83893'):\n",
    "    print(id2name(similar))"
   ]
  },
  {
   "cell_type": "code",
   "execution_count": 65,
   "metadata": {
    "collapsed": false,
    "deletable": true,
    "editable": true
   },
   "outputs": [
    {
     "name": "stdout",
     "output_type": "stream",
     "text": [
      "아바타\n",
      "\n",
      "('트랜스포머', '61521', 0.8130666017532349)\n",
      "('인셉션', '52515', 0.8122845888137817)\n",
      "('어벤져스', '72363', 0.8106138110160828)\n",
      "('말할 수 없는 비밀', '68555', 0.8089178800582886)\n",
      "('디스트릭트 9', '64129', 0.8064645528793335)\n",
      "('다크 나이트', '62586', 0.8013702630996704)\n",
      "('다크 나이트 라이즈', '72054', 0.7882226705551147)\n",
      "('아이언맨', '44885', 0.7750635147094727)\n",
      "('타이타닉', '18847', 0.7719106078147888)\n",
      "('국가대표', '47385', 0.7680829763412476)\n"
     ]
    }
   ],
   "source": [
    "print('아바타\\n')\n",
    "for similar in doc2vec_model.docvecs.most_similar('MOVIE_62266'):\n",
    "    print(id2name(similar))"
   ]
  },
  {
   "cell_type": "markdown",
   "metadata": {
    "deletable": true,
    "editable": true
   },
   "source": [
    "## t-SNE를 이용한 리뷰가 비슷한 영화의 시각화"
   ]
  },
  {
   "cell_type": "code",
   "execution_count": 53,
   "metadata": {
    "collapsed": false,
    "deletable": true,
    "editable": true
   },
   "outputs": [
    {
     "data": {
      "text/plain": [
       "((172, 300), numpy.ndarray)"
      ]
     },
     "execution_count": 53,
     "metadata": {},
     "output_type": "execute_result"
    }
   ],
   "source": [
    "doc2vec_model.docvecs.doctag_syn0.shape, type(doc2vec_model.docvecs.doctag_syn0)"
   ]
  },
  {
   "cell_type": "code",
   "execution_count": 123,
   "metadata": {
    "collapsed": false,
    "deletable": true,
    "editable": true
   },
   "outputs": [
    {
     "name": "stdout",
     "output_type": "stream",
     "text": [
      "['MOVIE_72523', 'MOVIE_59845', 'MOVIE_109753', 'MOVIE_45321', 'MOVIE_45290']\n",
      "['고사 두 번째 이야기: 교생실습', '박쥐', '해무', '해운대', '인터스텔라']\n"
     ]
    }
   ],
   "source": [
    "index2tag = [doc2vec_model.docvecs.index_to_doctag(i) for i in range(172)]\n",
    "print(index2tag[:5])\n",
    "\n",
    "tag2index = {tag:index for index, tag in enumerate(index2tag)}\n",
    "\n",
    "index2name = [idx2movie.get(tag.split('_')[1], -1) for tag in index2tag]\n",
    "print(index2name[:5])"
   ]
  },
  {
   "cell_type": "markdown",
   "metadata": {
    "deletable": true,
    "editable": true
   },
   "source": [
    "이전의 문서 시각화 시간에 살펴보았던 TSNE를 이용하여 document vector를 2차원으로 임베딩을 하여 시각화를 수행합니다. 시간이 오래 걸릴 작업은 %%time을 적어 수행 시간을 출력하면 편합니다."
   ]
  },
  {
   "cell_type": "code",
   "execution_count": 121,
   "metadata": {
    "collapsed": false,
    "deletable": true,
    "editable": true
   },
   "outputs": [
    {
     "name": "stdout",
     "output_type": "stream",
     "text": [
      "CPU times: user 2.65 s, sys: 116 ms, total: 2.77 s\n",
      "Wall time: 1.77 s\n"
     ]
    }
   ],
   "source": [
    "%%time \n",
    "\n",
    "from sklearn.manifold import TSNE\n",
    "\n",
    "tsne = TSNE(n_components=2)\n",
    "y_tsne = tsne.fit_transform(doc2vec_model.docvecs.doctag_syn0)\n",
    "\n",
    "y_tsne.shape"
   ]
  },
  {
   "cell_type": "code",
   "execution_count": 124,
   "metadata": {
    "collapsed": true,
    "deletable": true,
    "editable": true
   },
   "outputs": [],
   "source": [
    "import matplotlib\n",
    "import matplotlib.pyplot as plt\n",
    "%matplotlib inline\n",
    "\n",
    "list(matplotlib.font_manager.get_fontconfig_fonts())[:5]\n",
    "\n",
    "krfont = {'family' : 'nanumgothic', 'weight' : 'bold', 'size'   : 10}\n",
    "matplotlib.rc('font', **krfont)"
   ]
  },
  {
   "cell_type": "markdown",
   "metadata": {
    "deletable": true,
    "editable": true
   },
   "source": [
    "리뷰의 경향이 비슷하다고 확인되었던 '라라랜드', '어바웃타임', '비긴어게인', '뷰티 인사이드' 등은 비슷한 공간에 위치함을 볼 수 있습니다"
   ]
  },
  {
   "cell_type": "code",
   "execution_count": 139,
   "metadata": {
    "collapsed": false,
    "deletable": true,
    "editable": true
   },
   "outputs": [
    {
     "data": {
      "image/png": "[encoded data removed]",
      "text/plain": [
       "<matplotlib.figure.Figure at 0x7ff4bc776e80>"
      ]
     },
     "metadata": {},
     "output_type": "display_data"
    }
   ],
   "source": [
    "plt.figure(figsize=(15,10))\n",
    "plt.scatter(y_tsne[:,0], y_tsne[:,1], color='yellow')\n",
    "\n",
    "similars = [tag for tag, _ in doc2vec_model.docvecs.most_similar('MOVIE_134963')] + ['MOVIE_134963']\n",
    "\n",
    "for tag in similars:\n",
    "    index = tag2index.get(tag, -1)\n",
    "    if index == -1:\n",
    "        continue\n",
    "    name = index2name[index]\n",
    "    plt.annotate(name, (y_tsne[index, 0], y_tsne[index, 1]))\n",
    "\n",
    "plt.show()"
   ]
  },
  {
   "cell_type": "code",
   "execution_count": 140,
   "metadata": {
    "collapsed": false,
    "deletable": true,
    "editable": true
   },
   "outputs": [
    {
     "data": {
      "image/png": "[encoded data removed]",
      "text/plain": [
       "<matplotlib.figure.Figure at 0x7ff4bc6fd0b8>"
      ]
     },
     "metadata": {},
     "output_type": "display_data"
    }
   ],
   "source": [
    "plt.figure(figsize=(15,10))\n",
    "plt.scatter(y_tsne[:,0], y_tsne[:,1], color='yellow')\n",
    "\n",
    "similars = [tag for tag, _ in doc2vec_model.docvecs.most_similar('MOVIE_93728')] + ['MOVIE_93728']\n",
    "\n",
    "for tag in similars:\n",
    "    index = tag2index.get(tag, -1)\n",
    "    if index == -1:\n",
    "        continue\n",
    "    name = index2name[index]\n",
    "    plt.annotate(name, (y_tsne[index, 0], y_tsne[index, 1]))\n",
    "\n",
    "plt.show()"
   ]
  },
  {
   "cell_type": "markdown",
   "metadata": {
    "deletable": true,
    "editable": true
   },
   "source": [
    "액션적인 요소가 많았던 영화들은 앞선 라라랜드나 비긴어게인과 같은 영화들과는 떨어져서, 액션 영화들끼리 뭉쳐있음을 확인할 수 있습니다"
   ]
  },
  {
   "cell_type": "code",
   "execution_count": 141,
   "metadata": {
    "collapsed": false,
    "deletable": true,
    "editable": true
   },
   "outputs": [
    {
     "data": {
      "image/png": "[encoded data removed]",
      "text/plain": [
       "<matplotlib.figure.Figure at 0x7ff4bc642ac8>"
      ]
     },
     "metadata": {},
     "output_type": "display_data"
    }
   ],
   "source": [
    "plt.figure(figsize=(15,10))\n",
    "plt.scatter(y_tsne[:,0], y_tsne[:,1], color='yellow')\n",
    "\n",
    "similars = [tag for tag, _ in doc2vec_model.docvecs.most_similar('MOVIE_62266')] + ['MOVIE_62266']\n",
    "\n",
    "for tag in similars:\n",
    "    index = tag2index.get(tag, -1)\n",
    "    if index == -1:\n",
    "        continue\n",
    "    name = index2name[index]\n",
    "    plt.annotate(name, (y_tsne[index, 0], y_tsne[index, 1]))\n",
    "\n",
    "plt.show()"
   ]
  }
 ],
 "metadata": {
  "kernelspec": {
   "display_name": "Python 3",
   "language": "python",
   "name": "python3"
  },
  "language_info": {
   "codemirror_mode": {
    "name": "ipython",
    "version": 3
   },
   "file_extension": ".py",
   "mimetype": "text/x-python",
   "name": "python",
   "nbconvert_exporter": "python",
   "pygments_lexer": "ipython3",
   "version": "3.5.3"
  }
 },
 "nbformat": 4,
 "nbformat_minor": 0
}
