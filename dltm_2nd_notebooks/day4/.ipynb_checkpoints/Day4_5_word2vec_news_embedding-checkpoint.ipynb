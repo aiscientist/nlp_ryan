{
 "cells": [
  {
   "cell_type": "code",
   "execution_count": 1,
   "metadata": {
    "collapsed": false,
    "deletable": true,
    "editable": true
   },
   "outputs": [
    {
     "data": {
      "text/plain": [
       "213087"
      ]
     },
     "execution_count": 1,
     "metadata": {},
     "output_type": "execute_result"
    }
   ],
   "source": [
    "corpus_fname = '../../../data/corpus_10days/news/2016-10-24_article_all_normed.txt'\n",
    "word2vec_fname = '../../../data/corpus_10days/models/2016-10-24_news_word2vec_model.pkl'\n",
    "\n",
    "TRAIN_WORD2VEC = True\n",
    "\n",
    "import sys\n",
    "sys.path.append('../mypy/')\n",
    "\n",
    "from corpus import Corpus\n",
    "corpus = Corpus(corpus_fname, iter_sent=True)\n",
    "len(corpus)"
   ]
  },
  {
   "cell_type": "code",
   "execution_count": 2,
   "metadata": {
    "collapsed": false,
    "deletable": true,
    "editable": true
   },
   "outputs": [
    {
     "name": "stdout",
     "output_type": "stream",
     "text": [
      "['의원', '60명', '내무장관에게', '서한', '철거', '때', '어린이', '안전', '신경', '써야']\n",
      "['보호자', '없는', '아동', '난민', '70명은', '영국에', '도착']\n",
      "['22일', '경찰에', '돌', '던지는', '칼레', '난민', '연합뉴스']\n",
      "['파리', '런던', '연합뉴스', '박성진', '황정우', '특파원', '프랑스', '칼레', '난민촌', '철거를', '이틀', '앞둔', '22일', '현지시간', '난민촌', '주변에서', '현지', '경찰과', '난민이', '충돌했다고', '현지', '프랑스앵포가', '보도했다']\n",
      "['난민촌', '철거에', '반대하는', '난민', '50명가량은', '경찰을', '향해', '유리병과', '돌을', '던졌으며', '경찰은', '연막탄을', '쏘면서', '이들을', '해산했다']\n",
      "['이', '과정에서', '별다른', '부상자는', '나오지', '않았다']\n"
     ]
    }
   ],
   "source": [
    "import os\n",
    "    \n",
    "class Word2VecCorpus:\n",
    "    \n",
    "    def __init__(self, fname):\n",
    "        self.fname = fname\n",
    "        if not os.path.isfile(fname):\n",
    "            print('File not found: %s' % fname)\n",
    "        \n",
    "    def __iter__(self):\n",
    "        with open(self.fname, encoding='utf-8') as f:\n",
    "            for doc in f:\n",
    "                for sent in doc.strip().split('  '):\n",
    "                    sent = sent.strip()\n",
    "                    if not sent:\n",
    "                        continue\n",
    "                    yield sent.split()\n",
    "                \n",
    "                \n",
    "word2vec_corpus = Word2VecCorpus(corpus_fname)\n",
    "\n",
    "for num_sent, sent in enumerate(word2vec_corpus):\n",
    "    if num_sent > 5: break\n",
    "    print(sent)"
   ]
  },
  {
   "cell_type": "code",
   "execution_count": 3,
   "metadata": {
    "collapsed": true,
    "deletable": true,
    "editable": true
   },
   "outputs": [],
   "source": [
    "from gensim.models import Word2Vec\n",
    "import pickle\n",
    "\n",
    "if TRAIN_WORD2VEC:\n",
    "    word2vec_model = Word2Vec(word2vec_corpus, min_count=30)\n",
    "    with open(word2vec_fname, 'wb') as f:\n",
    "        pickle.dump(word2vec_model, f)\n",
    "        \n",
    "else:\n",
    "    with open(word2vec_fname, 'rb') as f:\n",
    "        word2vec_model = pickle.load(f)"
   ]
  },
  {
   "cell_type": "code",
   "execution_count": 4,
   "metadata": {
    "collapsed": false,
    "deletable": true,
    "editable": true
   },
   "outputs": [
    {
     "data": {
      "text/plain": [
       "18329"
      ]
     },
     "execution_count": 4,
     "metadata": {},
     "output_type": "execute_result"
    }
   ],
   "source": [
    "len(word2vec_model.syn0)"
   ]
  },
  {
   "cell_type": "code",
   "execution_count": 5,
   "metadata": {
    "collapsed": true,
    "deletable": true,
    "editable": true
   },
   "outputs": [],
   "source": [
    "test_words = ['김무성', \n",
    "              '박근혜', \n",
    "              '문재인', \n",
    "              '국방부', \n",
    "              '정부', \n",
    "              '국정원', \n",
    "              '대통령', \n",
    "              '축구', \n",
    "              '외교', \n",
    "              '정책', \n",
    "              '군대', \n",
    "              '미국', \n",
    "              '일본', \n",
    "              '중국'\n",
    "             ]"
   ]
  },
  {
   "cell_type": "code",
   "execution_count": 6,
   "metadata": {
    "collapsed": false,
    "deletable": true,
    "editable": true,
    "scrolled": false
   },
   "outputs": [
    {
     "name": "stdout",
     "output_type": "stream",
     "text": [
      "\n",
      "\n",
      "Seed word = 김무성\n",
      "Vocab(count:332, index:1411, sample_int:4294967296)\n",
      "김무성 - 김종인 (165) (0.946)\n",
      "김무성 - 안철수 (345) (0.933)\n",
      "김무성 - 오세훈 (72) (0.913)\n",
      "김무성 - 유승민 (160) (0.891)\n",
      "김무성 - 손학규 (270) (0.874)\n",
      "김무성 - 최경환 (43) (0.866)\n",
      "김무성 - 천정배 (36) (0.854)\n",
      "김무성 - 대표도 (106) (0.852)\n",
      "김무성 - 강석호 (43) (0.852)\n",
      "김무성 - 김부겸 (100) (0.832)\n",
      "\n",
      "\n",
      "Seed word = 박근혜\n",
      "Vocab(count:4420, index:62, sample_int:4294967296)\n",
      "박근혜 - 이승만 (36) (0.746)\n",
      "박근혜 - 박 (6251) (0.743)\n",
      "박근혜 - 박정희 (216) (0.738)\n",
      "박근혜 - 마두로 (46) (0.707)\n",
      "박근혜 - 두테르테 (218) (0.692)\n",
      "박근혜 - 여당을 (30) (0.685)\n",
      "박근혜 - 국정과 (37) (0.682)\n",
      "박근혜 - 뒤늦은 (30) (0.675)\n",
      "박근혜 - 나서달라고 (59) (0.665)\n",
      "박근혜 - 오바마 (209) (0.657)\n",
      "\n",
      "\n",
      "Seed word = 문재인\n",
      "Vocab(count:940, index:392, sample_int:4294967296)\n",
      "문재인 - 문 (932) (0.885)\n",
      "문재인 - 손학규 (270) (0.870)\n",
      "문재인 - 안철수 (345) (0.864)\n",
      "문재인 - 비서실장이 (97) (0.864)\n",
      "문재인 - 김종인 (165) (0.858)\n",
      "문재인 - 김무성 (332) (0.816)\n",
      "문재인 - 더민주 (67) (0.804)\n",
      "문재인 - 장관의 (162) (0.800)\n",
      "문재인 - 발언권을 (42) (0.795)\n",
      "문재인 - 송민순 (663) (0.790)\n",
      "\n",
      "\n",
      "Seed word = 국방부\n",
      "Vocab(count:247, index:2003, sample_int:4294967296)\n",
      "국방부 - 외교부 (391) (0.896)\n",
      "국방부 - 부부장 (63) (0.851)\n",
      "국방부 - 차관급 (38) (0.851)\n",
      "국방부 - 대사관 (31) (0.840)\n",
      "국방부 - 노동당 (63) (0.839)\n",
      "국방부 - 고려대 (114) (0.836)\n",
      "국방부 - 외무성 (74) (0.832)\n",
      "국방부 - 장일훈 (31) (0.832)\n",
      "국방부 - 차관보는 (106) (0.829)\n",
      "국방부 - 리수용 (31) (0.824)\n",
      "\n",
      "\n",
      "Seed word = 정부\n",
      "Vocab(count:1769, index:194, sample_int:4294967296)\n",
      "정부 - 정부의 (814) (0.821)\n",
      "정부 - 법인세 (212) (0.793)\n",
      "정부 - 정부가 (1017) (0.760)\n",
      "정부 - 정부에서 (76) (0.749)\n",
      "정부 - 정부는 (1002) (0.738)\n",
      "정부 - 법인세율 (56) (0.696)\n",
      "정부 - 보수 (96) (0.691)\n",
      "정부 - 법안 (79) (0.690)\n",
      "정부 - 정부와 (255) (0.673)\n",
      "정부 - 정책을 (306) (0.673)\n",
      "\n",
      "\n",
      "Seed word = 국정원\n",
      "Vocab(count:42, index:13101, sample_int:4294967296)\n",
      "국정원 - 대우학원 (34) (0.778)\n",
      "국정원 - 뉴시스와 (30) (0.769)\n",
      "국정원 - 단국대 (33) (0.751)\n",
      "국정원 - 국가대표 (75) (0.749)\n",
      "국정원 - 김진표 (30) (0.744)\n",
      "국정원 - 인터뷰가 (36) (0.740)\n",
      "국정원 - 김형수 (92) (0.736)\n",
      "국정원 - 크리스 (33) (0.731)\n",
      "국정원 - 정동구 (31) (0.731)\n",
      "국정원 - 출간한 (36) (0.725)\n",
      "\n",
      "\n",
      "Seed word = 대통령\n",
      "Vocab(count:3411, index:89, sample_int:4294967296)\n",
      "대통령 - 대통령의 (3074) (0.811)\n",
      "대통령 - 대통령을 (287) (0.782)\n",
      "대통령 - 대통령과 (437) (0.759)\n",
      "대통령 - 대통령에 (255) (0.730)\n",
      "대통령 - 대통령도 (125) (0.725)\n",
      "대통령 - 대통령은 (2852) (0.700)\n",
      "대통령 - 대통령이다 (54) (0.688)\n",
      "대통령 - 대통령이 (5054) (0.684)\n",
      "대통령 - 대통령에게 (203) (0.681)\n",
      "대통령 - 대선 (1030) (0.670)\n",
      "\n",
      "\n",
      "Seed word = 축구\n",
      "Vocab(count:43, index:12682, sample_int:4294967296)\n",
      "축구 - 패밀리 (43) (0.871)\n",
      "축구 - 전통의 (35) (0.866)\n",
      "축구 - 기획한 (54) (0.848)\n",
      "축구 - 쉐보레 (30) (0.846)\n",
      "축구 - 맥도날드 (49) (0.838)\n",
      "축구 - 애니메이션 (39) (0.823)\n",
      "축구 - 드 (30) (0.818)\n",
      "축구 - 럭셔리 (71) (0.812)\n",
      "축구 - 레이싱 (111) (0.808)\n",
      "축구 - 어워드 (37) (0.806)\n",
      "\n",
      "\n",
      "Seed word = 외교\n",
      "Vocab(count:166, index:3139, sample_int:4294967296)\n",
      "외교 - 국방 (71) (0.906)\n",
      "외교 - 북핵 (204) (0.820)\n",
      "외교 - 사드 (72) (0.810)\n",
      "외교 - 한미 (96) (0.803)\n",
      "외교 - 양국 (120) (0.802)\n",
      "외교 - 통일 (88) (0.797)\n",
      "외교 - 한반도 (218) (0.768)\n",
      "외교 - 안보 (361) (0.767)\n",
      "외교 - 민간 (227) (0.765)\n",
      "외교 - 한일 (78) (0.763)\n",
      "\n",
      "\n",
      "Seed word = 정책\n",
      "Vocab(count:445, index:1018, sample_int:4294967296)\n",
      "정책 - 개혁 (118) (0.882)\n",
      "정책 - 개편 (263) (0.870)\n",
      "정책 - 방안이 (120) (0.811)\n",
      "정책 - 정책을 (306) (0.798)\n",
      "정책 - 민간 (227) (0.798)\n",
      "정책 - 대북 (248) (0.795)\n",
      "정책 - 권력구조 (310) (0.794)\n",
      "정책 - 통일 (88) (0.791)\n",
      "정책 - 갈등 (127) (0.790)\n",
      "정책 - 문제 (632) (0.784)\n",
      "\n",
      "\n",
      "Seed word = 미국\n",
      "Vocab(count:3311, index:92, sample_int:4294967296)\n",
      "미국 - 중국 (2527) (0.798)\n",
      "미국 - 미국의 (601) (0.791)\n",
      "미국 - 미 (598) (0.781)\n",
      "미국 - 영국 (668) (0.750)\n",
      "미국 - 일본 (1661) (0.729)\n",
      "미국 - 유럽연합 (106) (0.726)\n",
      "미국 - 러시아 (229) (0.724)\n",
      "미국 - 브렉시트 (124) (0.712)\n",
      "미국 - 미국에서 (166) (0.705)\n",
      "미국 - 북미 (136) (0.702)\n",
      "\n",
      "\n",
      "Seed word = 일본\n",
      "Vocab(count:1661, index:209, sample_int:4294967296)\n",
      "일본 - 중국 (2527) (0.837)\n",
      "일본 - 러시아 (229) (0.786)\n",
      "일본 - 영국 (668) (0.781)\n",
      "일본 - 대만 (143) (0.775)\n",
      "일본 - 유럽 (412) (0.774)\n",
      "일본 - 미국과 (215) (0.755)\n",
      "일본 - 일본의 (342) (0.734)\n",
      "일본 - 상하이 (114) (0.731)\n",
      "일본 - 미국 (3311) (0.729)\n",
      "일본 - 중국과 (125) (0.724)\n",
      "\n",
      "\n",
      "Seed word = 중국\n",
      "Vocab(count:2527, index:134, sample_int:4294967296)\n",
      "중국 - 일본 (1661) (0.837)\n",
      "중국 - 미국 (3311) (0.798)\n",
      "중국 - 유럽 (412) (0.764)\n",
      "중국 - 러시아 (229) (0.738)\n",
      "중국 - 중국의 (344) (0.732)\n",
      "중국 - 미국과 (215) (0.712)\n",
      "중국 - 대만 (143) (0.708)\n",
      "중국 - 북미 (136) (0.701)\n",
      "중국 - 중국과 (125) (0.699)\n",
      "중국 - 일본의 (342) (0.683)\n"
     ]
    }
   ],
   "source": [
    "for word in test_words:\n",
    "    if (word in word2vec_model.vocab) == False:\n",
    "        continue\n",
    "        \n",
    "    print('\\n\\nSeed word = %s' % word)\n",
    "    print(word2vec_model.vocab[word])\n",
    "    for similar_word, sim in word2vec_model.most_similar(word):\n",
    "        print('%s - %s (%d) (%.3f)' % (word, \n",
    "                                       similar_word, \n",
    "                                       word2vec_model.vocab[similar_word].count, \n",
    "                                       sim))"
   ]
  },
  {
   "cell_type": "code",
   "execution_count": null,
   "metadata": {
    "collapsed": true,
    "deletable": true,
    "editable": true
   },
   "outputs": [],
   "source": []
  }
 ],
 "metadata": {
  "kernelspec": {
   "display_name": "Python 3",
   "language": "python",
   "name": "python3"
  },
  "language_info": {
   "codemirror_mode": {
    "name": "ipython",
    "version": 3
   },
   "file_extension": ".py",
   "mimetype": "text/x-python",
   "name": "python",
   "nbconvert_exporter": "python",
   "pygments_lexer": "ipython3",
   "version": "3.5.3"
  }
 },
 "nbformat": 4,
 "nbformat_minor": 0
}
