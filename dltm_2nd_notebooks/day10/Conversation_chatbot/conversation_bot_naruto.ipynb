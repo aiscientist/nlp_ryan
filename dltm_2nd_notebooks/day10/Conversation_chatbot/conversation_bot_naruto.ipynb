{
 "cells": [
  {
   "cell_type": "markdown",
   "metadata": {},
   "source": [
    "tap으로 send, reply가 구분되어 있는 pair corpus를 불러올 수 있는 클래스를 하나 만듧니다. \n",
    "\n",
    "cohesion 학습을 위하여 pair 형태로 출력할지, 1 문장 형태로 출력할 지 정할 수 있는 yield_pair argument를 만듦니다"
   ]
  },
  {
   "cell_type": "code",
   "execution_count": 1,
   "metadata": {},
   "outputs": [
    {
     "name": "stdout",
     "output_type": "stream",
     "text": [
      "어떠냐\n",
      "이걸 네가 빌린 사륜안으로 없앨 수 있겠어\n",
      "이걸 네가 빌린 사륜안으로 없앨 수 있겠어\n",
      "진짜와 빌려쓰는 것의 차이를 확실히 보여주지\n",
      "진짜와 빌려쓰는 것의 차이를 확실히 보여주지\n",
      "젠장\n",
      "젠장\n",
      "아 앞이\n",
      "아 앞이\n",
      "사쿠라 어째서 여기에 온거야\n",
      "사쿠라 어째서 여기에 온거야\n"
     ]
    }
   ],
   "source": [
    "class PairCorpus:\n",
    "    def __init__(self, fname, yield_pair=True):\n",
    "        self.fname = fname\n",
    "        self.yield_pair = yield_pair\n",
    "        \n",
    "    def __iter__(self):\n",
    "        with open(self.fname, encoding='utf-8') as f:\n",
    "            for doc in f:\n",
    "                try:\n",
    "                    send, reply = doc.replace('\\n','').split('\\t')\n",
    "                    if self.yield_pair:\n",
    "                        yield (send, reply)\n",
    "                    else:\n",
    "                        for sent in [send, reply]:\n",
    "                            yield sent\n",
    "                except Exception as e:\n",
    "                    print(e)\n",
    "                    break\n",
    "                    \n",
    "corpus_fname = '../data/raw/animation/naruto.txt'\n",
    "corpus = PairCorpus(corpus_fname, yield_pair=False)\n",
    "for num, pair in enumerate(corpus):\n",
    "    if num > 10: break\n",
    "    print(pair)"
   ]
  },
  {
   "cell_type": "markdown",
   "metadata": {},
   "source": [
    "### Cohesion probability 학습\n",
    "\n",
    "MaxScoreTokenizer에 이용될 scores를 만듦니다"
   ]
  },
  {
   "cell_type": "code",
   "execution_count": 2,
   "metadata": {
    "collapsed": true
   },
   "outputs": [],
   "source": [
    "from cohesion import CohesionProbability\n",
    "\n",
    "cohesion = CohesionProbability()\n",
    "cohesion.train(corpus)"
   ]
  },
  {
   "cell_type": "code",
   "execution_count": 3,
   "metadata": {
    "collapsed": true
   },
   "outputs": [],
   "source": [
    "scores = cohesion.get_all_cohesion_probabilities()"
   ]
  },
  {
   "cell_type": "markdown",
   "metadata": {},
   "source": [
    "scores는 {word: (cohesion_l, cohesion_r, frequency_l, frequency_r} 형태로 출력되므로, 우리가 토크나이저에 이용할 cohesion_l 점수만 선택합니다. \n",
    "\n",
    "cohesion이 0.01이 넘고 빈도수가 10번 이상인 subwords에 대해서만 scores를 만들었습니다. "
   ]
  },
  {
   "cell_type": "code",
   "execution_count": 4,
   "metadata": {},
   "outputs": [
    {
     "name": "stdout",
     "output_type": "stream",
     "text": [
      "before |scores| = 270262\n",
      "after |scores| = 53803\n"
     ]
    }
   ],
   "source": [
    "print('before |scores| = %d' % len(scores))\n",
    "scores = {word:s[0] for word, s in scores.items() if (s[0] > 0.01 and s[2] > 10)}\n",
    "print('after |scores| = %d' % len(scores))"
   ]
  },
  {
   "cell_type": "code",
   "execution_count": 5,
   "metadata": {
    "collapsed": true
   },
   "outputs": [],
   "source": [
    "import pickle\n",
    "\n",
    "with open('./conversationbot/naruto_scores.pkl', 'wb') as f:\n",
    "    pickle.dump(scores, f)"
   ]
  },
  {
   "cell_type": "markdown",
   "metadata": {},
   "source": [
    "### MaxScoreTokenizer 만들기"
   ]
  },
  {
   "cell_type": "code",
   "execution_count": 6,
   "metadata": {},
   "outputs": [
    {
     "data": {
      "text/plain": [
       "['나루토', '이건', '무슨', '일이', '야', '사스케', '는', '어디', '있어']"
      ]
     },
     "execution_count": 6,
     "metadata": {},
     "output_type": "execute_result"
    }
   ],
   "source": [
    "from tokenizer import MaxScoreTokenizer\n",
    "\n",
    "tokenizer = MaxScoreTokenizer(scores=scores)\n",
    "tokenizer.tokenize('나루토이건무슨일이야사스케는어디있어')"
   ]
  },
  {
   "cell_type": "markdown",
   "metadata": {},
   "source": [
    "### Similar sends를 tokenization 시킨 코퍼스 만들기"
   ]
  },
  {
   "cell_type": "code",
   "execution_count": 7,
   "metadata": {
    "collapsed": true
   },
   "outputs": [],
   "source": [
    "corpus.yield_pair = True\n",
    "with open('./data/naruto_send_tokenized_corpus.txt', 'w', encoding='utf-8') as f:\n",
    "    for send, reply in corpus:\n",
    "        send = ' '.join(tokenizer.tokenize(send))\n",
    "        f.write('%s\\t%s\\n' % (send, reply))"
   ]
  },
  {
   "cell_type": "markdown",
   "metadata": {},
   "source": [
    "## Chatbot 구성요소 학습하기\n",
    "\n",
    "### send2reply"
   ]
  },
  {
   "cell_type": "code",
   "execution_count": 8,
   "metadata": {},
   "outputs": [
    {
     "name": "stdout",
     "output_type": "stream",
     "text": [
      "('어떠냐', '이걸 네가 빌린 사륜안으로 없앨 수 있겠어')\n",
      "('이걸 네가 빌린 사륜안 으로 없앨 수 있 겠어', '진짜와 빌려쓰는 것의 차이를 확실히 보여주지')\n",
      "('진짜 와 빌려 쓰는 것의 차이를 확실 히 보여주 지', '젠장')\n",
      "('젠장', '아 앞이')\n",
      "('아 앞이', '사쿠라 어째서 여기에 온거야')\n",
      "('사쿠라 어째서 여기 에 온거야', '그만 둬')\n"
     ]
    }
   ],
   "source": [
    "corpus_fname = './data/naruto_send_tokenized_corpus.txt'\n",
    "corpus = PairCorpus(corpus_fname)\n",
    "\n",
    "for num, pair in enumerate(corpus):\n",
    "    if num > 5: break\n",
    "    print(pair)"
   ]
  },
  {
   "cell_type": "code",
   "execution_count": 9,
   "metadata": {},
   "outputs": [
    {
     "name": "stdout",
     "output_type": "stream",
     "text": [
      "CPU times: user 1.55 s, sys: 44 ms, total: 1.59 s\n",
      "Wall time: 1.58 s\n"
     ]
    }
   ],
   "source": [
    "%%time\n",
    "from send2reply import Send2Reply\n",
    "send2reply = Send2Reply()\n",
    "send2reply.train(corpus)"
   ]
  },
  {
   "cell_type": "code",
   "execution_count": 10,
   "metadata": {
    "collapsed": true
   },
   "outputs": [],
   "source": [
    "send2reply.save('./conversationbot/naruto_send2reply')"
   ]
  },
  {
   "cell_type": "code",
   "execution_count": 11,
   "metadata": {},
   "outputs": [
    {
     "name": "stdout",
     "output_type": "stream",
     "text": [
      "# sends = 112894, # replys = 118369\n"
     ]
    }
   ],
   "source": [
    "print('# sends = %d, # replys = %d' % (len(send2reply.send_set), len(send2reply.reply_set)))"
   ]
  },
  {
   "cell_type": "markdown",
   "metadata": {},
   "source": [
    "### Vectorizer와 send x 만들어서 Indexer에 넣기"
   ]
  },
  {
   "cell_type": "code",
   "execution_count": 12,
   "metadata": {
    "collapsed": true
   },
   "outputs": [],
   "source": [
    "from vectorizer import Vectorizer\n",
    "vectorizer = Vectorizer(tokenizer=tokenizer.tokenize)\n",
    "send_x = vectorizer.fit_transform(send2reply.send_set)"
   ]
  },
  {
   "cell_type": "code",
   "execution_count": 13,
   "metadata": {
    "collapsed": true
   },
   "outputs": [],
   "source": [
    "from indexer import FullSearchIndexer\n",
    "\n",
    "indexer = FullSearchIndexer(send_x)\n",
    "indexer.save('./conversationbot/naruto_index')"
   ]
  },
  {
   "cell_type": "markdown",
   "metadata": {},
   "source": [
    "### Chatbot 구성요소를 모두 넣어 나루토봇 만들기"
   ]
  },
  {
   "cell_type": "code",
   "execution_count": 14,
   "metadata": {
    "collapsed": true
   },
   "outputs": [],
   "source": [
    "from conversation_chatbot import ConversationBot\n",
    "\n",
    "conversation_bot = ConversationBot(vectorizer, indexer, send2reply)"
   ]
  },
  {
   "cell_type": "code",
   "execution_count": 15,
   "metadata": {},
   "outputs": [
    {
     "data": {
      "text/plain": [
       "[('무 무슨 소릴 하는거야 녀석과는 친구가 아니야', 5),\n",
       " ('사스케', 4),\n",
       " ('그렇지 않다니까', 2),\n",
       " ('그렇구나', 2),\n",
       " ('무슨 소리하는거야 별로 그녀석은 친구따위는 아니야', 2),\n",
       " ('너 설마 도와줄 셈이야', 1),\n",
       " ('도망칠수가 없잖아', 1)]"
      ]
     },
     "execution_count": 15,
     "metadata": {},
     "output_type": "execute_result"
    }
   ],
   "source": [
    "conversation_bot.process('우린 친구니까', n_similar_sends=5, n_reply=10)"
   ]
  },
  {
   "cell_type": "code",
   "execution_count": 16,
   "metadata": {},
   "outputs": [
    {
     "data": {
      "text/plain": [
       "[('누구맘대로', 17),\n",
       " ('안돼 하타케 카카시는 관여하지마', 17),\n",
       " ('데려와줘', 17),\n",
       " ('사스케를 데리고 와줘', 9),\n",
       " ('나루토는 스스로 구미를 억눌렀어요', 7),\n",
       " ('사스케를 다시 꺼내라', 6),\n",
       " ('우치하 사스케를 말살하는 걸 그만 둬 줬으면 해', 6),\n",
       " ('사스케를 데리고 와 줘', 4),\n",
       " ('사스케를', 4),\n",
       " ('어서 놓아줘', 3)]"
      ]
     },
     "execution_count": 16,
     "metadata": {},
     "output_type": "execute_result"
    }
   ],
   "source": [
    "conversation_bot.process('나루토 사스케를 부탁해', n_similar_sends=5, n_reply=10)"
   ]
  },
  {
   "cell_type": "code",
   "execution_count": 17,
   "metadata": {},
   "outputs": [
    {
     "data": {
      "text/plain": [
       "[('우치하 사건 이후로 처음인가', 8),\n",
       " ('이쪽도 분신인가', 4),\n",
       " ('너 아카츠키를 수색중이지 않았던가', 2),\n",
       " ('사스케', 1),\n",
       " ('카카시의 사륜안은 내가 접수하겠어', 1),\n",
       " ('성장한 건 그 덩치 뿐이냐', 1)]"
      ]
     },
     "execution_count": 17,
     "metadata": {},
     "output_type": "execute_result"
    }
   ],
   "source": [
    "conversation_bot.process('오랜만이군', n_similar_sends=5, n_reply=10)"
   ]
  }
 ],
 "metadata": {
  "anaconda-cloud": {},
  "kernelspec": {
   "display_name": "Python 3",
   "language": "python",
   "name": "python3"
  },
  "language_info": {
   "codemirror_mode": {
    "name": "ipython",
    "version": 3
   },
   "file_extension": ".py",
   "mimetype": "text/x-python",
   "name": "python",
   "nbconvert_exporter": "python",
   "pygments_lexer": "ipython3",
   "version": "3.5.3"
  }
 },
 "nbformat": 4,
 "nbformat_minor": 1
}
