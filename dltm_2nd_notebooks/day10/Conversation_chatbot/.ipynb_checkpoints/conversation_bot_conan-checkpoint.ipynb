{
 "cells": [
  {
   "cell_type": "markdown",
   "metadata": {},
   "source": [
    "tap으로 send, reply가 구분되어 있는 pair corpus를 불러올 수 있는 클래스를 하나 만듧니다. \n",
    "\n",
    "cohesion 학습을 위하여 pair 형태로 출력할지, 1 문장 형태로 출력할 지 정할 수 있는 yield_pair argument를 만듦니다"
   ]
  },
  {
   "cell_type": "code",
   "execution_count": 1,
   "metadata": {},
   "outputs": [
    {
     "name": "stdout",
     "output_type": "stream",
     "text": [
      "테니스 좋아하니\n",
      "네 스릴 있어서 좋아요\n",
      "네 스릴 있어서 좋아요\n",
      "스릴이 있는 거구나\n",
      "스릴이 있는 거구나\n",
      "넌 운이 좋아\n",
      "넌 운이 좋아\n",
      "그럴게 곧 더 큰 스릴을느낄 수 있을 거야\n",
      "한 사람이 곧 살해당할 거야\n",
      "이 런던 어딘가에서\n",
      "이 런던 어딘가에서\n"
     ]
    }
   ],
   "source": [
    "class PairCorpus:\n",
    "    def __init__(self, fname, yield_pair=True):\n",
    "        self.fname = fname\n",
    "        self.yield_pair = yield_pair\n",
    "        \n",
    "    def __iter__(self):\n",
    "        with open(self.fname, encoding='utf-8') as f:\n",
    "            for doc in f:\n",
    "                try:\n",
    "                    send, reply = doc.replace('\\n','').split('\\t')\n",
    "                    if self.yield_pair:\n",
    "                        yield (send, reply)\n",
    "                    else:\n",
    "                        for sent in [send, reply]:\n",
    "                            yield sent\n",
    "                except Exception as e:\n",
    "                    print(e)\n",
    "                    break\n",
    "                    \n",
    "corpus_fname = 'data/conan.txt'\n",
    "corpus = PairCorpus(corpus_fname, yield_pair=False)\n",
    "for num, pair in enumerate(corpus):\n",
    "    if num > 10: break\n",
    "    print(pair)"
   ]
  },
  {
   "cell_type": "markdown",
   "metadata": {},
   "source": [
    "### Cohesion probability 학습\n",
    "\n",
    "MaxScoreTokenizer에 이용될 scores를 만듦니다"
   ]
  },
  {
   "cell_type": "code",
   "execution_count": 2,
   "metadata": {
    "collapsed": true
   },
   "outputs": [],
   "source": [
    "from cohesion import CohesionProbability\n",
    "\n",
    "cohesion = CohesionProbability()\n",
    "cohesion.train(corpus)"
   ]
  },
  {
   "cell_type": "code",
   "execution_count": 3,
   "metadata": {
    "collapsed": true
   },
   "outputs": [],
   "source": [
    "scores = cohesion.get_all_cohesion_probabilities()"
   ]
  },
  {
   "cell_type": "markdown",
   "metadata": {},
   "source": [
    "scores는 {word: (cohesion_l, cohesion_r, frequency_l, frequency_r} 형태로 출력되므로, 우리가 토크나이저에 이용할 cohesion_l 점수만 선택합니다. \n",
    "\n",
    "cohesion이 0.01이 넘고 빈도수가 10번 이상인 subwords에 대해서만 scores를 만들었습니다. "
   ]
  },
  {
   "cell_type": "code",
   "execution_count": 4,
   "metadata": {},
   "outputs": [
    {
     "name": "stdout",
     "output_type": "stream",
     "text": [
      "before |scores| = 606306\n",
      "after |scores| = 100284\n"
     ]
    }
   ],
   "source": [
    "print('before |scores| = %d' % len(scores))\n",
    "scores = {word:s[0] for word, s in scores.items() if (s[0] > 0.01 and s[2] > 10)}\n",
    "print('after |scores| = %d' % len(scores))"
   ]
  },
  {
   "cell_type": "code",
   "execution_count": 5,
   "metadata": {
    "collapsed": true
   },
   "outputs": [],
   "source": [
    "import pickle\n",
    "\n",
    "with open('./conversationbot/conan_scores.pkl', 'wb') as f:\n",
    "    pickle.dump(scores, f)"
   ]
  },
  {
   "cell_type": "markdown",
   "metadata": {},
   "source": [
    "### MaxScoreTokenizer 만들기"
   ]
  },
  {
   "cell_type": "code",
   "execution_count": 6,
   "metadata": {},
   "outputs": [
    {
     "data": {
      "text/plain": [
       "['코난', '이건', '무슨', '일이', '죠', '살인', '사건', '인가요']"
      ]
     },
     "execution_count": 6,
     "metadata": {},
     "output_type": "execute_result"
    }
   ],
   "source": [
    "from tokenizer import MaxScoreTokenizer\n",
    "\n",
    "tokenizer = MaxScoreTokenizer(scores=scores)\n",
    "tokenizer.tokenize('코난이건무슨일이죠살인사건인가요')"
   ]
  },
  {
   "cell_type": "markdown",
   "metadata": {},
   "source": [
    "### Similar sends를 tokenization 시킨 코퍼스 만들기"
   ]
  },
  {
   "cell_type": "code",
   "execution_count": 7,
   "metadata": {
    "collapsed": true
   },
   "outputs": [],
   "source": [
    "corpus.yield_pair = True\n",
    "with open('./data/conan_send_tokenized_corpus.txt', 'w', encoding='utf-8') as f:\n",
    "    for send, reply in corpus:\n",
    "        send = ' '.join(tokenizer.tokenize(send))\n",
    "        f.write('%s\\t%s\\n' % (send, reply))"
   ]
  },
  {
   "cell_type": "markdown",
   "metadata": {},
   "source": [
    "## Chatbot 구성요소 학습하기\n",
    "\n",
    "### send2reply"
   ]
  },
  {
   "cell_type": "code",
   "execution_count": 8,
   "metadata": {},
   "outputs": [
    {
     "ename": "NameError",
     "evalue": "name 'defaultdict' is not defined",
     "output_type": "error",
     "traceback": [
      "\u001b[1;31m---------------------------------------------------------------------------\u001b[0m",
      "\u001b[1;31mNameError\u001b[0m                                 Traceback (most recent call last)",
      "\u001b[1;32m<ipython-input-8-613ce0b9d52c>\u001b[0m in \u001b[0;36m<module>\u001b[1;34m()\u001b[0m\n\u001b[1;32m----> 1\u001b[1;33m \u001b[0munique_send_set\u001b[0m \u001b[1;33m=\u001b[0m \u001b[0mdefaultdict\u001b[0m\u001b[1;33m(\u001b[0m\u001b[1;32mlambda\u001b[0m\u001b[1;33m:\u001b[0m \u001b[0mlen\u001b[0m\u001b[1;33m(\u001b[0m\u001b[0munique_send_set\u001b[0m\u001b[1;33m)\u001b[0m\u001b[1;33m)\u001b[0m\u001b[1;33m\u001b[0m\u001b[0m\n\u001b[0m\u001b[0;32m      2\u001b[0m \u001b[1;33m\u001b[0m\u001b[0m\n\u001b[0;32m      3\u001b[0m \u001b[1;32mfor\u001b[0m \u001b[0mc\u001b[0m \u001b[1;32min\u001b[0m \u001b[1;34m'aabacdeda'\u001b[0m\u001b[1;33m:\u001b[0m\u001b[1;33m\u001b[0m\u001b[0m\n\u001b[0;32m      4\u001b[0m     \u001b[0mprint\u001b[0m\u001b[1;33m(\u001b[0m\u001b[0mc\u001b[0m\u001b[1;33m)\u001b[0m\u001b[1;33m\u001b[0m\u001b[0m\n\u001b[0;32m      5\u001b[0m     \u001b[0mprint\u001b[0m\u001b[1;33m(\u001b[0m\u001b[0munique_send_set\u001b[0m\u001b[1;33m[\u001b[0m\u001b[0mc\u001b[0m\u001b[1;33m]\u001b[0m\u001b[1;33m)\u001b[0m\u001b[1;33m\u001b[0m\u001b[0m\n",
      "\u001b[1;31mNameError\u001b[0m: name 'defaultdict' is not defined"
     ]
    }
   ],
   "source": [
    "unique_send_set = defaultdict(lambda: len(unique_send_set))\n",
    "\n",
    "for c in 'aabacdeda':\n",
    "    print(c)\n",
    "    print(unique_send_set[c])"
   ]
  },
  {
   "cell_type": "code",
   "execution_count": 9,
   "metadata": {},
   "outputs": [
    {
     "name": "stdout",
     "output_type": "stream",
     "text": [
      "('테니 스 좋아 하니', '네 스릴 있어서 좋아요')\n",
      "('네 스릴 있어 서 좋아 요', '스릴이 있는 거구나')\n",
      "('스릴이 있는 거구나', '넌 운이 좋아')\n",
      "('넌 운이 좋아', '그럴게 곧 더 큰 스릴을느낄 수 있을 거야')\n",
      "('한 사람 이 곧 살해 당할 거야', '이 런던 어딘가에서')\n",
      "('이 런던 어딘가에 서', '네 눈앞에서 말이야')\n"
     ]
    }
   ],
   "source": [
    "corpus_fname = './data/conan_send_tokenized_corpus.txt'\n",
    "corpus = PairCorpus(corpus_fname)\n",
    "\n",
    "for num, pair in enumerate(corpus):\n",
    "    if num > 5: break\n",
    "    print(pair)"
   ]
  },
  {
   "cell_type": "code",
   "execution_count": 10,
   "metadata": {},
   "outputs": [
    {
     "name": "stdout",
     "output_type": "stream",
     "text": [
      "Wall time: 6.24 s\n"
     ]
    }
   ],
   "source": [
    "%%time\n",
    "from send2reply import Send2Reply\n",
    "send2reply = Send2Reply()\n",
    "send2reply.train(corpus)"
   ]
  },
  {
   "cell_type": "code",
   "execution_count": 11,
   "metadata": {
    "collapsed": true
   },
   "outputs": [],
   "source": [
    "send2reply.save('./conversationbot/conan_send2reply')"
   ]
  },
  {
   "cell_type": "code",
   "execution_count": 12,
   "metadata": {},
   "outputs": [
    {
     "name": "stdout",
     "output_type": "stream",
     "text": [
      "# sends = 293324, # replys = 302334\n"
     ]
    }
   ],
   "source": [
    "print('# sends = %d, # replys = %d' % (len(send2reply.send_set), len(send2reply.reply_set)))"
   ]
  },
  {
   "cell_type": "markdown",
   "metadata": {},
   "source": [
    "### Vectorizer와 send x 만들어서 Indexer에 넣기"
   ]
  },
  {
   "cell_type": "code",
   "execution_count": 13,
   "metadata": {
    "collapsed": true
   },
   "outputs": [],
   "source": [
    "from vectorizer import Vectorizer\n",
    "vectorizer = Vectorizer(tokenizer=tokenizer.tokenize)\n",
    "send_x = vectorizer.fit_transform(send2reply.send_set)"
   ]
  },
  {
   "cell_type": "code",
   "execution_count": 14,
   "metadata": {
    "collapsed": true
   },
   "outputs": [],
   "source": [
    "from indexer import FullSearchIndexer\n",
    "\n",
    "indexer = FullSearchIndexer(send_x)\n",
    "indexer.save('./conversationbot/conan_index')"
   ]
  },
  {
   "cell_type": "markdown",
   "metadata": {},
   "source": [
    "### Chatbot 구성요소를 모두 넣어 나루토봇 만들기"
   ]
  },
  {
   "cell_type": "code",
   "execution_count": 15,
   "metadata": {
    "collapsed": true
   },
   "outputs": [],
   "source": [
    "from conversation_chatbot import ConversationBot\n",
    "\n",
    "conversation_bot = ConversationBot(vectorizer, indexer, send2reply)"
   ]
  },
  {
   "cell_type": "code",
   "execution_count": 16,
   "metadata": {},
   "outputs": [
    {
     "data": {
      "text/plain": [
       "[('그건 아직 모르겠지만', 5),\n",
       " ('권총', 3),\n",
       " ('카메라 앞에서 일어난 불가능 범죄', 2),\n",
       " ('그렇게 되면 수상한 사람은', 2),\n",
       " ('바로 경찰에 연락을 아 네', 2),\n",
       " ('사실은', 1),\n",
       " ('나는 살인사건을 목격하고 말았나 보구나', 1),\n",
       " ('명탐정 마구레 의 대본은', 1),\n",
       " ('이 불가능 살인의 수수께끼는', 1),\n",
       " ('뉴스도 안보나', 1)]"
      ]
     },
     "execution_count": 16,
     "metadata": {},
     "output_type": "execute_result"
    }
   ],
   "source": [
    "conversation_bot.process('이건살인사건이야', n_similar_sends=5, n_reply=10)"
   ]
  },
  {
   "cell_type": "code",
   "execution_count": 17,
   "metadata": {},
   "outputs": [
    {
     "data": {
      "text/plain": [
       "[('이게 무슨짓이야', 19),\n",
       " ('누가 좀 구해줘요', 9),\n",
       " ('그래', 6),\n",
       " ('일전에 전학 온', 5),\n",
       " ('하지만 설마', 4),\n",
       " ('인기 여배우가 투신자살한지난 주 그 사건', 4),\n",
       " ('어머 또 감기', 3),\n",
       " ('큰일이야', 2),\n",
       " ('코 코난군', 2),\n",
       " ('테이탄 고등학교 2학년 스즈키 소노코', 2)]"
      ]
     },
     "execution_count": 17,
     "metadata": {},
     "output_type": "execute_result"
    }
   ],
   "source": [
    "conversation_bot.process('누가 범인인지 너는 알고있지', n_similar_sends=5, n_reply=10)"
   ]
  },
  {
   "cell_type": "code",
   "execution_count": 18,
   "metadata": {},
   "outputs": [
    {
     "data": {
      "text/plain": [
       "[('코난 무슨 일이야', 29),\n",
       " ('그쵸 아저씨', 19),\n",
       " ('코난', 18),\n",
       " ('잠깐 학생', 15),\n",
       " ('잘 봐두도록 하라', 14),\n",
       " ('화장실은 여기 있는데', 14),\n",
       " ('경부님을 안내해 드려', 10),\n",
       " ('무사하구나', 10),\n",
       " ('뭐하는 거야 쿠도 군', 8),\n",
       " ('이 욕탕 굉장해', 8)]"
      ]
     },
     "execution_count": 18,
     "metadata": {},
     "output_type": "execute_result"
    }
   ],
   "source": [
    "conversation_bot.process('안녕 난 코난이야', n_similar_sends=5, n_reply=10)"
   ]
  },
  {
   "cell_type": "code",
   "execution_count": null,
   "metadata": {
    "collapsed": true
   },
   "outputs": [],
   "source": []
  }
 ],
 "metadata": {
  "anaconda-cloud": {},
  "kernelspec": {
   "display_name": "Python 3",
   "language": "python",
   "name": "python3"
  },
  "language_info": {
   "codemirror_mode": {
    "name": "ipython",
    "version": 3
   },
   "file_extension": ".py",
   "mimetype": "text/x-python",
   "name": "python",
   "nbconvert_exporter": "python",
   "pygments_lexer": "ipython3",
   "version": "3.5.3"
  }
 },
 "nbformat": 4,
 "nbformat_minor": 1
}
