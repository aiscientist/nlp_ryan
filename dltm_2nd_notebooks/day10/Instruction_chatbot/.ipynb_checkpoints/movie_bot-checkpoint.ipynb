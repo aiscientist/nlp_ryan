{
 "cells": [
  {
   "cell_type": "code",
   "execution_count": 1,
   "metadata": {
    "scrolled": true
   },
   "outputs": [
    {
     "data": {
      "text/plain": [
       "{'디카프리오': '<ACTOR>'}"
      ]
     },
     "execution_count": 1,
     "metadata": {},
     "output_type": "execute_result"
    }
   ],
   "source": [
    "from ner import named_entity_extractor\n",
    "named_entity_extractor('디카프리오 나온 영화 찾아줘'.split())"
   ]
  },
  {
   "cell_type": "code",
   "execution_count": 2,
   "metadata": {},
   "outputs": [
    {
     "data": {
      "text/plain": [
       "[<Requests.RESERVE_MOVIE: 5>]"
      ]
     },
     "execution_count": 2,
     "metadata": {},
     "output_type": "execute_result"
    }
   ],
   "source": [
    "from intention import intention_classifier\n",
    "intention_classifier('내일밤 영화 좀 예약 해줘'.split())"
   ]
  },
  {
   "cell_type": "code",
   "execution_count": 3,
   "metadata": {},
   "outputs": [
    {
     "data": {
      "text/plain": [
       "[<Requests.HELLO: 0>]"
      ]
     },
     "execution_count": 3,
     "metadata": {},
     "output_type": "execute_result"
    }
   ],
   "source": [
    "intention_classifier('안녕 영화봇? 머하니?'.split())"
   ]
  },
  {
   "cell_type": "code",
   "execution_count": 4,
   "metadata": {},
   "outputs": [
    {
     "data": {
      "text/plain": [
       "'굿모닝 현중'"
      ]
     },
     "execution_count": 4,
     "metadata": {},
     "output_type": "execute_result"
    }
   ],
   "source": [
    "from hello import SayHelloType, say_hello\n",
    "say_hello(SayHelloType.WHEN_TIME_MORNING, user_name='현중')"
   ]
  },
  {
   "cell_type": "code",
   "execution_count": 5,
   "metadata": {},
   "outputs": [
    {
     "name": "stdout",
     "output_type": "stream",
     "text": [
      "안녕 영화봇? 난 현중이야\n",
      "현중 안녕하세요? \n",
      "\n",
      "김범수 나온 거 좀 추천 해줘\n",
      "[슈퍼스타K7] 이거 보는거 어때요? \n",
      "\n",
      "디카프리오 나온 영화 보여줘\n",
      "[디파티드] 이거 추천해요 \n",
      "\n",
      "메릴스트립 나온 영화 추천 해줘\n",
      "[매디슨 카운티의 다리] 이거 볼래요? \n",
      "\n",
      "우히히히\n",
      "음.. 무슨 말이에요? \n",
      "\n",
      "디카프리오 나온 영화 찾아줘\n",
      "39 개의 영화가 있어요. ['아이언 마스크', '허블 3D', '위대한 개츠비', '고모론', '바디 오브 라이즈', '에비에이터', '라이즈 오브 루스벨트', '크리터스 3', '인셉션', '오디션', '이 소년의 삶', '레버넌트: 죽음에서 돌아온 자', '제이. 에드가', '토탈 이클립스', '블러드 다이아몬드', '러브 위 메이크', '질 자콥: 칸느 영화제 대표', '11번째 시간', '장고:분노의 추적자', '레볼루셔너리 로드', '셔터 아일랜드', '퀵 앤 데드', '디파티드', '챈슬러 매뉴스크립트', '시몽 시네마의 101의 밤', '비치', '타이타닉', '길버트 그레이프', '더 울프 오브 월 스트리트', '더 콘서트 포 뉴욕 시티', '발라드 오브 리차드 주얼', '셀러브리티', '바스켓볼 다이어리', '돈스 플럼', '캐치 미 이프 유 캔', '더 풋 슈팅 파티', '로미오와 줄리엣', '갱스 오브 뉴욕', '마빈의 방'] \n",
      "\n"
     ]
    }
   ],
   "source": [
    "from movie_chatbot import MovieBot\n",
    "\n",
    "movie_bot = MovieBot(param_fname='./moviebot/params.pkl')\n",
    "\n",
    "for query in ['안녕 영화봇? 난 현중이야', '김범수 나온 거 좀 추천 해줘', '디카프리오 나온 영화 보여줘', '메릴스트립 나온 영화 추천 해줘', '우히히히', '디카프리오 나온 영화 찾아줘']:\n",
    "    print(query)\n",
    "    print(movie_bot.process(query, user_name='현중'), '\\n')"
   ]
  },
  {
   "cell_type": "code",
   "execution_count": 6,
   "metadata": {},
   "outputs": [
    {
     "data": {
      "text/plain": [
       "'[질 자콥: 칸느 영화제 대표] 이거 보는거 어때요?'"
      ]
     },
     "execution_count": 6,
     "metadata": {},
     "output_type": "execute_result"
    }
   ],
   "source": [
    "movie_bot.recommend_movie_by_actor('디카프리오')"
   ]
  },
  {
   "cell_type": "code",
   "execution_count": 7,
   "metadata": {},
   "outputs": [
    {
     "data": {
      "text/plain": [
       "{'내가': '<ACTOR>'}"
      ]
     },
     "execution_count": 7,
     "metadata": {},
     "output_type": "execute_result"
    }
   ],
   "source": [
    "named_entity_extractor('내가 나온 영화 좀 추천 해줘'.split())"
   ]
  },
  {
   "cell_type": "code",
   "execution_count": null,
   "metadata": {
    "collapsed": true
   },
   "outputs": [],
   "source": []
  }
 ],
 "metadata": {
  "anaconda-cloud": {},
  "kernelspec": {
   "display_name": "Python 3",
   "language": "python",
   "name": "python3"
  },
  "language_info": {
   "codemirror_mode": {
    "name": "ipython",
    "version": 3
   },
   "file_extension": ".py",
   "mimetype": "text/x-python",
   "name": "python",
   "nbconvert_exporter": "python",
   "pygments_lexer": "ipython3",
   "version": "3.5.3"
  }
 },
 "nbformat": 4,
 "nbformat_minor": 1
}
