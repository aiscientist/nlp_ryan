{
 "cells": [
  {
   "cell_type": "markdown",
   "metadata": {},
   "source": [
    "# 1.원래 저장위치에서 문자열을 역순으로 변환하기\n",
    "\n",
    "문자열 역순 변환\n",
    "- 문자열의 길이 알아내기\n",
    "- 문자열의 첫번째문자와 마지막 문자 교환\n",
    "- 문자열의 두번째 문자와 마지막 문자 -1을 서로 교환\n",
    "\n",
    "위의 절차를 반복 (유니코드 한글에 대한 주의)"
   ]
  },
  {
   "cell_type": "code",
   "execution_count": 1,
   "metadata": {
    "collapsed": true
   },
   "outputs": [],
   "source": [
    "#문자열 뒤집기 알고리즘\n",
    "\n",
    "#Sample String\n",
    "Sam_string = 'ABCD'"
   ]
  },
  {
   "cell_type": "code",
   "execution_count": 3,
   "metadata": {
    "collapsed": false
   },
   "outputs": [
    {
     "data": {
      "text/plain": [
       "'DCBA'"
      ]
     },
     "execution_count": 3,
     "metadata": {},
     "output_type": "execute_result"
    }
   ],
   "source": [
    "#Python은 심플하게 끝남\n",
    "\n",
    "def reverseString(str):\n",
    "    return str[::-1]\n",
    "\n",
    "reverseString(Sam_string)"
   ]
  },
  {
   "cell_type": "markdown",
   "metadata": {},
   "source": [
    "# 스택 (접착지 메모)\n",
    "\n",
    "- 스택에는 푸시와 팝이라는 두가지 연산\n",
    "- 모든 함수 호출은 호출 스택을 사용\n",
    "- 호출 스택은 너무 켜져 메모리를 크게 소모 할 수 도 있음"
   ]
  },
  {
   "cell_type": "code",
   "execution_count": 9,
   "metadata": {
    "collapsed": false
   },
   "outputs": [
    {
     "data": {
      "text/plain": [
       "'D'"
      ]
     },
     "execution_count": 9,
     "metadata": {},
     "output_type": "execute_result"
    }
   ],
   "source": [
    "#Stack을 사용해 보자\n",
    "#Sam_string\n",
    "# 문자열의 길이 알아내기\n",
    "# 문자열의 첫번째문자와 마지막 문자 교환\n",
    "# 문자열의 두번째 문자와 마지막 문자 -1을 서로 교환\n",
    "\n",
    "len(Sam_string)\n",
    "\n",
    "Sam_string[0]\n",
    "Sam_string[-1]\n"
   ]
  },
  {
   "cell_type": "code",
   "execution_count": 16,
   "metadata": {
    "collapsed": false
   },
   "outputs": [],
   "source": [
    "def reverseString2(str):\n",
    "    stack = []\n",
    "    for ch in str:\n",
    "        stack.append(ch)\n",
    "    \n",
    "    result = \"\"\n",
    "    while len(stack) > 0:\n",
    "        result += stack.pop()\n",
    "        \n",
    "    return result\n",
    "\n"
   ]
  },
  {
   "cell_type": "markdown",
   "metadata": {},
   "source": [
    "# 선택 정렬"
   ]
  },
  {
   "cell_type": "code",
   "execution_count": null,
   "metadata": {
    "collapsed": true
   },
   "outputs": [],
   "source": []
  },
  {
   "cell_type": "markdown",
   "metadata": {},
   "source": [
    "## 1.1 문자열에 포함된 문자들이 전부 유일한지 검사 하는 알고리즘\n",
    "\n",
    "https://www.youtube.com/watch?v=piDwgBqmqKM&list=PLVNY1HnUlO24RlncfRjfoZHnD0YWVsvhq"
   ]
  },
  {
   "cell_type": "code",
   "execution_count": 1,
   "metadata": {
    "collapsed": true
   },
   "outputs": [],
   "source": [
    "test1 = 'ABCD' #True\n",
    "test2 = 'ABAD' #False"
   ]
  },
  {
   "cell_type": "code",
   "execution_count": null,
   "metadata": {
    "collapsed": true
   },
   "outputs": [],
   "source": [
    "fkdls;s;skfkfld;sfksld;sjflldldls;a'fkdls;dldldldldls;s;dldlfjdk'"
   ]
  }
 ],
 "metadata": {
  "anaconda-cloud": {},
  "kernelspec": {
   "display_name": "Python [conda root]",
   "language": "python",
   "name": "conda-root-py"
  },
  "language_info": {
   "codemirror_mode": {
    "name": "ipython",
    "version": 3
   },
   "file_extension": ".py",
   "mimetype": "text/x-python",
   "name": "python",
   "nbconvert_exporter": "python",
   "pygments_lexer": "ipython3",
   "version": "3.5.2"
  }
 },
 "nbformat": 4,
 "nbformat_minor": 1
}
