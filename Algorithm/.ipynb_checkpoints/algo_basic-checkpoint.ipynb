{
 "cells": [
  {
   "cell_type": "markdown",
   "metadata": {},
   "source": [
    "# 1. Bubble Sort\n",
    "\n",
    "* performance: O(n^2)\n",
    "* space complexity O(1)\n",
    "\n",
    "Procedure:  \n",
    "Loop1  \n",
    "6,5,3,1 / 5,6,3,1 / 5,3,6,1 /5,3,1,6  \n",
    "Loop2  \n",
    "3,5,1,6 / 3,1,5,6 / 3,1,5,6  \n",
    "Loop3  \n",
    "1,3,5,6  "
   ]
  },
  {
   "cell_type": "code",
   "execution_count": 2,
   "metadata": {
    "collapsed": false
   },
   "outputs": [
    {
     "name": "stdout",
     "output_type": "stream",
     "text": [
      "[1, 2, 3, 4, 5, 6]\n"
     ]
    }
   ],
   "source": [
    "import unittest\n",
    "\n",
    "def bubblesort(alist):\n",
    "    for i in range(len(alist)-1):\n",
    "        for j in range(len(alist)-1):\n",
    "            if alist[j] > alist[j+1]:\n",
    "                alist[j], alist[j+1] = alist[j+1], alist[j]\n",
    "    return alist\n",
    "               \n",
    "sort = [4,6,1,3,5,2]\n",
    "print(bubblesort(sort))\n",
    "\n",
    "class unit_test(unittest.TestCase):\n",
    "    def test(self):\n",
    "        self.assertEqual([1, 2, 3, 4, 5, 6], bubblesort([4, 6, 1, 3, 5, 2]))\n",
    "        self.assertEqual([1, 2, 3, 4, 5, 6], bubblesort([6, 4, 3, 1, 2, 5]))\n",
    "        self.assertEqual([1, 2, 3, 4, 5, 6], bubblesort([6, 5, 4, 3, 2, 1]))"
   ]
  },
  {
   "cell_type": "markdown",
   "metadata": {},
   "source": [
    "# 2. Selection Sort\n",
    "\n",
    "* Worst case performance: O(n^2)\n",
    "* Best Case perform: O(n^2)\n",
    "* Avg. Case perform: O(n^2)\n",
    "* Worst case space complexity: O(n) total, O(1) auxilary\n",
    "\n",
    "Procedure:  \n",
    "4,6,1,3,5,2  \n",
    "Min: 4 (첫 번째 포인트)  \n",
    "4,6,1,3,5,2  \n",
    "Min: 1  \n",
    "\n",
    "1,6,4,3,5,2  \n",
    "Min: 6 (두 번째 포인트)  \n",
    "1,6,4,3,5,2  \n",
    "Min: 2  \n",
    "\n",
    "1,2,4,3,5,6  \n",
    "Min:  4 (세 번째 포인트) "
   ]
  },
  {
   "cell_type": "markdown",
   "metadata": {},
   "source": [
    "# 3. Insertion Sort\n",
    "\n",
    "쉽지만 성능이 낮음\n",
    "\n",
    "Procedure:  \n",
    "4,6,1,3,5,2  \n",
    "\n",
    "4,6  \n",
    "4,1,6  \n",
    "1,4,6  \n",
    "\n",
    "1,4,6,3  \n",
    "1,4,3,6  \n",
    "1,3,4,6  \n"
   ]
  },
  {
   "cell_type": "markdown",
   "metadata": {},
   "source": [
    "# 4. Merge Sort\n",
    "\n",
    "Perform: O(nlogn)\n",
    "space complex: O(n)\n",
    "\n",
    "1. 정렬되지 않은 리스트를 지속적으로 쪼갠다\n",
    "2. 정렬된 아이템과 병합한다.\n",
    "\n",
    "Procedure:  \n",
    "6,2,4,1,3,6,5,8\n",
    "\n",
    "Step1:  \n",
    "6,2,4,1 / 3,7,5,8  \n",
    "* 6,2,4,1\n",
    "\n",
    "6,2 / 4,1  \n",
    "6|2 / 4|1\n",
    "\n",
    "Step2:\n",
    "2|6 -> 2,6 -> 1|4 -> 1,4\n",
    "2,6 / 1,4 -> 1,2,4,6\n",
    "\n",
    "Step3:\n",
    "3/7 / 5/8\n",
    "\n"
   ]
  }
 ],
 "metadata": {
  "anaconda-cloud": {},
  "kernelspec": {
   "display_name": "Python [conda root]",
   "language": "python",
   "name": "conda-root-py"
  },
  "language_info": {
   "codemirror_mode": {
    "name": "ipython",
    "version": 3
   },
   "file_extension": ".py",
   "mimetype": "text/x-python",
   "name": "python",
   "nbconvert_exporter": "python",
   "pygments_lexer": "ipython3",
   "version": "3.5.2"
  }
 },
 "nbformat": 4,
 "nbformat_minor": 1
}
