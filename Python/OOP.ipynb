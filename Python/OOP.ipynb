{
 "cells": [
  {
   "cell_type": "markdown",
   "metadata": {},
   "source": [
    "# OOP요약\n",
    "\n",
    "http://schoolofweb.net/blog/posts/%ED%8C%8C%EC%9D%B4%EC%8D%AC-oop-part-1-%EA%B0%9D%EC%B2%B4-%EC%A7%80%ED%96%A5-%ED%94%84%EB%A1%9C%EA%B7%B8%EB%9E%98%EB%B0%8Doop%EC%9D%80-%EB%AC%B4%EC%97%87%EC%9D%B8%EA%B0%80-%EC%99%9C-%EC%82%AC%EC%9A%A9%ED%95%98%EB%8A%94%EA%B0%80/"
   ]
  },
  {
   "cell_type": "markdown",
   "metadata": {},
   "source": [
    "# OOP Part1"
   ]
  },
  {
   "cell_type": "markdown",
   "metadata": {},
   "source": [
    "## Class 미 사용 시"
   ]
  },
  {
   "cell_type": "code",
   "execution_count": 7,
   "metadata": {},
   "outputs": [
    {
     "name": "stdout",
     "output_type": "stream",
     "text": [
      "[{\"name\": \"아이언맨\", \"health\": 100, \"damage\": 200, \"inventory\": {\"gold\": 500, \"weapon\": \"레이저\"}}, {\"name\": \"데드풀\", \"health\": 300, \"damage\": 30, \"inventory\": {\"gold\": 300, \"weapon\": \"장검\"}}, {\"name\": \"울버린\", \"health\": 200, \"damage\": 50, \"inventory\": {\"gold\": 350, \"weapon\": \"클로\"}}]\n",
      "[{\"name\": \"데드풀\", \"health\": 300, \"damage\": 30, \"inventory\": {\"gold\": 300, \"weapon\": \"장검\"}}, {\"name\": \"울버린\", \"health\": 200, \"damage\": 50, \"inventory\": {\"gold\": 350, \"weapon\": \"클로\"}}]\n"
     ]
    }
   ],
   "source": [
    "# -*- coding: utf-8 -*-\n",
    "import json\n",
    "\n",
    "heroes = [\n",
    "    {'name': '아이언맨', 'health': 100, 'damage': 200, 'inventory': {'gold': 500, 'weapon': '레이저'}},\n",
    "    {'name': '데드풀', 'health': 300, 'damage': 30, 'inventory': {'gold': 300, 'weapon': '장검'}},\n",
    "    {'name': '울버린', 'health': 200, 'damage': 50, 'inventory': {'gold': 350, 'weapon': '클로'}}\n",
    "]\n",
    "\n",
    "monsters = [\n",
    "    {'name': '고블린', 'health': 90, 'damage': 30, 'inventory': {'gold': 50, 'weapon': '창'}},\n",
    "    {'name': '드래곤', 'health': 200, 'damage': 80, 'inventory': {'gold': 200, 'weapon': '화염'}},\n",
    "    {'name': '뱀파이어', 'health': 80, 'damage': 120, 'inventory': {'gold': 1000, 'weapon': '최면술'}}\n",
    "]\n",
    "\n",
    "print(json.dumps(heroes, ensure_ascii=False))\n",
    "del heroes[0]\n",
    "print(json.dumps(heroes, ensure_ascii=False))"
   ]
  },
  {
   "cell_type": "markdown",
   "metadata": {},
   "source": [
    "## Class 사용 시"
   ]
  },
  {
   "cell_type": "code",
   "execution_count": 10,
   "metadata": {},
   "outputs": [
    {
     "name": "stdout",
     "output_type": "stream",
     "text": [
      "[아이언맨, 데드풀, 울버린]\n",
      "[고블린, 드래곤, 뱀파이어]\n",
      "[데드풀, 울버린]\n"
     ]
    }
   ],
   "source": [
    "class Character(object):\n",
    "    def __init__(self, name, health, damage, inventory):\n",
    "        self.name = name\n",
    "        self.health = health\n",
    "        self.damage = damage\n",
    "        self.inventory = inventory\n",
    "        \n",
    "    def __repr__(self):\n",
    "        return self.name\n",
    "    \n",
    "# Character 클래스의 오브젝트 생성\n",
    "heroes = []\n",
    "heroes.append(Character('아이언맨', 100, 200, {'gold': 500, 'weapon': '레이저'}))\n",
    "heroes.append(Character('데드풀', 300, 30, {'gold': 300, 'weapon': '장검'}))\n",
    "heroes.append(Character('울버린', 200, 50, {'gold': 350, 'weapon': '클로'}))\n",
    "\n",
    "monsters = []\n",
    "monsters.append(Character('고블린', 90, 30, {'gold': 50, 'weapon': '창'}))\n",
    "monsters.append(Character('드래곤', 200, 80, {'gold': 200, 'weapon': '화염'}))\n",
    "monsters.append(Character('뱀파이어', 80, 120, {'gold': 1000, 'weapon': '최면술'}))\n",
    "\n",
    "print(heroes)  # 히어로 리스트 확인\n",
    "print(monsters)  # 몬스터 리스트 확인\n",
    "del(heroes[0])  # 히어로 리스트에서 아이언맨 삭제\n",
    "print(heroes)  # 히어로 리스트 재확인"
   ]
  },
  {
   "cell_type": "markdown",
   "metadata": {},
   "source": [
    "# OOP Part 2"
   ]
  },
  {
   "cell_type": "code",
   "execution_count": null,
   "metadata": {
    "collapsed": true
   },
   "outputs": [],
   "source": []
  },
  {
   "cell_type": "code",
   "execution_count": null,
   "metadata": {
    "collapsed": true
   },
   "outputs": [],
   "source": []
  },
  {
   "cell_type": "code",
   "execution_count": null,
   "metadata": {
    "collapsed": true
   },
   "outputs": [],
   "source": []
  },
  {
   "cell_type": "code",
   "execution_count": null,
   "metadata": {
    "collapsed": true
   },
   "outputs": [],
   "source": []
  }
 ],
 "metadata": {
  "kernelspec": {
   "display_name": "Python 3",
   "language": "python",
   "name": "python3"
  },
  "language_info": {
   "codemirror_mode": {
    "name": "ipython",
    "version": 3
   },
   "file_extension": ".py",
   "mimetype": "text/x-python",
   "name": "python",
   "nbconvert_exporter": "python",
   "pygments_lexer": "ipython3",
   "version": "3.6.1"
  }
 },
 "nbformat": 4,
 "nbformat_minor": 2
}
