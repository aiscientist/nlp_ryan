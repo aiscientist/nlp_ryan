{
 "cells": [
  {
   "cell_type": "markdown",
   "metadata": {},
   "source": [
    "# OOP요약\n",
    "\n",
    "http://schoolofweb.net/blog/posts/%ED%8C%8C%EC%9D%B4%EC%8D%AC-oop-part-1-%EA%B0%9D%EC%B2%B4-%EC%A7%80%ED%96%A5-%ED%94%84%EB%A1%9C%EA%B7%B8%EB%9E%98%EB%B0%8Doop%EC%9D%80-%EB%AC%B4%EC%97%87%EC%9D%B8%EA%B0%80-%EC%99%9C-%EC%82%AC%EC%9A%A9%ED%95%98%EB%8A%94%EA%B0%80/"
   ]
  },
  {
   "cell_type": "markdown",
   "metadata": {},
   "source": [
    "# OOP Part1"
   ]
  },
  {
   "cell_type": "markdown",
   "metadata": {},
   "source": [
    "## Class 미 사용 시"
   ]
  },
  {
   "cell_type": "code",
   "execution_count": 7,
   "metadata": {},
   "outputs": [
    {
     "name": "stdout",
     "output_type": "stream",
     "text": [
      "[{\"name\": \"아이언맨\", \"health\": 100, \"damage\": 200, \"inventory\": {\"gold\": 500, \"weapon\": \"레이저\"}}, {\"name\": \"데드풀\", \"health\": 300, \"damage\": 30, \"inventory\": {\"gold\": 300, \"weapon\": \"장검\"}}, {\"name\": \"울버린\", \"health\": 200, \"damage\": 50, \"inventory\": {\"gold\": 350, \"weapon\": \"클로\"}}]\n",
      "[{\"name\": \"데드풀\", \"health\": 300, \"damage\": 30, \"inventory\": {\"gold\": 300, \"weapon\": \"장검\"}}, {\"name\": \"울버린\", \"health\": 200, \"damage\": 50, \"inventory\": {\"gold\": 350, \"weapon\": \"클로\"}}]\n"
     ]
    }
   ],
   "source": [
    "# -*- coding: utf-8 -*-\n",
    "import json\n",
    "\n",
    "heroes = [\n",
    "    {'name': '아이언맨', 'health': 100, 'damage': 200, 'inventory': {'gold': 500, 'weapon': '레이저'}},\n",
    "    {'name': '데드풀', 'health': 300, 'damage': 30, 'inventory': {'gold': 300, 'weapon': '장검'}},\n",
    "    {'name': '울버린', 'health': 200, 'damage': 50, 'inventory': {'gold': 350, 'weapon': '클로'}}\n",
    "]\n",
    "\n",
    "monsters = [\n",
    "    {'name': '고블린', 'health': 90, 'damage': 30, 'inventory': {'gold': 50, 'weapon': '창'}},\n",
    "    {'name': '드래곤', 'health': 200, 'damage': 80, 'inventory': {'gold': 200, 'weapon': '화염'}},\n",
    "    {'name': '뱀파이어', 'health': 80, 'damage': 120, 'inventory': {'gold': 1000, 'weapon': '최면술'}}\n",
    "]\n",
    "\n",
    "print(json.dumps(heroes, ensure_ascii=False))\n",
    "del heroes[0]\n",
    "print(json.dumps(heroes, ensure_ascii=False))"
   ]
  },
  {
   "cell_type": "markdown",
   "metadata": {},
   "source": [
    "## Class 사용 시"
   ]
  },
  {
   "cell_type": "code",
   "execution_count": 10,
   "metadata": {},
   "outputs": [
    {
     "name": "stdout",
     "output_type": "stream",
     "text": [
      "[아이언맨, 데드풀, 울버린]\n",
      "[고블린, 드래곤, 뱀파이어]\n",
      "[데드풀, 울버린]\n"
     ]
    }
   ],
   "source": [
    "class Character(object):\n",
    "    def __init__(self, name, health, damage, inventory):\n",
    "        self.name = name\n",
    "        self.health = health\n",
    "        self.damage = damage\n",
    "        self.inventory = inventory\n",
    "        \n",
    "    def __repr__(self):\n",
    "        return self.name\n",
    "    \n",
    "# Character 클래스의 오브젝트 생성\n",
    "heroes = []\n",
    "heroes.append(Character('아이언맨', 100, 200, {'gold': 500, 'weapon': '레이저'}))\n",
    "heroes.append(Character('데드풀', 300, 30, {'gold': 300, 'weapon': '장검'}))\n",
    "heroes.append(Character('울버린', 200, 50, {'gold': 350, 'weapon': '클로'}))\n",
    "\n",
    "monsters = []\n",
    "monsters.append(Character('고블린', 90, 30, {'gold': 50, 'weapon': '창'}))\n",
    "monsters.append(Character('드래곤', 200, 80, {'gold': 200, 'weapon': '화염'}))\n",
    "monsters.append(Character('뱀파이어', 80, 120, {'gold': 1000, 'weapon': '최면술'}))\n",
    "\n",
    "print(heroes)  # 히어로 리스트 확인\n",
    "print(monsters)  # 몬스터 리스트 확인\n",
    "del(heroes[0])  # 히어로 리스트에서 아이언맨 삭제\n",
    "print(heroes)  # 히어로 리스트 재확인"
   ]
  },
  {
   "cell_type": "markdown",
   "metadata": {},
   "source": [
    "# 36. Class 사용하기\n",
    "\n",
    "https://dojang.io/mod/page/view.php?id=1071\n",
    "\n",
    "- 클래스로 만든 객체를 인스턴스라고 부름, 인스턴스는 사례 또는 실체라는 뜻. 클래스로 사용할 수 있는 실체로 만들었다는 의미\n",
    "- 매서드는 클래스 안에 있는 함수를 뜻함"
   ]
  },
  {
   "cell_type": "code",
   "execution_count": 3,
   "metadata": {},
   "outputs": [
    {
     "name": "stdout",
     "output_type": "stream",
     "text": [
      "Hello\n"
     ]
    },
    {
     "data": {
      "text/plain": [
       "True"
      ]
     },
     "execution_count": 3,
     "metadata": {},
     "output_type": "execute_result"
    }
   ],
   "source": [
    "#36.2\n",
    "\n",
    "#빈 클래스 만들기\n",
    "class Person:\n",
    "    pass\n",
    "\n",
    "#매서드 안에서 매서드 호출하기: 매서드 안에서 매서드를 호출 할 때는, self.매서드() 형식으로 호출해야함. self없이 매서드 이름만 사용하면 클래스 바깥의 함수를 호출\n",
    "class Person:\n",
    "    def greeting(self):\n",
    "        print('Hello')\n",
    "    \n",
    "    def hello(self):\n",
    "        self.greeting() #self.매서드() 형식으로 클래스 안의 매서드를 호출\n",
    "        \n",
    "james = Person()\n",
    "james.hello()\n",
    "\n",
    "#특정 클래스가 인스턴스인지 확인하기: 현재 인스턴스가 특정 클래스 인스턴슨지 아닌지 확인할 때는 isinstance 함수 활용함.\n",
    "class Person:\n",
    "    pass\n",
    "\n",
    "james = Person()\n",
    "isinstance(james, Person)\n",
    "#True"
   ]
  },
  {
   "cell_type": "code",
   "execution_count": 4,
   "metadata": {},
   "outputs": [
    {
     "name": "stdout",
     "output_type": "stream",
     "text": [
      "안녕하세요. 저는 마리아입니다.\n",
      "이름: 마리아\n",
      "나이: 20\n",
      "주소: 서울시 서초구 반포동\n"
     ]
    }
   ],
   "source": [
    "#36.2 속성 사용하기: 속성은 init안에 있는 self.속성을 의미함\n",
    "\n",
    "#__init__은 james = Person()처럼 ()를 붙여서 인스턴스를 만들 때 호출 됨\n",
    "#python에서 __가 붙은 매서드는 스페셜 메서드 또는 매직 매서드 (파이썬이 자동을으로 호출)\n",
    "\n",
    "#self는 인스턴스 자기 자신을 의미.\n",
    "\n",
    "class Person:\n",
    "    def __init__(self, name, age, address):\n",
    "        self.hello = '안녕하세요.'\n",
    "        self.name = name\n",
    "        self.age = age\n",
    "        self.address = address\n",
    " \n",
    "    def greeting(self):\n",
    "        print('{0} 저는 {1}입니다.'.format(self.hello, self.name))\n",
    " \n",
    "maria = Person('마리아', 20, '서울시 서초구 반포동')\n",
    "maria.greeting()    # 안녕하세요. 저는 마리아입니다.\n",
    " \n",
    "print('이름:', maria.name)       # 마리아\n",
    "print('나이:', maria.age)        # 20\n",
    "print('주소:', maria.address)    # 서울시 서초구 반포동\n",
    "\n",
    "#인스턴스를 통해 접근한 속성을 인스턴스 속성이라고 함.\n",
    "#클래스의 맴버: 클래스에 들어있는 속성과 매서드를 맴버라고 부름, int, list, dict도 모두 클래스임\n",
    "#파이썬에서는 자료형도 클래스 type을 사용하면 객체가 어떤 클래스인지 알 수 있음\n",
    "\n",
    "#참고: 인스턴스와 객체: 인스턴스와 객체는 같은 것을 뜻함."
   ]
  },
  {
   "cell_type": "code",
   "execution_count": 10,
   "metadata": {},
   "outputs": [
    {
     "data": {
      "text/plain": [
       "'마리아'"
      ]
     },
     "execution_count": 10,
     "metadata": {},
     "output_type": "execute_result"
    }
   ],
   "source": [
    "#참고: 클래스의 위치 인수, 키워드 인수\n",
    "#클래스로 인스턴스를 만들 때, 위치 인수와, 키워드 인수 사용 가능. *args를 활용하면 되고, 값을 가져오려면 args[0]처럼 사용\n",
    "\n",
    "class Person:\n",
    "    def __init__(self, *args):\n",
    "        self.name = args[0]\n",
    "        self.age = args[1]\n",
    "        self.address = args[2]\n",
    "        \n",
    "maria = Person(*['마리아', 20, '동작구'])\n",
    "\n",
    "#키워드 인수와 딕셔너리 언패킹을 사용하면 **kwargs를 사용하면 됨, kwargs['name']을 활용\n",
    "\n",
    "class Person:\n",
    "    def __init__(self, **kwargs):    # 키워드 인수\n",
    "        self.name = kwargs['name']\n",
    "        self.age = kwargs['age']\n",
    "        self.address = kwargs['address']\n",
    "        \n",
    "maria2 = Person(**{'name': '마리아', 'age': 20, 'address': '서울시 서초구 반포동'})\n",
    "maria2.name"
   ]
  },
  {
   "cell_type": "code",
   "execution_count": 12,
   "metadata": {},
   "outputs": [
    {
     "ename": "AttributeError",
     "evalue": "'Person' object has no attribute 'name'",
     "output_type": "error",
     "traceback": [
      "\u001b[0;31m---------------------------------------------------------------------------\u001b[0m",
      "\u001b[0;31mAttributeError\u001b[0m                            Traceback (most recent call last)",
      "\u001b[0;32m<ipython-input-12-f4b2c35128b4>\u001b[0m in \u001b[0;36m<module>\u001b[0;34m()\u001b[0m\n\u001b[1;32m     11\u001b[0m \u001b[0;31m# 다르게 생성한 속성에서는 적용되지 않습니다.\u001b[0m\u001b[0;34m\u001b[0m\u001b[0;34m\u001b[0m\u001b[0m\n\u001b[1;32m     12\u001b[0m \u001b[0mjames\u001b[0m \u001b[0;34m=\u001b[0m \u001b[0mPerson\u001b[0m\u001b[0;34m(\u001b[0m\u001b[0;34m)\u001b[0m\u001b[0;34m\u001b[0m\u001b[0m\n\u001b[0;32m---> 13\u001b[0;31m \u001b[0mjames\u001b[0m\u001b[0;34m.\u001b[0m\u001b[0mname\u001b[0m\u001b[0;34m\u001b[0m\u001b[0m\n\u001b[0m",
      "\u001b[0;31mAttributeError\u001b[0m: 'Person' object has no attribute 'name'"
     ]
    }
   ],
   "source": [
    "#참고: 인스턴스 생성한 뒤에 속성 추가 및 특정 속성만 허용\n",
    "#인스턴스 속성은 __init__ 매서드 추가한 뒤 사용했지만, 클래스로 인스턴스를 만든 뒤에도 인스턴스.속성 = 값 형식으로 계쏙 추가 가능함.\n",
    "#다음 Person 클래스는 빈 클래스이지만 인스턴스를 만든 뒤 name 속성 생성\n",
    "class Person:\n",
    "    pass\n",
    "\n",
    "maria = Person()\n",
    "maria.name = '마리아'\n",
    "maria.name\n",
    "\n",
    "# 다르게 생성한 속성에서는 적용되지 않습니다.\n",
    "james = Person()\n",
    "james.name"
   ]
  },
  {
   "cell_type": "code",
   "execution_count": 13,
   "metadata": {},
   "outputs": [
    {
     "ename": "AttributeError",
     "evalue": "'Person' object has no attribute 'hello'",
     "output_type": "error",
     "traceback": [
      "\u001b[0;31m---------------------------------------------------------------------------\u001b[0m",
      "\u001b[0;31mAttributeError\u001b[0m                            Traceback (most recent call last)",
      "\u001b[0;32m<ipython-input-13-f5a9568a28eb>\u001b[0m in \u001b[0;36m<module>\u001b[0;34m()\u001b[0m\n\u001b[1;32m      5\u001b[0m \u001b[0;34m\u001b[0m\u001b[0m\n\u001b[1;32m      6\u001b[0m \u001b[0mmaria\u001b[0m \u001b[0;34m=\u001b[0m \u001b[0mPerson\u001b[0m\u001b[0;34m(\u001b[0m\u001b[0;34m)\u001b[0m\u001b[0;34m\u001b[0m\u001b[0m\n\u001b[0;32m----> 7\u001b[0;31m \u001b[0mmaria\u001b[0m\u001b[0;34m.\u001b[0m\u001b[0mhello\u001b[0m \u001b[0;31m#속성이 없어 에러 발생\u001b[0m\u001b[0;34m\u001b[0m\u001b[0m\n\u001b[0m\u001b[1;32m      8\u001b[0m \u001b[0;34m\u001b[0m\u001b[0m\n\u001b[1;32m      9\u001b[0m \u001b[0mmaria\u001b[0m\u001b[0;34m.\u001b[0m\u001b[0mgreeting\u001b[0m\u001b[0;34m(\u001b[0m\u001b[0;34m)\u001b[0m \u001b[0;31m#매서드 생성\u001b[0m\u001b[0;34m\u001b[0m\u001b[0m\n",
      "\u001b[0;31mAttributeError\u001b[0m: 'Person' object has no attribute 'hello'"
     ]
    }
   ],
   "source": [
    "#인스턴스를 생성한 뒤에 속성 추가 가능. __init__이 아니라 다른 매서드에서 속성 추가 가능, 단 매서드를 호출해야 생성됨\n",
    "class Person:\n",
    "    def greeting(self):\n",
    "        self.hello = '안녕하세요'\n",
    "        \n",
    "maria = Person()\n",
    "maria.hello #속성이 없어 에러 발생\n",
    "\n",
    "maria.greeting() #매서드 생성\n",
    "maria.hello #hello속성 생성"
   ]
  },
  {
   "cell_type": "code",
   "execution_count": 14,
   "metadata": {},
   "outputs": [
    {
     "ename": "AttributeError",
     "evalue": "'Person' object has no attribute 'address'",
     "output_type": "error",
     "traceback": [
      "\u001b[0;31m---------------------------------------------------------------------------\u001b[0m",
      "\u001b[0;31mAttributeError\u001b[0m                            Traceback (most recent call last)",
      "\u001b[0;32m<ipython-input-14-f11287f932d6>\u001b[0m in \u001b[0;36m<module>\u001b[0;34m()\u001b[0m\n\u001b[1;32m      9\u001b[0m \u001b[0mmaria\u001b[0m\u001b[0;34m.\u001b[0m\u001b[0mname\u001b[0m \u001b[0;34m=\u001b[0m \u001b[0;34m'마리아'\u001b[0m \u001b[0;31m#허용\u001b[0m\u001b[0;34m\u001b[0m\u001b[0m\n\u001b[1;32m     10\u001b[0m \u001b[0mmaria\u001b[0m\u001b[0;34m.\u001b[0m\u001b[0mage\u001b[0m \u001b[0;34m=\u001b[0m \u001b[0;36m20\u001b[0m \u001b[0;31m#허용\u001b[0m\u001b[0;34m\u001b[0m\u001b[0m\n\u001b[0;32m---> 11\u001b[0;31m \u001b[0mmaria\u001b[0m\u001b[0;34m.\u001b[0m\u001b[0maddress\u001b[0m \u001b[0;34m=\u001b[0m \u001b[0;34m'동작구'\u001b[0m \u001b[0;31m#허용되지 않아 에러 발생\u001b[0m\u001b[0;34m\u001b[0m\u001b[0m\n\u001b[0m",
      "\u001b[0;31mAttributeError\u001b[0m: 'Person' object has no attribute 'address'"
     ]
    }
   ],
   "source": [
    "#인스턴스는 자유롭게 속성 추가 가능, 특정 속성만 허용하고 다른 속성은 제한. 이때 클래스에서 __slot__에 허용할 속성 이름\n",
    "#리스트로 넣어주면 됨. 특히 속성 이름은 꼭 문자열로 지정\n",
    "#__slots__ = ['속성이름1', '속성이름2']\n",
    "\n",
    "class Person:\n",
    "    __slots__ = ['name', 'age'] #name과 age만 허용\n",
    "    \n",
    "maria = Person()\n",
    "maria.name = '마리아' #허용\n",
    "maria.age = 20 #허용\n",
    "maria.address = '동작구' #허용되지 않아 에러 발생"
   ]
  },
  {
   "cell_type": "code",
   "execution_count": null,
   "metadata": {},
   "outputs": [],
   "source": []
  }
 ],
 "metadata": {
  "kernelspec": {
   "display_name": "Python 3",
   "language": "python",
   "name": "python3"
  },
  "language_info": {
   "codemirror_mode": {
    "name": "ipython",
    "version": 3
   },
   "file_extension": ".py",
   "mimetype": "text/x-python",
   "name": "python",
   "nbconvert_exporter": "python",
   "pygments_lexer": "ipython3",
   "version": "3.6.2"
  }
 },
 "nbformat": 4,
 "nbformat_minor": 2
}
