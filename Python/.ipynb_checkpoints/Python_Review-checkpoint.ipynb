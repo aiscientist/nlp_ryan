{
 "cells": [
  {
   "cell_type": "markdown",
   "metadata": {},
   "source": [
    "# 7. 함수 이해하기"
   ]
  },
  {
   "cell_type": "code",
   "execution_count": 1,
   "metadata": {
    "collapsed": true
   },
   "outputs": [],
   "source": [
    "def func(pa1, pa2):\n",
    "    \"\"\"함수란 이런것이다.\n",
    "    \n",
    "    \"\"\"\n",
    "    pa1, pa2 = pa2, pa1\n",
    "    \n",
    "    return pa1, pa2"
   ]
  },
  {
   "cell_type": "code",
   "execution_count": 2,
   "metadata": {
    "collapsed": false,
    "scrolled": true
   },
   "outputs": [
    {
     "name": "stdout",
     "output_type": "stream",
     "text": [
      "Help on function func in module __main__:\n",
      "\n",
      "func(pa1, pa2)\n",
      "    함수란 이런것이다.\n",
      "\n"
     ]
    }
   ],
   "source": [
    "help(func)"
   ]
  },
  {
   "cell_type": "markdown",
   "metadata": {
    "collapsed": true
   },
   "source": [
    "# 수정범위\n",
    "\n",
    "P6. 일급객체\n"
   ]
  },
  {
   "cell_type": "code",
   "execution_count": 3,
   "metadata": {
    "collapsed": false
   },
   "outputs": [
    {
     "name": "stdout",
     "output_type": "stream",
     "text": [
      "{'count': 0}\n",
      "call count 1\n",
      "20\n",
      "call count 2\n",
      "22\n",
      "{'count': 2}\n"
     ]
    }
   ],
   "source": [
    "def add(x,y):\n",
    "    add.count += 1\n",
    "    print(\"call count\" , add.count)\n",
    "    return x+y\n",
    "\n",
    "add.count = 0\n",
    "print(add.__dict__)\n",
    "print(add(10,10))\n",
    "print(add(11,11))\n",
    "print(add.__dict__)"
   ]
  },
  {
   "cell_type": "code",
   "execution_count": 7,
   "metadata": {
    "collapsed": false
   },
   "outputs": [
    {
     "name": "stdout",
     "output_type": "stream",
     "text": [
      "<function add at 0x7eff0801c158>\n",
      "<function add at 0x7eff0801c158>\n"
     ]
    }
   ],
   "source": [
    "def add(x,y):\n",
    "    return x+y\n",
    "\n",
    "print(globals()[\"add\"])\n",
    "print(add)"
   ]
  },
  {
   "cell_type": "code",
   "execution_count": 8,
   "metadata": {
    "collapsed": false
   },
   "outputs": [
    {
     "name": "stdout",
     "output_type": "stream",
     "text": [
      "10\n"
     ]
    }
   ],
   "source": [
    "def func(func, x, y):\n",
    "    return func(x, y)\n",
    "\n",
    "print(func(add,5,5))"
   ]
  },
  {
   "cell_type": "code",
   "execution_count": 10,
   "metadata": {
    "collapsed": false
   },
   "outputs": [
    {
     "name": "stdout",
     "output_type": "stream",
     "text": [
      "dahl\n",
      "dahl\n"
     ]
    }
   ],
   "source": [
    "#함수에서 클레스 접근 예시\n",
    "class A:\n",
    "    name = \"dahl\"\n",
    "    \n",
    "def getName():\n",
    "    return A.name\n",
    "\n",
    "print(getName())\n",
    "\n",
    "#함수에서 인스턴스 접근 예시\n",
    "#instance = 변수 in class\n",
    "class Person:\n",
    "    def __init__(self,name):\n",
    "        self.name = name\n",
    "        \n",
    "def func(obj):\n",
    "    return obj.name\n",
    "\n",
    "p = Person(\"dahl\")\n",
    "print(func(p))"
   ]
  },
  {
   "cell_type": "code",
   "execution_count": 13,
   "metadata": {
    "collapsed": false
   },
   "outputs": [
    {
     "name": "stdout",
     "output_type": "stream",
     "text": [
      "10\n",
      "20\n"
     ]
    }
   ],
   "source": [
    "#익명함수\n",
    "fn = lambda x : x\n",
    "print(fn(10))\n",
    "\n",
    "#익명 함수도 객체임\n",
    "\n",
    "#익명 함수에서 함수 적용\n",
    "fn1 = lambda x : add(x,x)\n",
    "print(fn1(10))\n",
    "\n",
    "#익명함수 내의 파라메터 초기값 처리\n",
    "x = 20\n",
    "lam = lambda x=x : list(x+n for n in range(3))"
   ]
  }
 ],
 "metadata": {
  "anaconda-cloud": {},
  "kernelspec": {
   "display_name": "Python [conda root]",
   "language": "python",
   "name": "conda-root-py"
  },
  "language_info": {
   "codemirror_mode": {
    "name": "ipython",
    "version": 3
   },
   "file_extension": ".py",
   "mimetype": "text/x-python",
   "name": "python",
   "nbconvert_exporter": "python",
   "pygments_lexer": "ipython3",
   "version": "3.5.2"
  }
 },
 "nbformat": 4,
 "nbformat_minor": 1
}
