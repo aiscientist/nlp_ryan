{
 "cells": [
  {
   "cell_type": "markdown",
   "metadata": {},
   "source": [
    "# Deep Learning Day2 for Chanwoo Lee"
   ]
  },
  {
   "cell_type": "code",
   "execution_count": 4,
   "metadata": {},
   "outputs": [],
   "source": [
    "import tensorflow as tf\n",
    "import numpy as np\n",
    "import matplotlib.pyplot as plt\n",
    "%matplotlib inline\n",
    "\n",
    "import csv"
   ]
  },
  {
   "cell_type": "code",
   "execution_count": 6,
   "metadata": {},
   "outputs": [
    {
     "name": "stdout",
     "output_type": "stream",
     "text": [
      "train data is written\n",
      "test data is written\n"
     ]
    }
   ],
   "source": [
    "samples = 1000\n",
    "test_samples = 100\n",
    "train_dataset = './ffnn_dataset/train_dataset.csv'\n",
    "test_dataset = './ffnn_dataset/test_dataset.csv'\n",
    "\n",
    "def write_dataset(samples, test_samples, train_dir, test_dir):\n",
    "    up = [i for i in range(10)]\n",
    "    down = [9-i for i in range(10)]\n",
    "\n",
    "    data = []\n",
    "    label = []\n",
    "    for i in range(samples):\n",
    "        data.append(up)\n",
    "        data.append(down)\n",
    "        label.append([1])\n",
    "        label.append([0])\n",
    "\n",
    "    with open(train_dataset, 'w') as csvfile:\n",
    "        writer = csv.writer(csvfile)\n",
    "        for i in range(samples-test_samples):\n",
    "            writer.writerow(label[i] + data[i])\n",
    "        print('train data is written')\n",
    "\n",
    "    with open(test_dataset, 'w') as csvfile:\n",
    "        writer = csv.writer(csvfile)\n",
    "        for i in range(test_samples):\n",
    "            writer.writerow(label[i] + data[i])\n",
    "        print('test data is written')\n",
    "        \n",
    "write_dataset(1000, 100, train_dataset, test_dataset)"
   ]
  },
  {
   "cell_type": "code",
   "execution_count": 7,
   "metadata": {},
   "outputs": [
    {
     "name": "stdout",
     "output_type": "stream",
     "text": [
      "Tensor(\"Cast_2:0\", shape=(?, 1), dtype=float32)\n",
      "Tensor(\"Cast_3:0\", shape=(?, 10), dtype=float32)\n",
      "Tensor(\"Cast:0\", shape=(?, 1), dtype=float32)\n",
      "Tensor(\"Cast_1:0\", shape=(?, 10), dtype=float32)\n"
     ]
    }
   ],
   "source": [
    "tf.reset_default_graph()\n",
    "trainset = tf.contrib.data.TextLineDataset(train_dataset).batch(10)\n",
    "testset = tf.contrib.data.TextLineDataset(test_dataset).batch(10)\n",
    "\n",
    "train_itr = trainset.make_one_shot_iterator()\n",
    "test_itr = testset.make_one_shot_iterator()\n",
    "\n",
    "train_batch = train_itr.get_next()\n",
    "test_batch = test_itr.get_next()\n",
    "\n",
    "train_batch = tf.decode_csv(train_batch, [[0]]*11)\n",
    "test_batch = tf.decode_csv(test_batch, [[0]]*11)\n",
    "\n",
    "y_ = tf.reshape(train_batch[0], [-1, 1])\n",
    "test_label = tf.reshape(test_batch[0], [-1, 1])\n",
    "\n",
    "x = tf.stack(train_batch[1:], axis=1)\n",
    "test_data = tf.stack(test_batch[1:], axis=1)\n",
    "\n",
    "test_label = tf.cast(test_label, tf.float32)\n",
    "test_input = tf.cast(test_data, tf.float32)\n",
    "y_ = tf.cast(y_, tf.float32)\n",
    "x = tf.cast(x, tf.float32)\n",
    "\n",
    "print(y_)\n",
    "print(x)\n",
    "print(test_label)\n",
    "print(test_input)"
   ]
  },
  {
   "cell_type": "code",
   "execution_count": 8,
   "metadata": {},
   "outputs": [
    {
     "name": "stdout",
     "output_type": "stream",
     "text": [
      "<tf.Variable 'layer1/kernel:0' shape=(10, 10) dtype=float32_ref>\n",
      "<tf.Variable 'layer1/bias:0' shape=(10,) dtype=float32_ref>\n",
      "<tf.Variable 'layer2/kernel:0' shape=(10, 10) dtype=float32_ref>\n",
      "<tf.Variable 'layer2/bias:0' shape=(10,) dtype=float32_ref>\n",
      "<tf.Variable 'layer3/kernel:0' shape=(10, 10) dtype=float32_ref>\n",
      "<tf.Variable 'layer3/bias:0' shape=(10,) dtype=float32_ref>\n",
      "<tf.Variable 'layer4/kernel:0' shape=(10, 10) dtype=float32_ref>\n",
      "<tf.Variable 'layer4/bias:0' shape=(10,) dtype=float32_ref>\n",
      "<tf.Variable 'layer_out/kernel:0' shape=(10, 1) dtype=float32_ref>\n",
      "<tf.Variable 'layer_out/bias:0' shape=(1,) dtype=float32_ref>\n"
     ]
    }
   ],
   "source": [
    "def bin_model(x, activation, reuse=False):\n",
    "    layer1 = tf.layers.dense(x, 10, activation=activation, reuse=reuse, name='layer1')\n",
    "    layer2 = tf.layers.dense(layer1, 10, activation=activation, reuse=reuse, name='layer2')\n",
    "    layer3 = tf.layers.dense(layer2, 10, activation=activation, reuse=reuse, name='layer3')\n",
    "    layer4 = tf.layers.dense(layer3, 10, activation=activation, reuse=reuse, name='layer4')\n",
    "    return tf.layers.dense(layer4, 1, activation=activation, reuse=reuse, name='layer_out')\n",
    "\n",
    "\n",
    "train_out = bin_model(x, tf.nn.relu)\n",
    "test_out = bin_model(test_input, tf.nn.relu, True)\n",
    "\n",
    "for var in tf.trainable_variables():\n",
    "    print(var)"
   ]
  },
  {
   "cell_type": "code",
   "execution_count": 9,
   "metadata": {},
   "outputs": [
    {
     "name": "stdout",
     "output_type": "stream",
     "text": [
      "INFO:tensorflow:logits.dtype=<dtype: 'float32'>.\n",
      "INFO:tensorflow:multi_class_labels.dtype=<dtype: 'float32'>.\n",
      "INFO:tensorflow:losses.dtype=<dtype: 'float32'>.\n"
     ]
    }
   ],
   "source": [
    "loss = tf.losses.sigmoid_cross_entropy(y_, train_out)\n",
    "train_op = tf.train.GradientDescentOptimizer(1e-2).minimize(loss)\n",
    "\n",
    "pred = tf.nn.sigmoid(test_out)\n",
    "accuracy = tf.metrics.accuracy(y_, tf.round(pred))\n",
    "\n",
    "saver = tf.train.Saver()"
   ]
  },
  {
   "cell_type": "code",
   "execution_count": 10,
   "metadata": {},
   "outputs": [
    {
     "name": "stdout",
     "output_type": "stream",
     "text": [
      "epoch: 0, loss: 0.6931471824645996, acc: 0.3888888955116272\n",
      "epoch: 1, loss: 0.6931471824645996, acc: 0.3888888955116272\n",
      "epoch: 2, loss: 0.6931471824645996, acc: 0.3888888955116272\n",
      "epoch: 3, loss: 0.6931471824645996, acc: 0.3888888955116272\n",
      "epoch: 4, loss: 0.6931471824645996, acc: 0.3888888955116272\n",
      "epoch: 5, loss: 0.6931471824645996, acc: 0.3888888955116272\n",
      "epoch: 6, loss: 0.6931471824645996, acc: 0.3888888955116272\n",
      "epoch: 7, loss: 0.6931471824645996, acc: 0.3888888955116272\n",
      "epoch: 8, loss: 0.6931471824645996, acc: 0.3888888955116272\n",
      "epoch: 9, loss: 0.6931471824645996, acc: 0.3888888955116272\n"
     ]
    }
   ],
   "source": [
    "with tf.Session() as sess:\n",
    "    sess.run(tf.global_variables_initializer())\n",
    "    sess.run(tf.local_variables_initializer())\n",
    "    for i in range(10):\n",
    "        while True:\n",
    "            try:\n",
    "                _, _loss = sess.run([train_op, loss])\n",
    "                _acc = sess.run(accuracy)\n",
    "            except tf.errors.OutOfRangeError:\n",
    "                break\n",
    "                \n",
    "        print('epoch: {}, loss: {}, acc: {}'.format(i, _loss, _acc[0]))\n",
    "        saver.save(sess, './logs/model')"
   ]
  }
 ],
 "metadata": {
  "kernelspec": {
   "display_name": "Python 3",
   "language": "python",
   "name": "python3"
  },
  "language_info": {
   "codemirror_mode": {
    "name": "ipython",
    "version": 3
   },
   "file_extension": ".py",
   "mimetype": "text/x-python",
   "name": "python",
   "nbconvert_exporter": "python",
   "pygments_lexer": "ipython3",
   "version": "3.5.2"
  }
 },
 "nbformat": 4,
 "nbformat_minor": 2
}
