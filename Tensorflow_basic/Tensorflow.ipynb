{
 "cells": [
  {
   "cell_type": "code",
   "execution_count": 1,
   "metadata": {
    "collapsed": true
   },
   "outputs": [],
   "source": [
    "import tensorflow as tf"
   ]
  },
  {
   "cell_type": "code",
   "execution_count": 2,
   "metadata": {
    "collapsed": false
   },
   "outputs": [
    {
     "ename": "NameError",
     "evalue": "name 'vocab_size' is not defined",
     "output_type": "error",
     "traceback": [
      "\u001b[0;31m---------------------------------------------------------------------------\u001b[0m",
      "\u001b[0;31mNameError\u001b[0m                                 Traceback (most recent call last)",
      "\u001b[0;32m<ipython-input-2-9185ea09150f>\u001b[0m in \u001b[0;36m<module>\u001b[0;34m()\u001b[0m\n\u001b[0;32m----> 1\u001b[0;31m \u001b[0mW\u001b[0m \u001b[0;34m=\u001b[0m \u001b[0mtf\u001b[0m\u001b[0;34m.\u001b[0m\u001b[0mVariable\u001b[0m\u001b[0;34m(\u001b[0m\u001b[0mtf\u001b[0m\u001b[0;34m.\u001b[0m\u001b[0mrandom_uniform\u001b[0m\u001b[0;34m(\u001b[0m\u001b[0;34m[\u001b[0m\u001b[0mvocab_size\u001b[0m\u001b[0;34m,\u001b[0m \u001b[0membedding_size\u001b[0m\u001b[0;34m]\u001b[0m\u001b[0;34m,\u001b[0m \u001b[0;34m-\u001b[0m\u001b[0;36m1.0\u001b[0m\u001b[0;34m,\u001b[0m \u001b[0;36m1.0\u001b[0m\u001b[0;34m)\u001b[0m\u001b[0;34m,\u001b[0m \u001b[0mname\u001b[0m\u001b[0;34m=\u001b[0m\u001b[0;34m\"W\"\u001b[0m\u001b[0;34m)\u001b[0m\u001b[0;34m\u001b[0m\u001b[0m\n\u001b[0m\u001b[1;32m      2\u001b[0m \u001b[0membedded_chars\u001b[0m \u001b[0;34m=\u001b[0m \u001b[0mtf\u001b[0m\u001b[0;34m.\u001b[0m\u001b[0mnn\u001b[0m\u001b[0;34m.\u001b[0m\u001b[0membedding_lookup\u001b[0m\u001b[0;34m(\u001b[0m\u001b[0mW\u001b[0m\u001b[0;34m,\u001b[0m \u001b[0minput_x\u001b[0m\u001b[0;34m)\u001b[0m \u001b[0;31m# 차원수: [sequence length, embedding size]\u001b[0m\u001b[0;34m\u001b[0m\u001b[0m\n\u001b[1;32m      3\u001b[0m \u001b[0membedded_chars_expanded\u001b[0m \u001b[0;34m=\u001b[0m \u001b[0mtf\u001b[0m\u001b[0;34m.\u001b[0m\u001b[0mexpand_dims\u001b[0m\u001b[0;34m(\u001b[0m\u001b[0membedded_chars\u001b[0m\u001b[0;34m,\u001b[0m \u001b[0;34m-\u001b[0m\u001b[0;36m1\u001b[0m\u001b[0;34m)\u001b[0m \u001b[0;31m# 차원수 : [sequence length * embedding size * 1]\u001b[0m\u001b[0;34m\u001b[0m\u001b[0m\n",
      "\u001b[0;31mNameError\u001b[0m: name 'vocab_size' is not defined"
     ]
    }
   ],
   "source": [
    "W = tf.Variable(tf.random_uniform([vocab_size, embedding_size], -1.0, 1.0), name=\"W\")\n",
    "embedded_chars = tf.nn.embedding_lookup(W, input_x) # 차원수: [sequence length, embedding size]\n",
    "embedded_chars_expanded = tf.expand_dims(embedded_chars, -1) # 차원수 : [sequence length * embedding size * 1]"
   ]
  },
  {
   "cell_type": "code",
   "execution_count": null,
   "metadata": {
    "collapsed": true
   },
   "outputs": [],
   "source": [
    "# Queue Learner\n",
    "\n",
    "def create_graph():\n",
    "    x = tf.placeholder()\n",
    "    y = tf.placeholder()\n",
    "    return x,y\n",
    "\n",
    "x,y = create_graph()\n",
    "\n",
    "with tf.Session():\n",
    "    for features_batch, labels_batch in next_batch(filenames):\n",
    "        _train_cost, _train_step = sess.run([train_cost, train_step],\n",
    "                                            feed_dict = {x: _feature_batch, y: _labels_batch})"
   ]
  },
  {
   "cell_type": "code",
   "execution_count": null,
   "metadata": {
    "collapsed": true
   },
   "outputs": [],
   "source": [
    "#max_to_keep: 가장 마지막 부분 5개만 보유 / 모든 epoch 저장을 하기 위해서는..\n",
    "saver = tf.train.Saver(max_to_keep=None)\n",
    "\n",
    "for epoch in range(total_epochs):\n",
    "    saver.save(sess, model_file, global_step = epoch)\n",
    "\n",
    "if min_valid_epoch == epoch: # save the lastest best model\n",
    "    saver.save(sess, model_file)\n",
    "    \n",
    "checkpoint = tf.train.get_checkpoint_state(model_dir)\n",
    "if not training_model and checkpoint:\n",
    "    saver = tf.train.Saver()\n",
    "    saver.restore(sess, model_file)"
   ]
  },
  {
   "cell_type": "code",
   "execution_count": null,
   "metadata": {
    "collapsed": true
   },
   "outputs": [],
   "source": [
    "def create_graph(reuse=None):\n",
    "    with tf.variable_scope('model', reuse=reuse) as scope:\n",
    "        w = tf.get_variable(\"w1\", shape, initializer=tf.random_normal_initalizer())\n",
    "        scope.reuse_variable()\n",
    "        w = tf.get_variable(\"w1\", shape, initializer=tf.random_normal_initializer())\n",
    "\n",
    "train_cost, train_step = create_graph(reuse=None)\n",
    "valid_cost = create_graph(reuse=True)\n",
    "test_cost, accuracy, y_hat = create_graph(reuse=True)\n",
    "\n",
    "with tf.Session():\n",
    "    if is_training:\n",
    "        _train_cost, _train_step = sess.run([train_cost, train_step])\n",
    "        _valid_cost = sess.run([valid_cost]) #x,y is feeded from pipe line        \n",
    "    else:\n",
    "        _test_cost, _accuracy, _y_hat, _w = sess.run([test_cost, accuracy, y_hat, w])\n",
    "        \n"
   ]
  },
  {
   "cell_type": "code",
   "execution_count": 3,
   "metadata": {
    "collapsed": true
   },
   "outputs": [],
   "source": [
    "#Multiple session on one GPU\n",
    "config = tf.ConfigProto()\n",
    "config.gpu_options.allow_growth = True # do not use entire memory...\n",
    "with tf.Session(config=config) as sess:\n",
    "    pass"
   ]
  },
  {
   "cell_type": "code",
   "execution_count": null,
   "metadata": {
    "collapsed": true
   },
   "outputs": [],
   "source": [
    "alias tensorboard-clear='rm -rf /tensorboard_log/*'\n",
    "alias tensorboard-start = 'nohup tensorboard --reload_interval=5 --logdir=-/'"
   ]
  }
 ],
 "metadata": {
  "anaconda-cloud": {},
  "kernelspec": {
   "display_name": "Python [conda root]",
   "language": "python",
   "name": "conda-root-py"
  },
  "language_info": {
   "codemirror_mode": {
    "name": "ipython",
    "version": 3
   },
   "file_extension": ".py",
   "mimetype": "text/x-python",
   "name": "python",
   "nbconvert_exporter": "python",
   "pygments_lexer": "ipython3",
   "version": "3.5.2"
  }
 },
 "nbformat": 4,
 "nbformat_minor": 1
}
