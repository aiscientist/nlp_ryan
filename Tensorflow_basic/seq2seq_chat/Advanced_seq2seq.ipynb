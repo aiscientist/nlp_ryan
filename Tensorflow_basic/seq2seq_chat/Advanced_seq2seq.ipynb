{
 "cells": [
  {
   "cell_type": "markdown",
   "metadata": {},
   "source": [
    "# Adv_seq2seq\n",
    "\n",
    " - Encoder는 bidirectional, decoder는 tf.nn.raw_rnn"
   ]
  },
  {
   "cell_type": "code",
   "execution_count": 1,
   "metadata": {},
   "outputs": [
    {
     "name": "stdout",
     "output_type": "stream",
     "text": [
      "Simple_seq2seq.ipynb  \u001b[34mdata\u001b[m\u001b[m/                 \u001b[34mtensorboard\u001b[m\u001b[m/\r\n",
      "Untitled.ipynb        \u001b[34mlib\u001b[m\u001b[m/\r\n",
      "\u001b[34mconfig\u001b[m\u001b[m/               simple_model.py\r\n"
     ]
    }
   ],
   "source": [
    "ls"
   ]
  }
 ],
 "metadata": {
  "kernelspec": {
   "display_name": "Python 3",
   "language": "python",
   "name": "python3"
  },
  "language_info": {
   "codemirror_mode": {
    "name": "ipython",
    "version": 3
   },
   "file_extension": ".py",
   "mimetype": "text/x-python",
   "name": "python",
   "nbconvert_exporter": "python",
   "pygments_lexer": "ipython3",
   "version": "3.6.1"
  }
 },
 "nbformat": 4,
 "nbformat_minor": 2
}
