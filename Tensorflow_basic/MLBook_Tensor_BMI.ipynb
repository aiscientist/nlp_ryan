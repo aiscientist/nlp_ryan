{
 "cells": [
  {
   "cell_type": "code",
   "execution_count": 5,
   "metadata": {
    "collapsed": true
   },
   "outputs": [],
   "source": [
    "import tensorflow as tf\n",
    "import matplotlib.pyplot as plt\n",
    "import numpy as np\n",
    "import pandas as pd\n",
    "import json\n",
    "%matplotlib inline"
   ]
  },
  {
   "cell_type": "code",
   "execution_count": 6,
   "metadata": {
    "collapsed": true
   },
   "outputs": [
    {
     "name": "stdout",
     "output_type": "stream",
     "text": [
      "       height  weight   label  label_pat\n",
      "0       0.710    0.62     fat  [0, 0, 1]\n",
      "1       0.710    0.73     fat  [0, 0, 1]\n",
      "2       0.885    0.61  normal  [0, 1, 0]\n",
      "3       0.935    0.48    thin  [1, 0, 0]\n",
      "4       0.765    0.60     fat  [0, 0, 1]\n",
      "5       0.930    0.59    thin  [1, 0, 0]\n",
      "6       0.830    0.53  normal  [0, 1, 0]\n",
      "7       0.965    0.56    thin  [1, 0, 0]\n",
      "8       0.920    0.43    thin  [1, 0, 0]\n",
      "9       0.965    0.64    thin  [1, 0, 0]\n",
      "10      0.775    0.69     fat  [0, 0, 1]\n",
      "11      0.710    0.63     fat  [0, 0, 1]\n",
      "12      0.905    0.72  normal  [0, 1, 0]\n",
      "13      0.945    0.62    thin  [1, 0, 0]\n",
      "14      0.700    0.62     fat  [0, 0, 1]\n",
      "15      0.765    0.37    thin  [1, 0, 0]\n",
      "16      0.655    0.55     fat  [0, 0, 1]\n",
      "17      0.685    0.68     fat  [0, 0, 1]\n",
      "18      0.765    0.40    thin  [1, 0, 0]\n",
      "19      0.680    0.50     fat  [0, 0, 1]\n",
      "20      0.625    0.73     fat  [0, 0, 1]\n",
      "21      0.960    0.71  normal  [0, 1, 0]\n",
      "22      0.735    0.49  normal  [0, 1, 0]\n",
      "23      0.805    0.36    thin  [1, 0, 0]\n",
      "24      0.860    0.71  normal  [0, 1, 0]\n",
      "25      0.715    0.73     fat  [0, 0, 1]\n",
      "26      0.935    0.56    thin  [1, 0, 0]\n",
      "27      0.700    0.51     fat  [0, 0, 1]\n",
      "28      0.605    0.72     fat  [0, 0, 1]\n",
      "29      0.915    0.36    thin  [1, 0, 0]\n",
      "...       ...     ...     ...        ...\n",
      "19970   0.605    0.66     fat  [0, 0, 1]\n",
      "19971   1.000    0.42    thin  [1, 0, 0]\n",
      "19972   0.620    0.62     fat  [0, 0, 1]\n",
      "19973   0.645    0.52     fat  [0, 0, 1]\n",
      "19974   0.845    0.74     fat  [0, 0, 1]\n",
      "19975   0.645    0.71     fat  [0, 0, 1]\n",
      "19976   0.695    0.56     fat  [0, 0, 1]\n",
      "19977   0.835    0.80     fat  [0, 0, 1]\n",
      "19978   0.790    0.50  normal  [0, 1, 0]\n",
      "19979   0.950    0.72  normal  [0, 1, 0]\n",
      "19980   0.845    0.36    thin  [1, 0, 0]\n",
      "19981   0.865    0.55    thin  [1, 0, 0]\n",
      "19982   0.705    0.37  normal  [0, 1, 0]\n",
      "19983   0.920    0.62    thin  [1, 0, 0]\n",
      "19984   0.845    0.63  normal  [0, 1, 0]\n",
      "19985   0.780    0.54  normal  [0, 1, 0]\n",
      "19986   0.690    0.77     fat  [0, 0, 1]\n",
      "19987   0.795    0.55  normal  [0, 1, 0]\n",
      "19988   0.700    0.71     fat  [0, 0, 1]\n",
      "19989   0.675    0.67     fat  [0, 0, 1]\n",
      "19990   0.675    0.48     fat  [0, 0, 1]\n",
      "19991   0.840    0.40    thin  [1, 0, 0]\n",
      "19992   0.765    0.67     fat  [0, 0, 1]\n",
      "19993   0.980    0.68    thin  [1, 0, 0]\n",
      "19994   0.875    0.54    thin  [1, 0, 0]\n",
      "19995   0.610    0.58     fat  [0, 0, 1]\n",
      "19996   0.965    0.69  normal  [0, 1, 0]\n",
      "19997   0.965    0.37    thin  [1, 0, 0]\n",
      "19998   0.975    0.51    thin  [1, 0, 0]\n",
      "19999   0.815    0.67  normal  [0, 1, 0]\n",
      "\n",
      "[20000 rows x 4 columns]\n"
     ]
    }
   ],
   "source": [
    "csv = pd.read_csv(\"bmi.csv\")\n",
    "bclass = {\"thin\": [1,0,0], \"normal\": [0,1,0], \"fat\": [0,0,1]}\n",
    "\n",
    "csv[\"label_pat\"] = csv[\"label\"].apply(lambda x : np.array(bclass[x]))\n",
    "csv[\"height\"] = csv[\"height\"] / 200\n",
    "csv[\"weight\"] = csv[\"weight\"] / 100\n",
    "print(csv)"
   ]
  },
  {
   "cell_type": "code",
   "execution_count": 7,
   "metadata": {},
   "outputs": [
    {
     "data": {
      "text/html": [
       "<div>\n",
       "<style>\n",
       "    .dataframe thead tr:only-child th {\n",
       "        text-align: right;\n",
       "    }\n",
       "\n",
       "    .dataframe thead th {\n",
       "        text-align: left;\n",
       "    }\n",
       "\n",
       "    .dataframe tbody tr th {\n",
       "        vertical-align: top;\n",
       "    }\n",
       "</style>\n",
       "<table border=\"1\" class=\"dataframe\">\n",
       "  <thead>\n",
       "    <tr style=\"text-align: right;\">\n",
       "      <th></th>\n",
       "      <th>height</th>\n",
       "      <th>weight</th>\n",
       "      <th>label</th>\n",
       "      <th>label_pat</th>\n",
       "    </tr>\n",
       "  </thead>\n",
       "  <tbody>\n",
       "  </tbody>\n",
       "</table>\n",
       "</div>"
      ],
      "text/plain": [
       "Empty DataFrame\n",
       "Columns: [height, weight, label, label_pat]\n",
       "Index: []"
      ]
     },
     "execution_count": 7,
     "metadata": {},
     "output_type": "execute_result"
    }
   ],
   "source": [
    "step=0\n",
    "rows = csv[step*10:(step+1)*10]\n",
    "x_pat = rows[[\"weight\",\"height\"]]\n",
    "y_ans = rows[\"label_pat\"]\n",
    "\n",
    "csv[0:0]"
   ]
  },
  {
   "cell_type": "code",
   "execution_count": 8,
   "metadata": {},
   "outputs": [
    {
     "data": {
      "text/plain": [
       "array([[ 0.,  0.,  1.],\n",
       "       [ 0.,  1.,  0.],\n",
       "       [ 1.,  0.,  0.],\n",
       "       [ 0.,  0.,  1.],\n",
       "       [ 1.,  0.,  0.],\n",
       "       [ 0.,  1.,  0.],\n",
       "       [ 1.,  0.,  0.],\n",
       "       [ 1.,  0.,  0.],\n",
       "       [ 1.,  0.,  0.]], dtype=float32)"
      ]
     },
     "execution_count": 8,
     "metadata": {},
     "output_type": "execute_result"
    }
   ],
   "source": [
    "step = 0\n",
    "rows = csv[1+step*10:(step+1)*10]\n",
    "x_pat = rows[[\"weight\",\"height\"]]\n",
    "y_ans = list(rows[\"label_pat\"])\n",
    "\n",
    "x = tf.placeholder(tf.float32, [None, 2], name=\"x\")\n",
    "y_ = tf.placeholder(tf.float32, [None, 3], name=\"y_\")\n",
    "\n",
    "sess = tf.Session()\n",
    "#sess.run(x, feed_dict={x: x_pat})\n",
    "sess.run(y_, feed_dict={y_: y_ans})"
   ]
  },
  {
   "cell_type": "code",
   "execution_count": 11,
   "metadata": {},
   "outputs": [
    {
     "name": "stdout",
     "output_type": "stream",
     "text": [
      "WARNING:tensorflow:From /Users/naver/anaconda/lib/python3.6/site-packages/tensorflow/python/util/tf_should_use.py:170: initialize_all_variables (from tensorflow.python.ops.variables) is deprecated and will be removed after 2017-03-02.\n",
      "Instructions for updating:\n",
      "Use `tf.global_variables_initializer` instead.\n",
      "step= 0 ce= 108.468 acc= 0.6328\n",
      "step= 100 ce= 80.4659 acc= 0.6908\n",
      "step= 200 ce= 69.1708 acc= 0.7804\n",
      "step= 300 ce= 62.4492 acc= 0.8346\n",
      "step= 400 ce= 57.8199 acc= 0.8614\n",
      "step= 500 ce= 54.3518 acc= 0.8834\n",
      "step= 600 ce= 51.6099 acc= 0.8978\n",
      "step= 700 ce= 49.3596 acc= 0.9048\n",
      "step= 800 ce= 47.4619 acc= 0.9138\n",
      "step= 900 ce= 45.828 acc= 0.9224\n",
      "step= 1000 ce= 44.3984 acc= 0.9296\n",
      "step= 1100 ce= 43.1311 acc= 0.9362\n",
      "step= 1200 ce= 41.9957 acc= 0.94\n",
      "step= 1300 ce= 40.9695 acc= 0.9456\n",
      "step= 1400 ce= 40.0349 acc= 0.9464\n",
      "step= 1500 ce= 39.1782 acc= 0.9524\n",
      "step= 1600 ce= 38.3886 acc= 0.9528\n",
      "step= 1700 ce= 37.6573 acc= 0.9552\n",
      "step= 1800 ce= 36.9769 acc= 0.9576\n",
      "step= 1900 ce= 36.3416 acc= 0.9592\n",
      "step= 2000 ce= 35.7462 acc= 0.9616\n",
      "step= 2100 ce= 35.1865 acc= 0.9624\n",
      "step= 2200 ce= 34.6589 acc= 0.963\n",
      "step= 2300 ce= 34.1602 acc= 0.9644\n",
      "step= 2400 ce= 33.6878 acc= 0.9646\n",
      "step= 2500 ce= 33.2393 acc= 0.965\n",
      "step= 2600 ce= 32.8126 acc= 0.9654\n",
      "step= 2700 ce= 32.406 acc= 0.9664\n",
      "step= 2800 ce= 32.0177 acc= 0.9662\n",
      "step= 2900 ce= 31.6465 acc= 0.967\n",
      "step= 3000 ce= 31.2909 acc= 0.9676\n",
      "step= 3100 ce= 30.95 acc= 0.9672\n",
      "step= 3200 ce= 30.6226 acc= 0.9674\n",
      "step= 3300 ce= 30.3079 acc= 0.9682\n",
      "step= 3400 ce= 30.0049 acc= 0.9692\n",
      "step= 3500 ce= 29.713 acc= 0.97\n",
      "step= 3600 ce= 29.4315 acc= 0.9696\n",
      "step= 3700 ce= 29.1597 acc= 0.9704\n",
      "step= 3800 ce= 28.897 acc= 0.9714\n",
      "step= 3900 ce= 28.643 acc= 0.9714\n",
      "step= 4000 ce= 28.3971 acc= 0.9714\n",
      "step= 4100 ce= 28.1589 acc= 0.9714\n",
      "step= 4200 ce= 27.928 acc= 0.9716\n",
      "step= 4300 ce= 27.704 acc= 0.9724\n",
      "step= 4400 ce= 27.4866 acc= 0.9726\n",
      "step= 4500 ce= 27.2754 acc= 0.9726\n",
      "step= 4600 ce= 27.0701 acc= 0.9732\n",
      "step= 4700 ce= 26.8704 acc= 0.9736\n",
      "step= 4800 ce= 26.6761 acc= 0.9738\n",
      "step= 4900 ce= 26.4869 acc= 0.9738\n"
     ]
    }
   ],
   "source": [
    "#플레이스 홀더 선언\n",
    "x    = tf.placeholder(tf.float32, [None, 2], name=\"x\") # 身長,体重のデータを入れる\n",
    "y_ = tf.placeholder(tf.float32, [None, 3]) # 答えのラベルを入れる\n",
    "\n",
    "# 변수 선언\n",
    "W = tf.Variable(tf.random_uniform([2, 3], -1.0, 1.0)); # 重み\n",
    "b = tf.Variable(tf.zeros([3])); # バイアス\n",
    "# ソフトマックス回帰を定義\n",
    "y = tf.nn.softmax(tf.matmul(x, W) + b)\n",
    "\n",
    "# 모델 훈련\n",
    "cross_entropy = -tf.reduce_sum(y_ * tf.log(tf.clip_by_value(y, 1e-10,1.0)))\n",
    "optimizer = tf.train.GradientDescentOptimizer(0.01)\n",
    "train = optimizer.minimize(cross_entropy)\n",
    "\n",
    "# 정답률 구현\n",
    "test_csv = csv[15000:20000]\n",
    "test_pat = test_csv[[\"weight\",\"height\"]]\n",
    "test_ans = list(test_csv[\"label_pat\"])\n",
    "# 세션 시작\n",
    "predict = tf.equal(tf.argmax(y, 1), tf.argmax(y_,1))\n",
    "acc = tf.reduce_mean(tf.cast(predict, \"float\"))\n",
    "\n",
    "# 학습\n",
    "sess = tf.Session()\n",
    "sess.run(tf.initialize_all_variables()) #변수 초기화\n",
    "\n",
    "for step in range(5000):\n",
    "    i = (step * 100) % 1000\n",
    "    rows = csv[1 + i : 1 + i + 100]\n",
    "    x_pat = rows[[\"weight\",\"height\"]]\n",
    "    y_ans = list(rows[\"label_pat\"])\n",
    "    fd = {x: x_pat, y_: y_ans}\n",
    "    sess.run(train, feed_dict=fd)\n",
    "    if step % 100 == 0:\n",
    "        e = sess.run(cross_entropy, feed_dict=fd)\n",
    "        a = sess.run(acc, feed_dict={x: test_pat, y_: test_ans})\n",
    "        print(\"step=\", step, \"ce=\", e, \"acc=\", a)"
   ]
  },
  {
   "cell_type": "code",
   "execution_count": 12,
   "metadata": {},
   "outputs": [
    {
     "name": "stdout",
     "output_type": "stream",
     "text": [
      "0.9482\n"
     ]
    }
   ],
   "source": [
    "# 최종 정답 구하기\n",
    "test_csv = csv[15000:20000]\n",
    "test_pat = test_csv[[\"weight\",\"height\"]]\n",
    "test_ans = list(test_csv[\"label_pat\"])\n",
    "predict = tf.equal(tf.argmax(y, 1), tf.argmax(y_,1))\n",
    "acc = tf.reduce_mean(tf.cast(predict, \"float\"))\n",
    "r = sess.run(acc, feed_dict={x: test_pat, y_:test_ans})\n",
    "print(r)"
   ]
  },
  {
   "cell_type": "code",
   "execution_count": 13,
   "metadata": {},
   "outputs": [
    {
     "name": "stdout",
     "output_type": "stream",
     "text": [
      "[1]\n"
     ]
    }
   ],
   "source": [
    "test = tf.argmax(y, 1)\n",
    "r = sess.run(test, feed_dict={x: [[70/100, 170/200]]})\n",
    "print(r)                                                        "
   ]
  }
 ],
 "metadata": {
  "kernelspec": {
   "display_name": "Python 3",
   "language": "python",
   "name": "python3"
  },
  "language_info": {
   "codemirror_mode": {
    "name": "ipython",
    "version": 3
   },
   "file_extension": ".py",
   "mimetype": "text/x-python",
   "name": "python",
   "nbconvert_exporter": "python",
   "pygments_lexer": "ipython3",
   "version": "3.6.1"
  }
 },
 "nbformat": 4,
 "nbformat_minor": 2
}
