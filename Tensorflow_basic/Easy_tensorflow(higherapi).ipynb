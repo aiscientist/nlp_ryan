{
 "cells": [
  {
   "cell_type": "markdown",
   "metadata": {},
   "source": [
    "https://medium.com/onfido-tech/higher-level-apis-in-tensorflow-67bfb602e6c0"
   ]
  },
  {
   "cell_type": "markdown",
   "metadata": {},
   "source": [
    "# Estimator\n",
    "\n",
    "Class이며, 모델, 학습 평가 될 사항들은 정함\n",
    "\n",
    "Pass사항은 3가지가 필요\n",
    "\n",
    "- parameter: 모델의 파라미터의 집합이어야 하며, dictionary가 될 수 도 있지만, HParams object (namedtuple)의 예로 보여주려함\n",
    "- configuration: 학습이 어떻게 평가되고 실행되는지 체크 후, 결과를 저장까지 시킴. RunConfig object에 진행됨. (Estimator가 학습에 필요한 모든 환경들을 실행한다.)\n",
    "- model function: python function이며, input을 기반으로 모델을 생성한다."
   ]
  },
  {
   "cell_type": "code",
   "execution_count": 1,
   "metadata": {
    "collapsed": true
   },
   "outputs": [],
   "source": [
    "import tensorflow as tf"
   ]
  },
  {
   "cell_type": "code",
   "execution_count": null,
   "metadata": {
    "collapsed": true
   },
   "outputs": [],
   "source": [
    "return tf.estimator.Estimator(\n",
    "        model_fn = model_fn, #first class function\n",
    "        params = params, #HPramas\n",
    "        config = run_config # Run Config\n",
    ")"
   ]
  },
  {
   "cell_type": "markdown",
   "metadata": {},
   "source": [
    "# Model function\n",
    "\n",
    "모델 함수는 Estimator의 first class function이다. 이에 대한 장점은 함수가 instantiating 될 때마다 반응 할 수 있다는 것.\n",
    "\n",
    "이게 무슨 뜻이냐 하면, 모델이 학습 중에 다양한 input을 받을 수 있다는 의미다. 예를 들면, training중에 validation testing을 동시에 할 수 있다는 것이다.\n",
    "\n",
    "\n",
    "\n",
    "\n",
    "* first class function\n",
    " - 1급 시민의 조건인, 변수를 담을수 있고, 인자 전달이 가능하며, 반환값을 전달하는 것에, 런타임 생성과 익명 생성이 추가 된 것\n"
   ]
  }
 ],
 "metadata": {
  "kernelspec": {
   "display_name": "Python 3",
   "language": "python",
   "name": "python3"
  },
  "language_info": {
   "codemirror_mode": {
    "name": "ipython",
    "version": 3
   },
   "file_extension": ".py",
   "mimetype": "text/x-python",
   "name": "python",
   "nbconvert_exporter": "python",
   "pygments_lexer": "ipython3",
   "version": "3.6.1"
  }
 },
 "nbformat": 4,
 "nbformat_minor": 2
}
