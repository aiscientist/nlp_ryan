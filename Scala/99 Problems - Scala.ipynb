{
 "cells": [
  {
   "cell_type": "code",
   "execution_count": 5,
   "metadata": {},
   "outputs": [
    {
     "data": {
      "text/plain": [
       "defined \u001b[32mobject\u001b[39m \u001b[36mP01\u001b[39m"
      ]
     },
     "execution_count": 5,
     "metadata": {},
     "output_type": "execute_result"
    }
   ],
   "source": [
    "// P01 (*) Find the last element of a list.\n",
    "//     Example:\n",
    "//     scala> last(List(1, 1, 2, 3, 5, 8))\n",
    "//     res0: Int = 8\n",
    "\n",
    "object P01 {\n",
    "    // Pattern Match Study\n",
    "    def lastBuiltin[A](ls: List[A]): A = ls.last\n",
    "    \n",
    "    def lastRecursive[A](ls: List[A]): A = ls match {\n",
    "        case h :: Nil => h // case where there is some element p and tail is the empty list(Nil)\n",
    "        case _ :: tail => lastRecursive(tail)\n",
    "        case _ => throw new NoSuchElementException\n",
    "    }\n",
    "}\n",
    "\n",
    "P01.lastRecursive(List(1,1,2,3,5,8))\n",
    "P01.lastBuiltin(List(1,1,2,3,5,8))"
   ]
  },
  {
   "cell_type": "code",
   "execution_count": 6,
   "metadata": {},
   "outputs": [
    {
     "data": {
      "text/plain": [
       "\u001b[36mres5_0\u001b[39m: \u001b[32mInt\u001b[39m = \u001b[32m8\u001b[39m\n",
       "\u001b[36mres5_1\u001b[39m: \u001b[32mInt\u001b[39m = \u001b[32m8\u001b[39m"
      ]
     },
     "execution_count": 6,
     "metadata": {},
     "output_type": "execute_result"
    }
   ],
   "source": []
  },
  {
   "cell_type": "code",
   "execution_count": null,
   "metadata": {},
   "outputs": [],
   "source": []
  }
 ],
 "metadata": {
  "kernelspec": {
   "display_name": "Scala",
   "language": "scala",
   "name": "scala"
  },
  "language_info": {
   "codemirror_mode": "text/x-scala",
   "file_extension": ".scala",
   "mimetype": "text/x-scala",
   "name": "scala211",
   "nbconvert_exporter": "script",
   "pygments_lexer": "scala",
   "version": "2.11.11"
  }
 },
 "nbformat": 4,
 "nbformat_minor": 2
}
