{
 "cells": [
  {
   "cell_type": "markdown",
   "metadata": {},
   "source": [
    "# Placeholder Syn"
   ]
  },
  {
   "cell_type": "code",
   "execution_count": 8,
   "metadata": {},
   "outputs": [
    {
     "data": {
      "text/plain": [
       "\u001b[36mr\u001b[39m: \u001b[32mRange\u001b[39m.\u001b[32mInclusive\u001b[39m = \u001b[33mRange\u001b[39m(\u001b[32m1\u001b[39m, \u001b[32m2\u001b[39m, \u001b[32m3\u001b[39m, \u001b[32m4\u001b[39m, \u001b[32m5\u001b[39m, \u001b[32m6\u001b[39m, \u001b[32m7\u001b[39m, \u001b[32m8\u001b[39m, \u001b[32m9\u001b[39m, \u001b[32m10\u001b[39m)\n",
       "\u001b[36mres7_1\u001b[39m: \u001b[32mcollection\u001b[39m.\u001b[32mimmutable\u001b[39m.\u001b[32mIndexedSeq\u001b[39m[\u001b[32mInt\u001b[39m] = \u001b[33mVector\u001b[39m(\u001b[32m11\u001b[39m, \u001b[32m12\u001b[39m, \u001b[32m13\u001b[39m, \u001b[32m14\u001b[39m, \u001b[32m15\u001b[39m, \u001b[32m16\u001b[39m, \u001b[32m17\u001b[39m, \u001b[32m18\u001b[39m, \u001b[32m19\u001b[39m, \u001b[32m20\u001b[39m)\n",
       "\u001b[36mres7_2\u001b[39m: \u001b[32mInt\u001b[39m = \u001b[32m55\u001b[39m"
      ]
     },
     "execution_count": 8,
     "metadata": {},
     "output_type": "execute_result"
    }
   ],
   "source": [
    "val r = 1 to 10\n",
    "\n",
    "r.map(x => x + 10)\n",
    "\n",
    "r.reduce( (x,y) => x + y ) //1+2 = 3 -> 3 + 3 = 6 -> 6 + 4 = 10"
   ]
  },
  {
   "cell_type": "code",
   "execution_count": 10,
   "metadata": {},
   "outputs": [
    {
     "data": {
      "text/plain": [
       "\u001b[36mres9_0\u001b[39m: \u001b[32mcollection\u001b[39m.\u001b[32mimmutable\u001b[39m.\u001b[32mIndexedSeq\u001b[39m[\u001b[32mInt\u001b[39m] = \u001b[33mVector\u001b[39m(\u001b[32m11\u001b[39m, \u001b[32m12\u001b[39m, \u001b[32m13\u001b[39m, \u001b[32m14\u001b[39m, \u001b[32m15\u001b[39m, \u001b[32m16\u001b[39m, \u001b[32m17\u001b[39m, \u001b[32m18\u001b[39m, \u001b[32m19\u001b[39m, \u001b[32m20\u001b[39m)\n",
       "\u001b[36mres9_1\u001b[39m: \u001b[32mInt\u001b[39m = \u001b[32m55\u001b[39m"
      ]
     },
     "execution_count": 10,
     "metadata": {},
     "output_type": "execute_result"
    }
   ],
   "source": [
    "// r.map( x + 10) // Fail\n",
    "// Placeholder Syntax, fill in the blank\n",
    "\n",
    "r.map( _ + 10 )\n",
    "r.reduce( _ + _ )"
   ]
  },
  {
   "cell_type": "code",
   "execution_count": 13,
   "metadata": {},
   "outputs": [
    {
     "data": {
      "text/plain": [
       "\u001b[36mres12_0\u001b[39m: \u001b[32mcollection\u001b[39m.\u001b[32mimmutable\u001b[39m.\u001b[32mIndexedSeq\u001b[39m[\u001b[32mInt\u001b[39m] = \u001b[33mVector\u001b[39m(\u001b[32m6\u001b[39m, \u001b[32m7\u001b[39m, \u001b[32m8\u001b[39m, \u001b[32m9\u001b[39m, \u001b[32m10\u001b[39m)\n",
       "\u001b[36mres12_1\u001b[39m: \u001b[32mInt\u001b[39m = \u001b[32m1\u001b[39m"
      ]
     },
     "execution_count": 13,
     "metadata": {},
     "output_type": "execute_result"
    }
   ],
   "source": [
    "// r.filter( x => x > 5 ) // convert this into placeholder\n",
    "r.filter( _ > 5 )\n",
    "// r.reduce( _ + _ / _ min _ ) // number of underscores and number of param must match"
   ]
  },
  {
   "cell_type": "markdown",
   "metadata": {},
   "source": [
    "# Function Values"
   ]
  },
  {
   "cell_type": "code",
   "execution_count": 15,
   "metadata": {},
   "outputs": [
    {
     "data": {
      "text/plain": [
       "\u001b[36mf\u001b[39m: \u001b[32mInt\u001b[39m => \u001b[32mInt\u001b[39m = <function1>"
      ]
     },
     "execution_count": 15,
     "metadata": {},
     "output_type": "execute_result"
    }
   ],
   "source": [
    "val f = (x:Int) => x + 10 // replace class\n",
    "// f is function value\n",
    "// code is ...\n",
    "// val f = new Function1[Int,Int] { def apply(x:Int): Int x + 10 }\n",
    "// 1. Assign it ot a value\n",
    "// 2. pass it to a higher order function\n",
    "// 3. Return it from a higer ordre func"
   ]
  },
  {
   "cell_type": "markdown",
   "metadata": {},
   "source": [
    "# Local function\n",
    "\n",
    " - Local function = private methods 내부 함수"
   ]
  },
  {
   "cell_type": "code",
   "execution_count": 7,
   "metadata": {},
   "outputs": [
    {
     "data": {
      "text/plain": [
       "\u001b[36mmyFun\u001b[39m: (\u001b[32mInt\u001b[39m, \u001b[32mString\u001b[39m) => \u001b[32mString\u001b[39m = <function2>"
      ]
     },
     "execution_count": 7,
     "metadata": {},
     "output_type": "execute_result"
    }
   ],
   "source": [
    "//  1. Function Literal\n",
    "//  ([<parameterName>:<type>[, ....]]) => {\n",
    "//     function body\n",
    "//     return [expr]\n",
    "//     }:[return type\n",
    "    \n",
    "// val f = (x:Int) => {x + 5}\n",
    "// val f = (x:Int) => {x + 5}:Int\n",
    "\n",
    "// myFun(5, \"-\") return -5-\n",
    "// val myFun:(Int, String)=>String=(x:Int, s:String) => {s + x + s}:String // Full Version\n",
    "val myFun = (x:Int, s:String) => {s + x + s}\n",
    "\n",
    "//  2. Function\n",
    "//  def functionName([<parameterName>:<type>[, ....]]) :[return type] = {\n",
    "//     function body\n",
    "//     return [expr]\n",
    "//     }\n"
   ]
  },
  {
   "cell_type": "markdown",
   "metadata": {},
   "source": [
    "## Where do we use function literals?\n",
    "\n",
    "- Pass it to a higher order functions\n",
    "- Return it from higher order functions"
   ]
  },
  {
   "cell_type": "code",
   "execution_count": 13,
   "metadata": {},
   "outputs": [
    {
     "data": {
      "text/plain": [
       "\u001b[36mcustomers\u001b[39m: \u001b[32mList\u001b[39m[\u001b[32mString\u001b[39m] = \u001b[33mList\u001b[39m(\u001b[32m\"donald\"\u001b[39m, \u001b[32m\"kim\"\u001b[39m, \u001b[32m\"lee\"\u001b[39m, \u001b[32m\"shin\"\u001b[39m)\n",
       "\u001b[36mres12_1\u001b[39m: \u001b[32mList\u001b[39m[\u001b[32mString\u001b[39m] = \u001b[33mList\u001b[39m(\u001b[32m\"Donald\"\u001b[39m, \u001b[32m\"Kim\"\u001b[39m, \u001b[32m\"Lee\"\u001b[39m, \u001b[32m\"Shin\"\u001b[39m)\n",
       "\u001b[36mdata\u001b[39m: \u001b[32mList\u001b[39m[\u001b[32mInt\u001b[39m] = \u001b[33mList\u001b[39m(\u001b[32m-250\u001b[39m, \u001b[32m12\u001b[39m, \u001b[32m241\u001b[39m, \u001b[32m44\u001b[39m, \u001b[32m22\u001b[39m)\n",
       "\u001b[36mres12_3\u001b[39m: \u001b[32mList\u001b[39m[\u001b[32mDouble\u001b[39m] = \u001b[33mList\u001b[39m(\u001b[32m0.0\u001b[39m, \u001b[32m0.5336048879837068\u001b[39m, \u001b[32m1.0\u001b[39m, \u001b[32m0.5987780040733197\u001b[39m, \u001b[32m0.5539714867617108\u001b[39m)\n",
       "\u001b[36mres12_4\u001b[39m: \u001b[32mList\u001b[39m[\u001b[32mInt\u001b[39m] = \u001b[33mList\u001b[39m(\u001b[32m-240\u001b[39m, \u001b[32m22\u001b[39m, \u001b[32m251\u001b[39m, \u001b[32m54\u001b[39m, \u001b[32m32\u001b[39m)\n",
       "\u001b[36mres12_5\u001b[39m: \u001b[32mList\u001b[39m[\u001b[32mInt\u001b[39m] = \u001b[33mList\u001b[39m(\u001b[32m-240\u001b[39m, \u001b[32m22\u001b[39m, \u001b[32m251\u001b[39m, \u001b[32m54\u001b[39m, \u001b[32m32\u001b[39m)\n",
       "\u001b[36mres12_6\u001b[39m: \u001b[32mList\u001b[39m[\u001b[32mInt\u001b[39m] = \u001b[33mList\u001b[39m(\u001b[32m-240\u001b[39m, \u001b[32m22\u001b[39m, \u001b[32m251\u001b[39m, \u001b[32m54\u001b[39m, \u001b[32m32\u001b[39m)"
      ]
     },
     "execution_count": 13,
     "metadata": {},
     "output_type": "execute_result"
    }
   ],
   "source": [
    "// Capitalize\n",
    "val customers = List( \"donald\", \"kim\", \"lee\", \"shin\" )\n",
    "\n",
    "customers.map((x:String) => x.capitalize)\n",
    "\n",
    "// Normalize\n",
    "val data = List(-250, 12, 241, 44, 22)\n",
    "\n",
    "data.map( (x:Int) => 1d*(x-data.min)/(data.max-data.min)*1d)\n",
    "data.map( (x:Int) => x + 10 )\n",
    "// data.map( (x:Double) => x + 10 ) // scala will complain\n",
    "\n",
    "data.map( (x) => x + 10 )\n",
    "data.map( x => x + 10 ) //predict type"
   ]
  },
  {
   "cell_type": "markdown",
   "metadata": {},
   "source": [
    "## Key Takeaways\n",
    "\n",
    "2. You can assign the func. literal to a value\n",
    "3. You can specify the type of the function value (But remember to specify the full type (Input type => Output type)\n",
    "4. The type annotation for the arguments of a function lietral is optional when you are working with Higher Order functions on a collection.\n",
    "5. When Scala can infer the type, a pair of parenthesis around the single input argument is optional."
   ]
  },
  {
   "cell_type": "code",
   "execution_count": 4,
   "metadata": {},
   "outputs": [
    {
     "data": {
      "text/plain": [
       "\u001b[36mres3\u001b[39m: \u001b[32mInt\u001b[39m = \u001b[32m10\u001b[39m"
      ]
     },
     "execution_count": 4,
     "metadata": {},
     "output_type": "execute_result"
    }
   ],
   "source": []
  },
  {
   "cell_type": "code",
   "execution_count": null,
   "metadata": {},
   "outputs": [],
   "source": []
  }
 ],
 "metadata": {
  "kernelspec": {
   "display_name": "Scala",
   "language": "scala",
   "name": "scala"
  },
  "language_info": {
   "codemirror_mode": "text/x-scala",
   "file_extension": ".scala",
   "mimetype": "text/x-scala",
   "name": "scala211",
   "nbconvert_exporter": "script",
   "pygments_lexer": "scala",
   "version": "2.11.11"
  }
 },
 "nbformat": 4,
 "nbformat_minor": 2
}
