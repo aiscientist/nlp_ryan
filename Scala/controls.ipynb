{
 "cells": [
  {
   "cell_type": "markdown",
   "metadata": {},
   "source": [
    "## if else scala"
   ]
  },
  {
   "cell_type": "code",
   "execution_count": 2,
   "metadata": {},
   "outputs": [
    {
     "data": {
      "text/plain": [
       "defined \u001b[32mfunction\u001b[39m \u001b[36mtest\u001b[39m\n",
       "defined \u001b[32mfunction\u001b[39m \u001b[36mtest2\u001b[39m"
      ]
     },
     "execution_count": 2,
     "metadata": {},
     "output_type": "execute_result"
    }
   ],
   "source": [
    "// Impreatvie style\n",
    "def test(i:Int):String = {\n",
    "    var s:String = null\n",
    "    if (i==1)\n",
    "        s = \"one\"\n",
    "    else\n",
    "        s = \"something else\"\n",
    "    return s\n",
    "}\n",
    "\n",
    "// functional style: if else자체가 값을 리턴\n",
    "def test2(i:Int) =\n",
    "    if (i==1) \"one\" else \"something else\""
   ]
  },
  {
   "cell_type": "code",
   "execution_count": 4,
   "metadata": {},
   "outputs": [
    {
     "data": {
      "text/plain": [
       "defined \u001b[32mfunction\u001b[39m \u001b[36mtest3\u001b[39m"
      ]
     },
     "execution_count": 4,
     "metadata": {},
     "output_type": "execute_result"
    }
   ],
   "source": [
    "// nested if\n",
    "\n",
    "def test3(i:Int) = \n",
    "    if (i==1) \"one\"\n",
    "        else if (i==2) \"two\"\n",
    "        else if (i==3) \"three\"\n",
    "    else \"something else\""
   ]
  },
  {
   "cell_type": "code",
   "execution_count": 5,
   "metadata": {},
   "outputs": [
    {
     "data": {
      "text/plain": [
       "\u001b[36mi\u001b[39m: \u001b[32mInt\u001b[39m = \u001b[32m5\u001b[39m\n",
       "\u001b[36ms\u001b[39m: \u001b[32mString\u001b[39m = \u001b[32m\"something else\"\u001b[39m"
      ]
     },
     "execution_count": 5,
     "metadata": {},
     "output_type": "execute_result"
    }
   ],
   "source": [
    "// type of s?\n",
    "\n",
    "val i = 5\n",
    "val s = if (i==1) \"one\" else \"something else\""
   ]
  },
  {
   "cell_type": "code",
   "execution_count": 6,
   "metadata": {},
   "outputs": [
    {
     "name": "stderr",
     "output_type": "stream",
     "text": [
      "cmd6.sc:2: s is already defined as value s\n",
      "val s = if (i==1) 1 else println(\"something else\")\n",
      "    ^"
     ]
    },
    {
     "ename": "",
     "evalue": "",
     "output_type": "error",
     "traceback": [
      "Compilation Failed"
     ]
    }
   ],
   "source": [
    "val s = if (i==1) println(\"one\") else println(\"something else\")\n",
    "val s = if (i==1) 1 else println(\"something else\")"
   ]
  },
  {
   "cell_type": "markdown",
   "metadata": {},
   "source": [
    "## match case"
   ]
  },
  {
   "cell_type": "code",
   "execution_count": 1,
   "metadata": {},
   "outputs": [
    {
     "data": {
      "text/plain": [
       "defined \u001b[32mfunction\u001b[39m \u001b[36mmatchX\u001b[39m"
      ]
     },
     "execution_count": 1,
     "metadata": {},
     "output_type": "execute_result"
    }
   ],
   "source": [
    "// underscore placeholder matches everything\n",
    "\n",
    "def matchX(x:Int) = {\n",
    "    x match {\n",
    "        case 1 => println(\"one\")\n",
    "        case 2 => println(\"2\")\n",
    "        case 3 => println(\"3\")\n",
    "        case _ => println(\"4\")\n",
    "    }\n",
    "}"
   ]
  },
  {
   "cell_type": "code",
   "execution_count": 2,
   "metadata": {},
   "outputs": [
    {
     "data": {
      "text/plain": [
       "defined \u001b[32mfunction\u001b[39m \u001b[36mmatchX2\u001b[39m"
      ]
     },
     "execution_count": 2,
     "metadata": {},
     "output_type": "execute_result"
    }
   ],
   "source": [
    "def matchX2(x:Int) = {\n",
    "    x match {\n",
    "        case 1 => {println(\"one\")\n",
    "                   println(\"print it again - one\")} //curly braclet optional\n",
    "        case 2 => println(\"two\")\n",
    "                  println(\"print it again - two\")\n",
    "        case 3 => println(\"Case Three\")\n",
    "        case _ => println(\"Default case\")\n",
    "    }\n",
    "}"
   ]
  },
  {
   "cell_type": "code",
   "execution_count": 5,
   "metadata": {},
   "outputs": [
    {
     "name": "stdout",
     "output_type": "stream",
     "text": [
      "2\n"
     ]
    }
   ],
   "source": [
    "val s = matchX(2)"
   ]
  },
  {
   "cell_type": "markdown",
   "metadata": {},
   "source": [
    "## While loop\n",
    "\n",
    "  - return units"
   ]
  },
  {
   "cell_type": "code",
   "execution_count": 6,
   "metadata": {},
   "outputs": [
    {
     "data": {
      "text/plain": [
       "defined \u001b[32mfunction\u001b[39m \u001b[36mloopN\u001b[39m"
      ]
     },
     "execution_count": 6,
     "metadata": {},
     "output_type": "execute_result"
    }
   ],
   "source": [
    "def loopN(i:Int) = {\n",
    "    var j = 1\n",
    "    while  (j<=i) {\n",
    "        println(j)\n",
    "        j = j+1\n",
    "    }\n",
    "}"
   ]
  },
  {
   "cell_type": "code",
   "execution_count": 7,
   "metadata": {},
   "outputs": [
    {
     "data": {
      "text/plain": [
       "defined \u001b[32mfunction\u001b[39m \u001b[36mloopDo\u001b[39m"
      ]
     },
     "execution_count": 7,
     "metadata": {},
     "output_type": "execute_result"
    }
   ],
   "source": [
    "// Possible to put conditional statemetn\n",
    "\n",
    "def loopDo(a:Int) = {\n",
    "    var b = 1 //val은 변하지 않음\n",
    "    do {\n",
    "        println(a)\n",
    "        b = b+1\n",
    "    } while (b <= a)\n",
    "}"
   ]
  },
  {
   "cell_type": "markdown",
   "metadata": {},
   "source": [
    "## How to create your own loop controls"
   ]
  },
  {
   "cell_type": "markdown",
   "metadata": {},
   "source": [
    "![title](fig/loop condition.png)\n",
    "\n",
    "![title](fig/condition2.png)\n",
    "\n",
    "- in order to use control functions\n",
    "\n",
    "\n",
    "\n",
    "![title](fig/condition3.png)"
   ]
  },
  {
   "cell_type": "code",
   "execution_count": 7,
   "metadata": {
    "collapsed": true
   },
   "outputs": [
    {
     "name": "stderr",
     "output_type": "stream",
     "text": [
      "cmd7.sc:1: not found: value vai\n",
      "val res7_0 = vai i = 0 \n",
      "             ^cmd7.sc:2: not found: value repeat\n",
      "    val res7_1 = repeat {\n",
      "                 ^cmd7.sc:3: not found: value i\n",
      "        println(\"Value of i is\" + i)\n",
      "                                  ^cmd7.sc:4: not found: value i\n",
      "        i = i + 1\n",
      "        ^cmd7.sc:5: not found: value i\n",
      "    } until(i>3)\n",
      "            ^cmd7.sc:15: not found: value repleat\n",
      "    repleat {\n",
      "    ^"
     ]
    },
    {
     "ename": "",
     "evalue": "",
     "output_type": "error",
     "traceback": [
      "Compilation Failed"
     ]
    }
   ],
   "source": [
    "// function currying\n",
    "\n",
    "// def curried_function(p1:Int)(p2:Int)\n",
    "\n",
    "// def repeat(body: => Unit)(condition: => Boolean) = {\n",
    "//     do {\n",
    "//         body\n",
    "//     } while(!condition)\n",
    "// }\n",
    "\n",
    "// import scala.langauge.reflectiveCalls\n",
    "// def repeat(body: => Unit) new {\n",
    "//     def until(condition:=> Boolean) = {\n",
    "//     do {\n",
    "//         body\n",
    "//     } while(!condition)\n",
    "// } until _\n",
    "// \n",
    "\n",
    "// 같은 함수\n",
    "\n",
    "vai i = 0 \n",
    "    repeat {\n",
    "        println(\"Value of i is\" + i)\n",
    "        i = i + 1\n",
    "    } until(i>3)\n",
    "\n",
    "\n",
    "def testUntil = {\n",
    "    var i = 0\n",
    "    repleat {\n",
    "        println(\"Value of i is\" + i)\n",
    "        i = i + 1\n",
    "    } until(i>3)\n",
    "}"
   ]
  },
  {
   "cell_type": "code",
   "execution_count": null,
   "metadata": {},
   "outputs": [],
   "source": []
  }
 ],
 "metadata": {
  "kernelspec": {
   "display_name": "Scala",
   "language": "scala",
   "name": "scala"
  },
  "language_info": {
   "codemirror_mode": "text/x-scala",
   "file_extension": ".scala",
   "mimetype": "text/x-scala",
   "name": "scala211",
   "nbconvert_exporter": "script",
   "pygments_lexer": "scala",
   "version": "2.11.11"
  }
 },
 "nbformat": 4,
 "nbformat_minor": 2
}
