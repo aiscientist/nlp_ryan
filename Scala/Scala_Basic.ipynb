{
 "cells": [
  {
   "cell_type": "markdown",
   "metadata": {},
   "source": [
    "## 스칼라 기초 문법\n",
    "\n",
    "https://jdm.kr/blog/85"
   ]
  },
  {
   "cell_type": "markdown",
   "metadata": {},
   "source": [
    "## 2. Functions"
   ]
  },
  {
   "cell_type": "code",
   "execution_count": 0,
   "metadata": {},
   "outputs": [
    {
     "ename": "",
     "evalue": "",
     "output_type": "error",
     "traceback": [
      "<console>:1: ':' expected but ')' found.",
      "def f(x) = println(x) //Bad",
      "       ^",
      "<console>:3: identifier expected but eof found.",
      "// 2.3: alias",
      "             ^",
      "<console>:1: '=' expected but eof found.",
      "def f(x:R) // call by value:값에 의한 호출",
      "                                    ^",
      "<console>:1: '=' expected but eof found.",
      "def f(x: => R) // call by name (lazy param): 이름에 의한 호출",
      "                                                      ^"
     ]
    }
   ],
   "source": [
    "// 2.1\n",
    "def f(x: Int) = { x * x } // Good\n",
    "def f(x: Int) { x * x } // BAD\n",
    "\n",
    "// 2.2: define type\n",
    "def f(x: Any) = println(x) //Good\n",
    "def f(x) = println(x) //Bad\n",
    "\n",
    "// 2.3: alias\n",
    "type R = Double\n",
    "\n",
    "// 2.4: define call type\n",
    "def f(x:R) // call by value:값에 의한 호출\n",
    "def f(x: => R) // call by name (lazy param): 이름에 의한 호출"
   ]
  },
  {
   "cell_type": "code",
   "execution_count": 3,
   "metadata": {
    "scrolled": true
   },
   "outputs": [
    {
     "data": {
      "text/plain": [
       "\u001b[36mres2_0\u001b[39m: \u001b[32mcollection\u001b[39m.\u001b[32mimmutable\u001b[39m.\u001b[32mIndexedSeq\u001b[39m[\u001b[32mInt\u001b[39m] = \u001b[33mVector\u001b[39m(\u001b[32m2\u001b[39m, \u001b[32m4\u001b[39m, \u001b[32m6\u001b[39m, \u001b[32m8\u001b[39m, \u001b[32m10\u001b[39m)\n",
       "\u001b[36mres2_1\u001b[39m: \u001b[32mInt\u001b[39m = \u001b[32m15\u001b[39m\n",
       "\u001b[36mres2_2\u001b[39m: \u001b[32mcollection\u001b[39m.\u001b[32mimmutable\u001b[39m.\u001b[32mIndexedSeq\u001b[39m[\u001b[32mInt\u001b[39m] = \u001b[33mVector\u001b[39m(\u001b[32m1\u001b[39m, \u001b[32m4\u001b[39m, \u001b[32m9\u001b[39m, \u001b[32m16\u001b[39m, \u001b[32m25\u001b[39m)"
      ]
     },
     "execution_count": 3,
     "metadata": {},
     "output_type": "execute_result"
    }
   ],
   "source": [
    "// 2.5 익명함수\n",
    "// (x:R) => x * x\n",
    "\n",
    "// 2.6 익명함수2\n",
    "(1 to 5).map(_*2) // underscore means arg value\n",
    "(1 to 5).reduceLeft(_+_)\n",
    "\n",
    "// 2.7 익명함수3\n",
    "(1 to 5).map( x => x*x )\n",
    "\n",
    "// 2.8 익명함수4\n",
    "(1 to 5).map(2*) //Good\n",
    "(1 to 5).map(*2) //BAD\n",
    "\n",
    "a"
   ]
  },
  {
   "cell_type": "markdown",
   "metadata": {},
   "source": [
    "## 3. Packages"
   ]
  },
  {
   "cell_type": "code",
   "execution_count": null,
   "metadata": {},
   "outputs": [],
   "source": [
    "// 3.1 wildcard\n",
    "import scala.collection._ // import java.util.*\n",
    "\n",
    "// 3.2"
   ]
  }
 ],
 "metadata": {
  "kernelspec": {
   "display_name": "Scala",
   "language": "scala",
   "name": "scala"
  },
  "language_info": {
   "codemirror_mode": "text/x-scala",
   "file_extension": ".scala",
   "mimetype": "text/x-scala",
   "name": "scala211",
   "nbconvert_exporter": "script",
   "pygments_lexer": "scala",
   "version": "2.11.11"
  }
 },
 "nbformat": 4,
 "nbformat_minor": 2
}
