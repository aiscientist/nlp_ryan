{
 "cells": [
  {
   "cell_type": "code",
   "execution_count": 1,
   "metadata": {},
   "outputs": [
    {
     "data": {
      "text/plain": [
       "defined \u001b[32mfunction\u001b[39m \u001b[36mdiv\u001b[39m"
      ]
     },
     "execution_count": 1,
     "metadata": {},
     "output_type": "execute_result"
    }
   ],
   "source": [
    "def div(x:Double, y:Double):Double = x/y"
   ]
  },
  {
   "cell_type": "markdown",
   "metadata": {},
   "source": [
    "# Partially Applied Functions"
   ]
  },
  {
   "cell_type": "markdown",
   "metadata": {},
   "source": [
    "![title](fig/partial.png)"
   ]
  },
  {
   "cell_type": "code",
   "execution_count": 3,
   "metadata": {},
   "outputs": [
    {
     "data": {
      "text/plain": [
       "defined \u001b[32mfunction\u001b[39m \u001b[36mdiv\u001b[39m\n",
       "\u001b[36minv\u001b[39m: \u001b[32mDouble\u001b[39m => \u001b[32mDouble\u001b[39m = <function1>"
      ]
     },
     "execution_count": 3,
     "metadata": {},
     "output_type": "execute_result"
    }
   ],
   "source": [
    "def div(x:Double, y:Double):Double = x/y // Division function\n",
    "\n",
    "val inv = div(1, _:Double) // show new function\n",
    "\n",
    "// inv(y:Double) -> inv(10) -> 0.1"
   ]
  },
  {
   "cell_type": "markdown",
   "metadata": {},
   "source": [
    "![title](fig/calc.png)"
   ]
  },
  {
   "cell_type": "code",
   "execution_count": 6,
   "metadata": {},
   "outputs": [
    {
     "data": {
      "text/plain": [
       "defined \u001b[32mfunction\u001b[39m \u001b[36msumOfX\u001b[39m\n",
       "\u001b[36mres5_1\u001b[39m: \u001b[32mInt\u001b[39m = \u001b[32m15\u001b[39m\n",
       "\u001b[36mres5_2\u001b[39m: \u001b[32mInt\u001b[39m = \u001b[32m55\u001b[39m\n",
       "\u001b[36mres5_3\u001b[39m: \u001b[32mInt\u001b[39m = \u001b[32m225\u001b[39m"
      ]
     },
     "execution_count": 6,
     "metadata": {},
     "output_type": "execute_result"
    }
   ],
   "source": [
    "// fulfill 3 requirements with higher order func\n",
    "\n",
    "def sumOfX(f: Int => Int, a:Int, b:Int):Int =\n",
    "if (a>b) 0 else f(a) + sumOfX(f, a+1, b)\n",
    "\n",
    "sumOfX(x=>x, 1,5)\n",
    "sumOfX(x=>x*x, 1,5)\n",
    "sumOfX(x=>x*x*x, 1,5)"
   ]
  },
  {
   "cell_type": "code",
   "execution_count": 8,
   "metadata": {},
   "outputs": [
    {
     "data": {
      "text/plain": [
       "\u001b[36msumOfCubes\u001b[39m: (\u001b[32mInt\u001b[39m, \u001b[32mInt\u001b[39m) => \u001b[32mInt\u001b[39m = <function2>\n",
       "\u001b[36mres7_1\u001b[39m: \u001b[32mInt\u001b[39m = \u001b[32m225\u001b[39m"
      ]
     },
     "execution_count": 8,
     "metadata": {},
     "output_type": "execute_result"
    }
   ],
   "source": [
    "// why partially applied function?\n",
    "// why do I need to build a ...? different type?\n",
    "\n",
    "val sumOfCubes = sumOfX(x => x*x*x, _:Int, _:Int)\n",
    "sumOfCubes(1,5)"
   ]
  },
  {
   "cell_type": "code",
   "execution_count": 11,
   "metadata": {},
   "outputs": [
    {
     "data": {
      "text/plain": [
       "defined \u001b[32mfunction\u001b[39m \u001b[36msum\u001b[39m\n",
       "\u001b[36ms3\u001b[39m: (\u001b[32mInt\u001b[39m, \u001b[32mInt\u001b[39m, \u001b[32mInt\u001b[39m) => \u001b[32mInt\u001b[39m = <function3>\n",
       "\u001b[36ms4\u001b[39m: (\u001b[32mInt\u001b[39m, \u001b[32mInt\u001b[39m, \u001b[32mInt\u001b[39m) => \u001b[32mInt\u001b[39m = <function3>"
      ]
     },
     "execution_count": 11,
     "metadata": {},
     "output_type": "execute_result"
    }
   ],
   "source": [
    "// you can escape all the args\n",
    "\n",
    "def sum(x:Int, y:Int, z:Int) = x+y+z\n",
    "\n",
    "val s3 = sum(_:Int, _:Int, _:Int) //def sum is function and s3 is function value\n",
    "val s4 = sum _ // s3 and s4 same cuz _ means all values are same"
   ]
  },
  {
   "cell_type": "markdown",
   "metadata": {},
   "source": [
    "## Function Currying\n",
    "\n",
    " - syntatic sugar: simple and concise"
   ]
  },
  {
   "cell_type": "code",
   "execution_count": null,
   "metadata": {},
   "outputs": [],
   "source": [
    "def sumOfX(f: Int => Int, a:Int, b:Int):Int =\n",
    "if (a>b) 0 else f(a) + sumOfX(f, a+1, b)\n",
    "\n",
    "sumOfX(x=>x*x, 1,5)\n",
    "val si = sumOfX(x=>x, _:Int, _:Int)\n",
    "val si = sumOFX({\n",
    "    x=> println(\"Squaring\")\n",
    "    x * x\n",
    "}, _:Int, _:Int )"
   ]
  },
  {
   "cell_type": "code",
   "execution_count": 12,
   "metadata": {
    "collapsed": true
   },
   "outputs": [
    {
     "name": "stderr",
     "output_type": "stream",
     "text": [
      "cmd12.sc:6: si is already defined as value si\n",
      "val si = sumOFX({\n",
      "    ^cmd12.sc:15: si is already defined as value si\n",
      "val si = sumOfX(x=>x*x*x) _\n",
      "    ^cmd12.sc:16: si is already defined as value si\n",
      "val si = sumOfX {\n",
      "    ^cmd12.sc:6: not found: value sumOFX\n",
      "val si = sumOFX({\n",
      "         ^"
     ]
    },
    {
     "ename": "",
     "evalue": "",
     "output_type": "error",
     "traceback": [
      "Compilation Failed"
     ]
    }
   ],
   "source": [
    "// functing currying way\n",
    "\n",
    "def sumOfX(f:Int => Int)(a:Int, b:Int):Int =\n",
    "if (a>b) 0 else f(a) + sumOfX(f)(a+1, b)\n",
    "\n",
    "sumOfX(x=>x*x)(1,5)\n",
    "val si = sumOfX(x=>x*x*x) _\n",
    "val si = sumOfX {\n",
    "    x => println(\"Squaring\")\n",
    "    x * x\n",
    "} _\n",
    "\n",
    "// much more readable"
   ]
  }
 ],
 "metadata": {
  "kernelspec": {
   "display_name": "Scala",
   "language": "scala",
   "name": "scala"
  },
  "language_info": {
   "codemirror_mode": "text/x-scala",
   "file_extension": ".scala",
   "mimetype": "text/x-scala",
   "name": "scala211",
   "nbconvert_exporter": "script",
   "pygments_lexer": "scala",
   "version": "2.11.11"
  }
 },
 "nbformat": 4,
 "nbformat_minor": 2
}
