{
 "cells": [
  {
   "cell_type": "markdown",
   "metadata": {},
   "source": [
    "## if else scala"
   ]
  },
  {
   "cell_type": "code",
   "execution_count": 2,
   "metadata": {},
   "outputs": [
    {
     "data": {
      "text/plain": [
       "defined \u001b[32mfunction\u001b[39m \u001b[36mtest\u001b[39m\n",
       "defined \u001b[32mfunction\u001b[39m \u001b[36mtest2\u001b[39m"
      ]
     },
     "execution_count": 2,
     "metadata": {},
     "output_type": "execute_result"
    }
   ],
   "source": [
    "// Impreatvie style\n",
    "def test(i:Int):String = {\n",
    "    var s:String = null\n",
    "    if (i==1)\n",
    "        s = \"one\"\n",
    "    else\n",
    "        s = \"something else\"\n",
    "    return s\n",
    "}\n",
    "\n",
    "// functional style: if else자체가 값을 리턴\n",
    "def test2(i:Int) =\n",
    "    if (i==1) \"one\" else \"something else\""
   ]
  },
  {
   "cell_type": "code",
   "execution_count": 4,
   "metadata": {},
   "outputs": [
    {
     "data": {
      "text/plain": [
       "defined \u001b[32mfunction\u001b[39m \u001b[36mtest3\u001b[39m"
      ]
     },
     "execution_count": 4,
     "metadata": {},
     "output_type": "execute_result"
    }
   ],
   "source": [
    "// nested if\n",
    "\n",
    "def test3(i:Int) = \n",
    "    if (i==1) \"one\"\n",
    "        else if (i==2) \"two\"\n",
    "        else if (i==3) \"three\"\n",
    "    else \"something else\""
   ]
  },
  {
   "cell_type": "code",
   "execution_count": 5,
   "metadata": {},
   "outputs": [
    {
     "data": {
      "text/plain": [
       "\u001b[36mi\u001b[39m: \u001b[32mInt\u001b[39m = \u001b[32m5\u001b[39m\n",
       "\u001b[36ms\u001b[39m: \u001b[32mString\u001b[39m = \u001b[32m\"something else\"\u001b[39m"
      ]
     },
     "execution_count": 5,
     "metadata": {},
     "output_type": "execute_result"
    }
   ],
   "source": [
    "// type of s?\n",
    "\n",
    "val i = 5\n",
    "val s = if (i==1) \"one\" else \"something else\""
   ]
  },
  {
   "cell_type": "code",
   "execution_count": 6,
   "metadata": {},
   "outputs": [
    {
     "name": "stderr",
     "output_type": "stream",
     "text": [
      "cmd6.sc:2: s is already defined as value s\n",
      "val s = if (i==1) 1 else println(\"something else\")\n",
      "    ^"
     ]
    },
    {
     "ename": "",
     "evalue": "",
     "output_type": "error",
     "traceback": [
      "Compilation Failed"
     ]
    }
   ],
   "source": [
    "val s = if (i==1) println(\"one\") else println(\"something else\")\n",
    "val s = if (i==1) 1 else println(\"something else\")"
   ]
  },
  {
   "cell_type": "markdown",
   "metadata": {},
   "source": [
    "## match case"
   ]
  },
  {
   "cell_type": "code",
   "execution_count": 1,
   "metadata": {},
   "outputs": [
    {
     "data": {
      "text/plain": [
       "defined \u001b[32mfunction\u001b[39m \u001b[36mmatchX\u001b[39m"
      ]
     },
     "execution_count": 1,
     "metadata": {},
     "output_type": "execute_result"
    }
   ],
   "source": [
    "// underscore placeholder matches everything\n",
    "\n",
    "def matchX(x:Int) = {\n",
    "    x match {\n",
    "        case 1 => println(\"one\")\n",
    "        case 2 => println(\"2\")\n",
    "        case 3 => println(\"3\")\n",
    "        case _ => println(\"4\")\n",
    "    }\n",
    "}"
   ]
  },
  {
   "cell_type": "code",
   "execution_count": 2,
   "metadata": {},
   "outputs": [
    {
     "data": {
      "text/plain": [
       "defined \u001b[32mfunction\u001b[39m \u001b[36mmatchX2\u001b[39m"
      ]
     },
     "execution_count": 2,
     "metadata": {},
     "output_type": "execute_result"
    }
   ],
   "source": [
    "def matchX2(x:Int) = {\n",
    "    x match {\n",
    "        case 1 => {println(\"one\")\n",
    "                   println(\"print it again - one\")} //curly braclet optional\n",
    "        case 2 => println(\"two\")\n",
    "                  println(\"print it again - two\")\n",
    "        case 3 => println(\"Case Three\")\n",
    "        case _ => println(\"Default case\")\n",
    "    }\n",
    "}"
   ]
  },
  {
   "cell_type": "code",
   "execution_count": 5,
   "metadata": {},
   "outputs": [
    {
     "name": "stdout",
     "output_type": "stream",
     "text": [
      "2\n"
     ]
    }
   ],
   "source": [
    "val s = matchX(2)"
   ]
  },
  {
   "cell_type": "markdown",
   "metadata": {},
   "source": [
    "## While loop\n",
    "\n",
    "  - return units"
   ]
  },
  {
   "cell_type": "code",
   "execution_count": 6,
   "metadata": {},
   "outputs": [
    {
     "data": {
      "text/plain": [
       "defined \u001b[32mfunction\u001b[39m \u001b[36mloopN\u001b[39m"
      ]
     },
     "execution_count": 6,
     "metadata": {},
     "output_type": "execute_result"
    }
   ],
   "source": [
    "def loopN(i:Int) = {\n",
    "    var j = 1\n",
    "    while  (j<=i) {\n",
    "        println(j)\n",
    "        j = j+1\n",
    "    }\n",
    "}"
   ]
  },
  {
   "cell_type": "code",
   "execution_count": 7,
   "metadata": {},
   "outputs": [
    {
     "data": {
      "text/plain": [
       "defined \u001b[32mfunction\u001b[39m \u001b[36mloopDo\u001b[39m"
      ]
     },
     "execution_count": 7,
     "metadata": {},
     "output_type": "execute_result"
    }
   ],
   "source": [
    "// Possible to put conditional statemetn\n",
    "\n",
    "def loopDo(a:Int) = {\n",
    "    var b = 1 //val은 변하지 않음\n",
    "    do {\n",
    "        println(a)\n",
    "        b = b+1\n",
    "    } while (b <= a)\n",
    "}"
   ]
  },
  {
   "cell_type": "markdown",
   "metadata": {},
   "source": [
    "## How to create your own loop controls"
   ]
  },
  {
   "cell_type": "markdown",
   "metadata": {},
   "source": [
    "![title](fig/loop condition.png)\n",
    "\n",
    "![title](fig/condition2.png)\n",
    "\n",
    "- in order to use control functions\n",
    "\n",
    "\n",
    "\n",
    "![title](fig/condition3.png)"
   ]
  },
  {
   "cell_type": "code",
   "execution_count": 7,
   "metadata": {
    "collapsed": true
   },
   "outputs": [
    {
     "name": "stderr",
     "output_type": "stream",
     "text": [
      "cmd7.sc:1: not found: value vai\n",
      "val res7_0 = vai i = 0 \n",
      "             ^cmd7.sc:2: not found: value repeat\n",
      "    val res7_1 = repeat {\n",
      "                 ^cmd7.sc:3: not found: value i\n",
      "        println(\"Value of i is\" + i)\n",
      "                                  ^cmd7.sc:4: not found: value i\n",
      "        i = i + 1\n",
      "        ^cmd7.sc:5: not found: value i\n",
      "    } until(i>3)\n",
      "            ^cmd7.sc:15: not found: value repleat\n",
      "    repleat {\n",
      "    ^"
     ]
    },
    {
     "ename": "",
     "evalue": "",
     "output_type": "error",
     "traceback": [
      "Compilation Failed"
     ]
    }
   ],
   "source": [
    "// function currying\n",
    "\n",
    "// def curried_function(p1:Int)(p2:Int)\n",
    "\n",
    "// def repeat(body: => Unit)(condition: => Boolean) = {\n",
    "//     do {\n",
    "//         body\n",
    "//     } while(!condition)\n",
    "// }\n",
    "\n",
    "// import scala.langauge.reflectiveCalls\n",
    "// def repeat(body: => Unit) new {\n",
    "//     def until(condition:=> Boolean) = {\n",
    "//     do {\n",
    "//         body\n",
    "//     } while(!condition)\n",
    "// } until _\n",
    "// \n",
    "\n",
    "// 같은 함수\n",
    "\n",
    "vai i = 0 \n",
    "    repeat {\n",
    "        println(\"Value of i is\" + i)\n",
    "        i = i + 1\n",
    "    } until(i>3)\n",
    "\n",
    "\n",
    "def testUntil = {\n",
    "    var i = 0\n",
    "    repleat {\n",
    "        println(\"Value of i is\" + i)\n",
    "        i = i + 1\n",
    "    } until(i>3)\n",
    "}"
   ]
  },
  {
   "cell_type": "markdown",
   "metadata": {},
   "source": [
    "# What is higher order abstraction\n",
    "\n",
    "  hide something\n",
    "  \n",
    "  1. Data abstraction: hide data type\n",
    "  2. Control abstraction: hide implementation of exe. flow\n",
    "  \n",
    "control abstraction example\n",
    "\n",
    "1. open the file\n",
    "2. read it line by line\n",
    "3. perform some operations on each line\n",
    "4. make sure the file is closed at the end\n",
    "\n",
    "-> withTextFile( fileLocation ) map ( doThisWork )\n",
    "-> repeat ( doThisWork ) until ( condition )"
   ]
  },
  {
   "cell_type": "markdown",
   "metadata": {},
   "source": [
    "## Higher Order Control Abstraction in Scala Collection\n",
    "    - foreach\n",
    "    - map\n",
    "    - flat map\n",
    "    - filter and with Filter"
   ]
  },
  {
   "cell_type": "code",
   "execution_count": 2,
   "metadata": {},
   "outputs": [
    {
     "name": "stdout",
     "output_type": "stream",
     "text": [
      "Printing india\n",
      "Printing korea\n",
      "Printing USA\n"
     ]
    },
    {
     "data": {
      "text/plain": [
       "\u001b[36ml\u001b[39m: \u001b[32mList\u001b[39m[\u001b[32mString\u001b[39m] = \u001b[33mList\u001b[39m(\u001b[32m\"india\"\u001b[39m, \u001b[32m\"korea\"\u001b[39m, \u001b[32m\"USA\"\u001b[39m)\n",
       "defined \u001b[32mfunction\u001b[39m \u001b[36mf1\u001b[39m"
      ]
     },
     "execution_count": 2,
     "metadata": {},
     "output_type": "execute_result"
    }
   ],
   "source": [
    "// foreach: it does not return anything\n",
    "\n",
    "val l = List(\"india\", \"korea\", \"USA\")\n",
    "\n",
    "def f1(s:String) = {\n",
    "    println(\"Printing \" + s)\n",
    "    \"Returning\" + s //return이 되도, 돌려주는게 없음\n",
    "}\n",
    "\n",
    "l.foreach(f1)"
   ]
  },
  {
   "cell_type": "code",
   "execution_count": 3,
   "metadata": {},
   "outputs": [
    {
     "name": "stdout",
     "output_type": "stream",
     "text": [
      "Printing india\n",
      "Printing korea\n",
      "Printing USA\n"
     ]
    },
    {
     "data": {
      "text/plain": [
       "\u001b[36mres2\u001b[39m: \u001b[32mList\u001b[39m[\u001b[32mString\u001b[39m] = \u001b[33mList\u001b[39m(\u001b[32m\"Returningindia\"\u001b[39m, \u001b[32m\"Returningkorea\"\u001b[39m, \u001b[32m\"ReturningUSA\"\u001b[39m)"
      ]
     },
     "execution_count": 3,
     "metadata": {},
     "output_type": "execute_result"
    }
   ],
   "source": [
    "//map: return each elements compared to foreach\n",
    "l.map(f1)"
   ]
  },
  {
   "cell_type": "code",
   "execution_count": 7,
   "metadata": {},
   "outputs": [
    {
     "data": {
      "text/plain": [
       "defined \u001b[32mfunction\u001b[39m \u001b[36mf3\u001b[39m\n",
       "\u001b[36ml2\u001b[39m: \u001b[32mList\u001b[39m[\u001b[32mString\u001b[39m] = \u001b[33mList\u001b[39m(\u001b[32m\"hello hi\"\u001b[39m, \u001b[32m\"why why bro\"\u001b[39m)\n",
       "\u001b[36mres6_2\u001b[39m: \u001b[32mList\u001b[39m[\u001b[32mArray\u001b[39m[\u001b[32mString\u001b[39m]] = \u001b[33mList\u001b[39m(\u001b[33mArray\u001b[39m(\u001b[32m\"india\"\u001b[39m), \u001b[33mArray\u001b[39m(\u001b[32m\"korea\"\u001b[39m), \u001b[33mArray\u001b[39m(\u001b[32m\"USA\"\u001b[39m))\n",
       "\u001b[36mres6_3\u001b[39m: \u001b[32mList\u001b[39m[\u001b[32mString\u001b[39m] = \u001b[33mList\u001b[39m(\u001b[32m\"india\"\u001b[39m, \u001b[32m\"korea\"\u001b[39m, \u001b[32m\"USA\"\u001b[39m)"
      ]
     },
     "execution_count": 7,
     "metadata": {},
     "output_type": "execute_result"
    }
   ],
   "source": [
    "//flatMap\n",
    "\n",
    "def f3(s:String) = s.split(\" \")\n",
    "\n",
    "val l2 = List(\"hello hi\", \"why why bro\")\n",
    "\n",
    "l.map(f3)\n",
    "\n",
    "l.flatMap(f3) // split one more time"
   ]
  },
  {
   "cell_type": "code",
   "execution_count": 10,
   "metadata": {},
   "outputs": [
    {
     "data": {
      "text/plain": [
       "\u001b[36mres9_0\u001b[39m: \u001b[32mList\u001b[39m[\u001b[32mString\u001b[39m] = \u001b[33mList\u001b[39m(\u001b[32m\"india\"\u001b[39m)\n",
       "\u001b[36mres9_1\u001b[39m: \u001b[32mList\u001b[39m[\u001b[32mString\u001b[39m] = \u001b[33mList\u001b[39m(\u001b[32m\"India\"\u001b[39m)"
      ]
     },
     "execution_count": 10,
     "metadata": {},
     "output_type": "execute_result"
    }
   ],
   "source": [
    "// filter: boolean condition에 따라서 정리\n",
    "l.filter( x => x.startsWith(\"i\"))\n",
    "\n",
    "// withFilter: filter는 collection을 return. 하지만 withFilter는 관련 기능 없\n",
    "// withFilter는 efficient = Lazy Method이기 때문이다.\n",
    "l.withFilter( x => x.startsWith(\"i\")).map(x => x.capitalize)"
   ]
  },
  {
   "cell_type": "markdown",
   "metadata": {},
   "source": [
    "## for comprehension | for loop | for expression\n",
    "\n",
    " - for ( seq ) yield { expr }\n",
    " - for ( seq ) { expr } (yield is optional)\n",
    " \n",
    " -> for (i <- 1 to 10 ) {\n",
    "     statement-1;\n",
    "     statement-2;\n",
    "     }"
   ]
  },
  {
   "cell_type": "code",
   "execution_count": 3,
   "metadata": {
    "collapsed": true
   },
   "outputs": [
    {
     "name": "stdout",
     "output_type": "stream",
     "text": [
      "1\n",
      "2\n",
      "3\n",
      "4\n",
      "5\n",
      "6\n",
      "7\n",
      "8\n",
      "9\n",
      "10\n",
      "1\n",
      "2\n",
      "3\n",
      "4\n",
      "5\n",
      "Delhi\n",
      "Washington\n",
      "I don't know\n",
      "Tokyo\n"
     ]
    },
    {
     "data": {
      "text/plain": [
       "\u001b[36mn\u001b[39m: \u001b[32mRange\u001b[39m.\u001b[32mInclusive\u001b[39m = \u001b[33mRange\u001b[39m(\u001b[32m1\u001b[39m, \u001b[32m2\u001b[39m, \u001b[32m3\u001b[39m, \u001b[32m4\u001b[39m, \u001b[32m5\u001b[39m, \u001b[32m6\u001b[39m, \u001b[32m7\u001b[39m, \u001b[32m8\u001b[39m, \u001b[32m9\u001b[39m, \u001b[32m10\u001b[39m)"
      ]
     },
     "execution_count": 3,
     "metadata": {},
     "output_type": "execute_result"
    }
   ],
   "source": [
    "val n = 1 to 10\n",
    "\n",
    "for ( i <- n ) println(i)\n",
    "for (i <- 1 to 5 ) println(i)\n",
    "\n",
    "// you need a collection for \"for\"\n",
    "// collection is just data str type such as list set ....\n",
    "\n",
    "// List iterator\n",
    "for ( country <- List(\"India\", \"USA\", \"China\", \"Japan\") ) {\n",
    "    country match {\n",
    "        case \"India\" => println(\"Delhi\")\n",
    "        case \"USA\" => println(\"Washington\" )\n",
    "        case \"Japan\" => println(\"Tokyo\")\n",
    "        case _ => println(\"I don't know\" )\n",
    "\n",
    "    }\n",
    "}"
   ]
  },
  {
   "cell_type": "code",
   "execution_count": 4,
   "metadata": {},
   "outputs": [
    {
     "name": "stdout",
     "output_type": "stream",
     "text": [
      "List(India, USA, China, Japan)\n"
     ]
    },
    {
     "data": {
      "text/plain": [
       "\u001b[36mcountries\u001b[39m: \u001b[32mList\u001b[39m[\u001b[32mString\u001b[39m] = \u001b[33mList\u001b[39m(\u001b[32m\"India\"\u001b[39m, \u001b[32m\"USA\"\u001b[39m, \u001b[32m\"China\"\u001b[39m, \u001b[32m\"Japan\"\u001b[39m)"
      ]
     },
     "execution_count": 4,
     "metadata": {},
     "output_type": "execute_result"
    }
   ],
   "source": [
    "// Question val countries = List(\"India\", \"USA\", \"China\", \"Japan\")\n",
    "// val countries = List(\"India\", \"USA\", \"China\", \"Japan\") -> (India, USA, China, Japan) w/o for loop\n",
    "\n",
    "val countries = List(\"India\", \"USA\", \"China\", \"Japan\")"
   ]
  },
  {
   "cell_type": "code",
   "execution_count": 7,
   "metadata": {},
   "outputs": [
    {
     "name": "stdout",
     "output_type": "stream",
     "text": [
      "Delhi\n",
      "Washington\n",
      "I don't know\n",
      "Tokyo\n"
     ]
    },
    {
     "data": {
      "text/plain": [
       "defined \u001b[32mfunction\u001b[39m \u001b[36mcount\u001b[39m\n",
       "\u001b[36mres6_1\u001b[39m: \u001b[32mList\u001b[39m[\u001b[32mString\u001b[39m] = \u001b[33mList\u001b[39m(\u001b[32m\"India\"\u001b[39m, \u001b[32m\"USA\"\u001b[39m, \u001b[32m\"China\"\u001b[39m, \u001b[32m\"Japan\"\u001b[39m)"
      ]
     },
     "execution_count": 7,
     "metadata": {},
     "output_type": "execute_result"
    }
   ],
   "source": [
    "//틀림\n",
    "\n",
    "def count(s:String) = s.split(\" \")\n",
    "countries.flatMap(count)\n",
    "\n",
    "// 정답: 문제를 잘못 이해함. 그냥 for 대신 다른걸 사용해서 활용하라는 문제였음\n",
    "countries.foreach { country => \n",
    "        country match {\n",
    "            case \"India\" => println(\"Delhi\")\n",
    "            case \"USA\" => println(\"Washington\" )\n",
    "            case \"Japan\" => println(\"Tokyo\")\n",
    "            case _ => println(\"I don't know\" )\n",
    "        }}"
   ]
  },
  {
   "cell_type": "markdown",
   "metadata": {},
   "source": [
    "무슨 차이임?\n",
    "\n",
    "- for는 syntatic sugar임\n",
    "- foreach/map/flatMap/withFilter 로 변환함\n",
    "- for는 코드가 매우 복잡할 때 사용하면 좋다"
   ]
  },
  {
   "cell_type": "code",
   "execution_count": 11,
   "metadata": {},
   "outputs": [
    {
     "data": {
      "text/plain": [
       "\u001b[36mres10\u001b[39m: \u001b[32mList\u001b[39m[\u001b[32mString\u001b[39m] = \u001b[33mList\u001b[39m(\u001b[32m\"Delhi\"\u001b[39m, \u001b[32m\"Washington\"\u001b[39m, \u001b[32m\"I don't know\"\u001b[39m, \u001b[32m\"Tokyo\"\u001b[39m)"
      ]
     },
     "execution_count": 11,
     "metadata": {},
     "output_type": "execute_result"
    }
   ],
   "source": [
    "// value 로 print하기\n",
    "\n",
    "for ( country <- List(\"India\", \"USA\", \"China\", \"Japan\") ) yield {\n",
    "    country match {\n",
    "        case \"India\" => \"Delhi\"\n",
    "        case \"USA\" => \"Washington\"\n",
    "        case \"Japan\" => \"Tokyo\"\n",
    "        case _ => \"I don't know\"\n",
    "    }\n",
    "}"
   ]
  },
  {
   "cell_type": "code",
   "execution_count": 13,
   "metadata": {
    "collapsed": true
   },
   "outputs": [
    {
     "name": "stdout",
     "output_type": "stream",
     "text": [
      "i=1 j=1\n",
      "i=1 j=2\n",
      "i=2 j=1\n",
      "i=2 j=2\n",
      "i=3 j=1\n",
      "i=3 j=2\n",
      "i=1 j=2\n",
      "i=2 j=2\n",
      "i=3 j=2\n"
     ]
    }
   ],
   "source": [
    "for (i <- 1 to 3; j <- 1 to 2) println (s\"i=$i j=$j\")\n",
    "for {i <- 1 to 3\n",
    "     j <- 1 to 2; if(j%2==0)\n",
    "    }\n",
    "     println (s\"i=$i j=$j\")"
   ]
  },
  {
   "cell_type": "code",
   "execution_count": null,
   "metadata": {},
   "outputs": [],
   "source": []
  }
 ],
 "metadata": {
  "kernelspec": {
   "display_name": "Scala",
   "language": "scala",
   "name": "scala"
  },
  "language_info": {
   "codemirror_mode": "text/x-scala",
   "file_extension": ".scala",
   "mimetype": "text/x-scala",
   "name": "scala211",
   "nbconvert_exporter": "script",
   "pygments_lexer": "scala",
   "version": "2.11.11"
  }
 },
 "nbformat": 4,
 "nbformat_minor": 2
}
