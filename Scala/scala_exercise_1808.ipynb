{
 "cells": [
  {
   "cell_type": "code",
   "execution_count": 5,
   "metadata": {},
   "outputs": [
    {
     "data": {
      "text/plain": [
       "defined \u001b[32mfunction\u001b[39m \u001b[36mdoWith\u001b[39m\n",
       "\u001b[36mcall\u001b[39m: \u001b[32mInt\u001b[39m = \u001b[32m3\u001b[39m\n",
       "\u001b[36mcall2\u001b[39m: \u001b[32mInt\u001b[39m = \u001b[32m3\u001b[39m\n",
       "\u001b[36mcall3\u001b[39m: \u001b[32mInt\u001b[39m = \u001b[32m3\u001b[39m\n",
       "defined \u001b[32mfunction\u001b[39m \u001b[36madd1\u001b[39m\n",
       "\u001b[36madd2\u001b[39m: (\u001b[32mInt\u001b[39m, \u001b[32mInt\u001b[39m) => \u001b[32mInt\u001b[39m = <function2>"
      ]
     },
     "execution_count": 5,
     "metadata": {},
     "output_type": "execute_result"
    }
   ],
   "source": [
    "// 익명함수 1\n",
    "\n",
    "def doWith(f: (Int, Int) => Int) = {\n",
    "    f(1,2)\n",
    "}\n",
    "\n",
    "val call = doWith((x: Int, y: Int) => x+y)\n",
    "val call2 = doWith((x,y) => x+y)\n",
    "val call3 = doWith(_ + _)\n",
    "\n",
    "// 익명함수 2\n",
    "def add1(x:Int, y:Int) = x + y\n",
    "val add2 = (x:Int, y:Int) => x + y\n",
    "// val add3(Int,Int) => Int = _ + _"
   ]
  },
  {
   "cell_type": "code",
   "execution_count": 9,
   "metadata": {},
   "outputs": [
    {
     "name": "stdout",
     "output_type": "stream",
     "text": [
      "(1,10)\n",
      "(1,11)\n",
      "(1,12)\n",
      "(2,10)\n",
      "(2,11)\n",
      "(2,12)\n",
      "(3,10)\n",
      "(3,11)\n",
      "(3,12)\n"
     ]
    },
    {
     "data": {
      "text/plain": [
       "\u001b[36mi\u001b[39m: \u001b[32mInt\u001b[39m = \u001b[32m10\u001b[39m\n",
       "\u001b[36msum\u001b[39m: \u001b[32mInt\u001b[39m = \u001b[32m45\u001b[39m"
      ]
     },
     "execution_count": 9,
     "metadata": {},
     "output_type": "execute_result"
    }
   ],
   "source": [
    "// 반복문\n",
    "\n",
    "// while\n",
    "\n",
    "var i, sum = 0\n",
    "while ( i < 10 ) {\n",
    "    sum += i\n",
    "    i += 1\n",
    "}\n",
    "\n",
    "// for문\n",
    "sum = 0\n",
    "for ( i <- 0 until 10) {\n",
    "    sum += 1\n",
    "}\n",
    "\n",
    "// Scala like \n",
    "sum = (0 until 10).sum\n",
    "\n",
    "for(a <- 1 to 3; b <- 10 to 12) {\n",
    "    println(a,b)\n",
    "}"
   ]
  },
  {
   "cell_type": "code",
   "execution_count": 20,
   "metadata": {},
   "outputs": [
    {
     "name": "stdout",
     "output_type": "stream",
     "text": [
      "Array(1, 2, 3)\n"
     ]
    },
    {
     "data": {
      "text/plain": [
       "defined \u001b[32mfunction\u001b[39m \u001b[36mprintArray\u001b[39m\n",
       "\u001b[36marray1\u001b[39m: \u001b[32mArray\u001b[39m[\u001b[32mInt\u001b[39m] = \u001b[33mArray\u001b[39m(\u001b[32m1\u001b[39m, \u001b[32m2\u001b[39m, \u001b[32m3\u001b[39m)\n",
       "\u001b[36mitemArray\u001b[39m: \u001b[32mInt\u001b[39m = \u001b[32m1\u001b[39m\n",
       "\u001b[36mres19_4\u001b[39m: \u001b[32mInt\u001b[39m = \u001b[32m0\u001b[39m\n",
       "\u001b[36mdiffArray\u001b[39m: \u001b[32mArray\u001b[39m[\u001b[32mInt\u001b[39m] = \u001b[33mArray\u001b[39m(\u001b[32m1\u001b[39m, \u001b[32m4\u001b[39m)\n",
       "\u001b[36mpersonArray\u001b[39m: \u001b[32mArray\u001b[39m[(\u001b[32mString\u001b[39m, \u001b[32mInt\u001b[39m)] = \u001b[33mArray\u001b[39m((\u001b[32m\"수현\"\u001b[39m, \u001b[32m1\u001b[39m), (\u001b[32m\"문별\"\u001b[39m, \u001b[32m2\u001b[39m), (\u001b[32m\"휘인\"\u001b[39m, \u001b[32m3\u001b[39m))\n",
       "defined \u001b[32mfunction\u001b[39m \u001b[36mfindByName\u001b[39m\n",
       "\u001b[36mfindSolar\u001b[39m: (\u001b[32mString\u001b[39m, \u001b[32mInt\u001b[39m) = (\u001b[32m\"수현\"\u001b[39m, \u001b[32m1\u001b[39m)\n",
       "\u001b[36mfindSun\u001b[39m: (\u001b[32mString\u001b[39m, \u001b[32mInt\u001b[39m) = (\u001b[32m\"화사\"\u001b[39m, \u001b[32m4\u001b[39m)"
      ]
     },
     "execution_count": 20,
     "metadata": {},
     "output_type": "execute_result"
    }
   ],
   "source": [
    "// Array\n",
    "\n",
    "def printArray[K](array:Array[K]) = println(array.mkString(\"Array(\", \", \", \")\"))\n",
    "\n",
    "val array1 = Array(1,2,3)\n",
    "printArray(array1)\n",
    "\n",
    "val itemArray = array1(0)\n",
    "\n",
    "// 값으로 찾기\n",
    "array1.indexOf(1)\n",
    "\n",
    "// 다른 값 찾아오기\n",
    "val diffArray = Array(1,2,3,4).diff(Array(2,3))\n",
    "\n",
    "val personArray = Array((\"수현\", 1), (\"문별\", 2), (\"휘인\", 3))\n",
    "\n",
    "// ⑥ Find 메소드를 이용해서 findByName이라는 메소드 생성\n",
    "// Find는 조건에 맞는 값을 찾으면 검색을 중단\n",
    "// getOrElse는 일치하는 값이 없을 경우 넘겨줄 기본 값\n",
    "// getOrElse가 없을때 일치하는 값이 없으면 None\n",
    "\n",
    "def findByName(name: String) = personArray.find(_._1 == name).getOrElse((\"화사\", 4))\n",
    "val findSolar = findByName(\"수현\")\n",
    "val findSun = findByName(\"태양\")"
   ]
  },
  {
   "cell_type": "code",
   "execution_count": null,
   "metadata": {},
   "outputs": [],
   "source": []
  }
 ],
 "metadata": {
  "kernelspec": {
   "display_name": "Scala",
   "language": "scala",
   "name": "scala"
  },
  "language_info": {
   "codemirror_mode": "text/x-scala",
   "file_extension": ".scala",
   "mimetype": "text/x-scala",
   "name": "scala211",
   "nbconvert_exporter": "script",
   "pygments_lexer": "scala",
   "version": "2.11.11"
  }
 },
 "nbformat": 4,
 "nbformat_minor": 2
}
