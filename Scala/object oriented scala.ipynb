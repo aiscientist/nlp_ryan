{
 "cells": [
  {
   "cell_type": "markdown",
   "metadata": {},
   "source": [
    "##\n",
    "\n",
    "1. Default Constructor\n",
    "2. Primary Constructor\n",
    "3. Auxiliary Constructor"
   ]
  },
  {
   "cell_type": "markdown",
   "metadata": {},
   "source": [
    "## Object oriented intro"
   ]
  },
  {
   "cell_type": "code",
   "execution_count": 1,
   "metadata": {},
   "outputs": [
    {
     "data": {
      "text/plain": [
       "defined \u001b[32mclass\u001b[39m \u001b[36mCustomer\u001b[39m"
      ]
     },
     "execution_count": 1,
     "metadata": {},
     "output_type": "execute_result"
    }
   ],
   "source": [
    "class Customer (var id:Int, var name:String)"
   ]
  },
  {
   "cell_type": "code",
   "execution_count": 4,
   "metadata": {},
   "outputs": [
    {
     "data": {
      "text/plain": [
       "\u001b[36mc\u001b[39m: \u001b[32mCustomer\u001b[39m = $sess.cmd0Wrapper$Helper$Customer@4113819b\n",
       "\u001b[36mres3_1\u001b[39m: \u001b[32mInt\u001b[39m = \u001b[32m101\u001b[39m\n",
       "\u001b[36mres3_2\u001b[39m: \u001b[32mString\u001b[39m = \u001b[32m\"hello\"\u001b[39m"
      ]
     },
     "execution_count": 4,
     "metadata": {},
     "output_type": "execute_result"
    }
   ],
   "source": [
    "val c = new Customer(101, \"hello\")\n",
    "c.id\n",
    "c.name\n",
    "\n",
    "c.id = 102\n",
    "c.name = \"hello\"\n",
    "\n",
    "// public보다는 private을 선호함\n",
    "// scala가 훨신 easy for function"
   ]
  },
  {
   "cell_type": "markdown",
   "metadata": {},
   "source": [
    "## Scala Classes\n",
    "\n",
    "1. class Circle {}\n",
    "2. abstract class Circle {}\n",
    "3. private class Circle {}\n",
    "4. protected class Circle {}\n",
    "5. public class Circle {} -> no (public by default)\n",
    "\n",
    "![title](fig/scala_classes_1.png)"
   ]
  },
  {
   "cell_type": "code",
   "execution_count": 8,
   "metadata": {},
   "outputs": [
    {
     "data": {
      "text/plain": [
       "defined \u001b[32mclass\u001b[39m \u001b[36mCircle\u001b[39m\n",
       "\u001b[36mc\u001b[39m: \u001b[32mwrapper\u001b[39m.\u001b[32mwrapper\u001b[39m.\u001b[32mCircle\u001b[39m = $sess.cmd7Wrapper$Helper$Circle@43f1e654\n",
       "\u001b[36mres7_2\u001b[39m: \u001b[32mInt\u001b[39m = \u001b[32m0\u001b[39m"
      ]
     },
     "execution_count": 8,
     "metadata": {},
     "output_type": "execute_result"
    }
   ],
   "source": [
    "class Circle {\n",
    "    //both public\n",
    "    var radius = 0 // field, generator two public class radius / radius_ (reader & writer)\n",
    "    def draw = { println(\"Drawing the circle of radius \" + radius) } // method\n",
    "}\n",
    "\n",
    "val c = new Circle\n",
    "c.radius\n",
    "\n",
    "//instead of c.radius_=(5) getter setter가 없음\n",
    "c.radius=5"
   ]
  },
  {
   "cell_type": "code",
   "execution_count": 12,
   "metadata": {},
   "outputs": [
    {
     "data": {
      "text/plain": [
       "defined \u001b[32mclass\u001b[39m \u001b[36mCircle\u001b[39m\n",
       "\u001b[36mc\u001b[39m: \u001b[32mwrapper\u001b[39m.\u001b[32mwrapper\u001b[39m.\u001b[32mCircle\u001b[39m = $sess.cmd11Wrapper$Helper$Circle@b0e188d"
      ]
     },
     "execution_count": 12,
     "metadata": {},
     "output_type": "execute_result"
    }
   ],
   "source": [
    "class Circle {\n",
    "    private var p_radius = 0 // generator two public class radius / radius_ (reader & writer)\n",
    "    \n",
    "    //read method: 리드?\n",
    "    def radius = p_radius\n",
    "    \n",
    "    //Writer method: 무슨 차이냐\n",
    "    def radius_=(r:Int) = {\n",
    "        if(r<0) throw new Exception(\"-ive not allowed\") else p_radius=r\n",
    "    }\n",
    "    \n",
    "    def setRadius(r:Int) = {\n",
    "        if(r < 0 ) throw new Exception(\"-ive not allowed\") else p_radius = r\n",
    "    }\n",
    "    \n",
    "\n",
    "}\n",
    "\n",
    "val c = new Circle"
   ]
  },
  {
   "cell_type": "code",
   "execution_count": 13,
   "metadata": {},
   "outputs": [
    {
     "ename": "",
     "evalue": "",
     "output_type": "error",
     "traceback": [
      "SyntaxError: found \"\", expected `this` | Id at index 2",
      "c.",
      "  ^"
     ]
    }
   ],
   "source": [
    "c."
   ]
  },
  {
   "cell_type": "code",
   "execution_count": null,
   "metadata": {},
   "outputs": [],
   "source": [
    "// Default Constructor\n",
    "class Circle {\n",
    "    var radius = 0\n",
    "}\n",
    "\n",
    "val c = new Circle()\n"
   ]
  },
  {
   "cell_type": "code",
   "execution_count": null,
   "metadata": {},
   "outputs": [],
   "source": [
    "// Primary Constructor\n",
    "\n"
   ]
  }
 ],
 "metadata": {
  "kernelspec": {
   "display_name": "Scala",
   "language": "scala",
   "name": "scala"
  },
  "language_info": {
   "codemirror_mode": "text/x-scala",
   "file_extension": ".scala",
   "mimetype": "text/x-scala",
   "name": "scala211",
   "nbconvert_exporter": "script",
   "pygments_lexer": "scala",
   "version": "2.11.11"
  }
 },
 "nbformat": 4,
 "nbformat_minor": 2
}
