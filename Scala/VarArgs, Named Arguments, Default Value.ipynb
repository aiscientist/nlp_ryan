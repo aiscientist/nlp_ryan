{
 "cells": [
  {
   "cell_type": "markdown",
   "metadata": {},
   "source": [
    "https://nbviewer.jupyter.org/github/LearningJournal/ScalaTutorials/blob/master/notebooks/Scala-020-VarArgs-NamedArgumentsDefaultValues.ipynb"
   ]
  },
  {
   "cell_type": "markdown",
   "metadata": {},
   "source": [
    "## VarArgs"
   ]
  },
  {
   "cell_type": "code",
   "execution_count": 2,
   "metadata": {},
   "outputs": [
    {
     "name": "stdout",
     "output_type": "stream",
     "text": [
      "a\n",
      "b\n",
      "c\n"
     ]
    },
    {
     "data": {
      "text/plain": [
       "defined \u001b[32mfunction\u001b[39m \u001b[36mecho\u001b[39m"
      ]
     },
     "execution_count": 2,
     "metadata": {},
     "output_type": "execute_result"
    }
   ],
   "source": [
    "def echo(s:String*) = s foreach println\n",
    "\n",
    "echo(\"a\", \"b\", \"c\")\n",
    "\n",
    "// def echo(s:String*, i:Int) = s foreach println // invalid"
   ]
  },
  {
   "cell_type": "markdown",
   "metadata": {},
   "source": [
    "## Named Arguments"
   ]
  },
  {
   "cell_type": "code",
   "execution_count": 5,
   "metadata": {},
   "outputs": [
    {
     "name": "stdout",
     "output_type": "stream",
     "text": [
      "[Hi There!]\n",
      "[Hi there!]\n"
     ]
    },
    {
     "data": {
      "text/plain": [
       "defined \u001b[32mfunction\u001b[39m \u001b[36mdoSomething\u001b[39m"
      ]
     },
     "execution_count": 5,
     "metadata": {},
     "output_type": "execute_result"
    }
   ],
   "source": [
    "def doSomething(f: String => Unit, s:String) = f(s)\n",
    "\n",
    "doSomething(x => println(\"[\" + x + \"]\"), \"Hi There!\")\n",
    "\n",
    "// Changing order of func does not work\n",
    "// you can specify func arg in order to change order\n",
    "doSomething(s = \"Hi there!\", f = x => println(\"[\" + x + \"]\"))"
   ]
  },
  {
   "cell_type": "markdown",
   "metadata": {},
   "source": [
    "## Default Values\n",
    "\n",
    "Scala allows you to assign a default value to a parameter using an equal to symbol.\n",
    "\n",
    "The below example assigns println as a default value to f.\n",
    "\n",
    "def doSomething(f: String  => Unit=println, s:String) = f(s)\n",
    "Now you can skip the value of f and pass only second argument using a named argument syntax. Scala will take println as a value for the argument f.\n",
    "\n",
    "doSomething(s=\"Hi There!\")"
   ]
  },
  {
   "cell_type": "code",
   "execution_count": null,
   "metadata": {},
   "outputs": [],
   "source": [
    "def doSeomgthing(f: String => Unit=println , s:String)\n",
    "//Use default value. In this println is default value"
   ]
  }
 ],
 "metadata": {
  "kernelspec": {
   "display_name": "Scala",
   "language": "scala",
   "name": "scala"
  },
  "language_info": {
   "codemirror_mode": "text/x-scala",
   "file_extension": ".scala",
   "mimetype": "text/x-scala",
   "name": "scala211",
   "nbconvert_exporter": "script",
   "pygments_lexer": "scala",
   "version": "2.11.11"
  }
 },
 "nbformat": 4,
 "nbformat_minor": 2
}
